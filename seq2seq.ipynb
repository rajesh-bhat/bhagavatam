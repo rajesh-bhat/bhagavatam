{
 "cells": [
  {
   "cell_type": "code",
   "execution_count": 1,
   "metadata": {
    "collapsed": true
   },
   "outputs": [],
   "source": [
    "import pandas as pd\n",
    "import numpy as np\n",
    "\n",
    "np.random.seed(1)"
   ]
  },
  {
   "cell_type": "code",
   "execution_count": 2,
   "metadata": {},
   "outputs": [
    {
     "name": "stderr",
     "output_type": "stream",
     "text": [
      "/Users/rbhat/anaconda2/envs/san_ocr_enc_dec/lib/python3.6/site-packages/h5py/__init__.py:36: FutureWarning: Conversion of the second argument of issubdtype from `float` to `np.floating` is deprecated. In future, it will be treated as `np.float64 == np.dtype(float).type`.\n",
      "  from ._conv import register_converters as _register_converters\n",
      "Using TensorFlow backend.\n"
     ]
    }
   ],
   "source": [
    "from keras.preprocessing.sequence import pad_sequences\n",
    "from keras.models import Sequential\n",
    "from keras.layers.core import Dense, Activation, Dropout\n",
    "from keras.layers.recurrent import LSTM, SimpleRNN\n",
    "from keras.layers.wrappers import TimeDistributed\n",
    "from keras.layers.embeddings import Embedding\n",
    "from keras.utils.np_utils import to_categorical\n",
    "from keras.layers import Bidirectional"
   ]
  },
  {
   "cell_type": "code",
   "execution_count": 3,
   "metadata": {
    "collapsed": true
   },
   "outputs": [],
   "source": [
    "df = pd.read_csv('train_data/eng_train.csv', encoding='utf-8')"
   ]
  },
  {
   "cell_type": "code",
   "execution_count": 4,
   "metadata": {},
   "outputs": [
    {
     "data": {
      "text/html": [
       "<div>\n",
       "<style scoped>\n",
       "    .dataframe tbody tr th:only-of-type {\n",
       "        vertical-align: middle;\n",
       "    }\n",
       "\n",
       "    .dataframe tbody tr th {\n",
       "        vertical-align: top;\n",
       "    }\n",
       "\n",
       "    .dataframe thead th {\n",
       "        text-align: right;\n",
       "    }\n",
       "</style>\n",
       "<table border=\"1\" class=\"dataframe\">\n",
       "  <thead>\n",
       "    <tr style=\"text-align: right;\">\n",
       "      <th></th>\n",
       "      <th>ids</th>\n",
       "      <th>sentences</th>\n",
       "      <th>OCR</th>\n",
       "    </tr>\n",
       "  </thead>\n",
       "  <tbody>\n",
       "    <tr>\n",
       "      <th>0</th>\n",
       "      <td>1.1.1.1</td>\n",
       "      <td>oṁ namo bhagavate vāsudevāya</td>\n",
       "      <td>om namo bhagavate vasudevaya</td>\n",
       "    </tr>\n",
       "    <tr>\n",
       "      <th>1</th>\n",
       "      <td>1.1.2.1</td>\n",
       "      <td>dharmaḥ projjhita-kaitavo ’tra paramo nirmatsa...</td>\n",
       "      <td>dharmah projjhita-kaitavo 'tra paramo nirmatsa...</td>\n",
       "    </tr>\n",
       "    <tr>\n",
       "      <th>2</th>\n",
       "      <td>1.1.2.2</td>\n",
       "      <td>vedyaṁ vāstavam atra vastu śivadaṁ tāpa-trayon...</td>\n",
       "      <td>vedyam vastavam atra vastu sivadam tapa-trayon...</td>\n",
       "    </tr>\n",
       "    <tr>\n",
       "      <th>3</th>\n",
       "      <td>1.1.2.3</td>\n",
       "      <td>śrīmad-bhāgavate mahā-muni-kṛte kiṁ vā parair ...</td>\n",
       "      <td>Ssrimad-bhagavate maha-muni-krte kim va parair...</td>\n",
       "    </tr>\n",
       "    <tr>\n",
       "      <th>4</th>\n",
       "      <td>1.1.2.4</td>\n",
       "      <td>sadyo hṛdy avarudhyate ’tra kṛtibhiḥ śuśrūṣubh...</td>\n",
       "      <td>sadyo hrdy avarudhyate 'tra krtibhih sugsrusub...</td>\n",
       "    </tr>\n",
       "    <tr>\n",
       "      <th>5</th>\n",
       "      <td>1.1.3.1</td>\n",
       "      <td>nigama-kalpa-taror galitaṁ phalaṁ</td>\n",
       "      <td>nigama-kalpa-taror galitam phalam</td>\n",
       "    </tr>\n",
       "    <tr>\n",
       "      <th>6</th>\n",
       "      <td>1.1.3.2</td>\n",
       "      <td>śuka-mukhād amṛta-drava-saṁyutam</td>\n",
       "      <td>suka-mukhad amrta-drava-samyutam</td>\n",
       "    </tr>\n",
       "    <tr>\n",
       "      <th>7</th>\n",
       "      <td>1.1.3.3</td>\n",
       "      <td>pibata bhāgavataṁ rasam ālayam</td>\n",
       "      <td>pibata bhagavatam rasam alayam</td>\n",
       "    </tr>\n",
       "    <tr>\n",
       "      <th>8</th>\n",
       "      <td>1.1.3.4</td>\n",
       "      <td>muhur aho rasikā bhuvi bhāvukāḥ</td>\n",
       "      <td>muhur aho rasika bhuvi bhavukah</td>\n",
       "    </tr>\n",
       "    <tr>\n",
       "      <th>9</th>\n",
       "      <td>1.1.4.1</td>\n",
       "      <td>naimiṣe ’nimiṣa-kṣetre</td>\n",
       "      <td>naimise 'nimisa-ksetre</td>\n",
       "    </tr>\n",
       "    <tr>\n",
       "      <th>10</th>\n",
       "      <td>1.1.4.2</td>\n",
       "      <td>ṛṣayaḥ śaunakādayaḥ</td>\n",
       "      <td>rsayah saunakadayah</td>\n",
       "    </tr>\n",
       "    <tr>\n",
       "      <th>11</th>\n",
       "      <td>1.1.4.3</td>\n",
       "      <td>satraṁ svargāya lokāya</td>\n",
       "      <td>satram svargaya lokaya</td>\n",
       "    </tr>\n",
       "    <tr>\n",
       "      <th>12</th>\n",
       "      <td>1.1.4.4</td>\n",
       "      <td>sahasra-samam āsata</td>\n",
       "      <td>sahasra-samam asata</td>\n",
       "    </tr>\n",
       "    <tr>\n",
       "      <th>13</th>\n",
       "      <td>1.1.5.1</td>\n",
       "      <td>ta ekadā tu munayaḥ</td>\n",
       "      <td>ta ekada tu munayah</td>\n",
       "    </tr>\n",
       "    <tr>\n",
       "      <th>14</th>\n",
       "      <td>1.1.5.2</td>\n",
       "      <td>prātar huta-hutāgnayaḥ</td>\n",
       "      <td>pratar huta-hutagnayah</td>\n",
       "    </tr>\n",
       "    <tr>\n",
       "      <th>15</th>\n",
       "      <td>1.1.5.3</td>\n",
       "      <td>sat-kṛtaṁ sūtam āsīnaṁ</td>\n",
       "      <td>sat-krtam sutam asinam</td>\n",
       "    </tr>\n",
       "    <tr>\n",
       "      <th>16</th>\n",
       "      <td>1.1.5.4</td>\n",
       "      <td>papracchur idam ādarāt</td>\n",
       "      <td>papracchur idam adarat</td>\n",
       "    </tr>\n",
       "    <tr>\n",
       "      <th>17</th>\n",
       "      <td>1.1.6.1</td>\n",
       "      <td>ṛṣaya ūcuḥ</td>\n",
       "      <td>rsaya ucuh</td>\n",
       "    </tr>\n",
       "    <tr>\n",
       "      <th>18</th>\n",
       "      <td>1.1.7.1</td>\n",
       "      <td>yāni veda-vidāṁ śreṣṭho</td>\n",
       "      <td>yani veda-vidam srestho</td>\n",
       "    </tr>\n",
       "    <tr>\n",
       "      <th>19</th>\n",
       "      <td>1.1.7.2</td>\n",
       "      <td>bhagavān bādarāyaṇaḥ</td>\n",
       "      <td>bhagavan badarayanah</td>\n",
       "    </tr>\n",
       "  </tbody>\n",
       "</table>\n",
       "</div>"
      ],
      "text/plain": [
       "        ids                                          sentences  \\\n",
       "0   1.1.1.1                       oṁ namo bhagavate vāsudevāya   \n",
       "1   1.1.2.1  dharmaḥ projjhita-kaitavo ’tra paramo nirmatsa...   \n",
       "2   1.1.2.2  vedyaṁ vāstavam atra vastu śivadaṁ tāpa-trayon...   \n",
       "3   1.1.2.3  śrīmad-bhāgavate mahā-muni-kṛte kiṁ vā parair ...   \n",
       "4   1.1.2.4  sadyo hṛdy avarudhyate ’tra kṛtibhiḥ śuśrūṣubh...   \n",
       "5   1.1.3.1                  nigama-kalpa-taror galitaṁ phalaṁ   \n",
       "6   1.1.3.2                   śuka-mukhād amṛta-drava-saṁyutam   \n",
       "7   1.1.3.3                     pibata bhāgavataṁ rasam ālayam   \n",
       "8   1.1.3.4                    muhur aho rasikā bhuvi bhāvukāḥ   \n",
       "9   1.1.4.1                             naimiṣe ’nimiṣa-kṣetre   \n",
       "10  1.1.4.2                                ṛṣayaḥ śaunakādayaḥ   \n",
       "11  1.1.4.3                             satraṁ svargāya lokāya   \n",
       "12  1.1.4.4                                sahasra-samam āsata   \n",
       "13  1.1.5.1                                ta ekadā tu munayaḥ   \n",
       "14  1.1.5.2                             prātar huta-hutāgnayaḥ   \n",
       "15  1.1.5.3                             sat-kṛtaṁ sūtam āsīnaṁ   \n",
       "16  1.1.5.4                             papracchur idam ādarāt   \n",
       "17  1.1.6.1                                         ṛṣaya ūcuḥ   \n",
       "18  1.1.7.1                            yāni veda-vidāṁ śreṣṭho   \n",
       "19  1.1.7.2                               bhagavān bādarāyaṇaḥ   \n",
       "\n",
       "                                                  OCR  \n",
       "0                        om namo bhagavate vasudevaya  \n",
       "1   dharmah projjhita-kaitavo 'tra paramo nirmatsa...  \n",
       "2   vedyam vastavam atra vastu sivadam tapa-trayon...  \n",
       "3   Ssrimad-bhagavate maha-muni-krte kim va parair...  \n",
       "4   sadyo hrdy avarudhyate 'tra krtibhih sugsrusub...  \n",
       "5                   nigama-kalpa-taror galitam phalam  \n",
       "6                    suka-mukhad amrta-drava-samyutam  \n",
       "7                      pibata bhagavatam rasam alayam  \n",
       "8                     muhur aho rasika bhuvi bhavukah  \n",
       "9                              naimise 'nimisa-ksetre  \n",
       "10                                rsayah saunakadayah  \n",
       "11                             satram svargaya lokaya  \n",
       "12                                sahasra-samam asata  \n",
       "13                                ta ekada tu munayah  \n",
       "14                             pratar huta-hutagnayah  \n",
       "15                             sat-krtam sutam asinam  \n",
       "16                             papracchur idam adarat  \n",
       "17                                         rsaya ucuh  \n",
       "18                            yani veda-vidam srestho  \n",
       "19                               bhagavan badarayanah  "
      ]
     },
     "execution_count": 4,
     "metadata": {},
     "output_type": "execute_result"
    }
   ],
   "source": [
    "df.head(20)"
   ]
  },
  {
   "cell_type": "code",
   "execution_count": 5,
   "metadata": {},
   "outputs": [
    {
     "data": {
      "text/html": [
       "<div>\n",
       "<style scoped>\n",
       "    .dataframe tbody tr th:only-of-type {\n",
       "        vertical-align: middle;\n",
       "    }\n",
       "\n",
       "    .dataframe tbody tr th {\n",
       "        vertical-align: top;\n",
       "    }\n",
       "\n",
       "    .dataframe thead th {\n",
       "        text-align: right;\n",
       "    }\n",
       "</style>\n",
       "<table border=\"1\" class=\"dataframe\">\n",
       "  <thead>\n",
       "    <tr style=\"text-align: right;\">\n",
       "      <th></th>\n",
       "      <th>ids</th>\n",
       "      <th>sentences</th>\n",
       "      <th>OCR</th>\n",
       "    </tr>\n",
       "  </thead>\n",
       "  <tbody>\n",
       "    <tr>\n",
       "      <th>count</th>\n",
       "      <td>50980</td>\n",
       "      <td>50980</td>\n",
       "      <td>50971</td>\n",
       "    </tr>\n",
       "    <tr>\n",
       "      <th>unique</th>\n",
       "      <td>45781</td>\n",
       "      <td>43891</td>\n",
       "      <td>43843</td>\n",
       "    </tr>\n",
       "    <tr>\n",
       "      <th>top</th>\n",
       "      <td>4.13.32.4</td>\n",
       "      <td>śrī-śuka uvāca</td>\n",
       "      <td>Sri-Suka uvaca</td>\n",
       "    </tr>\n",
       "    <tr>\n",
       "      <th>freq</th>\n",
       "      <td>2</td>\n",
       "      <td>346</td>\n",
       "      <td>346</td>\n",
       "    </tr>\n",
       "  </tbody>\n",
       "</table>\n",
       "</div>"
      ],
      "text/plain": [
       "              ids       sentences             OCR\n",
       "count       50980           50980           50971\n",
       "unique      45781           43891           43843\n",
       "top     4.13.32.4  śrī-śuka uvāca  Sri-Suka uvaca\n",
       "freq            2             346             346"
      ]
     },
     "execution_count": 5,
     "metadata": {},
     "output_type": "execute_result"
    }
   ],
   "source": [
    "df.describe()"
   ]
  },
  {
   "cell_type": "code",
   "execution_count": 6,
   "metadata": {
    "collapsed": true
   },
   "outputs": [],
   "source": [
    "filter_values = df['sentences'].str.len() == df['OCR'].str.len()"
   ]
  },
  {
   "cell_type": "code",
   "execution_count": 7,
   "metadata": {},
   "outputs": [
    {
     "data": {
      "text/plain": [
       "50980"
      ]
     },
     "execution_count": 7,
     "metadata": {},
     "output_type": "execute_result"
    }
   ],
   "source": [
    "len(filter_values)"
   ]
  },
  {
   "cell_type": "code",
   "execution_count": 8,
   "metadata": {
    "collapsed": true
   },
   "outputs": [],
   "source": [
    "filtered_df = df[filter_values]"
   ]
  },
  {
   "cell_type": "code",
   "execution_count": 9,
   "metadata": {},
   "outputs": [
    {
     "data": {
      "text/html": [
       "<div>\n",
       "<style scoped>\n",
       "    .dataframe tbody tr th:only-of-type {\n",
       "        vertical-align: middle;\n",
       "    }\n",
       "\n",
       "    .dataframe tbody tr th {\n",
       "        vertical-align: top;\n",
       "    }\n",
       "\n",
       "    .dataframe thead th {\n",
       "        text-align: right;\n",
       "    }\n",
       "</style>\n",
       "<table border=\"1\" class=\"dataframe\">\n",
       "  <thead>\n",
       "    <tr style=\"text-align: right;\">\n",
       "      <th></th>\n",
       "      <th>ids</th>\n",
       "      <th>sentences</th>\n",
       "      <th>OCR</th>\n",
       "    </tr>\n",
       "  </thead>\n",
       "  <tbody>\n",
       "    <tr>\n",
       "      <th>0</th>\n",
       "      <td>1.1.1.1</td>\n",
       "      <td>oṁ namo bhagavate vāsudevāya</td>\n",
       "      <td>om namo bhagavate vasudevaya</td>\n",
       "    </tr>\n",
       "    <tr>\n",
       "      <th>1</th>\n",
       "      <td>1.1.2.1</td>\n",
       "      <td>dharmaḥ projjhita-kaitavo ’tra paramo nirmatsa...</td>\n",
       "      <td>dharmah projjhita-kaitavo 'tra paramo nirmatsa...</td>\n",
       "    </tr>\n",
       "    <tr>\n",
       "      <th>2</th>\n",
       "      <td>1.1.2.2</td>\n",
       "      <td>vedyaṁ vāstavam atra vastu śivadaṁ tāpa-trayon...</td>\n",
       "      <td>vedyam vastavam atra vastu sivadam tapa-trayon...</td>\n",
       "    </tr>\n",
       "    <tr>\n",
       "      <th>5</th>\n",
       "      <td>1.1.3.1</td>\n",
       "      <td>nigama-kalpa-taror galitaṁ phalaṁ</td>\n",
       "      <td>nigama-kalpa-taror galitam phalam</td>\n",
       "    </tr>\n",
       "    <tr>\n",
       "      <th>6</th>\n",
       "      <td>1.1.3.2</td>\n",
       "      <td>śuka-mukhād amṛta-drava-saṁyutam</td>\n",
       "      <td>suka-mukhad amrta-drava-samyutam</td>\n",
       "    </tr>\n",
       "  </tbody>\n",
       "</table>\n",
       "</div>"
      ],
      "text/plain": [
       "       ids                                          sentences  \\\n",
       "0  1.1.1.1                       oṁ namo bhagavate vāsudevāya   \n",
       "1  1.1.2.1  dharmaḥ projjhita-kaitavo ’tra paramo nirmatsa...   \n",
       "2  1.1.2.2  vedyaṁ vāstavam atra vastu śivadaṁ tāpa-trayon...   \n",
       "5  1.1.3.1                  nigama-kalpa-taror galitaṁ phalaṁ   \n",
       "6  1.1.3.2                   śuka-mukhād amṛta-drava-saṁyutam   \n",
       "\n",
       "                                                 OCR  \n",
       "0                       om namo bhagavate vasudevaya  \n",
       "1  dharmah projjhita-kaitavo 'tra paramo nirmatsa...  \n",
       "2  vedyam vastavam atra vastu sivadam tapa-trayon...  \n",
       "5                  nigama-kalpa-taror galitam phalam  \n",
       "6                   suka-mukhad amrta-drava-samyutam  "
      ]
     },
     "execution_count": 9,
     "metadata": {},
     "output_type": "execute_result"
    }
   ],
   "source": [
    "filtered_df.head()"
   ]
  },
  {
   "cell_type": "code",
   "execution_count": 10,
   "metadata": {},
   "outputs": [
    {
     "data": {
      "text/plain": [
       "0.9351510396233818"
      ]
     },
     "execution_count": 10,
     "metadata": {},
     "output_type": "execute_result"
    }
   ],
   "source": [
    "len(filtered_df) / len(df)"
   ]
  },
  {
   "cell_type": "code",
   "execution_count": 11,
   "metadata": {},
   "outputs": [
    {
     "name": "stderr",
     "output_type": "stream",
     "text": [
      "/Users/rbhat/anaconda2/envs/san_ocr_enc_dec/lib/python3.6/site-packages/ipykernel_launcher.py:1: SettingWithCopyWarning: \n",
      "A value is trying to be set on a copy of a slice from a DataFrame.\n",
      "Try using .loc[row_indexer,col_indexer] = value instead\n",
      "\n",
      "See the caveats in the documentation: http://pandas.pydata.org/pandas-docs/stable/indexing.html#indexing-view-versus-copy\n",
      "  \"\"\"Entry point for launching an IPython kernel.\n"
     ]
    }
   ],
   "source": [
    "filtered_df['OCR'] = filtered_df['OCR'].astype(str).str.lower()"
   ]
  },
  {
   "cell_type": "code",
   "execution_count": 12,
   "metadata": {},
   "outputs": [
    {
     "data": {
      "text/plain": [
       "0                         om namo bhagavate vasudevaya\n",
       "1    dharmah projjhita-kaitavo 'tra paramo nirmatsa...\n",
       "2    vedyam vastavam atra vastu sivadam tapa-trayon...\n",
       "5                    nigama-kalpa-taror galitam phalam\n",
       "6                     suka-mukhad amrta-drava-samyutam\n",
       "Name: OCR, dtype: object"
      ]
     },
     "execution_count": 12,
     "metadata": {},
     "output_type": "execute_result"
    }
   ],
   "source": [
    "filtered_df['OCR'].head()"
   ]
  },
  {
   "cell_type": "code",
   "execution_count": 13,
   "metadata": {
    "collapsed": true
   },
   "outputs": [],
   "source": [
    "vocab = set(filtered_df['sentences'].str.cat() + filtered_df['OCR'].str.cat())"
   ]
  },
  {
   "cell_type": "code",
   "execution_count": 14,
   "metadata": {
    "collapsed": true
   },
   "outputs": [],
   "source": [
    "string_lengths = sorted(filtered_df['OCR'].str.len())"
   ]
  },
  {
   "cell_type": "code",
   "execution_count": 15,
   "metadata": {
    "collapsed": true
   },
   "outputs": [],
   "source": [
    "SEQ_LENGTH = int(np.percentile(sorted(string_lengths), 99.5))\n",
    "VOCAB_SIZE = 56"
   ]
  },
  {
   "cell_type": "code",
   "execution_count": 16,
   "metadata": {
    "collapsed": true
   },
   "outputs": [],
   "source": [
    "SEQ_LENGTH = 100"
   ]
  },
  {
   "cell_type": "code",
   "execution_count": 17,
   "metadata": {
    "collapsed": true
   },
   "outputs": [],
   "source": [
    "vocab = sorted(vocab)\n",
    "vocab_to_int = {c: i+1 for i, c in enumerate(vocab)}\n",
    "int_to_vocab = {i+1:c for i,c in enumerate(vocab)}"
   ]
  },
  {
   "cell_type": "code",
   "execution_count": 18,
   "metadata": {},
   "outputs": [
    {
     "data": {
      "text/plain": [
       "' '"
      ]
     },
     "execution_count": 18,
     "metadata": {},
     "output_type": "execute_result"
    }
   ],
   "source": [
    "int_to_vocab[1]"
   ]
  },
  {
   "cell_type": "code",
   "execution_count": 19,
   "metadata": {
    "collapsed": true
   },
   "outputs": [],
   "source": [
    "X = filtered_df['OCR'].tolist()"
   ]
  },
  {
   "cell_type": "code",
   "execution_count": 20,
   "metadata": {
    "collapsed": true
   },
   "outputs": [],
   "source": [
    "Y = filtered_df['sentences'].tolist()"
   ]
  },
  {
   "cell_type": "code",
   "execution_count": 21,
   "metadata": {},
   "outputs": [
    {
     "name": "stdout",
     "output_type": "stream",
     "text": [
      "om namo bhagavate vasudevaya\n",
      "oṁ namo bhagavate vāsudevāya\n"
     ]
    }
   ],
   "source": [
    "print(X[0])\n",
    "print(Y[0])"
   ]
  },
  {
   "cell_type": "code",
   "execution_count": 22,
   "metadata": {
    "collapsed": true
   },
   "outputs": [],
   "source": [
    "X_train = []\n",
    "Y_train = []\n",
    "\n",
    "for x,y in zip(X, Y):\n",
    "    \n",
    "    X_train.append(np.array([vocab_to_int[ch] for ch in x]))\n",
    "    Y_train.append(np.array([vocab_to_int[ch] for ch in y]))"
   ]
  },
  {
   "cell_type": "code",
   "execution_count": 23,
   "metadata": {},
   "outputs": [
    {
     "data": {
      "text/plain": [
       "array([26, 24,  1, 25, 12, 24, 26,  1, 13, 19, 12, 18, 12, 33, 12, 31, 16,\n",
       "        1, 33, 12, 30, 32, 15, 16, 33, 12, 34, 12])"
      ]
     },
     "execution_count": 23,
     "metadata": {},
     "output_type": "execute_result"
    }
   ],
   "source": [
    "X_train = np.array(X_train)\n",
    "X_train[0]"
   ]
  },
  {
   "cell_type": "code",
   "execution_count": 24,
   "metadata": {
    "collapsed": true
   },
   "outputs": [],
   "source": [
    "X_train = pad_sequences(X_train, maxlen=SEQ_LENGTH, dtype='int32', padding='post', truncating='post')\n",
    "Y_train = pad_sequences(Y_train, maxlen=SEQ_LENGTH, dtype='int32', padding='post', truncating='post')"
   ]
  },
  {
   "cell_type": "code",
   "execution_count": 25,
   "metadata": {},
   "outputs": [
    {
     "data": {
      "text/plain": [
       "array([26, 24,  1, 25, 12, 24, 26,  1, 13, 19, 12, 18, 12, 33, 12, 31, 16,\n",
       "        1, 33, 12, 30, 32, 15, 16, 33, 12, 34, 12,  0,  0,  0,  0,  0,  0,\n",
       "        0,  0,  0,  0,  0,  0,  0,  0,  0,  0,  0,  0,  0,  0,  0,  0,  0,\n",
       "        0,  0,  0,  0,  0,  0,  0,  0,  0,  0,  0,  0,  0,  0,  0,  0,  0,\n",
       "        0,  0,  0,  0,  0,  0,  0,  0,  0,  0,  0,  0,  0,  0,  0,  0,  0,\n",
       "        0,  0,  0,  0,  0,  0,  0,  0,  0,  0,  0,  0,  0,  0,  0],\n",
       "      dtype=int32)"
      ]
     },
     "execution_count": 25,
     "metadata": {},
     "output_type": "execute_result"
    }
   ],
   "source": [
    "X_train[0]"
   ]
  },
  {
   "cell_type": "code",
   "execution_count": 26,
   "metadata": {
    "collapsed": true
   },
   "outputs": [],
   "source": [
    "Y_train = to_categorical(Y_train)"
   ]
  },
  {
   "cell_type": "code",
   "execution_count": 27,
   "metadata": {},
   "outputs": [
    {
     "name": "stdout",
     "output_type": "stream",
     "text": [
      "(47674, 100)\n",
      "(47674, 100, 56)\n"
     ]
    }
   ],
   "source": [
    "print(X_train.shape)\n",
    "print(Y_train.shape)"
   ]
  },
  {
   "cell_type": "code",
   "execution_count": 28,
   "metadata": {},
   "outputs": [
    {
     "name": "stdout",
     "output_type": "stream",
     "text": [
      "_________________________________________________________________\n",
      "Layer (type)                 Output Shape              Param #   \n",
      "=================================================================\n",
      "embedding_1 (Embedding)      (None, 100, 50)           2800      \n",
      "_________________________________________________________________\n",
      "bidirectional_1 (Bidirection (None, 100, 128)          58880     \n",
      "_________________________________________________________________\n",
      "time_distributed_1 (TimeDist (None, 100, 56)           7224      \n",
      "_________________________________________________________________\n",
      "activation_1 (Activation)    (None, 100, 56)           0         \n",
      "=================================================================\n",
      "Total params: 68,904\n",
      "Trainable params: 68,904\n",
      "Non-trainable params: 0\n",
      "_________________________________________________________________\n",
      "None\n"
     ]
    }
   ],
   "source": [
    "model = Sequential()\n",
    "model.add(Embedding(VOCAB_SIZE, 50, input_length=SEQ_LENGTH))\n",
    "model.add(Bidirectional(LSTM(64, return_sequences=True)))\n",
    "model.add(TimeDistributed(Dense(VOCAB_SIZE)))\n",
    "model.add(Activation('softmax'))\n",
    "model.compile(loss=\"categorical_crossentropy\", optimizer=\"adam\", metrics=[\"accuracy\"])\n",
    "print(model.summary())"
   ]
  },
  {
   "cell_type": "code",
   "execution_count": 29,
   "metadata": {},
   "outputs": [
    {
     "name": "stdout",
     "output_type": "stream",
     "text": [
      "Train on 45290 samples, validate on 2384 samples\n",
      "Epoch 1/50\n",
      "45290/45290 [==============================] - 93s 2ms/step - loss: 1.1904 - acc: 0.7696 - val_loss: 0.7723 - val_acc: 0.7981\n",
      "Epoch 2/50\n",
      "45290/45290 [==============================] - 88s 2ms/step - loss: 0.6951 - acc: 0.8166 - val_loss: 0.5046 - val_acc: 0.8815\n",
      "Epoch 3/50\n",
      "45290/45290 [==============================] - 88s 2ms/step - loss: 0.2702 - acc: 0.9410 - val_loss: 0.1269 - val_acc: 0.9649\n",
      "Epoch 4/50\n",
      "45290/45290 [==============================] - 89s 2ms/step - loss: 0.1008 - acc: 0.9674 - val_loss: 0.0857 - val_acc: 0.9682\n",
      "Epoch 5/50\n",
      "45290/45290 [==============================] - 89s 2ms/step - loss: 0.0792 - acc: 0.9703 - val_loss: 0.0741 - val_acc: 0.9711\n",
      "Epoch 6/50\n",
      "45290/45290 [==============================] - 89s 2ms/step - loss: 0.0704 - acc: 0.9724 - val_loss: 0.0674 - val_acc: 0.9730\n",
      "Epoch 7/50\n",
      "45290/45290 [==============================] - 90s 2ms/step - loss: 0.0647 - acc: 0.9742 - val_loss: 0.0629 - val_acc: 0.9746\n",
      "Epoch 8/50\n",
      "45290/45290 [==============================] - 90s 2ms/step - loss: 0.0608 - acc: 0.9757 - val_loss: 0.0595 - val_acc: 0.9760\n",
      "Epoch 9/50\n",
      "45290/45290 [==============================] - 90s 2ms/step - loss: 0.0579 - acc: 0.9768 - val_loss: 0.0569 - val_acc: 0.9770\n",
      "Epoch 10/50\n",
      "45290/45290 [==============================] - 92s 2ms/step - loss: 0.0556 - acc: 0.9777 - val_loss: 0.0549 - val_acc: 0.9775\n",
      "Epoch 11/50\n",
      "45290/45290 [==============================] - 130s 3ms/step - loss: 0.0537 - acc: 0.9784 - val_loss: 0.0529 - val_acc: 0.9785\n",
      "Epoch 12/50\n",
      "45290/45290 [==============================] - 168s 4ms/step - loss: 0.0520 - acc: 0.9789 - val_loss: 0.0513 - val_acc: 0.9791\n",
      "Epoch 13/50\n",
      "45290/45290 [==============================] - 164s 4ms/step - loss: 0.0505 - acc: 0.9795 - val_loss: 0.0500 - val_acc: 0.9795\n",
      "Epoch 14/50\n",
      "45290/45290 [==============================] - 105s 2ms/step - loss: 0.0491 - acc: 0.9801 - val_loss: 0.0485 - val_acc: 0.9802\n",
      "Epoch 15/50\n",
      "45290/45290 [==============================] - 91s 2ms/step - loss: 0.0478 - acc: 0.9805 - val_loss: 0.0473 - val_acc: 0.9808\n",
      "Epoch 16/50\n",
      "45290/45290 [==============================] - 94s 2ms/step - loss: 0.0467 - acc: 0.9810 - val_loss: 0.0464 - val_acc: 0.9811\n",
      "Epoch 17/50\n",
      "45290/45290 [==============================] - 102s 2ms/step - loss: 0.0457 - acc: 0.9814 - val_loss: 0.0457 - val_acc: 0.9813\n",
      "Epoch 18/50\n",
      "45290/45290 [==============================] - 101s 2ms/step - loss: 0.0448 - acc: 0.9818 - val_loss: 0.0446 - val_acc: 0.9818\n",
      "Epoch 19/50\n",
      "45290/45290 [==============================] - 100s 2ms/step - loss: 0.0439 - acc: 0.9821 - val_loss: 0.0439 - val_acc: 0.9823\n",
      "Epoch 20/50\n",
      "45290/45290 [==============================] - 100s 2ms/step - loss: 0.0431 - acc: 0.9825 - val_loss: 0.0431 - val_acc: 0.9826\n",
      "Epoch 21/50\n",
      "45290/45290 [==============================] - 98s 2ms/step - loss: 0.0424 - acc: 0.9827 - val_loss: 0.0424 - val_acc: 0.9829\n",
      "Epoch 22/50\n",
      "45290/45290 [==============================] - 95s 2ms/step - loss: 0.0417 - acc: 0.9831 - val_loss: 0.0418 - val_acc: 0.9831\n",
      "Epoch 23/50\n",
      "45290/45290 [==============================] - 98s 2ms/step - loss: 0.0410 - acc: 0.9834 - val_loss: 0.0414 - val_acc: 0.9836\n",
      "Epoch 24/50\n",
      "45290/45290 [==============================] - 98s 2ms/step - loss: 0.0404 - acc: 0.9836 - val_loss: 0.0409 - val_acc: 0.9835\n",
      "Epoch 25/50\n",
      "45290/45290 [==============================] - 97s 2ms/step - loss: 0.0398 - acc: 0.9838 - val_loss: 0.0404 - val_acc: 0.9838\n",
      "Epoch 26/50\n",
      "45290/45290 [==============================] - 96s 2ms/step - loss: 0.0392 - acc: 0.9841 - val_loss: 0.0398 - val_acc: 0.9841\n",
      "Epoch 27/50\n",
      "45290/45290 [==============================] - 98s 2ms/step - loss: 0.0387 - acc: 0.9843 - val_loss: 0.0392 - val_acc: 0.9842\n",
      "Epoch 28/50\n",
      "45290/45290 [==============================] - 102s 2ms/step - loss: 0.0382 - acc: 0.9845 - val_loss: 0.0388 - val_acc: 0.9844\n",
      "Epoch 29/50\n",
      "45290/45290 [==============================] - 99s 2ms/step - loss: 0.0377 - acc: 0.9848 - val_loss: 0.0384 - val_acc: 0.9845\n",
      "Epoch 30/50\n",
      "45290/45290 [==============================] - 98s 2ms/step - loss: 0.0373 - acc: 0.9850 - val_loss: 0.0380 - val_acc: 0.9847\n",
      "Epoch 31/50\n",
      "45290/45290 [==============================] - 100s 2ms/step - loss: 0.0368 - acc: 0.9852 - val_loss: 0.0376 - val_acc: 0.9848\n",
      "Epoch 32/50\n",
      "45290/45290 [==============================] - 96s 2ms/step - loss: 0.0364 - acc: 0.9854 - val_loss: 0.0372 - val_acc: 0.9850\n",
      "Epoch 33/50\n",
      "45290/45290 [==============================] - 104s 2ms/step - loss: 0.0359 - acc: 0.9856 - val_loss: 0.0371 - val_acc: 0.9851\n",
      "Epoch 34/50\n",
      "45290/45290 [==============================] - 100s 2ms/step - loss: 0.0356 - acc: 0.9857 - val_loss: 0.0367 - val_acc: 0.9853\n",
      "Epoch 35/50\n",
      "45290/45290 [==============================] - 101s 2ms/step - loss: 0.0352 - acc: 0.9859 - val_loss: 0.0365 - val_acc: 0.9854\n",
      "Epoch 36/50\n",
      "45290/45290 [==============================] - 98s 2ms/step - loss: 0.0348 - acc: 0.9861 - val_loss: 0.0366 - val_acc: 0.9853\n",
      "Epoch 37/50\n",
      "45290/45290 [==============================] - 99s 2ms/step - loss: 0.0344 - acc: 0.9862 - val_loss: 0.0360 - val_acc: 0.9856\n",
      "Epoch 38/50\n",
      "45290/45290 [==============================] - 92s 2ms/step - loss: 0.0342 - acc: 0.9863 - val_loss: 0.0358 - val_acc: 0.9858\n",
      "Epoch 39/50\n",
      "45290/45290 [==============================] - 94s 2ms/step - loss: 0.0338 - acc: 0.9866 - val_loss: 0.0356 - val_acc: 0.9857\n",
      "Epoch 40/50\n",
      "45290/45290 [==============================] - 91s 2ms/step - loss: 0.0334 - acc: 0.9867 - val_loss: 0.0356 - val_acc: 0.9857\n",
      "Epoch 41/50\n",
      "45290/45290 [==============================] - 91s 2ms/step - loss: 0.0331 - acc: 0.9868 - val_loss: 0.0351 - val_acc: 0.9860\n",
      "Epoch 42/50\n",
      "45290/45290 [==============================] - 91s 2ms/step - loss: 0.0328 - acc: 0.9869 - val_loss: 0.0351 - val_acc: 0.9861\n",
      "Epoch 43/50\n",
      "45290/45290 [==============================] - 94s 2ms/step - loss: 0.0325 - acc: 0.9871 - val_loss: 0.0350 - val_acc: 0.9861\n",
      "Epoch 44/50\n",
      "45290/45290 [==============================] - 94s 2ms/step - loss: 0.0322 - acc: 0.9872 - val_loss: 0.0347 - val_acc: 0.9863\n",
      "Epoch 45/50\n",
      "45290/45290 [==============================] - 95s 2ms/step - loss: 0.0319 - acc: 0.9874 - val_loss: 0.0346 - val_acc: 0.9865\n",
      "Epoch 46/50\n",
      "45290/45290 [==============================] - 93s 2ms/step - loss: 0.0316 - acc: 0.9875 - val_loss: 0.0344 - val_acc: 0.9863\n",
      "Epoch 47/50\n",
      "45290/45290 [==============================] - 92s 2ms/step - loss: 0.0313 - acc: 0.9876 - val_loss: 0.0342 - val_acc: 0.9864\n",
      "Epoch 48/50\n",
      "45290/45290 [==============================] - 95s 2ms/step - loss: 0.0311 - acc: 0.9877 - val_loss: 0.0342 - val_acc: 0.9865\n",
      "Epoch 49/50\n",
      "45290/45290 [==============================] - 97s 2ms/step - loss: 0.0308 - acc: 0.9879 - val_loss: 0.0342 - val_acc: 0.9866\n",
      "Epoch 50/50\n",
      "45290/45290 [==============================] - 96s 2ms/step - loss: 0.0306 - acc: 0.9879 - val_loss: 0.0338 - val_acc: 0.9868\n"
     ]
    },
    {
     "data": {
      "text/plain": [
       "<keras.callbacks.History at 0x11530db70>"
      ]
     },
     "execution_count": 29,
     "metadata": {},
     "output_type": "execute_result"
    }
   ],
   "source": [
    "model.fit(X_train, Y_train, batch_size=256, verbose=1, epochs=50, validation_split=0.05)"
   ]
  },
  {
   "cell_type": "code",
   "execution_count": 30,
   "metadata": {
    "collapsed": true
   },
   "outputs": [],
   "source": [
    "model.save_weights('bilstm.hdf5')"
   ]
  },
  {
   "cell_type": "code",
   "execution_count": 31,
   "metadata": {},
   "outputs": [
    {
     "data": {
      "text/plain": [
       "array([26, 48,  1, 25, 12, 24, 26,  1, 13, 19, 12, 18, 12, 33, 12, 31, 16,\n",
       "        1, 33, 40, 30, 32, 15, 16, 33, 40, 34, 12,  0,  0,  0,  0,  0,  0,\n",
       "        0,  0,  0,  0,  0,  0,  0,  0,  0,  0,  0,  0,  0,  0,  0,  0,  0,\n",
       "        0,  0,  0,  0,  0,  0,  0,  0,  0,  0,  0,  0,  0,  0,  0,  0,  0,\n",
       "        0,  0,  0,  0,  0,  0,  0,  0,  0,  0,  0,  0,  0,  0,  0,  0,  0,\n",
       "        0,  0,  0,  0,  0,  0,  0,  0,  0,  0,  0,  0,  0,  0,  0])"
      ]
     },
     "execution_count": 31,
     "metadata": {},
     "output_type": "execute_result"
    }
   ],
   "source": [
    "prediction = np.argmax(model.predict(X_train[:1]), axis=2)\n",
    "prediction[0]"
   ]
  },
  {
   "cell_type": "code",
   "execution_count": 32,
   "metadata": {},
   "outputs": [
    {
     "name": "stdout",
     "output_type": "stream",
     "text": [
      "oṁ namo bhagavate vāsudevāya\n"
     ]
    }
   ],
   "source": [
    "prediction_string = \"\".join([int_to_vocab[c] if c > 0 else '' for c in prediction[0]])\n",
    "print(prediction_string)"
   ]
  },
  {
   "cell_type": "code",
   "execution_count": 33,
   "metadata": {},
   "outputs": [
    {
     "data": {
      "text/plain": [
       "(array([15, 19, 12, 29, 24, 12, 19,  1, 27, 29, 26, 21, 21, 19, 20, 31, 12,\n",
       "         7, 22, 12, 20, 31, 12, 33, 26,  1,  5, 31, 29, 12,  1, 27, 12, 29,\n",
       "        12, 24, 26,  1, 25, 20, 29, 24, 12, 31, 30, 12, 29, 12, 25, 12, 24,\n",
       "         1, 30, 12, 31, 12, 24,  0,  0,  0,  0,  0,  0,  0,  0,  0,  0,  0,\n",
       "         0,  0,  0,  0,  0,  0,  0,  0,  0,  0,  0,  0,  0,  0,  0,  0,  0,\n",
       "         0,  0,  0,  0,  0,  0,  0,  0,  0,  0,  0,  0,  0,  0,  0],\n",
       "       dtype=int32),\n",
       " array([15, 19, 12, 29, 24, 12, 45,  1, 27, 29, 26, 21, 21, 19, 20, 31, 12,\n",
       "         7, 22, 12, 20, 31, 12, 33, 26,  1, 55, 31, 29, 12,  1, 27, 12, 29,\n",
       "        12, 24, 26,  1, 25, 20, 29, 24, 12, 31, 30, 12, 29, 40, 50, 40, 48,\n",
       "         1, 30, 12, 31, 40, 48,  0,  0,  0,  0,  0,  0,  0,  0,  0,  0,  0,\n",
       "         0,  0,  0,  0,  0,  0,  0,  0,  0,  0,  0,  0,  0,  0,  0,  0,  0,\n",
       "         0,  0,  0,  0,  0,  0,  0,  0,  0,  0,  0,  0,  0,  0,  0]))"
      ]
     },
     "execution_count": 33,
     "metadata": {},
     "output_type": "execute_result"
    }
   ],
   "source": [
    "X_train[1], np.argmax(Y_train[1], axis=1)"
   ]
  },
  {
   "cell_type": "code",
   "execution_count": 34,
   "metadata": {},
   "outputs": [
    {
     "data": {
      "text/plain": [
       "'om namo bhagavate vasudevaya'"
      ]
     },
     "execution_count": 34,
     "metadata": {},
     "output_type": "execute_result"
    }
   ],
   "source": [
    "X[0]"
   ]
  },
  {
   "cell_type": "code",
   "execution_count": 35,
   "metadata": {},
   "outputs": [
    {
     "data": {
      "text/plain": [
       "'oṁ namo bhagavate vāsudevāya'"
      ]
     },
     "execution_count": 35,
     "metadata": {},
     "output_type": "execute_result"
    }
   ],
   "source": [
    "Y[0]"
   ]
  },
  {
   "cell_type": "code",
   "execution_count": 36,
   "metadata": {},
   "outputs": [
    {
     "name": "stdout",
     "output_type": "stream",
     "text": [
      "README.md                 \u001b[31mfor_all_cantos.sh\u001b[m\u001b[m         \u001b[31mtesseract_ocr.sh\u001b[m\u001b[m\r\n",
      "bhagabatam_dataprep.ipynb results_bilstm.csv        \u001b[1m\u001b[36mtest_data\u001b[m\u001b[m\r\n",
      "bilstm.hdf5               results_lstm.csv          text2img\r\n",
      "\u001b[1m\u001b[36mcantos\u001b[m\u001b[m                    seq2seq-lstm.ipynb        \u001b[1m\u001b[36mtrain_data\u001b[m\u001b[m\r\n",
      "cantos_crawl.py           seq2seq.ipynb\r\n"
     ]
    }
   ],
   "source": [
    "!ls"
   ]
  },
  {
   "cell_type": "code",
   "execution_count": 37,
   "metadata": {
    "collapsed": true
   },
   "outputs": [],
   "source": [
    "test_df = pd.read_csv('test_data/test_final.csv', encoding='utf-8')"
   ]
  },
  {
   "cell_type": "code",
   "execution_count": 40,
   "metadata": {},
   "outputs": [
    {
     "data": {
      "text/html": [
       "<div>\n",
       "<style scoped>\n",
       "    .dataframe tbody tr th:only-of-type {\n",
       "        vertical-align: middle;\n",
       "    }\n",
       "\n",
       "    .dataframe tbody tr th {\n",
       "        vertical-align: top;\n",
       "    }\n",
       "\n",
       "    .dataframe thead th {\n",
       "        text-align: right;\n",
       "    }\n",
       "</style>\n",
       "<table border=\"1\" class=\"dataframe\">\n",
       "  <thead>\n",
       "    <tr style=\"text-align: right;\">\n",
       "      <th></th>\n",
       "      <th>source</th>\n",
       "      <th>target</th>\n",
       "      <th>origin</th>\n",
       "    </tr>\n",
       "  </thead>\n",
       "  <tbody>\n",
       "    <tr>\n",
       "      <th>0</th>\n",
       "      <td>dhrtarastra uvaca</td>\n",
       "      <td>dhṛtarāṣṭra uvāca</td>\n",
       "      <td>pdf</td>\n",
       "    </tr>\n",
       "    <tr>\n",
       "      <th>1</th>\n",
       "      <td>dharma-ksetre kuru-ksetre samaveta yuyutsavah</td>\n",
       "      <td>dharma-kṣetre kuru-kṣetre samavetā yuyutsavaḥ</td>\n",
       "      <td>pdf</td>\n",
       "    </tr>\n",
       "    <tr>\n",
       "      <th>2</th>\n",
       "      <td>mamakah pandavas caiva kim akurvata sanjaya</td>\n",
       "      <td>māmakāḥ pāṇḍavāś caiva kim akurvata sañjaya</td>\n",
       "      <td>pdf</td>\n",
       "    </tr>\n",
       "    <tr>\n",
       "      <th>3</th>\n",
       "      <td>karpanya-dosopahata-svabhavah</td>\n",
       "      <td>kārpaṇya-doṣopahata-svabhāvaḥ</td>\n",
       "      <td>pdf</td>\n",
       "    </tr>\n",
       "    <tr>\n",
       "      <th>4</th>\n",
       "      <td>prechami tvam dharma-sammudha-cetah</td>\n",
       "      <td>pṛcchāmi tvāṁ dharma-sammūḍha-cetāḥ</td>\n",
       "      <td>pdf</td>\n",
       "    </tr>\n",
       "  </tbody>\n",
       "</table>\n",
       "</div>"
      ],
      "text/plain": [
       "                                          source  \\\n",
       "0                              dhrtarastra uvaca   \n",
       "1  dharma-ksetre kuru-ksetre samaveta yuyutsavah   \n",
       "2    mamakah pandavas caiva kim akurvata sanjaya   \n",
       "3                  karpanya-dosopahata-svabhavah   \n",
       "4            prechami tvam dharma-sammudha-cetah   \n",
       "\n",
       "                                          target origin  \n",
       "0                              dhṛtarāṣṭra uvāca    pdf  \n",
       "1  dharma-kṣetre kuru-kṣetre samavetā yuyutsavaḥ    pdf  \n",
       "2    māmakāḥ pāṇḍavāś caiva kim akurvata sañjaya    pdf  \n",
       "3                  kārpaṇya-doṣopahata-svabhāvaḥ    pdf  \n",
       "4            pṛcchāmi tvāṁ dharma-sammūḍha-cetāḥ    pdf  "
      ]
     },
     "execution_count": 40,
     "metadata": {},
     "output_type": "execute_result"
    }
   ],
   "source": [
    "test_df.head()"
   ]
  },
  {
   "cell_type": "code",
   "execution_count": 39,
   "metadata": {},
   "outputs": [],
   "source": [
    "test_df['source'] = test_df['source'].astype(str).str.lower()"
   ]
  },
  {
   "cell_type": "code",
   "execution_count": 52,
   "metadata": {},
   "outputs": [
    {
     "name": "stdout",
     "output_type": "stream",
     "text": [
      "error\n",
      "error\n",
      "error\n",
      "error\n",
      "error\n",
      "error\n",
      "error\n",
      "error\n",
      "error\n",
      "error\n",
      "error\n",
      "error\n",
      "error\n",
      "error\n",
      "error\n",
      "error\n",
      "error\n",
      "error\n",
      "error\n",
      "error\n",
      "error\n",
      "error\n",
      "error\n",
      "error\n"
     ]
    }
   ],
   "source": [
    "X_test = []\n",
    "y_test = []\n",
    "for x, y in zip(test_df['source'].tolist(), test_df['target'].tolist()):\n",
    "    try:\n",
    "        X_test.append(np.array([vocab_to_int[ch] for ch in x]))\n",
    "        y_test.append(y)\n",
    "    except:\n",
    "        print(\"error\")"
   ]
  },
  {
   "cell_type": "code",
   "execution_count": 53,
   "metadata": {},
   "outputs": [
    {
     "data": {
      "text/plain": [
       "[array([15, 19, 29, 31, 12, 29, 12, 30, 31, 29, 12,  1, 32, 33, 12, 14, 12]),\n",
       " array([15, 19, 12, 29, 24, 12,  7, 22, 30, 16, 31, 29, 16,  1, 22, 32, 29,\n",
       "        32,  7, 22, 30, 16, 31, 29, 16,  1, 30, 12, 24, 12, 33, 16, 31, 12,\n",
       "         1, 34, 32, 34, 32, 31, 30, 12, 33, 12, 19])]"
      ]
     },
     "execution_count": 53,
     "metadata": {},
     "output_type": "execute_result"
    }
   ],
   "source": [
    "X_test[:2]"
   ]
  },
  {
   "cell_type": "code",
   "execution_count": 54,
   "metadata": {
    "collapsed": true
   },
   "outputs": [],
   "source": [
    "X_test = pad_sequences(X_test, maxlen=SEQ_LENGTH, dtype='int32', padding='post', truncating='post')"
   ]
  },
  {
   "cell_type": "code",
   "execution_count": 55,
   "metadata": {},
   "outputs": [
    {
     "name": "stdout",
     "output_type": "stream",
     "text": [
      "403/403 [==============================] - 0s 761us/step\n"
     ]
    }
   ],
   "source": [
    "x_test_pred = model.predict_classes(X_test, verbose=1)"
   ]
  },
  {
   "cell_type": "code",
   "execution_count": 56,
   "metadata": {},
   "outputs": [
    {
     "data": {
      "text/plain": [
       "array([[15, 19, 51, ...,  0,  0,  0],\n",
       "       [15, 19, 12, ...,  0,  0,  0],\n",
       "       [24, 40, 24, ...,  0,  0,  0],\n",
       "       ...,\n",
       "       [15, 20, 31, ...,  0,  0,  0],\n",
       "       [14, 43, 15, ...,  0,  0,  0],\n",
       "       [30, 12, 29, ...,  0,  0,  0]])"
      ]
     },
     "execution_count": 56,
     "metadata": {},
     "output_type": "execute_result"
    }
   ],
   "source": [
    "x_test_pred"
   ]
  },
  {
   "cell_type": "code",
   "execution_count": 60,
   "metadata": {},
   "outputs": [],
   "source": [
    "test_prediction_string = []\n",
    "x_test_string = []\n",
    "for row in x_test_pred:\n",
    "    test_prediction_string.append(\"\".join([int_to_vocab[c] if c > 0 else '' for c in row]))\n",
    "    \n",
    "    \n",
    "for row in X_test:\n",
    "    x_test_string.append(\"\".join([int_to_vocab[c] if c > 0 else '' for c in row]))\n"
   ]
  },
  {
   "cell_type": "code",
   "execution_count": 58,
   "metadata": {},
   "outputs": [
    {
     "data": {
      "text/plain": [
       "['dhṛtarāṣṭra uvāca',\n",
       " 'dharma-kṣetre kuru-kṣetre samaveta yuyutsavaḥ',\n",
       " 'māmakaḥ paṇḍavaś caiva kim akurvata sañjaya',\n",
       " 'karpaṇya-doṣopahata-svabhāvaḥ',\n",
       " 'pṛcchāmi tvaṁ dharma-sammuḍha-cetaḥ',\n",
       " 'yac chreyaḥ syān niścitaṁ bruhi tan me',\n",
       " 'śisyas te\\xa0’haṁ sadhi maṁ tvaṁ prapannaṁ',\n",
       " 'śrī-bhagavān uvāca',\n",
       " 'aśocyān anvaśocas tvaṁ prajña-vadāṁś ca bhaṣase',\n",
       " 'gatasūn agataśuṁś ca nanuśocanti paṇḍitaḥ',\n",
       " 'na tv evahaṁ jatu nasaṁ na tvaṁ neme janādhipaḥ',\n",
       " 'na caiva na bhaviṣyamaḥ sarve vayam ataḥ param',\n",
       " 'dehino\\xa0’smin yathā dehe kaumaraṁ yauvanaṁ jara',\n",
       " 'tathā dehantara-praptir dhiras tatra na muhyati',\n",
       " 'matra-sparśas tu kaunteya sitoṣṇa-sukha-duḥkha-daḥ',\n",
       " 'agamāpāyino\\xa0’nityas taṁs titikṣasva bhārata',\n",
       " 'avināsi tu tad viddhi yena sarvam idaṁ tatam',\n",
       " 'vināśam avyayasyasya na kaścit kartum arhati',\n",
       " 'na jāyate mriyate va kadacin nayaṁ bhutvā bhavitā va na bhūyaḥ',\n",
       " 'ajo nityaḥ saśvato\\xa0’yaṁ puraṇo na hanyate hanyamāne śarīre',\n",
       " 'vasāṁsi jīrṇāni yathā vihāya',\n",
       " 'navani gṛhṇati naro\\xa0’parāṇi',\n",
       " 'tathā sarīrāṇi vihāya jīrṇany',\n",
       " 'anyāni samyati navani dehi',\n",
       " 'nainaṁ chindanti sastrāṇi nainaṁ dahati pāvakaḥ',\n",
       " 'na cainaṁ kledayanty apo na śoṣayati mārutaḥ',\n",
       " 'nehabhikrama-naśo\\xa0’sti pratyavayo na vidyate',\n",
       " 'sv-alpam apy asya dharmasya trayate mahato bhayāt',\n",
       " 'bhogaiśvarya-praśaktānaṁ tayapahṛta-cetasam',\n",
       " 'vyavasayātmika buddhiḥ samadhau na vidhiyate',\n",
       " 'karmaṇy evadhikaras te ma phaleṣu kadācanā',\n",
       " 'ma karma-phala-hetur bhūr ma te saṅgo\\xa0’stv akarmaṇi',\n",
       " 'viṣayā vinivartante niraharasya dehināḥ',\n",
       " 'rāsa-varjaṁ raso\\xa0’py asya paraṁ dṛṣṭvā nirvartate',\n",
       " 'tāni sarvāṇi samyamya yukta āsīta mat-paraḥ',\n",
       " 'vase hi yasyendriyāṇi tasya prajīma pratiṣṭhita',\n",
       " 'dhyāyato viśayān puṁsaḥ saṅgas teṣupajāyate',\n",
       " 'saṅgat sajijayate kamaḥ kamat krodho\\xa0’bhijāyate',\n",
       " 'krodhad bhavati sammohaḥ sammohat smṛti-vibhramaḥ',\n",
       " 'smṛti-bhrāṁśad buddhi-naśo buddhi-nasāt praṇasyati',\n",
       " 'ya niśa sarva-bhūtānaṁ tasyaṁ jagarti saṁyāmi',\n",
       " 'yasyaṁ jagrati bhūtāni sa niśa paśyato muneḥ',\n",
       " 'na hi kaścit kṣaṇam api jatu tiṣṭhaty akarma-kṛt',\n",
       " 'karyate hy avasaḥ karma sarvaḥ prakṛti-jair guṇaiḥ',\n",
       " 'karmeṇdriyāṇi samyamya ya āste manasā smaran',\n",
       " 'indriyārthān vimudhātma mithyācaraḥ sa ucyate',\n",
       " 'niyatāṁ kuru karma tvaṁ karma jyayo hy akarmaṇaḥ',\n",
       " 'sarīra-yatrapi ca te na prasiddhyed akarmaṇaḥ',\n",
       " 'yajñārthat karmaṇo\\xa0’nyatra loko\\xa0’yaṁ karma-bandhanaḥ',\n",
       " 'tad-arthaṁ karma kaunteya mukta-saṅgaḥ samācara',\n",
       " 'yajjja-śiṣṭāsīnaḥ santo mucyante sarva-kilbiṣaiḥ',\n",
       " 'bhūjijate te tv aghaṁ papa ye pacanty ātma-karaṇāt',\n",
       " 'annad bhavanti bhūtāni parjanyad anna-sambhavaḥ',\n",
       " 'bhavati parjanyo yajjjaḥ karma-samudbhavaḥ',\n",
       " 'ajo\\xa0’pi sann avyayātma bhūtānam īśvaro\\xa0’pi sān',\n",
       " 'prakṛtiṁ svam adhiṣṭhaya sambhavamy ātma-māyayā',\n",
       " 'yadā yadā hi dharmasya glanir bhavāti bhārata',\n",
       " 'abhyutthānam adharmasya tadātmanaṁ sṛjamy aham',\n",
       " 'paritrāṇāya sadhunaṁ vinaśaya ca duṣkṛtam',\n",
       " 'dharma-saṁsthapanārthaya sambhavāmi yuge yuge',\n",
       " 'janma karma ca me divyam evaṁ yo vetti tattvataḥ',\n",
       " 'tyaktvā dehaṁ punar janma naiti mam eti so\\xa0’rjunā',\n",
       " 'ye yathā maṁ prapadyante taṁs tathaiva bhajamy aham',\n",
       " 'māma vartmanuvartante manuṣyaḥ partha sarvaśaḥ',\n",
       " 'catur-varṇyaṁ maya sṛṣṭaṁ guṇa-karma-vibhāgaśaḥ',\n",
       " 'tasya kartaram api maṁ viddhy akartaram avyayam',\n",
       " 'tad viddhi praṇīpatena pariprasnena sevayā',\n",
       " 'upadekṣyanti te jjanaṁ tattva-darśinaḥ',\n",
       " 'vidya-vināya-sampanne brahmaṇe gavi hastini',\n",
       " 'suni caiva sva-pake ca paṇḍitaḥ sama-darśinaḥ',\n",
       " 'ye hi saṁsparśa-ja bhoga duḥkha-yonaya eva te',\n",
       " 'ādy-antavantaḥ kaunteya na teṣu ramate budhaḥ',\n",
       " 'bhoktaraṁ yajjja-tapasaṁ sarva-loka-maheśvaram',\n",
       " 'suhṛdaṁ sarva-bhūtanaṁ jījatva maṁ santim ṛcchati',\n",
       " 'śrī-bhagavān uvāca',\n",
       " 'anāśritaḥ karma-phalaṁ karyaṁ karma karoti yaḥ',\n",
       " 'sa sannyasi ca yogi ca na niragnir na cakriyaḥ',\n",
       " 'uddhared ātmanātmanaṁ nātmanam avasādayet',\n",
       " 'ātmaiva hy ātmano bandhur ātmaiva ripur ātmanaḥ',\n",
       " 'yuktāhāra-viharasya yukta-ceṣṭasya karmasu',\n",
       " 'yukta-svapnāvabodhasya yogo bhavāti duḥkha-hā',\n",
       " 'sukham atyantikaṁ yat tad buddhi-grahyam atindriyam',\n",
       " 'vetti yatra na caivayaṁ sthitaś calati tattvataḥ',\n",
       " 'yaṁ labdhvā caparaṁ labhaṁ manyate nadhikaṁ tataḥ',\n",
       " 'yasmin sthito na duḥkhena guruṇāpi vicalyate',\n",
       " 'taṁ vidyād duḥkha-saṁyoga- viyogaṁ yoga-saṁjjiitam',\n",
       " 'yato yato niścalati manaś cajicalam asthiram',\n",
       " 'tatas tato niyamyaitad ātmany eva vasaṁ nayet',\n",
       " 'yo maṁ paśyati sarvatra sarvaṁ ca mayi paśyati',\n",
       " 'tasyahaṁ na praṇaśyami sa ca me na praṇasyati',\n",
       " 'cajicalaṁ hi manaḥ kṛṣṇa pramathi balavad dṛḍhaṁ',\n",
       " 'tasyahaṁ nigrahaṁ manye vayor iva su-duṣkaram',\n",
       " 'prāpya punya-kṛtaṁ lokān uṣitva sasvatiḥ samaḥ',\n",
       " 'sucinaṁ śrīmataṁ gehe yoga-bhraṣṭo\\xa0’bhijāyate',\n",
       " 'yogīnām api sarveṣāṁ mad-gatenantar-ātmana',\n",
       " 'śraddhāvān bhajate yo maṁ sa me yuktatamo mataḥ',\n",
       " 'śrī-bhagavān uvāca',\n",
       " 'mayy aśakta-manaḥ partha yogaṁ yujijan mad-āśrayaḥ',\n",
       " 'asaṁsayaṁ samagraṁ maṁ yathā tac chṛṇu',\n",
       " 'manuṣyānāṁ sahasreṣu kaścid yatati siddhaye',\n",
       " 'yatatam api siddhānaṁ kaścin maṁ vetti tattvataḥ',\n",
       " 'bhūmir apo\\xa0’nalo vayuḥ khaṁ mano buddhir eva ca',\n",
       " 'ahaṅkāra itiyaṁ me bhinna prakṛtir astadhā',\n",
       " 'apareyam itas tv anyaṁ prakṛtiṁ viddhi me param',\n",
       " 'jīva-bhūtaṁ maha-baho yayedaṁ dharyate jagat',\n",
       " 'mattaḥ parataraṁ nanyat kijcid asti dhananijāyā',\n",
       " 'mayi sarvam idaṁ protaṁ sutre mani-gaṇā iva',\n",
       " 'raso\\xa0’ham apsu kaunteya prabhasmi saśi-sūryayoḥ',\n",
       " 'praṇavaḥ sarva-vedeśu śabdaḥ khe pauruṣaṁ nṛṣu',\n",
       " 'balaṁ balavataṁ cahaṁ kama-raga-vivarjitam',\n",
       " 'dharmaviruddho bhūteṣu kamo\\xa0’smi bharatarṣabha',\n",
       " 'tribhir guṇa-mayair bhavair ebhiḥ sarvam idaṁ jagat',\n",
       " 'mohitaṁ nabhijanati mam ebhyaḥ param āvyayam',\n",
       " 'daivi hy eṣa guṇa-mayi māma mayā duratyayā',\n",
       " 'mam eva ye prapadyante mayam etaṁ taranti te',\n",
       " 'na maṁ duṣkṛtino mudhaḥ prapadyante narādhamaḥ',\n",
       " 'māyāyāpahṛta-jjana āsuraṁ bhavam āśritaḥ',\n",
       " 'catur-vidhā bhajante maṁ janaḥ sukṛtino\\xa0’rjunā',\n",
       " 'arto jijmasur arthārthi ca bharatarṣabha',\n",
       " 'bāhūnāṁ janmanam ante maṁ prapadyate',\n",
       " 'vāsudevaḥ sarvam iti sa mahātma su-durlabhaḥ',\n",
       " 'kamais tais tair hṛta-jñanaḥ prapadyante\\xa0’nya-devatāḥ',\n",
       " 'taṁ taṁ niyamām asthāya prakṛtya niyataḥ svaya',\n",
       " 'antavat tu phalaṁ teṣāṁ tad bhavaty alpa-medhasam',\n",
       " 'devān deva-yajo yanti mad-bhakta-yanti mam api',\n",
       " 'avyaktaṁ vyaktim apannaṁ manyante mam abuddhayaḥ',\n",
       " 'paraṁ bhavam ajananto mamavyayam anuttamaṁ',\n",
       " 'nahaṁ prakāśaḥ sarvasya yoga-maya-savāvṛtaḥ',\n",
       " 'mugho\\xa0’yaṁ nabhijanati loko mam ajam avyayam',\n",
       " 'vedahaṁ samatitāni vartamanāni carjunā',\n",
       " 'bhaviṣyāṇi ca bhūtāni maṁ tu veda na kaścana',\n",
       " 'iccha-dveṣā samutthena dvandva-mohena bharata',\n",
       " 'sarva-bhūtāni sammohaṁ sarge yanti parantapa',\n",
       " 'yeṣāṁ tv anta-gataṁ papaṁ jananaṁ puṇya-karmaṇam',\n",
       " 'te dvāndva-moha-nirmukta bhajante maṁ dṛḍha-vrataḥ',\n",
       " 'anta-kāle ca mam eva smaran muktvā kalevaram',\n",
       " 'yaḥ prayati sa mad-bhavaṁ yati nasty atra saṁśayaḥ',\n",
       " 'yaṁ yaṁ vāpi smaran bhavaṁ tyajaty ante kalevaram',\n",
       " 'taṁ tam evaiti kaunteya sada tad-bhāva-bhāvitaḥ',\n",
       " 'mam upetya punar janma duḥkhalayam aśasvatam',\n",
       " 'nāpnuvanti mahātmanaḥ saṁsiddhiṁ paramaṁ gataḥ',\n",
       " 'a-brahma-bhuvanal lokaḥ punar avartino\\xa0’rjunā',\n",
       " 'mam upetya tu kaunteya punar janma na vidyate',\n",
       " 'sahasra-yuga-paryantam ahar yad brahmaṇo vidhuḥ',\n",
       " 'rātriṁ yuga-sahasrantaṁ te\\xa0’ho-ratra-vido janaḥ',\n",
       " 'bhūta-gramaḥ sa evayaṁ bhutvā bhūtvā pralīyate',\n",
       " 'rātry-agame\\xa0’vasaḥ partha prabhāvaty ahar-āgame',\n",
       " 'paras tasmāt tu bhavo\\xa0’nyo\\xa0’vyakto\\xa0’vyaktat sanātanaḥ',\n",
       " 'yaḥ sa sarveṣu bhūteṣu nasyatsu na vinaśyati',\n",
       " 'rāja-vidyā raja-guhyaṁ pavitram idam uttamaṁ',\n",
       " 'pratyakṣavagamaṁ dharmyaṁ su-sukhaṁ kartum avyayam',\n",
       " 'aśraddadhānaḥ puruṣa dharmasyasya parantapa',\n",
       " 'aprāpya maṁ nivartante mṛtyu-saṁsara-vartmani',\n",
       " 'mayā tatam idaṁ sarvaṁ jagad avyakta-mūrtinā',\n",
       " 'mat-sthāni sarva-bhūtāni na cahaṁ teṣv avasthitaḥ',\n",
       " 'na ca mat-sthāni bhūtāni paśya me yogam aiśvaram',\n",
       " 'bhūta-bhṛn na ca bhita-stho mamātma bhiuta-bhāvanaḥ',\n",
       " 'mayādhyakṣeṇa prakṛtiḥ sūyate sa-carācaram',\n",
       " 'hetunānena kaunteya jagad viparivartate',\n",
       " 'avajananti maṁ mudha manuṣiṁ tanum āśritam',\n",
       " 'paraṁ bhavam ajananto mama bhūta-maheśvaram',\n",
       " 'moghasā mogha-karmaṇo mogha-jñāna vicetasaḥ',\n",
       " 'rakṣāsim asuriṁ caiva prakṛtiṁ mohinīṁ śrītaḥ',\n",
       " 'mahātmanas tu maṁ partha daivīṁ prakṛtim āśritaḥ',\n",
       " 'bhajanty ananya-manaso jhatva bhūtādim avyayam',\n",
       " 'satataṁ kīrtayanto maṁ yatantaś ca dṛḍha-vrataḥ',\n",
       " 'namasyantaś ca maṁ bhaktyā nitya-yukta upāsate',\n",
       " 'pitahām asya jagato mata dhata pitāmahaḥ',\n",
       " 'vedyaṁ pavitram oṁkarā ṛk sama yajur eva ca',\n",
       " 'te taṁ bhuktvā svarga-lokaṁ viśalam',\n",
       " 'kṣiṇe punye martya-lokaṁ viśanti',\n",
       " 'evaṁ trayi-dharmam anuprapannā',\n",
       " 'gatagataṁ kama-kāma labhante',\n",
       " 'ananyaś cintayanto maṁ ye janaḥ paryupāsate',\n",
       " 'teṣāṁ nityabhiyuktanaṁ yoga-kṣemaṁ vahāmy aham',\n",
       " 'ye\\xa0’py anya-devata-bhakta yajante śraddhayānvitaḥ',\n",
       " 'te\\xa0’pi mam eva kaunteya yajanty avidhi-pūrvakām',\n",
       " 'yanti deva-vrata devān pitṝn yanti pitṛ-vrataḥ',\n",
       " 'bhūtāni yanti bhūtejya yanti mad-yajino\\xa0’pi mam',\n",
       " 'patraṁ puṣpaṁ phalaṁ toyaṁ yo me bhaktā prayacchati',\n",
       " 'tad ahaṁ bhakty-upahṛtam asnāmi prayatātmanaḥ',\n",
       " 'yat karoṣi yad aśnāsi yaj juhoṣi dadāsi yat',\n",
       " 'yat tapasyasi kaunteya tat kuruṣva mad-arpaṇaṁ',\n",
       " 'samo\\xa0’haṁ sarva-bhūteṣu na me dveṣyo\\xa0’sti na priyaḥ',\n",
       " 'ye bhajanti tu maṁ bhaktyā mayi te teṣu capy aham',\n",
       " 'api cet su-duracaro bhajate mam ananya-bhāk',\n",
       " 'sadhur eva sa mantavyaḥ samyag vyavasito hi saḥ',\n",
       " 'kṣipraṁ bhavati dharmātma sasvac-chantiṁ nigacchati',\n",
       " 'kaunteya pratijanthi na me bhaktaḥ praṇasyati',\n",
       " 'maṁ hi pārtha vyapaśritya ye\\xa0’pi syuḥ pāpa-yonayaḥ',\n",
       " 'striyo vaiṣyas tathā śudras te\\xa0’pi yanti paraṁ gatim',\n",
       " 'kiṁ punar brahmaṇaḥ punya bhaktā rajarṣayas tathā',\n",
       " 'anityam asukhaṁ lokam imaṁ prapya bhajasva mam',\n",
       " 'man-māna bhava mad-bhakto mad-yaji maṁ namaskuru',\n",
       " 'mam evaiṣyasi yuktvaivam ātmanaṁ mat-parāyaṇaḥ',\n",
       " 'na me viduḥ sura-gaṇaḥ prabhavaṁ na maharṣayaḥ',\n",
       " 'aham ādir hi devanaṁ maharṣiṇaṁ ca sarvaśaḥ',\n",
       " 'ahaṁ sarvasya prabhavo mattaḥ sarvaṁ pravartate',\n",
       " 'iti matvā bhajante maṁ budha bhava-samānvitaḥ',\n",
       " 'mac-citta mad-gata-praṇa bodhayantaḥ parasparam',\n",
       " 'kathayantaś ca maṁ nityaṁ tuṣyanti ca ramanti ca',\n",
       " 'teṣāṁ satāta-yuktanaṁ bhajataṁ priti-pūrvakam',\n",
       " 'dadāmi buddhi-yogaṁ taṁ yena mam upayanti te',\n",
       " 'teṣām evānukampartham aham ajjana-jaṁ tamaḥ',\n",
       " 'nāśayamy ātma-bhava-stho bhasvatā',\n",
       " 'arjuna uvāca',\n",
       " 'paraṁ brahma paraṁ dhāma pavitraṁ paramaṁ bhavān',\n",
       " 'puruṣaṁ sasvataṁ divyam ādi-devam ajaṁ vibhum',\n",
       " 'ahus tvam ṛṣayaḥ sarve devarṣir naradas tathā',\n",
       " 'āsito devālo vyasaḥ svayaṁ caiva braviṣi me',\n",
       " 'sarvam etad ṛtaṁ manye yan maṁ vadasi keśava',\n",
       " 'na hi te bhagavān vyaktiṁ vidur deva na dānavaḥ',\n",
       " 'mṛtyuḥ sarva-haraś caham udbhavaś ca bhaviṣyatam',\n",
       " 'sarva-yoniṣu kaunteya mūrtayaḥ sambhavanti yaḥ',\n",
       " 'tasāṁ brahma mahād yonir ahaṁ bija-pradaḥ pitā',\n",
       " 'urdhvaṁ gacchanti sattva-stha madhye tiṣṭhanti rājasaḥ',\n",
       " 'jaghānya-guṇa-vṛtti-stha ādho gacchanti tamasaḥ',\n",
       " 'maṁ ca yo\\xa0’vyabhicareṇa bhakti-yogena sevate',\n",
       " 'sa guṇān samatityaitan brahma-bhūyāya kalpate',\n",
       " 'brahmaṇo hi pratiṣṭhaham amṛtasyavyayasya ca',\n",
       " 'sasvatasya ca dharmasya sukhasyaikāntikasya ca',\n",
       " 'śrī bhagavān uvāca',\n",
       " 'ūrdhva-mālām adhaḥ-sakham asvatthaṁ prahur avyayam',\n",
       " 'chandāṁsi yasya parṇani yas taṁ veda sa veda-vit',\n",
       " 'na tad bhāṣayate suryo na śaśaṅko na pāvakaḥ',\n",
       " 'yad gatvā na nivartante tad dhāma paramaṁ mama',\n",
       " 'mamaivaṁśo jiva-loke jīva-bhutaḥ sanātanaḥ',\n",
       " 'manaḥ sasṭhānindriyāṇi prakṛti-sthāni karṣati',\n",
       " 'sarvasya cahaṁ hṛdi sannviṣṭho',\n",
       " 'mattaḥ smṛtir jījanam apohanaṁ ca',\n",
       " 'vedaiś ca sarvair aham eva vedyo',\n",
       " 'vedanta-kṛd veda-vid eva caham',\n",
       " 'yo mam evam asammiudho janati puruṣottamam',\n",
       " 'sa sarva-vid bhajati maṁ sarva-bhāvena bhārata',\n",
       " 'śrī-bhagavān uvāca',\n",
       " 'abhayaṁ sattva-saṁśuddhir jjana-yoga-vyavasthitiḥ',\n",
       " 'danaṁ damaś ca yajjjaś ca svadhyayas tapa ārjavam',\n",
       " 'ahiṁsa satyam akrodhas tyagaḥ santir apaiṣuṇāṁ',\n",
       " 'daya bhūteṣvv aloluptvāṁ mardavaṁ hrir acapalam',\n",
       " 'tejaḥ kṣama dhṛtiḥ śaucam adroho nati-manitā',\n",
       " 'bhavanti sampadaṁ daivim abhijatasya bharata',\n",
       " 'pravṛttiṁ ca nivṛttiṁ ca jana na vidur asuraḥ',\n",
       " 'na śaucaṁ nāpi cacaro na satyaṁ teṣu vidyate',\n",
       " 'asatyam apratiṣṭhaṁ te jagad ahur anīśvaram',\n",
       " 'aparaspara-sambhūtaṁ kim anyat kāma-haitukam',\n",
       " 'etaṁ dṛṣṭim avastabhya naṣṭātmano\\xa0’lpa-buddhayaḥ',\n",
       " 'prabhāvanty ugra-karmaṇaḥ kṣayayā jagato\\xa0’hitaḥ',\n",
       " 'tri-vidhāṁ narakasyedaṁ dvāraṁ naśānam ātmanaḥ',\n",
       " 'kamaḥ krodhas tathā lobhas tasmad etat trayaṁ tyajet',\n",
       " 'yaḥ sasṭra-vidhim utsṛjya vartate kāma-kārataḥ',\n",
       " 'na sa siddhim avapnoti na sukhaṁ na paraṁ gatim',\n",
       " 'samo damas tapaḥ śaucaṁ kṣantir arjavam eva ca',\n",
       " 'jmānaṁ vijmānam astikyaṁ brahma-karma svabhāva-jam',\n",
       " 'sauryaṁ tejo dhṛtir dakṣyaṁ yuddhe capy apalāyanaṁ',\n",
       " 'dānam īśvara-bhāvaś ca kṣatraṁ karma svabhāva-jam',\n",
       " 'kṛṣi-go-rakṣya-vanijyaṁ vaiṣya-karma svabhāva-jam',\n",
       " 'paricaryātmakaṁ karma sudraśyapi svabhāva-jam',\n",
       " 'sve sve karmaṇy abhirataḥ saṁsiddhiṁ labhate naraḥ',\n",
       " 'sva-karma-nirataḥ siddhiṁ yathā vindati tac chṛṇu',\n",
       " 'yataḥ pravṛttir bhūitanaṁ yena sarvam idaṁ tatam',\n",
       " 'sva-karmaṇā tam abhyarcya siddhiṁ vindati mānavaḥ',\n",
       " 'brahma-bhūtaḥ prasannātma na śocati na kaṅkṣati',\n",
       " 'samaḥ sarveṣu bhūteṣu mad-bhaktiṁ labhate param',\n",
       " 'bhaktyā mam abhijanati yavan yaś casmi tattvataḥ',\n",
       " 'tato maṁ tattvato jmatva viśate tad-anantaram',\n",
       " 'īśvaraḥ sarva-bhūtanaṁ hṛd-deśe\\xa0’rjuna tiṣṭhati',\n",
       " 'bhrāmayan sarva-bhūtāni yantrarudhāni māyāyā',\n",
       " 'iti te jiaānam ākhyataṁ guhyad guhyataraṁ mayā',\n",
       " 'vimṛṣyaitad aśeṣeṇa yathecchasi tathā kuru',\n",
       " 'man-māna bhava mad-bhakto mad-yaji maṁ namaskuru',\n",
       " 'mam evaiṣyasi satyaṁ te pratijane priyo\\xa0’si me',\n",
       " 'sarva-dharman parityajya mam ekaṁ śaraṇaṁ vraja',\n",
       " 'ahaṁ tvaṁ sarva-papebhyo mokṣayiṣyāmi ma śucaḥ',\n",
       " 'ya idaṁ paramaṁ guhyaṁ mad-bhakteṣv abhidhāsyati',\n",
       " 'bhaktiṁ mayi paraṁ kṛtvā mam evaiṣyaty asaṁśayaḥ',\n",
       " 'na ca tasmān manuṣyeṣu kaścin me priya-kṛttamaḥ',\n",
       " 'bhavitā na ca me tasmād anyaḥ priyataro bhuvi',\n",
       " 'arjuna uvāca',\n",
       " 'naṣṭo mohaḥ smṛtir labdha tvat-prasadan mayācyuta',\n",
       " 'sthito\\xa0’smi gata-sandehaḥ kariṣye vacanaṁ tava',\n",
       " 'yatra yogeśvaraḥ kṛṣṇo yatra pārtho dhanur-dharaḥ',\n",
       " 'tatra sśrīr vijayo bhūtir dhruva nitir matir mama',\n",
       " 'vijvaṁ vierūrvasātkīro',\n",
       " 'bhotābhāvyathavatprabiuḥ',\n",
       " 'bhaṭālerd bharabhṛdbhāvo',\n",
       " 'bhoriema bhorabhāvancḥ',\n",
       " 'yaycḥ puruṣṣḥ śiket kṣetrajjjotḥsara eva ca',\n",
       " 'yego yogavidaṁ neta oradhānṣpuruṣeīvārcḥ',\n",
       " 'carvaḥ śarvāly divaḥ sthanur bhotādirṇidhirevyaysḥ',\n",
       " 'cambhavo bhavano thaa prabhuriśvarcḥ',\n",
       " 'cvayambhoḥ puṣkarakṣo maḥsvansḥ',\n",
       " 'mādinidhano dhata vidhāra dhāturūrtāṁsḥ',\n",
       " 'iprameyo hṛṣikelsḥ padmanṣbho’mareprablīcḥ',\n",
       " 'vljvakarma manuṣṭvasṭa thaviṣṭhaḥ sthaviro dhruvaḥ',\n",
       " 'erhysḥ sīīvato kṛṣṇo ichitālssḥ praterdancḥ',\n",
       " 'orabhotastrikekubdhaṁs oavitreṁ majcalaṁ param',\n",
       " 'jāndḥ pṛṇadaḥ praṇo īyeṣṭhaḥ śreṣṭḥsḥ prajīpatiḥ',\n",
       " 'hniraṇysgarbho bhogertho madhavo madhuṣṭdānsḥ',\n",
       " 'vikramee dhanvee medhavee vikraṁsḥ kraṁḥ',\n",
       " 'imuttamo duradhārṣśḥ letiraemavān',\n",
       " 'dīśḥ saṁvatsaro vyalsh oratyayaḥ sarvadardānsḥ',\n",
       " 'viśikāpirameysṭma carvayceaviniḥsṛtsḥ',\n",
       " 'veṣūrvāsumanīḥ satycḥ camātma’sammitaḥ sameḥ',\n",
       " 'amoghīḥ punḍārtkakṣo vṛṣakarma',\n",
       " 'rudrou bahujiraś babhrur vijvayonih ucijravgḥ',\n",
       " 'ametaḥ darvara sthamur vararcho mahātāpaḥ',\n",
       " 'carvageḥ sarvavidbhanur viśvakṣeno janārdancḥ',\n",
       " 'velo vedavidavyargo vedargo vedavīt kaviḥ',\n",
       " 'lckadbyākṣsḥ dharmadhyakṣaḥ kṛtāletaḥ',\n",
       " 'cāvurātma carurvyaheḥ cavurdaṁstrajcaturthugḥ',\n",
       " 'bhajierṇṛ bhojinam thoeś caḥśiṣṇurjagedadijeḥ',\n",
       " 'magho vijṛyo jera vigvayonthḥ punarvasuḥ',\n",
       " 'upendro vamañcḥ praṁśur amogḥsḥ ducirarjitaḥ',\n",
       " 'iindṛḥ seṁgrahcḥ sṛgo dhṛtīma niyamo yamcḥ',\n",
       " 'velyo vaidysḥ sedaycgī virāha madhavo madhuḥ',\n",
       " 'indriyo mahāmayo mahābālṣḥ',\n",
       " 'maheśvaso mahibhārta īriṇīvssḥ seraṁgeriḥ',\n",
       " 'miraddhaḥ surināndo rovindo govidampatiḥ',\n",
       " 'mariciedamano haṁsaḥ suparo bhūjagortamaḥ',\n",
       " 'hirāgyāṇābhaḥ sutāpaḥ padmanibhaḥ prajīpatiḥ',\n",
       " 'cūrtḥ gururamo dhimaḥ suyaṁ supāparikeamaḥ',\n",
       " 'shāḥ saṁvartako vanhiraṇilo dharagīdhāra',\n",
       " 'cuprasīdaḥ prassnnītmar',\n",
       " 'cathārta sathytaḥ sidhurjanhurṇarayago naraḥ',\n",
       " 'iśaikhyeyo’prameyātma videa dṣtabpcchuciḥ',\n",
       " 'iddhārthaḥ siddhāsathalpaḥ siddhidaḥ siddhissdhanaḥ ',\n",
       " 'viṣṭhī vembho viṣpuevigaparva viśodaraḥ',\n",
       " 'vardhano vardhamanatca viviktaḥ śrutiṣigacaḥ',\n",
       " 'cubhujo durdharo vigmī makendro vāsudo vasuḥ',\n",
       " 'ojeṣṭejodyutidharaḥ prakajīīma pratīpanaḥ',\n",
       " 'ṛdvaḥs spaṣṭaḥśaro',\n",
       " 'ribbiṅg anddiḥ kumodiḥ',\n",
       " 'sutkepei kṣemakṛcchivāḥ',\n",
       " 'śige veen diel ī bo',\n",
       " 'mee a cae',\n",
       " 'udīrṇaḥ sarvātaścakṣuraṇīśaḥ sagvatasthiraḥ',\n",
       " 'bhūdayo bhūṣaṇo bhatirāśokaḥ',\n",
       " 'arciṣmanārcitaḥ kumbho viduddhātma vidodhanaḥ',\n",
       " 'aniruddho’ pratirathaḥ pradyumno’mitavikramaḥ',\n",
       " 'kamadevaḥ kamopalaḥ kiṁs kṣotab kvtigamcḥ',\n",
       " 'viromo dīrraṁjyaḥ',\n",
       " 'brommīṇāsn ī',\n",
       " 'drain d to',\n",
       " 'mahākramo mahākarma mahātera mahoragaḥ',\n",
       " 'mahākraturmahayajva mahāyajjjo mahāhaviḥ',\n",
       " 'stavyaḥ stava-priyaḥ stotratḥ stutaḥ stota rāpa-priyaḥ',\n",
       " 'parṇaḥ purāyita punyaḥ pugya-kīrtiraṇāmayaḥ',\n",
       " 'manojivastīrthakaro vasurera vasupradcḥ',\n",
       " 'vasuprado vasudevo vasūrvāsumans haviḥ',\n",
       " 'viśvamārtirmahāmārtir',\n",
       " 'caturmīrtīḥ caturbahuv caturvy tha caturgetḥ',\n",
       " 'catuibhavaḥ caturvedaḥ videlaoāt',\n",
       " 'cahasea mardha vijvātma sahaseakpaḥ sahaścapat',\n",
       " 'ṁgadhaṁ jagataḥ śeruḥ saryādharmaporakeamaḥ',\n",
       " 'bhotābhāvjabhāvannathaḥ pevanaḥ pavano’nalaḥ',\n",
       " 'kamāhi kamakpthantal kimaḥ kamapeadaḥ prabīhuḥ',\n",
       " 'idrīyo vyaktartipadcaṁ sahasrajidanāntajī',\n",
       " 'krodhahiu keidhakpthartaḥ viśvabahnṛmalidharaḥ',\n",
       " 'acyutaḥ prathitaḥ pragaḥ pcaṇado vasavānujaḥ',\n",
       " 'pan nidhirādhiśchanamapeamattaḥ pratiśchitaḥ',\n",
       " 'chandaḥ skandadharo dhūryo varado vāyurahanaḥ',\n",
       " 'viṣudero bṛhadbhinurididevaḥ purandaraḥ',\n",
       " 'daraḥ dauritjaneīvaraḥ',\n",
       " 'pṛdmānibho’ravindikṣaḥ padmagārbhaḥ',\n",
       " 'mahārddhirīpddho veddhitṁss makkṣo gṛrudadhvajeḥ',\n",
       " 'dārabho bhīmak samayajjjo havichariḥ',\n",
       " 'carvalikpapālakṣaṇyo lakṣmivān samitijjiyaḥ',\n",
       " 'vikiro rolito margo herurdimodaraḥ sihāḥ',\n",
       " 'malitdhāro mahābhāgo vegavanāmitajenaḥ',\n",
       " 'adbhavaḥ kṣobhaṇo devaḥ śigarbhaḥ parameīvaraḥ',\n",
       " 'karagaṁ karagaṁ karta vikarta gṛhaṇo guhāḥ',\n",
       " 'vjavāsiyo vyavasthinaḥ saṁsthanaḥ sthanado dhruvaḥ',\n",
       " 'paramaspasṭastuścaḥ puṣṭaḥ jubhekṣiṇaḥ',\n",
       " 'amo virajo margo neyo',\n",
       " 'vailunthaḥ puruṣaḥ prīṇaḥ praṇadaḥ pcaṇavaḥ pṛthuḥ',\n",
       " 'hiraṇyśgirbhaḥ vyspto vāyuradholṣajaḥ',\n",
       " 'tuḥ sudarjainaḥ kilaḥ parameṣṭhī parigrahaḥ',\n",
       " 'ugraḥ saṁvatsiro dao viimo viśvadakṣiṇaḥ',\n",
       " 'anirviaṇaḥ sthaviṣṭho bhordharmayapo mahīmakhaḥ',\n",
       " 'nalkṣarraṇemirṇakṣatet kyamaḥ kṣimaḥ samthanaḥ',\n",
       " 'yṛjīla ijyo makejyśica keatub satraṁ setiṁ gatuḥ',\n",
       " 'carvadāct vimuktātmi servaijo',\n",
       " 'cūreataḥ sumukhaḥ sokṣmaḥ śubkadaḥ śubsṭ',\n",
       " 'māñ charo jitakrodho virabshurvidirāgaḥ',\n",
       " 'svapanaḥ svavaśo vyapi naikātma naikakarmakṛt',\n",
       " 'vatsaro vatsalo vatsi ratnagarbho dhaneśvaraḥ',\n",
       " 'eabhaṣtinemihs settvāsṭhaḥḥ siṁho bhotaṁsheīvārṣḥ',\n",
       " 'sdidevo mahādevo develo devabhṛdguruhś',\n",
       " 'ūrtaro gopatirgopta jījanāgamysḥ purṣṭancḥ',\n",
       " 'śartrābhātābhṛdbhckea kapindro bhariḍākṣiṅgḥ',\n",
       " 'comapo’mtapshs somaḥs purujitpuruṣārtāṁsḥ',\n",
       " 'vinayo jaysḥ sstyasandho dajirhaḥ sitvataṁ patiḥ',\n",
       " 'jo ṁshārhaḥ svabhāvyo jīramitrcḥ pramodancḥ',\n",
       " 'jnāndo nandano nandaḥs setyadharma trivikramaḥ',\n",
       " 'ripadāstridadadhyakṣoṁ kṛcantalert',\n",
       " 'mahāvargho govindśhs suśensḥ kanakaṅged',\n",
       " 'hyo gabhiro gṣhanoṁ guptadālragadadhārcḥ',\n",
       " 'vedḥśhs svaṅgo’jitaḥ kṛṣṇo dṛḍhaḥs sanikerṣañccyutcḥ',\n",
       " 'vartno varuṇo puṣkarkṣo mahāmānsḥ',\n",
       " 'bhagavīn bhagṣhanand vanamalī halāyudhaḥ',\n",
       " 'dityo jyoirādityaḥ eṣhiṣṇurgetiṣattaṁsḥ',\n",
       " 'cūdhanya khaṇḍaparajirdśruṇo draviṇāpradeḥ',\n",
       " 'sarvādṛgyyaso vācaspatirayoniḥ']"
      ]
     },
     "execution_count": 58,
     "metadata": {},
     "output_type": "execute_result"
    }
   ],
   "source": [
    "test_prediction_string"
   ]
  },
  {
   "cell_type": "code",
   "execution_count": 63,
   "metadata": {},
   "outputs": [],
   "source": [
    "final_df = pd.DataFrame(columns=[\"source\", \"target\", \"prediction\"])"
   ]
  },
  {
   "cell_type": "code",
   "execution_count": 64,
   "metadata": {
    "collapsed": true
   },
   "outputs": [],
   "source": [
    "final_df['source'] = x_test_string\n",
    "final_df['target'] = y_test\n",
    "final_df['prediction'] = test_prediction_string"
   ]
  },
  {
   "cell_type": "code",
   "execution_count": 65,
   "metadata": {},
   "outputs": [
    {
     "data": {
      "text/html": [
       "<div>\n",
       "<style scoped>\n",
       "    .dataframe tbody tr th:only-of-type {\n",
       "        vertical-align: middle;\n",
       "    }\n",
       "\n",
       "    .dataframe tbody tr th {\n",
       "        vertical-align: top;\n",
       "    }\n",
       "\n",
       "    .dataframe thead th {\n",
       "        text-align: right;\n",
       "    }\n",
       "</style>\n",
       "<table border=\"1\" class=\"dataframe\">\n",
       "  <thead>\n",
       "    <tr style=\"text-align: right;\">\n",
       "      <th></th>\n",
       "      <th>source</th>\n",
       "      <th>target</th>\n",
       "      <th>prediction</th>\n",
       "    </tr>\n",
       "  </thead>\n",
       "  <tbody>\n",
       "    <tr>\n",
       "      <th>0</th>\n",
       "      <td>dhrtarastra uvaca</td>\n",
       "      <td>dhṛtarāṣṭra uvāca</td>\n",
       "      <td>dhṛtarāṣṭra uvāca</td>\n",
       "    </tr>\n",
       "    <tr>\n",
       "      <th>1</th>\n",
       "      <td>dharma-ksetre kuru-ksetre samaveta yuyutsavah</td>\n",
       "      <td>dharma-kṣetre kuru-kṣetre samavetā yuyutsavaḥ</td>\n",
       "      <td>dharma-kṣetre kuru-kṣetre samaveta yuyutsavaḥ</td>\n",
       "    </tr>\n",
       "    <tr>\n",
       "      <th>2</th>\n",
       "      <td>mamakah pandavas caiva kim akurvata sanjaya</td>\n",
       "      <td>māmakāḥ pāṇḍavāś caiva kim akurvata sañjaya</td>\n",
       "      <td>māmakaḥ paṇḍavaś caiva kim akurvata sañjaya</td>\n",
       "    </tr>\n",
       "    <tr>\n",
       "      <th>3</th>\n",
       "      <td>karpanya-dosopahata-svabhavah</td>\n",
       "      <td>kārpaṇya-doṣopahata-svabhāvaḥ</td>\n",
       "      <td>karpaṇya-doṣopahata-svabhāvaḥ</td>\n",
       "    </tr>\n",
       "    <tr>\n",
       "      <th>4</th>\n",
       "      <td>prechami tvam dharma-sammudha-cetah</td>\n",
       "      <td>pṛcchāmi tvāṁ dharma-sammūḍha-cetāḥ</td>\n",
       "      <td>pṛcchāmi tvaṁ dharma-sammuḍha-cetaḥ</td>\n",
       "    </tr>\n",
       "  </tbody>\n",
       "</table>\n",
       "</div>"
      ],
      "text/plain": [
       "                                          source  \\\n",
       "0                              dhrtarastra uvaca   \n",
       "1  dharma-ksetre kuru-ksetre samaveta yuyutsavah   \n",
       "2    mamakah pandavas caiva kim akurvata sanjaya   \n",
       "3                  karpanya-dosopahata-svabhavah   \n",
       "4            prechami tvam dharma-sammudha-cetah   \n",
       "\n",
       "                                          target  \\\n",
       "0                              dhṛtarāṣṭra uvāca   \n",
       "1  dharma-kṣetre kuru-kṣetre samavetā yuyutsavaḥ   \n",
       "2    māmakāḥ pāṇḍavāś caiva kim akurvata sañjaya   \n",
       "3                  kārpaṇya-doṣopahata-svabhāvaḥ   \n",
       "4            pṛcchāmi tvāṁ dharma-sammūḍha-cetāḥ   \n",
       "\n",
       "                                      prediction  \n",
       "0                              dhṛtarāṣṭra uvāca  \n",
       "1  dharma-kṣetre kuru-kṣetre samaveta yuyutsavaḥ  \n",
       "2    māmakaḥ paṇḍavaś caiva kim akurvata sañjaya  \n",
       "3                  karpaṇya-doṣopahata-svabhāvaḥ  \n",
       "4            pṛcchāmi tvaṁ dharma-sammuḍha-cetaḥ  "
      ]
     },
     "execution_count": 65,
     "metadata": {},
     "output_type": "execute_result"
    }
   ],
   "source": [
    "final_df.head()"
   ]
  },
  {
   "cell_type": "code",
   "execution_count": 67,
   "metadata": {},
   "outputs": [],
   "source": [
    "final_df.to_csv('results_bilstm.csv', encoding='utf-8')"
   ]
  },
  {
   "cell_type": "code",
   "execution_count": null,
   "metadata": {
    "collapsed": true
   },
   "outputs": [],
   "source": []
  }
 ],
 "metadata": {
  "anaconda-cloud": {},
  "kernelspec": {
   "display_name": "Python 3",
   "language": "python",
   "name": "python3"
  },
  "language_info": {
   "codemirror_mode": {
    "name": "ipython",
    "version": 3
   },
   "file_extension": ".py",
   "mimetype": "text/x-python",
   "name": "python",
   "nbconvert_exporter": "python",
   "pygments_lexer": "ipython3",
   "version": "3.6.2"
  }
 },
 "nbformat": 4,
 "nbformat_minor": 1
}
