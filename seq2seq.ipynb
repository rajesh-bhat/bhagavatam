{
 "cells": [
  {
   "cell_type": "code",
   "execution_count": 1,
   "metadata": {
    "collapsed": true
   },
   "outputs": [],
   "source": [
    "import pandas as pd\n",
    "import numpy as np\n",
    "\n",
    "np.random.seed(1)"
   ]
  },
  {
   "cell_type": "code",
   "execution_count": 2,
   "metadata": {},
   "outputs": [
    {
     "name": "stderr",
     "output_type": "stream",
     "text": [
      "Using TensorFlow backend.\n"
     ]
    }
   ],
   "source": [
    "from keras.preprocessing.sequence import pad_sequences\n",
    "from keras.models import Sequential\n",
    "from keras.layers.core import Dense, Activation, Dropout\n",
    "from keras.layers.recurrent import LSTM, SimpleRNN\n",
    "from keras.layers.wrappers import TimeDistributed\n",
    "from keras.layers.embeddings import Embedding\n",
    "from keras.utils.np_utils import to_categorical\n",
    "from keras.layers import Bidirectional"
   ]
  },
  {
   "cell_type": "code",
   "execution_count": 3,
   "metadata": {
    "collapsed": true
   },
   "outputs": [],
   "source": [
    "df = pd.read_csv('train_data/eng_train.csv', encoding='utf-8')"
   ]
  },
  {
   "cell_type": "code",
   "execution_count": 4,
   "metadata": {},
   "outputs": [
    {
     "data": {
      "text/html": [
       "<div>\n",
       "<style scoped>\n",
       "    .dataframe tbody tr th:only-of-type {\n",
       "        vertical-align: middle;\n",
       "    }\n",
       "\n",
       "    .dataframe tbody tr th {\n",
       "        vertical-align: top;\n",
       "    }\n",
       "\n",
       "    .dataframe thead th {\n",
       "        text-align: right;\n",
       "    }\n",
       "</style>\n",
       "<table border=\"1\" class=\"dataframe\">\n",
       "  <thead>\n",
       "    <tr style=\"text-align: right;\">\n",
       "      <th></th>\n",
       "      <th>ids</th>\n",
       "      <th>sentences</th>\n",
       "      <th>OCR</th>\n",
       "    </tr>\n",
       "  </thead>\n",
       "  <tbody>\n",
       "    <tr>\n",
       "      <th>0</th>\n",
       "      <td>1.1.1.1</td>\n",
       "      <td>oṁ namo bhagavate vāsudevāya</td>\n",
       "      <td>om namo bhagavate vasudevaya</td>\n",
       "    </tr>\n",
       "    <tr>\n",
       "      <th>1</th>\n",
       "      <td>1.1.2.1</td>\n",
       "      <td>dharmaḥ projjhita-kaitavo ’tra paramo nirmatsa...</td>\n",
       "      <td>dharmah projjhita-kaitavo 'tra paramo nirmatsa...</td>\n",
       "    </tr>\n",
       "    <tr>\n",
       "      <th>2</th>\n",
       "      <td>1.1.2.2</td>\n",
       "      <td>vedyaṁ vāstavam atra vastu śivadaṁ tāpa-trayon...</td>\n",
       "      <td>vedyam vastavam atra vastu sivadam tapa-trayon...</td>\n",
       "    </tr>\n",
       "    <tr>\n",
       "      <th>3</th>\n",
       "      <td>1.1.2.3</td>\n",
       "      <td>śrīmad-bhāgavate mahā-muni-kṛte kiṁ vā parair ...</td>\n",
       "      <td>Ssrimad-bhagavate maha-muni-krte kim va parair...</td>\n",
       "    </tr>\n",
       "    <tr>\n",
       "      <th>4</th>\n",
       "      <td>1.1.2.4</td>\n",
       "      <td>sadyo hṛdy avarudhyate ’tra kṛtibhiḥ śuśrūṣubh...</td>\n",
       "      <td>sadyo hrdy avarudhyate 'tra krtibhih sugsrusub...</td>\n",
       "    </tr>\n",
       "    <tr>\n",
       "      <th>5</th>\n",
       "      <td>1.1.3.1</td>\n",
       "      <td>nigama-kalpa-taror galitaṁ phalaṁ</td>\n",
       "      <td>nigama-kalpa-taror galitam phalam</td>\n",
       "    </tr>\n",
       "    <tr>\n",
       "      <th>6</th>\n",
       "      <td>1.1.3.2</td>\n",
       "      <td>śuka-mukhād amṛta-drava-saṁyutam</td>\n",
       "      <td>suka-mukhad amrta-drava-samyutam</td>\n",
       "    </tr>\n",
       "    <tr>\n",
       "      <th>7</th>\n",
       "      <td>1.1.3.3</td>\n",
       "      <td>pibata bhāgavataṁ rasam ālayam</td>\n",
       "      <td>pibata bhagavatam rasam alayam</td>\n",
       "    </tr>\n",
       "    <tr>\n",
       "      <th>8</th>\n",
       "      <td>1.1.3.4</td>\n",
       "      <td>muhur aho rasikā bhuvi bhāvukāḥ</td>\n",
       "      <td>muhur aho rasika bhuvi bhavukah</td>\n",
       "    </tr>\n",
       "    <tr>\n",
       "      <th>9</th>\n",
       "      <td>1.1.4.1</td>\n",
       "      <td>naimiṣe ’nimiṣa-kṣetre</td>\n",
       "      <td>naimise 'nimisa-ksetre</td>\n",
       "    </tr>\n",
       "    <tr>\n",
       "      <th>10</th>\n",
       "      <td>1.1.4.2</td>\n",
       "      <td>ṛṣayaḥ śaunakādayaḥ</td>\n",
       "      <td>rsayah saunakadayah</td>\n",
       "    </tr>\n",
       "    <tr>\n",
       "      <th>11</th>\n",
       "      <td>1.1.4.3</td>\n",
       "      <td>satraṁ svargāya lokāya</td>\n",
       "      <td>satram svargaya lokaya</td>\n",
       "    </tr>\n",
       "    <tr>\n",
       "      <th>12</th>\n",
       "      <td>1.1.4.4</td>\n",
       "      <td>sahasra-samam āsata</td>\n",
       "      <td>sahasra-samam asata</td>\n",
       "    </tr>\n",
       "    <tr>\n",
       "      <th>13</th>\n",
       "      <td>1.1.5.1</td>\n",
       "      <td>ta ekadā tu munayaḥ</td>\n",
       "      <td>ta ekada tu munayah</td>\n",
       "    </tr>\n",
       "    <tr>\n",
       "      <th>14</th>\n",
       "      <td>1.1.5.2</td>\n",
       "      <td>prātar huta-hutāgnayaḥ</td>\n",
       "      <td>pratar huta-hutagnayah</td>\n",
       "    </tr>\n",
       "    <tr>\n",
       "      <th>15</th>\n",
       "      <td>1.1.5.3</td>\n",
       "      <td>sat-kṛtaṁ sūtam āsīnaṁ</td>\n",
       "      <td>sat-krtam sutam asinam</td>\n",
       "    </tr>\n",
       "    <tr>\n",
       "      <th>16</th>\n",
       "      <td>1.1.5.4</td>\n",
       "      <td>papracchur idam ādarāt</td>\n",
       "      <td>papracchur idam adarat</td>\n",
       "    </tr>\n",
       "    <tr>\n",
       "      <th>17</th>\n",
       "      <td>1.1.6.1</td>\n",
       "      <td>ṛṣaya ūcuḥ</td>\n",
       "      <td>rsaya ucuh</td>\n",
       "    </tr>\n",
       "    <tr>\n",
       "      <th>18</th>\n",
       "      <td>1.1.7.1</td>\n",
       "      <td>yāni veda-vidāṁ śreṣṭho</td>\n",
       "      <td>yani veda-vidam srestho</td>\n",
       "    </tr>\n",
       "    <tr>\n",
       "      <th>19</th>\n",
       "      <td>1.1.7.2</td>\n",
       "      <td>bhagavān bādarāyaṇaḥ</td>\n",
       "      <td>bhagavan badarayanah</td>\n",
       "    </tr>\n",
       "  </tbody>\n",
       "</table>\n",
       "</div>"
      ],
      "text/plain": [
       "        ids                                          sentences  \\\n",
       "0   1.1.1.1                       oṁ namo bhagavate vāsudevāya   \n",
       "1   1.1.2.1  dharmaḥ projjhita-kaitavo ’tra paramo nirmatsa...   \n",
       "2   1.1.2.2  vedyaṁ vāstavam atra vastu śivadaṁ tāpa-trayon...   \n",
       "3   1.1.2.3  śrīmad-bhāgavate mahā-muni-kṛte kiṁ vā parair ...   \n",
       "4   1.1.2.4  sadyo hṛdy avarudhyate ’tra kṛtibhiḥ śuśrūṣubh...   \n",
       "5   1.1.3.1                  nigama-kalpa-taror galitaṁ phalaṁ   \n",
       "6   1.1.3.2                   śuka-mukhād amṛta-drava-saṁyutam   \n",
       "7   1.1.3.3                     pibata bhāgavataṁ rasam ālayam   \n",
       "8   1.1.3.4                    muhur aho rasikā bhuvi bhāvukāḥ   \n",
       "9   1.1.4.1                             naimiṣe ’nimiṣa-kṣetre   \n",
       "10  1.1.4.2                                ṛṣayaḥ śaunakādayaḥ   \n",
       "11  1.1.4.3                             satraṁ svargāya lokāya   \n",
       "12  1.1.4.4                                sahasra-samam āsata   \n",
       "13  1.1.5.1                                ta ekadā tu munayaḥ   \n",
       "14  1.1.5.2                             prātar huta-hutāgnayaḥ   \n",
       "15  1.1.5.3                             sat-kṛtaṁ sūtam āsīnaṁ   \n",
       "16  1.1.5.4                             papracchur idam ādarāt   \n",
       "17  1.1.6.1                                         ṛṣaya ūcuḥ   \n",
       "18  1.1.7.1                            yāni veda-vidāṁ śreṣṭho   \n",
       "19  1.1.7.2                               bhagavān bādarāyaṇaḥ   \n",
       "\n",
       "                                                  OCR  \n",
       "0                        om namo bhagavate vasudevaya  \n",
       "1   dharmah projjhita-kaitavo 'tra paramo nirmatsa...  \n",
       "2   vedyam vastavam atra vastu sivadam tapa-trayon...  \n",
       "3   Ssrimad-bhagavate maha-muni-krte kim va parair...  \n",
       "4   sadyo hrdy avarudhyate 'tra krtibhih sugsrusub...  \n",
       "5                   nigama-kalpa-taror galitam phalam  \n",
       "6                    suka-mukhad amrta-drava-samyutam  \n",
       "7                      pibata bhagavatam rasam alayam  \n",
       "8                     muhur aho rasika bhuvi bhavukah  \n",
       "9                              naimise 'nimisa-ksetre  \n",
       "10                                rsayah saunakadayah  \n",
       "11                             satram svargaya lokaya  \n",
       "12                                sahasra-samam asata  \n",
       "13                                ta ekada tu munayah  \n",
       "14                             pratar huta-hutagnayah  \n",
       "15                             sat-krtam sutam asinam  \n",
       "16                             papracchur idam adarat  \n",
       "17                                         rsaya ucuh  \n",
       "18                            yani veda-vidam srestho  \n",
       "19                               bhagavan badarayanah  "
      ]
     },
     "execution_count": 4,
     "metadata": {},
     "output_type": "execute_result"
    }
   ],
   "source": [
    "df.head(20)"
   ]
  },
  {
   "cell_type": "code",
   "execution_count": 5,
   "metadata": {},
   "outputs": [
    {
     "data": {
      "text/html": [
       "<div>\n",
       "<style scoped>\n",
       "    .dataframe tbody tr th:only-of-type {\n",
       "        vertical-align: middle;\n",
       "    }\n",
       "\n",
       "    .dataframe tbody tr th {\n",
       "        vertical-align: top;\n",
       "    }\n",
       "\n",
       "    .dataframe thead th {\n",
       "        text-align: right;\n",
       "    }\n",
       "</style>\n",
       "<table border=\"1\" class=\"dataframe\">\n",
       "  <thead>\n",
       "    <tr style=\"text-align: right;\">\n",
       "      <th></th>\n",
       "      <th>ids</th>\n",
       "      <th>sentences</th>\n",
       "      <th>OCR</th>\n",
       "    </tr>\n",
       "  </thead>\n",
       "  <tbody>\n",
       "    <tr>\n",
       "      <th>count</th>\n",
       "      <td>50980</td>\n",
       "      <td>50980</td>\n",
       "      <td>50971</td>\n",
       "    </tr>\n",
       "    <tr>\n",
       "      <th>unique</th>\n",
       "      <td>45781</td>\n",
       "      <td>43891</td>\n",
       "      <td>43843</td>\n",
       "    </tr>\n",
       "    <tr>\n",
       "      <th>top</th>\n",
       "      <td>4.25.23.4</td>\n",
       "      <td>śrī-śuka uvāca</td>\n",
       "      <td>Sri-Suka uvaca</td>\n",
       "    </tr>\n",
       "    <tr>\n",
       "      <th>freq</th>\n",
       "      <td>2</td>\n",
       "      <td>346</td>\n",
       "      <td>346</td>\n",
       "    </tr>\n",
       "  </tbody>\n",
       "</table>\n",
       "</div>"
      ],
      "text/plain": [
       "              ids       sentences             OCR\n",
       "count       50980           50980           50971\n",
       "unique      45781           43891           43843\n",
       "top     4.25.23.4  śrī-śuka uvāca  Sri-Suka uvaca\n",
       "freq            2             346             346"
      ]
     },
     "execution_count": 5,
     "metadata": {},
     "output_type": "execute_result"
    }
   ],
   "source": [
    "df.describe()"
   ]
  },
  {
   "cell_type": "code",
   "execution_count": 6,
   "metadata": {
    "collapsed": true
   },
   "outputs": [],
   "source": [
    "filter_values = df['sentences'].str.len() == df['OCR'].str.len()"
   ]
  },
  {
   "cell_type": "code",
   "execution_count": 7,
   "metadata": {},
   "outputs": [
    {
     "data": {
      "text/plain": [
       "50980"
      ]
     },
     "execution_count": 7,
     "metadata": {},
     "output_type": "execute_result"
    }
   ],
   "source": [
    "len(filter_values)"
   ]
  },
  {
   "cell_type": "code",
   "execution_count": 8,
   "metadata": {
    "collapsed": true
   },
   "outputs": [],
   "source": [
    "filtered_df = df[filter_values]"
   ]
  },
  {
   "cell_type": "code",
   "execution_count": 9,
   "metadata": {},
   "outputs": [
    {
     "data": {
      "text/html": [
       "<div>\n",
       "<style scoped>\n",
       "    .dataframe tbody tr th:only-of-type {\n",
       "        vertical-align: middle;\n",
       "    }\n",
       "\n",
       "    .dataframe tbody tr th {\n",
       "        vertical-align: top;\n",
       "    }\n",
       "\n",
       "    .dataframe thead th {\n",
       "        text-align: right;\n",
       "    }\n",
       "</style>\n",
       "<table border=\"1\" class=\"dataframe\">\n",
       "  <thead>\n",
       "    <tr style=\"text-align: right;\">\n",
       "      <th></th>\n",
       "      <th>ids</th>\n",
       "      <th>sentences</th>\n",
       "      <th>OCR</th>\n",
       "    </tr>\n",
       "  </thead>\n",
       "  <tbody>\n",
       "    <tr>\n",
       "      <th>0</th>\n",
       "      <td>1.1.1.1</td>\n",
       "      <td>oṁ namo bhagavate vāsudevāya</td>\n",
       "      <td>om namo bhagavate vasudevaya</td>\n",
       "    </tr>\n",
       "    <tr>\n",
       "      <th>1</th>\n",
       "      <td>1.1.2.1</td>\n",
       "      <td>dharmaḥ projjhita-kaitavo ’tra paramo nirmatsa...</td>\n",
       "      <td>dharmah projjhita-kaitavo 'tra paramo nirmatsa...</td>\n",
       "    </tr>\n",
       "    <tr>\n",
       "      <th>2</th>\n",
       "      <td>1.1.2.2</td>\n",
       "      <td>vedyaṁ vāstavam atra vastu śivadaṁ tāpa-trayon...</td>\n",
       "      <td>vedyam vastavam atra vastu sivadam tapa-trayon...</td>\n",
       "    </tr>\n",
       "    <tr>\n",
       "      <th>5</th>\n",
       "      <td>1.1.3.1</td>\n",
       "      <td>nigama-kalpa-taror galitaṁ phalaṁ</td>\n",
       "      <td>nigama-kalpa-taror galitam phalam</td>\n",
       "    </tr>\n",
       "    <tr>\n",
       "      <th>6</th>\n",
       "      <td>1.1.3.2</td>\n",
       "      <td>śuka-mukhād amṛta-drava-saṁyutam</td>\n",
       "      <td>suka-mukhad amrta-drava-samyutam</td>\n",
       "    </tr>\n",
       "  </tbody>\n",
       "</table>\n",
       "</div>"
      ],
      "text/plain": [
       "       ids                                          sentences  \\\n",
       "0  1.1.1.1                       oṁ namo bhagavate vāsudevāya   \n",
       "1  1.1.2.1  dharmaḥ projjhita-kaitavo ’tra paramo nirmatsa...   \n",
       "2  1.1.2.2  vedyaṁ vāstavam atra vastu śivadaṁ tāpa-trayon...   \n",
       "5  1.1.3.1                  nigama-kalpa-taror galitaṁ phalaṁ   \n",
       "6  1.1.3.2                   śuka-mukhād amṛta-drava-saṁyutam   \n",
       "\n",
       "                                                 OCR  \n",
       "0                       om namo bhagavate vasudevaya  \n",
       "1  dharmah projjhita-kaitavo 'tra paramo nirmatsa...  \n",
       "2  vedyam vastavam atra vastu sivadam tapa-trayon...  \n",
       "5                  nigama-kalpa-taror galitam phalam  \n",
       "6                   suka-mukhad amrta-drava-samyutam  "
      ]
     },
     "execution_count": 9,
     "metadata": {},
     "output_type": "execute_result"
    }
   ],
   "source": [
    "filtered_df.head()"
   ]
  },
  {
   "cell_type": "code",
   "execution_count": 10,
   "metadata": {},
   "outputs": [
    {
     "data": {
      "text/plain": [
       "0.9351510396233818"
      ]
     },
     "execution_count": 10,
     "metadata": {},
     "output_type": "execute_result"
    }
   ],
   "source": [
    "len(filtered_df) / len(df)"
   ]
  },
  {
   "cell_type": "code",
   "execution_count": 11,
   "metadata": {},
   "outputs": [
    {
     "name": "stderr",
     "output_type": "stream",
     "text": [
      "/Users/rbhat/anaconda2/envs/san_ocr_enc_dec/lib/python3.6/site-packages/ipykernel_launcher.py:1: SettingWithCopyWarning: \n",
      "A value is trying to be set on a copy of a slice from a DataFrame.\n",
      "Try using .loc[row_indexer,col_indexer] = value instead\n",
      "\n",
      "See the caveats in the documentation: http://pandas.pydata.org/pandas-docs/stable/indexing.html#indexing-view-versus-copy\n",
      "  \"\"\"Entry point for launching an IPython kernel.\n"
     ]
    }
   ],
   "source": [
    "filtered_df['OCR'] = filtered_df['OCR'].astype(str).str.lower()"
   ]
  },
  {
   "cell_type": "code",
   "execution_count": 12,
   "metadata": {},
   "outputs": [
    {
     "data": {
      "text/plain": [
       "0                         om namo bhagavate vasudevaya\n",
       "1    dharmah projjhita-kaitavo 'tra paramo nirmatsa...\n",
       "2    vedyam vastavam atra vastu sivadam tapa-trayon...\n",
       "5                    nigama-kalpa-taror galitam phalam\n",
       "6                     suka-mukhad amrta-drava-samyutam\n",
       "Name: OCR, dtype: object"
      ]
     },
     "execution_count": 12,
     "metadata": {},
     "output_type": "execute_result"
    }
   ],
   "source": [
    "filtered_df['OCR'].head()"
   ]
  },
  {
   "cell_type": "code",
   "execution_count": 13,
   "metadata": {
    "collapsed": true
   },
   "outputs": [],
   "source": [
    "vocab = set(filtered_df['sentences'].str.cat() + filtered_df['OCR'].str.cat())"
   ]
  },
  {
   "cell_type": "code",
   "execution_count": 14,
   "metadata": {
    "collapsed": true
   },
   "outputs": [],
   "source": [
    "string_lengths = sorted(filtered_df['OCR'].str.len())"
   ]
  },
  {
   "cell_type": "code",
   "execution_count": 15,
   "metadata": {
    "collapsed": true
   },
   "outputs": [],
   "source": [
    "SEQ_LENGTH = int(np.percentile(sorted(string_lengths), 99))\n",
    "VOCAB_SIZE = 56"
   ]
  },
  {
   "cell_type": "code",
   "execution_count": 16,
   "metadata": {},
   "outputs": [
    {
     "data": {
      "text/plain": [
       "42"
      ]
     },
     "execution_count": 16,
     "metadata": {},
     "output_type": "execute_result"
    }
   ],
   "source": [
    "SEQ_LENGTH"
   ]
  },
  {
   "cell_type": "code",
   "execution_count": 17,
   "metadata": {
    "collapsed": true
   },
   "outputs": [],
   "source": [
    "vocab = sorted(vocab)\n",
    "vocab_to_int = {c: i+1 for i, c in enumerate(vocab)}\n",
    "int_to_vocab = {i+1:c for i,c in enumerate(vocab)}"
   ]
  },
  {
   "cell_type": "code",
   "execution_count": 18,
   "metadata": {},
   "outputs": [
    {
     "data": {
      "text/plain": [
       "' '"
      ]
     },
     "execution_count": 18,
     "metadata": {},
     "output_type": "execute_result"
    }
   ],
   "source": [
    "int_to_vocab[1]"
   ]
  },
  {
   "cell_type": "code",
   "execution_count": 19,
   "metadata": {
    "collapsed": true
   },
   "outputs": [],
   "source": [
    "X = filtered_df['OCR'].tolist()"
   ]
  },
  {
   "cell_type": "code",
   "execution_count": 20,
   "metadata": {
    "collapsed": true
   },
   "outputs": [],
   "source": [
    "Y = filtered_df['sentences'].tolist()"
   ]
  },
  {
   "cell_type": "code",
   "execution_count": 21,
   "metadata": {},
   "outputs": [
    {
     "name": "stdout",
     "output_type": "stream",
     "text": [
      "om namo bhagavate vasudevaya\n",
      "oṁ namo bhagavate vāsudevāya\n"
     ]
    }
   ],
   "source": [
    "print(X[0])\n",
    "print(Y[0])"
   ]
  },
  {
   "cell_type": "code",
   "execution_count": 22,
   "metadata": {
    "collapsed": true
   },
   "outputs": [],
   "source": [
    "X_train = []\n",
    "Y_train = []\n",
    "\n",
    "for x,y in zip(X, Y):\n",
    "    \n",
    "    X_train.append(np.array([vocab_to_int[ch] for ch in x]))\n",
    "    Y_train.append(np.array([vocab_to_int[ch] for ch in y]))"
   ]
  },
  {
   "cell_type": "code",
   "execution_count": 23,
   "metadata": {},
   "outputs": [
    {
     "data": {
      "text/plain": [
       "array([26, 24,  1, 25, 12, 24, 26,  1, 13, 19, 12, 18, 12, 33, 12, 31, 16,\n",
       "        1, 33, 12, 30, 32, 15, 16, 33, 12, 34, 12])"
      ]
     },
     "execution_count": 23,
     "metadata": {},
     "output_type": "execute_result"
    }
   ],
   "source": [
    "X_train = np.array(X_train)\n",
    "X_train[0]"
   ]
  },
  {
   "cell_type": "code",
   "execution_count": 24,
   "metadata": {
    "collapsed": true
   },
   "outputs": [],
   "source": [
    "X_train = pad_sequences(X_train, maxlen=SEQ_LENGTH, dtype='int32', padding='post', truncating='post')\n",
    "Y_train = pad_sequences(Y_train, maxlen=SEQ_LENGTH, dtype='int32', padding='post', truncating='post')"
   ]
  },
  {
   "cell_type": "code",
   "execution_count": 25,
   "metadata": {},
   "outputs": [
    {
     "data": {
      "text/plain": [
       "array([26, 24,  1, 25, 12, 24, 26,  1, 13, 19, 12, 18, 12, 33, 12, 31, 16,\n",
       "        1, 33, 12, 30, 32, 15, 16, 33, 12, 34, 12,  0,  0,  0,  0,  0,  0,\n",
       "        0,  0,  0,  0,  0,  0,  0,  0], dtype=int32)"
      ]
     },
     "execution_count": 25,
     "metadata": {},
     "output_type": "execute_result"
    }
   ],
   "source": [
    "X_train[0]"
   ]
  },
  {
   "cell_type": "code",
   "execution_count": 26,
   "metadata": {
    "collapsed": true
   },
   "outputs": [],
   "source": [
    "Y_train = to_categorical(Y_train)"
   ]
  },
  {
   "cell_type": "code",
   "execution_count": 27,
   "metadata": {},
   "outputs": [
    {
     "name": "stdout",
     "output_type": "stream",
     "text": [
      "(47674, 42)\n",
      "(47674, 42, 56)\n"
     ]
    }
   ],
   "source": [
    "print(X_train.shape)\n",
    "print(Y_train.shape)"
   ]
  },
  {
   "cell_type": "code",
   "execution_count": 28,
   "metadata": {},
   "outputs": [
    {
     "name": "stdout",
     "output_type": "stream",
     "text": [
      "_________________________________________________________________\n",
      "Layer (type)                 Output Shape              Param #   \n",
      "=================================================================\n",
      "embedding_1 (Embedding)      (None, 42, 50)            2800      \n",
      "_________________________________________________________________\n",
      "bidirectional_1 (Bidirection (None, 42, 128)           58880     \n",
      "_________________________________________________________________\n",
      "time_distributed_1 (TimeDist (None, 42, 56)            7224      \n",
      "_________________________________________________________________\n",
      "activation_1 (Activation)    (None, 42, 56)            0         \n",
      "=================================================================\n",
      "Total params: 68,904\n",
      "Trainable params: 68,904\n",
      "Non-trainable params: 0\n",
      "_________________________________________________________________\n",
      "None\n"
     ]
    }
   ],
   "source": [
    "model = Sequential()\n",
    "model.add(Embedding(VOCAB_SIZE, 50, input_length=SEQ_LENGTH))\n",
    "model.add(Bidirectional(LSTM(64, return_sequences=True)))\n",
    "model.add(TimeDistributed(Dense(VOCAB_SIZE)))\n",
    "model.add(Activation('softmax'))\n",
    "model.compile(loss=\"categorical_crossentropy\", optimizer=\"adam\", metrics=[\"accuracy\"])\n",
    "print(model.summary())"
   ]
  },
  {
   "cell_type": "code",
   "execution_count": 29,
   "metadata": {},
   "outputs": [
    {
     "name": "stdout",
     "output_type": "stream",
     "text": [
      "Train on 45290 samples, validate on 2384 samples\n",
      "Epoch 1/20\n",
      "45290/45290 [==============================] - 38s 844us/step - loss: 2.1314 - acc: 0.4920 - val_loss: 1.5206 - val_acc: 0.5716\n",
      "Epoch 2/20\n",
      "45290/45290 [==============================] - 37s 823us/step - loss: 0.6613 - acc: 0.8465 - val_loss: 0.2319 - val_acc: 0.9223\n",
      "Epoch 3/20\n",
      "45290/45290 [==============================] - 36s 798us/step - loss: 0.1930 - acc: 0.9299 - val_loss: 0.1687 - val_acc: 0.9347\n",
      "Epoch 4/20\n",
      "45290/45290 [==============================] - 37s 807us/step - loss: 0.1579 - acc: 0.9386 - val_loss: 0.1493 - val_acc: 0.9406\n",
      "Epoch 5/20\n",
      "45290/45290 [==============================] - 38s 837us/step - loss: 0.1431 - acc: 0.9429 - val_loss: 0.1380 - val_acc: 0.9436\n",
      "Epoch 6/20\n",
      "45290/45290 [==============================] - 37s 826us/step - loss: 0.1334 - acc: 0.9459 - val_loss: 0.1291 - val_acc: 0.9467\n",
      "Epoch 7/20\n",
      "45290/45290 [==============================] - 38s 836us/step - loss: 0.1260 - acc: 0.9486 - val_loss: 0.1226 - val_acc: 0.9494\n",
      "Epoch 8/20\n",
      "45290/45290 [==============================] - 40s 873us/step - loss: 0.1202 - acc: 0.9510 - val_loss: 0.1170 - val_acc: 0.9514\n",
      "Epoch 9/20\n",
      "45290/45290 [==============================] - 38s 842us/step - loss: 0.1153 - acc: 0.9528 - val_loss: 0.1127 - val_acc: 0.9530\n",
      "Epoch 10/20\n",
      "45290/45290 [==============================] - 37s 818us/step - loss: 0.1112 - acc: 0.9545 - val_loss: 0.1092 - val_acc: 0.9548\n",
      "Epoch 11/20\n",
      "45290/45290 [==============================] - 36s 794us/step - loss: 0.1075 - acc: 0.9560 - val_loss: 0.1062 - val_acc: 0.9566\n",
      "Epoch 12/20\n",
      "45290/45290 [==============================] - 36s 794us/step - loss: 0.1043 - acc: 0.9573 - val_loss: 0.1036 - val_acc: 0.9573\n",
      "Epoch 13/20\n",
      "45290/45290 [==============================] - 36s 791us/step - loss: 0.1014 - acc: 0.9586 - val_loss: 0.1011 - val_acc: 0.9588\n",
      "Epoch 14/20\n",
      "45290/45290 [==============================] - 39s 866us/step - loss: 0.0988 - acc: 0.9597 - val_loss: 0.0987 - val_acc: 0.9602\n",
      "Epoch 15/20\n",
      "45290/45290 [==============================] - 39s 866us/step - loss: 0.0965 - acc: 0.9609 - val_loss: 0.0964 - val_acc: 0.9611\n",
      "Epoch 16/20\n",
      "45290/45290 [==============================] - 39s 869us/step - loss: 0.0940 - acc: 0.9620 - val_loss: 0.0951 - val_acc: 0.9616\n",
      "Epoch 17/20\n",
      "45290/45290 [==============================] - 39s 862us/step - loss: 0.0921 - acc: 0.9628 - val_loss: 0.0937 - val_acc: 0.9620\n",
      "Epoch 18/20\n",
      "45290/45290 [==============================] - 39s 867us/step - loss: 0.0900 - acc: 0.9638 - val_loss: 0.0915 - val_acc: 0.9635\n",
      "Epoch 19/20\n",
      "45290/45290 [==============================] - 40s 880us/step - loss: 0.0883 - acc: 0.9645 - val_loss: 0.0902 - val_acc: 0.9640\n",
      "Epoch 20/20\n",
      "45290/45290 [==============================] - 39s 860us/step - loss: 0.0866 - acc: 0.9652 - val_loss: 0.0884 - val_acc: 0.9646\n"
     ]
    },
    {
     "data": {
      "text/plain": [
       "<keras.callbacks.History at 0x157ed8be0>"
      ]
     },
     "execution_count": 29,
     "metadata": {},
     "output_type": "execute_result"
    }
   ],
   "source": [
    "model.fit(X_train, Y_train, batch_size=256, verbose=1, epochs=20, validation_split=0.05)"
   ]
  },
  {
   "cell_type": "code",
   "execution_count": 30,
   "metadata": {},
   "outputs": [
    {
     "data": {
      "text/plain": [
       "array([26, 48,  1, 25, 12, 24, 26,  1, 13, 19, 12, 18, 12, 33, 12, 31, 16,\n",
       "        1, 33, 12, 30, 32, 15, 16, 33, 12, 34, 12,  0,  0,  0,  0,  0,  0,\n",
       "        0,  0,  0,  0,  0,  0,  0,  0])"
      ]
     },
     "execution_count": 30,
     "metadata": {},
     "output_type": "execute_result"
    }
   ],
   "source": [
    "prediction = np.argmax(model.predict(X_train[:1]), axis=2)\n",
    "prediction[0]"
   ]
  },
  {
   "cell_type": "code",
   "execution_count": 31,
   "metadata": {},
   "outputs": [
    {
     "name": "stdout",
     "output_type": "stream",
     "text": [
      "oṁ namo bhagavate vasudevaya\n"
     ]
    }
   ],
   "source": [
    "prediction_string = \"\".join([int_to_vocab[c] if c > 0 else '' for c in prediction[0]])\n",
    "print(prediction_string)"
   ]
  },
  {
   "cell_type": "code",
   "execution_count": 32,
   "metadata": {},
   "outputs": [
    {
     "data": {
      "text/plain": [
       "(array([15, 19, 12, 29, 24, 12, 19,  1, 27, 29, 26, 21, 21, 19, 20, 31, 12,\n",
       "         7, 22, 12, 20, 31, 12, 33, 26,  1,  5, 31, 29, 12,  1, 27, 12, 29,\n",
       "        12, 24, 26,  1, 25, 20, 29, 24], dtype=int32),\n",
       " array([15, 19, 12, 29, 24, 12, 45,  1, 27, 29, 26, 21, 21, 19, 20, 31, 12,\n",
       "         7, 22, 12, 20, 31, 12, 33, 26,  1, 55, 31, 29, 12,  1, 27, 12, 29,\n",
       "        12, 24, 26,  1, 25, 20, 29, 24]))"
      ]
     },
     "execution_count": 32,
     "metadata": {},
     "output_type": "execute_result"
    }
   ],
   "source": [
    "X_train[1], np.argmax(Y_train[1], axis=1)"
   ]
  },
  {
   "cell_type": "code",
   "execution_count": 33,
   "metadata": {},
   "outputs": [
    {
     "data": {
      "text/plain": [
       "'om namo bhagavate vasudevaya'"
      ]
     },
     "execution_count": 33,
     "metadata": {},
     "output_type": "execute_result"
    }
   ],
   "source": [
    "X[0]"
   ]
  },
  {
   "cell_type": "code",
   "execution_count": 34,
   "metadata": {},
   "outputs": [
    {
     "data": {
      "text/plain": [
       "'oṁ namo bhagavate vāsudevāya'"
      ]
     },
     "execution_count": 34,
     "metadata": {},
     "output_type": "execute_result"
    }
   ],
   "source": [
    "Y[0]"
   ]
  },
  {
   "cell_type": "code",
   "execution_count": 36,
   "metadata": {},
   "outputs": [
    {
     "name": "stdout",
     "output_type": "stream",
     "text": [
      "test_data_combined.csv\r\n"
     ]
    }
   ],
   "source": [
    "!ls test_data"
   ]
  },
  {
   "cell_type": "code",
   "execution_count": 38,
   "metadata": {},
   "outputs": [],
   "source": [
    "test_df = pd.read_csv('test_data/test_data_combined.csv', encoding='utf-8')"
   ]
  },
  {
   "cell_type": "code",
   "execution_count": 39,
   "metadata": {},
   "outputs": [
    {
     "data": {
      "text/html": [
       "<div>\n",
       "<style scoped>\n",
       "    .dataframe tbody tr th:only-of-type {\n",
       "        vertical-align: middle;\n",
       "    }\n",
       "\n",
       "    .dataframe tbody tr th {\n",
       "        vertical-align: top;\n",
       "    }\n",
       "\n",
       "    .dataframe thead th {\n",
       "        text-align: right;\n",
       "    }\n",
       "</style>\n",
       "<table border=\"1\" class=\"dataframe\">\n",
       "  <thead>\n",
       "    <tr style=\"text-align: right;\">\n",
       "      <th></th>\n",
       "      <th>source</th>\n",
       "      <th>target</th>\n",
       "      <th>origin</th>\n",
       "    </tr>\n",
       "  </thead>\n",
       "  <tbody>\n",
       "    <tr>\n",
       "      <th>0</th>\n",
       "      <td>dhrtarastra uvaca</td>\n",
       "      <td>dhṛtarāṣṭra uvāca</td>\n",
       "      <td>pdf</td>\n",
       "    </tr>\n",
       "    <tr>\n",
       "      <th>1</th>\n",
       "      <td>dharma-ksetre kuru-ksetre samaveta yuyutsavah</td>\n",
       "      <td>dharma-kṣetre kuru-kṣetre samavetā yuyutsavaḥ</td>\n",
       "      <td>pdf</td>\n",
       "    </tr>\n",
       "    <tr>\n",
       "      <th>2</th>\n",
       "      <td>mamakah pandavas caiva kim akurvata sanjaya</td>\n",
       "      <td>māmakāḥ pāṇḍavāś caiva kim akurvata sañjaya</td>\n",
       "      <td>pdf</td>\n",
       "    </tr>\n",
       "    <tr>\n",
       "      <th>3</th>\n",
       "      <td>karpanya-dosopahata-svabhavah</td>\n",
       "      <td>kārpaṇya-doṣopahata-svabhāvaḥ</td>\n",
       "      <td>pdf</td>\n",
       "    </tr>\n",
       "    <tr>\n",
       "      <th>4</th>\n",
       "      <td>prechami tvam dharma-sammudha-cetah</td>\n",
       "      <td>pṛcchāmi tvāṁ dharma-sammūḍha-cetāḥ</td>\n",
       "      <td>pdf</td>\n",
       "    </tr>\n",
       "  </tbody>\n",
       "</table>\n",
       "</div>"
      ],
      "text/plain": [
       "                                          source  \\\n",
       "0                              dhrtarastra uvaca   \n",
       "1  dharma-ksetre kuru-ksetre samaveta yuyutsavah   \n",
       "2    mamakah pandavas caiva kim akurvata sanjaya   \n",
       "3                  karpanya-dosopahata-svabhavah   \n",
       "4            prechami tvam dharma-sammudha-cetah   \n",
       "\n",
       "                                          target origin  \n",
       "0                              dhṛtarāṣṭra uvāca    pdf  \n",
       "1  dharma-kṣetre kuru-kṣetre samavetā yuyutsavaḥ    pdf  \n",
       "2    māmakāḥ pāṇḍavāś caiva kim akurvata sañjaya    pdf  \n",
       "3                  kārpaṇya-doṣopahata-svabhāvaḥ    pdf  \n",
       "4            pṛcchāmi tvāṁ dharma-sammūḍha-cetāḥ    pdf  "
      ]
     },
     "execution_count": 39,
     "metadata": {},
     "output_type": "execute_result"
    }
   ],
   "source": [
    "test_df.head()"
   ]
  },
  {
   "cell_type": "code",
   "execution_count": 40,
   "metadata": {
    "collapsed": true
   },
   "outputs": [],
   "source": [
    "filter_testdf = test_df['source'].str.len() == test_df['target'].str.len()"
   ]
  },
  {
   "cell_type": "code",
   "execution_count": 41,
   "metadata": {},
   "outputs": [
    {
     "data": {
      "text/plain": [
       "0    True\n",
       "1    True\n",
       "2    True\n",
       "3    True\n",
       "4    True\n",
       "dtype: bool"
      ]
     },
     "execution_count": 41,
     "metadata": {},
     "output_type": "execute_result"
    }
   ],
   "source": [
    "filter_testdf.head()"
   ]
  },
  {
   "cell_type": "code",
   "execution_count": 42,
   "metadata": {
    "collapsed": true
   },
   "outputs": [],
   "source": [
    "filter_testdf =  test_df[filter_testdf]"
   ]
  },
  {
   "cell_type": "code",
   "execution_count": 43,
   "metadata": {},
   "outputs": [
    {
     "data": {
      "text/html": [
       "<div>\n",
       "<style scoped>\n",
       "    .dataframe tbody tr th:only-of-type {\n",
       "        vertical-align: middle;\n",
       "    }\n",
       "\n",
       "    .dataframe tbody tr th {\n",
       "        vertical-align: top;\n",
       "    }\n",
       "\n",
       "    .dataframe thead th {\n",
       "        text-align: right;\n",
       "    }\n",
       "</style>\n",
       "<table border=\"1\" class=\"dataframe\">\n",
       "  <thead>\n",
       "    <tr style=\"text-align: right;\">\n",
       "      <th></th>\n",
       "      <th>source</th>\n",
       "      <th>target</th>\n",
       "      <th>origin</th>\n",
       "    </tr>\n",
       "  </thead>\n",
       "  <tbody>\n",
       "    <tr>\n",
       "      <th>0</th>\n",
       "      <td>dhrtarastra uvaca</td>\n",
       "      <td>dhṛtarāṣṭra uvāca</td>\n",
       "      <td>pdf</td>\n",
       "    </tr>\n",
       "    <tr>\n",
       "      <th>1</th>\n",
       "      <td>dharma-ksetre kuru-ksetre samaveta yuyutsavah</td>\n",
       "      <td>dharma-kṣetre kuru-kṣetre samavetā yuyutsavaḥ</td>\n",
       "      <td>pdf</td>\n",
       "    </tr>\n",
       "    <tr>\n",
       "      <th>2</th>\n",
       "      <td>mamakah pandavas caiva kim akurvata sanjaya</td>\n",
       "      <td>māmakāḥ pāṇḍavāś caiva kim akurvata sañjaya</td>\n",
       "      <td>pdf</td>\n",
       "    </tr>\n",
       "    <tr>\n",
       "      <th>3</th>\n",
       "      <td>karpanya-dosopahata-svabhavah</td>\n",
       "      <td>kārpaṇya-doṣopahata-svabhāvaḥ</td>\n",
       "      <td>pdf</td>\n",
       "    </tr>\n",
       "    <tr>\n",
       "      <th>4</th>\n",
       "      <td>prechami tvam dharma-sammudha-cetah</td>\n",
       "      <td>pṛcchāmi tvāṁ dharma-sammūḍha-cetāḥ</td>\n",
       "      <td>pdf</td>\n",
       "    </tr>\n",
       "  </tbody>\n",
       "</table>\n",
       "</div>"
      ],
      "text/plain": [
       "                                          source  \\\n",
       "0                              dhrtarastra uvaca   \n",
       "1  dharma-ksetre kuru-ksetre samaveta yuyutsavah   \n",
       "2    mamakah pandavas caiva kim akurvata sanjaya   \n",
       "3                  karpanya-dosopahata-svabhavah   \n",
       "4            prechami tvam dharma-sammudha-cetah   \n",
       "\n",
       "                                          target origin  \n",
       "0                              dhṛtarāṣṭra uvāca    pdf  \n",
       "1  dharma-kṣetre kuru-kṣetre samavetā yuyutsavaḥ    pdf  \n",
       "2    māmakāḥ pāṇḍavāś caiva kim akurvata sañjaya    pdf  \n",
       "3                  kārpaṇya-doṣopahata-svabhāvaḥ    pdf  \n",
       "4            pṛcchāmi tvāṁ dharma-sammūḍha-cetāḥ    pdf  "
      ]
     },
     "execution_count": 43,
     "metadata": {},
     "output_type": "execute_result"
    }
   ],
   "source": [
    "filter_testdf.head()"
   ]
  },
  {
   "cell_type": "code",
   "execution_count": 46,
   "metadata": {},
   "outputs": [
    {
     "name": "stderr",
     "output_type": "stream",
     "text": [
      "/Users/rbhat/anaconda2/envs/san_ocr_enc_dec/lib/python3.6/site-packages/ipykernel_launcher.py:1: SettingWithCopyWarning: \n",
      "A value is trying to be set on a copy of a slice from a DataFrame.\n",
      "Try using .loc[row_indexer,col_indexer] = value instead\n",
      "\n",
      "See the caveats in the documentation: http://pandas.pydata.org/pandas-docs/stable/indexing.html#indexing-view-versus-copy\n",
      "  \"\"\"Entry point for launching an IPython kernel.\n"
     ]
    }
   ],
   "source": [
    "filter_testdf['source'] = filter_testdf['source'].astype(str).str.lower()"
   ]
  },
  {
   "cell_type": "code",
   "execution_count": 48,
   "metadata": {},
   "outputs": [],
   "source": [
    "X_test = []\n",
    "for x in filter_testdf['source'].tolist():    \n",
    "    X_test.append(np.array([vocab_to_int.get(ch, 0) for ch in x]))\n",
    "\n"
   ]
  },
  {
   "cell_type": "code",
   "execution_count": 49,
   "metadata": {},
   "outputs": [
    {
     "data": {
      "text/plain": [
       "[array([15, 19, 29, 31, 12, 29, 12, 30, 31, 29, 12,  1, 32, 33, 12, 14, 12]),\n",
       " array([15, 19, 12, 29, 24, 12,  7, 22, 30, 16, 31, 29, 16,  1, 22, 32, 29,\n",
       "        32,  7, 22, 30, 16, 31, 29, 16,  1, 30, 12, 24, 12, 33, 16, 31, 12,\n",
       "         1, 34, 32, 34, 32, 31, 30, 12, 33, 12, 19])]"
      ]
     },
     "execution_count": 49,
     "metadata": {},
     "output_type": "execute_result"
    }
   ],
   "source": [
    "X_test[:2]"
   ]
  },
  {
   "cell_type": "code",
   "execution_count": 50,
   "metadata": {
    "collapsed": true
   },
   "outputs": [],
   "source": [
    "X_test = pad_sequences(X_test, maxlen=SEQ_LENGTH, dtype='int32', padding='post', truncating='post')"
   ]
  },
  {
   "cell_type": "code",
   "execution_count": 53,
   "metadata": {},
   "outputs": [
    {
     "name": "stdout",
     "output_type": "stream",
     "text": [
      "299/299 [==============================] - 0s 339us/step\n"
     ]
    }
   ],
   "source": [
    "x_test_pred = model.predict_classes(X_test, verbose=1)"
   ]
  },
  {
   "cell_type": "code",
   "execution_count": 54,
   "metadata": {},
   "outputs": [
    {
     "data": {
      "text/plain": [
       "array([[15, 19, 51, ...,  0,  0,  0],\n",
       "       [15, 19, 12, ..., 31, 30, 12],\n",
       "       [24, 12, 24, ..., 21, 12, 34],\n",
       "       ...,\n",
       "       [42, 12, 29, ..., 53, 20, 50],\n",
       "       [24, 12, 19, ...,  0,  0,  0],\n",
       "       [14, 32, 15, ..., 15, 16, 45]])"
      ]
     },
     "execution_count": 54,
     "metadata": {},
     "output_type": "execute_result"
    }
   ],
   "source": [
    "x_test_pred"
   ]
  },
  {
   "cell_type": "code",
   "execution_count": 57,
   "metadata": {},
   "outputs": [],
   "source": [
    "test_prediction_string =[]\n",
    "for row in x_test_pred:\n",
    "    test_prediction_string.append(\"\".join([int_to_vocab[c] if c > 0 else '' for c in row]))"
   ]
  },
  {
   "cell_type": "code",
   "execution_count": 58,
   "metadata": {},
   "outputs": [
    {
     "data": {
      "text/plain": [
       "['dhṛtārāsṭra uvāca',\n",
       " 'dharma-kṣetre kuru-kṣetre samaveta yuyutsa',\n",
       " 'mamakaḥ paṇḍavaś caiva kim akurvata sañjay',\n",
       " 'karpaṇya-doṣopahata-svabhavaḥ',\n",
       " 'pṛcchāmi tvaṁ dharma-sammudha-cetaḥ',\n",
       " 'yac chreyaḥ syān niścitaṁ bruhi tan me',\n",
       " 'śiṣyas te\\xa0’haṁ sadhi maṁ tvaṁ prapannaṁ',\n",
       " 'śrī-bhagavān uvāca',\n",
       " 'aśocyān anvaśocas tvaṁ prajña-vadāṁś ca bh',\n",
       " 'gatasūn agatāśuṁś ca nanuśocanti paṇḍitaḥ',\n",
       " 'na tv evahaṁ jatu nasaṁ na tvaṁ neme janad',\n",
       " 'na caiva na bhaviṣyamāḥ sarve vayam ataḥ p',\n",
       " 'dehino\\xa0’smin yathā dehe kaumaraṁ yauvānaṁ ',\n",
       " 'tathā dehāntara-praptir dhiras tatra na mu',\n",
       " 'matra-sparśas tu kaunteya sitoṣṇa-sukha-du',\n",
       " 'agamāpayino\\xa0’nityas taṁs titikṣasva bhārat',\n",
       " 'avināsi tu tad viddhi yena sarvam idaṁ tat',\n",
       " 'vināsam avyayasyasya na kaścit kartum ārha',\n",
       " 'na jāyate mriyate va kadācin nayaṁ bhūtvā ',\n",
       " 'ajo nityaḥ sasvato\\xa0’yaṁ puraṇo na hanyate ',\n",
       " 'vasāṁsi jīrṇāni yathā vihaya',\n",
       " 'navani gṛhṇati naro\\xa0’pārāṇi',\n",
       " 'tathā sarirāṇi vihaya jīrṇāny',\n",
       " 'anyāni samyati navani dehi',\n",
       " 'nainaṁ chindanti sastrāṇi nainaṁ dahati pa',\n",
       " 'na cainaṁ kledayanty apo na śoṣayati marut',\n",
       " 'nehabhikrāma-nāso\\xa0’sti pratyavayo na vidyā',\n",
       " 'sv-alpam āpy asya dharmasya trayate mahāto',\n",
       " 'bhogaiśvarya-praśaktānaṁ tayapāhṛta-cetasā',\n",
       " 'vyāvasayātmikā buddhiḥ samadhau na vidhiya',\n",
       " 'karmāṇy evadhikaras te ma phaleṣu kadācana',\n",
       " 'ma karma-phala-hetur bhur ma te saṅgo\\xa0’stv',\n",
       " 'viṣayā vinivartante niraharasya dehināḥ',\n",
       " 'tāni sarvāṇi samyamya yukta āsīta mat-pāra',\n",
       " 'dhyāyato viśayān puṁsaḥ saṅgas teṣupajāyat',\n",
       " 'krodhad bhavati sammohaḥ sammohat smṛti-vi',\n",
       " 'smṛti-bhrāṁsād buddhi-nāśo buddhi-nāsat pr',\n",
       " 'ya niśa sarva-bhūtānaṁ tasyaṁ jagarti samy',\n",
       " 'yasyaṁ jagrati bhūtāni sa niśa paśyato mun',\n",
       " 'na hi kaścit kṣaṇam api jatu tiṣṭhaty akar',\n",
       " 'kāryate hy avasaḥ karma sarvaḥ prakṛti-jai',\n",
       " 'karmendriyāṇi samyamya ya aste manasa smar',\n",
       " 'indriyārthān vimudhātma mithyācaraḥ sa ucy',\n",
       " 'niyataṁ kuru karma tvaṁ karma jyayo hy aka',\n",
       " 'yajñārthat karmaṇo\\xa0’nyatra loko\\xa0’yaṁ karma',\n",
       " 'tad-ārthaṁ karma kaunteya mukta-saṅgaḥ saṁ',\n",
       " 'annad bhavanti bhūtāni parjanyad anna-saṁb',\n",
       " 'ajo\\xa0’pi sann avyayātma bhūtānam iśvaro\\xa0’pi',\n",
       " 'prakṛtiṁ svam adhiṣṭhāya sambhavāmy ātma-m',\n",
       " 'yadā yadā hi dharmasya glānir bhavati bhar',\n",
       " 'abhyutthānam adharmasya tadātmanaṁ sṛṇāmy ',\n",
       " 'paritrāṇāya sadhunaṁ vināśaya ca duskṛtam',\n",
       " 'dharma-saṁsthāpanārthaya sambhavāmi yuge y',\n",
       " 'janma karma ca me divyam evaṁ yo vetti tat',\n",
       " 'tyaktvā dehaṁ punar janma naiti mam eti so',\n",
       " 'ye yathā maṁ prapadyante taṁs tathaiva bhū',\n",
       " 'māma vartmanuvartante manuṣyaḥ partha sarv',\n",
       " 'catur-varṇyaṁ maya sṛṣṭaṁ guṇa-karma-vibhū',\n",
       " 'tasya kartaram api maṁ viddhy akartaram av',\n",
       " 'tad viddhi praṇīpatena pariprasnena sevaya',\n",
       " 'vidya-vināya-sampanne brahmaṇe gavi hastin',\n",
       " 'suni caiva sva-pake ca paṇḍitaḥ sama-darśi',\n",
       " 'ye hi saṁsparśa-ja bhoga duḥkha-yonaya eva',\n",
       " 'ādy-antavantaḥ kaunteya na teṣu ramate bud',\n",
       " 'śrī-bhagavān uvāca',\n",
       " 'anāśritaḥ karma-phalaṁ karyaṁ karma karoti',\n",
       " 'sa sannyāsi ca yogi ca na niragnir na cakr',\n",
       " 'uddhared ātmanātmanaṁ nātmanam avasādayet',\n",
       " 'ātmaiva hy ātmano bandhur ātmaiva ripur at',\n",
       " 'yuktāhara-viharasya yukta-ceṣṭasya karmasu',\n",
       " 'yukta-svāpnavabodhasya yogo bhavati duḥkha',\n",
       " 'sukham atyantikaṁ yat tad buddhi-grahyam a',\n",
       " 'vetti yatra na caivayaṁ sthitaś calati tat',\n",
       " 'yaṁ labdhva caparaṁ labhaṁ manyate nadhikā',\n",
       " 'yasmin sthito na duḥkhena guruṇāpi vicalya',\n",
       " 'tatas tato niyamyaitad ātmany eva vāsaṁ na',\n",
       " 'yo maṁ paśyati sarvatra sarvaṁ ca mayi paś',\n",
       " 'tasyāhaṁ na praṇasyāmi sa ca me na praṇasy',\n",
       " 'tasyāhaṁ nigrahaṁ manye vayor iva su-duṣka',\n",
       " 'prāpya puṇya-kṛtaṁ lokān uṣitva śasvatiḥ s',\n",
       " 'sucināṁ śrīmataṁ gehe yoga-bhraṣṭo\\xa0’bhijay',\n",
       " 'yogīnām api sarveṣaṁ mad-gatenantar-ātmana',\n",
       " 'śrī-bhagavān uvāca',\n",
       " 'manuṣyānaṁ sahaśreṣu kaścid yatati siddhay',\n",
       " 'yatatam āpi siddhānaṁ kaścin maṁ vetti tat',\n",
       " 'bhūmir apo\\xa0’nalo vāyuḥ khaṁ mano buddhir e',\n",
       " 'ahaṅkāra itiyaṁ me bhinna prakṛtir astādha',\n",
       " 'āpareyam itas tv anyaṁ prakṛtiṁ viddhi me ',\n",
       " 'jīva-bhūtaṁ maha-baho yayedaṁ dharyate jag',\n",
       " 'mattaḥ parataraṁ nanyat kijcid asti dhānān',\n",
       " 'mayi sarvam idaṁ protaṁ sutre mani-gaṇa iv',\n",
       " 'raso\\xa0’ham apsu kaunteya prabhasmi śaśī-sur',\n",
       " 'praṇavaḥ sarva-vedeṣu sabdaḥ khe pauruṣaṁ ',\n",
       " 'balaṁ balavataṁ cahaṁ kama-raga-vivarjitam',\n",
       " 'dharmāviruddho bhūteṣu kamo\\xa0’smi bharatārṣ',\n",
       " 'tribhir guṇa-mayair bhavair ebhiḥ sarvaṁ i',\n",
       " 'mohitaṁ nābhijanati mam ebhyaḥ param avyay',\n",
       " 'daivi hy eṣa guṇa-mayi māma mayā duratyaya',\n",
       " 'mam eva ye prapadyante mayam etaṁ taraṇti ',\n",
       " 'na maṁ duskṛtino mudhaḥ prapadyante naradh',\n",
       " 'māyāyāpāhṛta-jjāna āsuraṁ bhavam aśrītāḥ',\n",
       " 'vāsudevaḥ sarvam iti sa mahātma su-durlabh',\n",
       " 'kamais tais tair hṛta-jñānaḥ prapadyante ’',\n",
       " 'taṁ taṁ niyamām asthaya prakṛtya niyataḥ s',\n",
       " 'antavat tu phalaṁ teṣaṁ tad bhavaty alpa-m',\n",
       " 'devān deva-yajo yanti mad-bhakta-yanti mam',\n",
       " 'avyaktaṁ vyaktim apannaṁ manyante mam abud',\n",
       " 'paraṁ bhavam ajananto mamavyayam anuttamam',\n",
       " 'nahaṁ prakāśaḥ sarvasya yoga-maya-savavṛta',\n",
       " 'mugho\\xa0’yaṁ nābhijanati loko mam ajam avyay',\n",
       " 'vedahaṁ samatitāni vartamanāni carjunā',\n",
       " 'bhaviṣyāṇi ca bhūtāni maṁ tu veda na kaśca',\n",
       " 'iccha-dveṣa samutthena dvandva-mohena bhar',\n",
       " 'sarva-bhūtāni sammohaṁ sarge yanti parānta',\n",
       " 'yeṣāṁ tv anta-gataṁ papaṁ janānaṁ puṇya-ka',\n",
       " 'te dvāndva-moha-nirmukta bhajante maṁ dṛḍh',\n",
       " 'anta-kāle ca mam eva smaran muktvā kalevar',\n",
       " 'yaḥ prayati sa mad-bhavaṁ yati nasṭy atra ',\n",
       " 'yaṁ yaṁ vāpi smaran bhavaṁ tyajaty ante ka',\n",
       " 'taṁ tam evaiti kaunteya sada tad-bhava-bhā',\n",
       " 'mam upetya punar janma duḥkhalāyam aśasvat',\n",
       " 'nāpnuvanti mahātmanaḥ saṁsiddhiṁ paramaṁ g',\n",
       " 'a-brahma-bhuvanal lokaḥ punar avartino\\xa0’rj',\n",
       " 'mam upetya tu kaunteya punar janma na vidy',\n",
       " 'rātriṁ yuga-sahasrantaṁ te\\xa0’ho-ratra-vido ',\n",
       " 'bhūta-gramaḥ sa evayaṁ bhūtvā bhūtvā prali',\n",
       " 'rātry-agame\\xa0’vasaḥ partha prabhavaty ahar-',\n",
       " 'paras tasmat tu bhavo\\xa0’nyo\\xa0’vyakto\\xa0’vyakta',\n",
       " 'yaḥ sa sarveṣu bhūteṣu nasyatsu na vināsya',\n",
       " 'rāja-vidyā rāja-guhyaṁ pavitram idam uttam',\n",
       " 'pratyakṣavagamaṁ dharmyaṁ su-sukhaṁ kartum',\n",
       " 'aprāpya maṁ nivartante mṛtyu-saṁsara-vartm',\n",
       " 'māyā tatam idaṁ sarvaṁ jagad avyakta-mūrti',\n",
       " 'mat-sthāni sarva-bhūtāni na cahaṁ teṣv ava',\n",
       " 'na ca mat-sthāni bhūtāni paśya me yogam ai',\n",
       " 'mayādhyākṣeṇa prakṛtiḥ suyate sa-carācaram',\n",
       " 'hetunānena kaunteya jagad viparivartate',\n",
       " 'avajananti maṁ mudha manuṣiṁ tānum aśrītam',\n",
       " 'paraṁ bhavam ajananto mama bhūta-maheśvara',\n",
       " 'moghāsa mogha-karmaṇo mogha-jñāna vicetasa',\n",
       " 'rākṣāsim asūriṁ caiva prakṛtiṁ mohinīṁ srī',\n",
       " 'mahātmanas tu maṁ partha daiviṁ prakṛtim a',\n",
       " 'bhajanty ananya-manaso jhatvā bhūtādim avy',\n",
       " 'satataṁ kīrtayanto maṁ yatantaś ca dṛḍha-v',\n",
       " 'namasyantaś ca maṁ bhaktya nitya-yukta upa',\n",
       " 'pitāham asya jagato mata dhata pitamāhaḥ',\n",
       " 'te taṁ bhuktvā svarga-lokaṁ viśalam',\n",
       " 'kṣiṇe puṇye martya-lokaṁ viśanti',\n",
       " 'evaṁ trayi-dharmam anuprapannā',\n",
       " 'gātāgatāṁ kama-kāma labhānte',\n",
       " 'ananyaś cintayanto maṁ ye janaḥ paryupasat',\n",
       " 'teṣāṁ nityābhiyuktānaṁ yoga-kṣemaṁ vahamy ',\n",
       " 'ye\\xa0’py anya-devata-bhakta yajante śraddhay',\n",
       " 'te\\xa0’pi mam eva kaunteya yajanty avidhi-pur',\n",
       " 'yanti deva-vrata devān pitrn yanti pitṛ-vṛ',\n",
       " 'bhūtāni yanti bhūtejya yanti mad-yajino ’p',\n",
       " 'tad ahaṁ bhakty-upāhṛtam asnāmi prayatātma',\n",
       " 'yat karoṣi yad asnasi yaj juhoṣi dadāsi ya',\n",
       " 'yat tapasyasi kaunteya tat kuruṣva mad-arp',\n",
       " 'samo\\xa0’haṁ sarva-bhūteṣu na me dveṣyo\\xa0’sti ',\n",
       " 'ye bhajanti tu maṁ bhaktyā mayi te teṣu ca',\n",
       " 'api cet su-durācaro bhajate mam ananya-bhā',\n",
       " 'sadhur eva sa mantavyaḥ samyag vyavasito h',\n",
       " 'kṣipraṁ bhavati dharmātma sasvac-chantiṁ n',\n",
       " 'kaunteya pratijanthi na me bhaktaḥ praṇasy',\n",
       " 'maṁ hi pārtha vyapaśritya ye\\xa0’pi syuḥ papa',\n",
       " 'striyo vaiṣyas tathā sudras te\\xa0’pi yanti p',\n",
       " 'kiṁ punar brahmaṇaḥ punya bhakta rajarṣaya',\n",
       " 'anityam asukhaṁ lokam imaṁ prapya bhajasva',\n",
       " 'man-māna bhava mad-bhakto mad-yaji maṁ naṁ',\n",
       " 'mam evaiṣyasi yuktvaivam ātmanaṁ mat-pāray',\n",
       " 'na me viduḥ sura-gaṇaḥ prabhavaṁ na mahārṣ',\n",
       " 'aham ādir hi devanaṁ maharṣiṇaṁ ca sarvasa',\n",
       " 'ahaṁ sarvasya prabhāvo mattaḥ sarvaṁ prava',\n",
       " 'iti mātvā bhajante maṁ budha bhava-samānvi',\n",
       " 'mac-citta mad-gata-praṇa bodhayantaḥ paraś',\n",
       " 'kathayantaś ca maṁ nityaṁ tuṣyanti ca rama',\n",
       " 'teṣāṁ satāta-yuktanaṁ bhajataṁ priti-purva',\n",
       " 'dadāmi buddhi-yogaṁ taṁ yena mam upayanti ',\n",
       " 'teṣām evānukampartham aham ajjana-jaṁ tama',\n",
       " 'arjuna uvāca',\n",
       " 'paraṁ brahma paraṁ dhāma pavitraṁ paramaṁ ',\n",
       " 'puruṣaṁ śasvataṁ divyam ādi-devam ajaṁ vib',\n",
       " 'ahus tvam ṛṣayaḥ sarve devarṣir naradas ta',\n",
       " 'āsito devālo vyasaḥ svayaṁ caiva braviṣi m',\n",
       " 'sarvam etad ṛtaṁ manye yan maṁ vadasi keśa',\n",
       " 'na hi te bhagavān vyaktiṁ vidur deva na da',\n",
       " 'mṛtyuḥ sarva-haraś caham udbhavaś ca bhavi',\n",
       " 'sarva-yoniṣu kaunteya mūrtayaḥ sambhavanti',\n",
       " 'tasāṁ brahma mahād yonir ahaṁ bija-pradaḥ ',\n",
       " 'urdhvaṁ gacchanti sattva-stha madhye tiṣṭḥ',\n",
       " 'jaghānya-guṇa-vṛtti-stha ādho gacchanti ta',\n",
       " 'maṁ ca yo\\xa0’vyabhicareṇa bhakti-yogena seva',\n",
       " 'sa guṇān samatityaitan brahma-bhūyaya kālp',\n",
       " 'brahmaṇo hi pratiṣṭhaham āmṛtasyavyayasya ',\n",
       " 'sasvatasya ca dharmasya sukhasyaikantikasy',\n",
       " 'śrī bhagavān uvāca',\n",
       " 'urdhva-mālam adhaḥ-sakham asvatthaṁ prahur',\n",
       " 'chandaṁsi yasya parṇāni yas taṁ veda sa ve',\n",
       " 'na tad bhāsāyate suryo na śaśaṅko na pavak',\n",
       " 'yad gatvā na nivartante tad dhāma paramaṁ ',\n",
       " 'mamaivaṁśo jīva-loke jīva-bhūtaḥ sanatānaḥ',\n",
       " 'manaḥ śasthānindriyāṇi prakṛti-sthāni kārṣ',\n",
       " 'sarvasya cahaṁ hṛdi sannviṣṭho',\n",
       " 'vedaiś ca sarvair aham eva vedyo',\n",
       " 'vedanta-kṛd veda-vid eva caham',\n",
       " 'sa sarva-vid bhajati maṁ sarva-bhāvena bhū',\n",
       " 'śrī-bhagavān uvāca',\n",
       " 'abhāyaṁ sattva-saṁśuddhir jjāna-yoga-vyava',\n",
       " 'ahiṁsa satyam akrodhas tyagaḥ santir apaiś',\n",
       " 'tejaḥ kṣāma dhṛtiḥ saucam adroho nati-mani',\n",
       " 'bhavanti sampadaṁ daivim abhijatasya bhāra',\n",
       " 'pravṛttiṁ ca nivṛttiṁ ca jana na vidur asū',\n",
       " 'na saucaṁ napi cacaro na satyaṁ teṣu vidyā',\n",
       " 'asatyam apratiṣṭhaṁ te jagad ahur aniśvara',\n",
       " 'āparaspara-sambhūtaṁ kim anyat kāma-haituk',\n",
       " 'etaṁ dṛṣṭim avastabhya nasṭātmano\\xa0’ipa-bud',\n",
       " 'prabhavanty ugra-karmaṇaḥ kṣayaya jagato ’',\n",
       " 'tri-vidhāṁ narakasyedaṁ dvaraṁ nasanam atm',\n",
       " 'kāmaḥ krodhas tathā lobhas tasmad etat tra',\n",
       " 'yaḥ śastra-vidhim utsṛjya vartate kama-kar',\n",
       " 'na sa siddhim avapnoti na sukhaṁ na pāraṁ ',\n",
       " 'samo damas tapaḥ saucaṁ kṣantir arjavam ev',\n",
       " 'jmānaṁ vijmānam astikyaṁ brahma-karma svab',\n",
       " 'sauryaṁ tejo dhṛtir dakṣyaṁ yuddhe capy ap',\n",
       " 'dānam īśvara-bhavaś ca kṣatraṁ karma svabh',\n",
       " 'kṛṣi-go-rakṣya-vanijyaṁ vaiṣya-karma svabh',\n",
       " 'paricaryātmakaṁ karma sudrasyapi svabhāva-',\n",
       " 'sve sve karmāṇy abhirataḥ saṁsiddhiṁ labha',\n",
       " 'sva-karma-nirataḥ siddhiṁ yathā vindati ta',\n",
       " 'sva-karmaṇā tam abhyarcya siddhiṁ vindati ',\n",
       " 'brahma-bhūtaḥ prasannātma na śocati na kāṇ',\n",
       " 'samaḥ sarveṣu bhūteṣu mad-bhaktiṁ labhate ',\n",
       " 'bhaktyā mam abhijanati yavan yaś casmi tat',\n",
       " 'tato maṁ tattvato jmatvā viśate tad-anānta',\n",
       " 'iśvaraḥ sarva-bhūtānāṁ hṛd-deśe\\xa0’rjuna tiṣ',\n",
       " 'bhrāmayān sarva-bhūtāni yantrarudhāni mayā',\n",
       " 'iti te jīaānam akhyataṁ guhyad guhyātāraṁ ',\n",
       " 'vimṛṣyaitad aśeṣena yathecchasi tathā kuru',\n",
       " 'man-māna bhava mad-bhakto mad-yaji maṁ naṁ',\n",
       " 'mam evaiṣyasi satyaṁ te pratijane priyo\\xa0’s',\n",
       " 'sarva-dharmān parityajya mam ekaṁ sarāṇaṁ ',\n",
       " 'ahaṁ tvaṁ sarva-papebhyo mokṣayiṣyāmi ma s',\n",
       " 'ya idaṁ paramaṁ guhyaṁ mad-bhakteṣv abhidh',\n",
       " 'bhaktiṁ mayi paraṁ kṛtvā mam evaiṣyaty asa',\n",
       " 'na ca tasmān manuṣyeṣu kaścin me priya-kṛt',\n",
       " 'arjuna uvāca',\n",
       " 'nasṭo mohaḥ smṛtir labdha tvat-prasadān ma',\n",
       " 'sthito\\xa0’smi gata-sandehaḥ kariṣye vācanaṁ ',\n",
       " 'yatra yogeśvaraḥ kṛṣṇo yatra partho dhānur',\n",
       " 'bhotabhāvyathavatprābiuḥ',\n",
       " 'porātma paramātma ca mukiniṁ parāma gatiḥ',\n",
       " 'yaycḥ puruṣsḥ śiket kṣetrajjiotḥsara eva c',\n",
       " 'yego yogavidaṁ neta oradhanspuruṣeuvārcḥ',\n",
       " 'narasiṁhāvapuḥ riman kejargḥ purṣṣottameḥ',\n",
       " 'vijvakarma manuṣṭvāsta thaviṣṭhaḥ sthāviro',\n",
       " 'orabhotastrikekubdhāṁś oavitreṁ majeālaṁ p',\n",
       " 'viśikāpirameystma carvayceaviniḥśrtsḥ',\n",
       " 'veśurvāsumanīḥ satycḥ camātmā’sammitaḥ saṁ',\n",
       " 'ametaḥ dajvāra sthamur vararcho mahātāpaḥ',\n",
       " 'velo vedavidavyargo vedargo vedavīt kaviḥ',\n",
       " 'cāvurātma carurvyaheḥ cavurdaṁstrajcaturtḥ',\n",
       " 'bhajierñr bhojinam thoeś caḥśiṣṇurjagedadi',\n",
       " 'magho vijryo jera vigvayonīhi punarvāsuḥ',\n",
       " 'velyo vaidyśḥ sedaycgī viraha mādhavo madh',\n",
       " 'hirāgyaṇabhaḥ sutāpaḥ padmanibhaḥ prajipat',\n",
       " 'amtyuḥ sarvadṛḥ siṁhaḥ sandhata sandhimān',\n",
       " 'ivartano nivpttātma saṁvṣtaḥ sampeamardana',\n",
       " 'cathārta sathytaḥ sidhurjañhurṇārayago nar',\n",
       " 'iddhārthaḥ siddhasathalpaḥ siddhidaḥ siddh',\n",
       " 'vardhano vārdhamanatca viviktaḥ śrutiśigāc',\n",
       " 'cubhujo durdharo vigmī makendro vāsudo vas',\n",
       " 'naikartpo behadrapaḥ lipiviṣṭaḥ prakñjānāḥ',\n",
       " 'ojeṣṭejodyutidharaḥ prakaritma pratipānaḥ',\n",
       " 'udirṇaḥ sarvataścakṣuraṇīśaḥ sagvatasthira',\n",
       " 'arciṣmanārcitaḥ kumbho viduddhātma vidoḍha',\n",
       " 'kamadevaḥ kamopalaḥ kiṁs kṣotab kytigāmcḥ',\n",
       " 'mahākramo mahakarma mahatera mahoragaḥ',\n",
       " 'manojivastīrthakaro vasurera vasupradcḥ',\n",
       " 'vasuprado vāsudevo vāsurvasumanś haviḥ',\n",
       " 'kamāhi kamakpthantal kimaḥ kamapeadaḥ prab',\n",
       " 'yugīdikdyugivarto naikmiyo mahījānāḥ',\n",
       " 'acyutaḥ prathitaḥ pragaḥ peanado vāsavanuj',\n",
       " 'pan nidhirādhiśchanamapeamattaḥ pratiśchit',\n",
       " 'chandaḥ skandadharo dhūryo varado vāyurāha',\n",
       " 'viṣudero bṛhadbhinurididevaḥ puraṇdaraḥ',\n",
       " 'inukalaḥ jatvartaḥ padmī padmānibhekṣaṇaḥ',\n",
       " 'mahārddhiripddho veddhitṁsṁ makkṣo gṛruḍad',\n",
       " 'carvalikpapalakṣaṇyo lakṣmivan samitijjiyā',\n",
       " 'vikiro rolito margo herurdimodaraḥ śihaḥ',\n",
       " 'kāragaṁ karagaṁ karta vikarta gṛhaṇo guhāḥ',\n",
       " 'vjavāsiyo vyavasthinaḥ saṁsthanaḥ sthanado',\n",
       " 'vailunthaḥ puruṣaḥ prīṇaḥ praṇadaḥ peanava',\n",
       " 'tuḥ sudārjaiṇaḥ kilaḥ parameṣṭhī parigraha',\n",
       " 'nalkṣarraṇemirṇakṣatet kyamaḥ kṣimaḥ samīḥ',\n",
       " 'vatsaro vatsalo vatsi ratnagarbho dhaneṣva',\n",
       " 'śartrābhātābhṛdbhckea kapindro bharidakṣiṇ',\n",
       " 'mahāvārgho govindśhḥ suṣeṅsḥ kanakaṅged',\n",
       " 'cudhanya khaṇḍaparajirdśruṇo draviṇāpradeḥ']"
      ]
     },
     "execution_count": 58,
     "metadata": {},
     "output_type": "execute_result"
    }
   ],
   "source": [
    "test_prediction_string"
   ]
  },
  {
   "cell_type": "code",
   "execution_count": null,
   "metadata": {
    "collapsed": true
   },
   "outputs": [],
   "source": []
  }
 ],
 "metadata": {
  "anaconda-cloud": {},
  "kernelspec": {
   "display_name": "Python 3",
   "language": "python",
   "name": "python3"
  },
  "language_info": {
   "codemirror_mode": {
    "name": "ipython",
    "version": 3
   },
   "file_extension": ".py",
   "mimetype": "text/x-python",
   "name": "python",
   "nbconvert_exporter": "python",
   "pygments_lexer": "ipython3",
   "version": "3.6.2"
  }
 },
 "nbformat": 4,
 "nbformat_minor": 1
}
