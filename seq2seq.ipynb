{
 "cells": [
  {
   "cell_type": "code",
   "execution_count": 1,
   "metadata": {
    "collapsed": true
   },
   "outputs": [],
   "source": [
    "import pandas as pd\n",
    "import numpy as np\n",
    "\n",
    "np.random.seed(1)"
   ]
  },
  {
   "cell_type": "code",
   "execution_count": 2,
   "metadata": {},
   "outputs": [
    {
     "name": "stderr",
     "output_type": "stream",
     "text": [
      "Using TensorFlow backend.\n"
     ]
    }
   ],
   "source": [
    "from keras.preprocessing.sequence import pad_sequences\n",
    "from keras.models import Sequential\n",
    "from keras.layers.core import Dense, Activation, Dropout\n",
    "from keras.layers.recurrent import LSTM, SimpleRNN\n",
    "from keras.layers.wrappers import TimeDistributed\n",
    "from keras.layers.embeddings import Embedding\n",
    "from keras.utils.np_utils import to_categorical\n",
    "from keras.layers import Bidirectional"
   ]
  },
  {
   "cell_type": "code",
   "execution_count": 3,
   "metadata": {
    "collapsed": true
   },
   "outputs": [],
   "source": [
    "df = pd.read_csv('train_data/eng_train.csv', encoding='utf-8')"
   ]
  },
  {
   "cell_type": "code",
   "execution_count": 4,
   "metadata": {},
   "outputs": [
    {
     "data": {
      "text/html": [
       "<div>\n",
       "<style scoped>\n",
       "    .dataframe tbody tr th:only-of-type {\n",
       "        vertical-align: middle;\n",
       "    }\n",
       "\n",
       "    .dataframe tbody tr th {\n",
       "        vertical-align: top;\n",
       "    }\n",
       "\n",
       "    .dataframe thead th {\n",
       "        text-align: right;\n",
       "    }\n",
       "</style>\n",
       "<table border=\"1\" class=\"dataframe\">\n",
       "  <thead>\n",
       "    <tr style=\"text-align: right;\">\n",
       "      <th></th>\n",
       "      <th>ids</th>\n",
       "      <th>sentences</th>\n",
       "      <th>OCR</th>\n",
       "    </tr>\n",
       "  </thead>\n",
       "  <tbody>\n",
       "    <tr>\n",
       "      <th>0</th>\n",
       "      <td>1.1.1.1</td>\n",
       "      <td>oṁ namo bhagavate vāsudevāya</td>\n",
       "      <td>om namo bhagavate vasudevaya</td>\n",
       "    </tr>\n",
       "    <tr>\n",
       "      <th>1</th>\n",
       "      <td>1.1.2.1</td>\n",
       "      <td>dharmaḥ projjhita-kaitavo ’tra paramo nirmatsa...</td>\n",
       "      <td>dharmah projjhita-kaitavo 'tra paramo nirmatsa...</td>\n",
       "    </tr>\n",
       "    <tr>\n",
       "      <th>2</th>\n",
       "      <td>1.1.2.2</td>\n",
       "      <td>vedyaṁ vāstavam atra vastu śivadaṁ tāpa-trayon...</td>\n",
       "      <td>vedyam vastavam atra vastu sivadam tapa-trayon...</td>\n",
       "    </tr>\n",
       "    <tr>\n",
       "      <th>3</th>\n",
       "      <td>1.1.2.3</td>\n",
       "      <td>śrīmad-bhāgavate mahā-muni-kṛte kiṁ vā parair ...</td>\n",
       "      <td>Ssrimad-bhagavate maha-muni-krte kim va parair...</td>\n",
       "    </tr>\n",
       "    <tr>\n",
       "      <th>4</th>\n",
       "      <td>1.1.2.4</td>\n",
       "      <td>sadyo hṛdy avarudhyate ’tra kṛtibhiḥ śuśrūṣubh...</td>\n",
       "      <td>sadyo hrdy avarudhyate 'tra krtibhih sugsrusub...</td>\n",
       "    </tr>\n",
       "    <tr>\n",
       "      <th>5</th>\n",
       "      <td>1.1.3.1</td>\n",
       "      <td>nigama-kalpa-taror galitaṁ phalaṁ</td>\n",
       "      <td>nigama-kalpa-taror galitam phalam</td>\n",
       "    </tr>\n",
       "    <tr>\n",
       "      <th>6</th>\n",
       "      <td>1.1.3.2</td>\n",
       "      <td>śuka-mukhād amṛta-drava-saṁyutam</td>\n",
       "      <td>suka-mukhad amrta-drava-samyutam</td>\n",
       "    </tr>\n",
       "    <tr>\n",
       "      <th>7</th>\n",
       "      <td>1.1.3.3</td>\n",
       "      <td>pibata bhāgavataṁ rasam ālayam</td>\n",
       "      <td>pibata bhagavatam rasam alayam</td>\n",
       "    </tr>\n",
       "    <tr>\n",
       "      <th>8</th>\n",
       "      <td>1.1.3.4</td>\n",
       "      <td>muhur aho rasikā bhuvi bhāvukāḥ</td>\n",
       "      <td>muhur aho rasika bhuvi bhavukah</td>\n",
       "    </tr>\n",
       "    <tr>\n",
       "      <th>9</th>\n",
       "      <td>1.1.4.1</td>\n",
       "      <td>naimiṣe ’nimiṣa-kṣetre</td>\n",
       "      <td>naimise 'nimisa-ksetre</td>\n",
       "    </tr>\n",
       "    <tr>\n",
       "      <th>10</th>\n",
       "      <td>1.1.4.2</td>\n",
       "      <td>ṛṣayaḥ śaunakādayaḥ</td>\n",
       "      <td>rsayah saunakadayah</td>\n",
       "    </tr>\n",
       "    <tr>\n",
       "      <th>11</th>\n",
       "      <td>1.1.4.3</td>\n",
       "      <td>satraṁ svargāya lokāya</td>\n",
       "      <td>satram svargaya lokaya</td>\n",
       "    </tr>\n",
       "    <tr>\n",
       "      <th>12</th>\n",
       "      <td>1.1.4.4</td>\n",
       "      <td>sahasra-samam āsata</td>\n",
       "      <td>sahasra-samam asata</td>\n",
       "    </tr>\n",
       "    <tr>\n",
       "      <th>13</th>\n",
       "      <td>1.1.5.1</td>\n",
       "      <td>ta ekadā tu munayaḥ</td>\n",
       "      <td>ta ekada tu munayah</td>\n",
       "    </tr>\n",
       "    <tr>\n",
       "      <th>14</th>\n",
       "      <td>1.1.5.2</td>\n",
       "      <td>prātar huta-hutāgnayaḥ</td>\n",
       "      <td>pratar huta-hutagnayah</td>\n",
       "    </tr>\n",
       "    <tr>\n",
       "      <th>15</th>\n",
       "      <td>1.1.5.3</td>\n",
       "      <td>sat-kṛtaṁ sūtam āsīnaṁ</td>\n",
       "      <td>sat-krtam sutam asinam</td>\n",
       "    </tr>\n",
       "    <tr>\n",
       "      <th>16</th>\n",
       "      <td>1.1.5.4</td>\n",
       "      <td>papracchur idam ādarāt</td>\n",
       "      <td>papracchur idam adarat</td>\n",
       "    </tr>\n",
       "    <tr>\n",
       "      <th>17</th>\n",
       "      <td>1.1.6.1</td>\n",
       "      <td>ṛṣaya ūcuḥ</td>\n",
       "      <td>rsaya ucuh</td>\n",
       "    </tr>\n",
       "    <tr>\n",
       "      <th>18</th>\n",
       "      <td>1.1.7.1</td>\n",
       "      <td>yāni veda-vidāṁ śreṣṭho</td>\n",
       "      <td>yani veda-vidam srestho</td>\n",
       "    </tr>\n",
       "    <tr>\n",
       "      <th>19</th>\n",
       "      <td>1.1.7.2</td>\n",
       "      <td>bhagavān bādarāyaṇaḥ</td>\n",
       "      <td>bhagavan badarayanah</td>\n",
       "    </tr>\n",
       "  </tbody>\n",
       "</table>\n",
       "</div>"
      ],
      "text/plain": [
       "        ids                                          sentences  \\\n",
       "0   1.1.1.1                       oṁ namo bhagavate vāsudevāya   \n",
       "1   1.1.2.1  dharmaḥ projjhita-kaitavo ’tra paramo nirmatsa...   \n",
       "2   1.1.2.2  vedyaṁ vāstavam atra vastu śivadaṁ tāpa-trayon...   \n",
       "3   1.1.2.3  śrīmad-bhāgavate mahā-muni-kṛte kiṁ vā parair ...   \n",
       "4   1.1.2.4  sadyo hṛdy avarudhyate ’tra kṛtibhiḥ śuśrūṣubh...   \n",
       "5   1.1.3.1                  nigama-kalpa-taror galitaṁ phalaṁ   \n",
       "6   1.1.3.2                   śuka-mukhād amṛta-drava-saṁyutam   \n",
       "7   1.1.3.3                     pibata bhāgavataṁ rasam ālayam   \n",
       "8   1.1.3.4                    muhur aho rasikā bhuvi bhāvukāḥ   \n",
       "9   1.1.4.1                             naimiṣe ’nimiṣa-kṣetre   \n",
       "10  1.1.4.2                                ṛṣayaḥ śaunakādayaḥ   \n",
       "11  1.1.4.3                             satraṁ svargāya lokāya   \n",
       "12  1.1.4.4                                sahasra-samam āsata   \n",
       "13  1.1.5.1                                ta ekadā tu munayaḥ   \n",
       "14  1.1.5.2                             prātar huta-hutāgnayaḥ   \n",
       "15  1.1.5.3                             sat-kṛtaṁ sūtam āsīnaṁ   \n",
       "16  1.1.5.4                             papracchur idam ādarāt   \n",
       "17  1.1.6.1                                         ṛṣaya ūcuḥ   \n",
       "18  1.1.7.1                            yāni veda-vidāṁ śreṣṭho   \n",
       "19  1.1.7.2                               bhagavān bādarāyaṇaḥ   \n",
       "\n",
       "                                                  OCR  \n",
       "0                        om namo bhagavate vasudevaya  \n",
       "1   dharmah projjhita-kaitavo 'tra paramo nirmatsa...  \n",
       "2   vedyam vastavam atra vastu sivadam tapa-trayon...  \n",
       "3   Ssrimad-bhagavate maha-muni-krte kim va parair...  \n",
       "4   sadyo hrdy avarudhyate 'tra krtibhih sugsrusub...  \n",
       "5                   nigama-kalpa-taror galitam phalam  \n",
       "6                    suka-mukhad amrta-drava-samyutam  \n",
       "7                      pibata bhagavatam rasam alayam  \n",
       "8                     muhur aho rasika bhuvi bhavukah  \n",
       "9                              naimise 'nimisa-ksetre  \n",
       "10                                rsayah saunakadayah  \n",
       "11                             satram svargaya lokaya  \n",
       "12                                sahasra-samam asata  \n",
       "13                                ta ekada tu munayah  \n",
       "14                             pratar huta-hutagnayah  \n",
       "15                             sat-krtam sutam asinam  \n",
       "16                             papracchur idam adarat  \n",
       "17                                         rsaya ucuh  \n",
       "18                            yani veda-vidam srestho  \n",
       "19                               bhagavan badarayanah  "
      ]
     },
     "execution_count": 4,
     "metadata": {},
     "output_type": "execute_result"
    }
   ],
   "source": [
    "df.head(20)"
   ]
  },
  {
   "cell_type": "code",
   "execution_count": 5,
   "metadata": {},
   "outputs": [
    {
     "data": {
      "text/html": [
       "<div>\n",
       "<style scoped>\n",
       "    .dataframe tbody tr th:only-of-type {\n",
       "        vertical-align: middle;\n",
       "    }\n",
       "\n",
       "    .dataframe tbody tr th {\n",
       "        vertical-align: top;\n",
       "    }\n",
       "\n",
       "    .dataframe thead th {\n",
       "        text-align: right;\n",
       "    }\n",
       "</style>\n",
       "<table border=\"1\" class=\"dataframe\">\n",
       "  <thead>\n",
       "    <tr style=\"text-align: right;\">\n",
       "      <th></th>\n",
       "      <th>ids</th>\n",
       "      <th>sentences</th>\n",
       "      <th>OCR</th>\n",
       "    </tr>\n",
       "  </thead>\n",
       "  <tbody>\n",
       "    <tr>\n",
       "      <th>count</th>\n",
       "      <td>50980</td>\n",
       "      <td>50980</td>\n",
       "      <td>50971</td>\n",
       "    </tr>\n",
       "    <tr>\n",
       "      <th>unique</th>\n",
       "      <td>45781</td>\n",
       "      <td>43891</td>\n",
       "      <td>43843</td>\n",
       "    </tr>\n",
       "    <tr>\n",
       "      <th>top</th>\n",
       "      <td>4.29.14.4</td>\n",
       "      <td>śrī-śuka uvāca</td>\n",
       "      <td>Sri-Suka uvaca</td>\n",
       "    </tr>\n",
       "    <tr>\n",
       "      <th>freq</th>\n",
       "      <td>2</td>\n",
       "      <td>346</td>\n",
       "      <td>346</td>\n",
       "    </tr>\n",
       "  </tbody>\n",
       "</table>\n",
       "</div>"
      ],
      "text/plain": [
       "              ids       sentences             OCR\n",
       "count       50980           50980           50971\n",
       "unique      45781           43891           43843\n",
       "top     4.29.14.4  śrī-śuka uvāca  Sri-Suka uvaca\n",
       "freq            2             346             346"
      ]
     },
     "execution_count": 5,
     "metadata": {},
     "output_type": "execute_result"
    }
   ],
   "source": [
    "df.describe()"
   ]
  },
  {
   "cell_type": "code",
   "execution_count": 6,
   "metadata": {
    "collapsed": true
   },
   "outputs": [],
   "source": [
    "filter_values = df['sentences'].str.len() == df['OCR'].str.len()"
   ]
  },
  {
   "cell_type": "code",
   "execution_count": 7,
   "metadata": {},
   "outputs": [
    {
     "data": {
      "text/plain": [
       "50980"
      ]
     },
     "execution_count": 7,
     "metadata": {},
     "output_type": "execute_result"
    }
   ],
   "source": [
    "len(filter_values)"
   ]
  },
  {
   "cell_type": "code",
   "execution_count": 8,
   "metadata": {
    "collapsed": true
   },
   "outputs": [],
   "source": [
    "filtered_df = df[filter_values]"
   ]
  },
  {
   "cell_type": "code",
   "execution_count": 9,
   "metadata": {},
   "outputs": [
    {
     "data": {
      "text/html": [
       "<div>\n",
       "<style scoped>\n",
       "    .dataframe tbody tr th:only-of-type {\n",
       "        vertical-align: middle;\n",
       "    }\n",
       "\n",
       "    .dataframe tbody tr th {\n",
       "        vertical-align: top;\n",
       "    }\n",
       "\n",
       "    .dataframe thead th {\n",
       "        text-align: right;\n",
       "    }\n",
       "</style>\n",
       "<table border=\"1\" class=\"dataframe\">\n",
       "  <thead>\n",
       "    <tr style=\"text-align: right;\">\n",
       "      <th></th>\n",
       "      <th>ids</th>\n",
       "      <th>sentences</th>\n",
       "      <th>OCR</th>\n",
       "    </tr>\n",
       "  </thead>\n",
       "  <tbody>\n",
       "    <tr>\n",
       "      <th>0</th>\n",
       "      <td>1.1.1.1</td>\n",
       "      <td>oṁ namo bhagavate vāsudevāya</td>\n",
       "      <td>om namo bhagavate vasudevaya</td>\n",
       "    </tr>\n",
       "    <tr>\n",
       "      <th>1</th>\n",
       "      <td>1.1.2.1</td>\n",
       "      <td>dharmaḥ projjhita-kaitavo ’tra paramo nirmatsa...</td>\n",
       "      <td>dharmah projjhita-kaitavo 'tra paramo nirmatsa...</td>\n",
       "    </tr>\n",
       "    <tr>\n",
       "      <th>2</th>\n",
       "      <td>1.1.2.2</td>\n",
       "      <td>vedyaṁ vāstavam atra vastu śivadaṁ tāpa-trayon...</td>\n",
       "      <td>vedyam vastavam atra vastu sivadam tapa-trayon...</td>\n",
       "    </tr>\n",
       "    <tr>\n",
       "      <th>5</th>\n",
       "      <td>1.1.3.1</td>\n",
       "      <td>nigama-kalpa-taror galitaṁ phalaṁ</td>\n",
       "      <td>nigama-kalpa-taror galitam phalam</td>\n",
       "    </tr>\n",
       "    <tr>\n",
       "      <th>6</th>\n",
       "      <td>1.1.3.2</td>\n",
       "      <td>śuka-mukhād amṛta-drava-saṁyutam</td>\n",
       "      <td>suka-mukhad amrta-drava-samyutam</td>\n",
       "    </tr>\n",
       "  </tbody>\n",
       "</table>\n",
       "</div>"
      ],
      "text/plain": [
       "       ids                                          sentences  \\\n",
       "0  1.1.1.1                       oṁ namo bhagavate vāsudevāya   \n",
       "1  1.1.2.1  dharmaḥ projjhita-kaitavo ’tra paramo nirmatsa...   \n",
       "2  1.1.2.2  vedyaṁ vāstavam atra vastu śivadaṁ tāpa-trayon...   \n",
       "5  1.1.3.1                  nigama-kalpa-taror galitaṁ phalaṁ   \n",
       "6  1.1.3.2                   śuka-mukhād amṛta-drava-saṁyutam   \n",
       "\n",
       "                                                 OCR  \n",
       "0                       om namo bhagavate vasudevaya  \n",
       "1  dharmah projjhita-kaitavo 'tra paramo nirmatsa...  \n",
       "2  vedyam vastavam atra vastu sivadam tapa-trayon...  \n",
       "5                  nigama-kalpa-taror galitam phalam  \n",
       "6                   suka-mukhad amrta-drava-samyutam  "
      ]
     },
     "execution_count": 9,
     "metadata": {},
     "output_type": "execute_result"
    }
   ],
   "source": [
    "filtered_df.head()"
   ]
  },
  {
   "cell_type": "code",
   "execution_count": 10,
   "metadata": {},
   "outputs": [
    {
     "data": {
      "text/plain": [
       "0.9351510396233818"
      ]
     },
     "execution_count": 10,
     "metadata": {},
     "output_type": "execute_result"
    }
   ],
   "source": [
    "len(filtered_df) / len(df)"
   ]
  },
  {
   "cell_type": "code",
   "execution_count": 11,
   "metadata": {},
   "outputs": [
    {
     "name": "stderr",
     "output_type": "stream",
     "text": [
      "/Users/rbhat/anaconda2/envs/san_ocr_enc_dec/lib/python3.6/site-packages/ipykernel_launcher.py:1: SettingWithCopyWarning: \n",
      "A value is trying to be set on a copy of a slice from a DataFrame.\n",
      "Try using .loc[row_indexer,col_indexer] = value instead\n",
      "\n",
      "See the caveats in the documentation: http://pandas.pydata.org/pandas-docs/stable/indexing.html#indexing-view-versus-copy\n",
      "  \"\"\"Entry point for launching an IPython kernel.\n"
     ]
    }
   ],
   "source": [
    "filtered_df['OCR'] = filtered_df['OCR'].astype(str).str.lower()"
   ]
  },
  {
   "cell_type": "code",
   "execution_count": 12,
   "metadata": {},
   "outputs": [
    {
     "data": {
      "text/plain": [
       "0                         om namo bhagavate vasudevaya\n",
       "1    dharmah projjhita-kaitavo 'tra paramo nirmatsa...\n",
       "2    vedyam vastavam atra vastu sivadam tapa-trayon...\n",
       "5                    nigama-kalpa-taror galitam phalam\n",
       "6                     suka-mukhad amrta-drava-samyutam\n",
       "Name: OCR, dtype: object"
      ]
     },
     "execution_count": 12,
     "metadata": {},
     "output_type": "execute_result"
    }
   ],
   "source": [
    "filtered_df['OCR'].head()"
   ]
  },
  {
   "cell_type": "code",
   "execution_count": 13,
   "metadata": {
    "collapsed": true
   },
   "outputs": [],
   "source": [
    "vocab = set(filtered_df['sentences'].str.cat() + filtered_df['OCR'].str.cat())"
   ]
  },
  {
   "cell_type": "code",
   "execution_count": 14,
   "metadata": {
    "collapsed": true
   },
   "outputs": [],
   "source": [
    "string_lengths = sorted(filtered_df['OCR'].str.len())"
   ]
  },
  {
   "cell_type": "code",
   "execution_count": 15,
   "metadata": {
    "collapsed": true
   },
   "outputs": [],
   "source": [
    "SEQ_LENGTH = int(np.percentile(sorted(string_lengths), 99.5))\n",
    "VOCAB_SIZE = 56"
   ]
  },
  {
   "cell_type": "code",
   "execution_count": 17,
   "metadata": {},
   "outputs": [],
   "source": [
    "SEQ_LENGTH = 100"
   ]
  },
  {
   "cell_type": "code",
   "execution_count": 18,
   "metadata": {
    "collapsed": true
   },
   "outputs": [],
   "source": [
    "vocab = sorted(vocab)\n",
    "vocab_to_int = {c: i+1 for i, c in enumerate(vocab)}\n",
    "int_to_vocab = {i+1:c for i,c in enumerate(vocab)}"
   ]
  },
  {
   "cell_type": "code",
   "execution_count": 19,
   "metadata": {},
   "outputs": [
    {
     "data": {
      "text/plain": [
       "' '"
      ]
     },
     "execution_count": 19,
     "metadata": {},
     "output_type": "execute_result"
    }
   ],
   "source": [
    "int_to_vocab[1]"
   ]
  },
  {
   "cell_type": "code",
   "execution_count": 20,
   "metadata": {
    "collapsed": true
   },
   "outputs": [],
   "source": [
    "X = filtered_df['OCR'].tolist()"
   ]
  },
  {
   "cell_type": "code",
   "execution_count": 21,
   "metadata": {
    "collapsed": true
   },
   "outputs": [],
   "source": [
    "Y = filtered_df['sentences'].tolist()"
   ]
  },
  {
   "cell_type": "code",
   "execution_count": 22,
   "metadata": {},
   "outputs": [
    {
     "name": "stdout",
     "output_type": "stream",
     "text": [
      "om namo bhagavate vasudevaya\n",
      "oṁ namo bhagavate vāsudevāya\n"
     ]
    }
   ],
   "source": [
    "print(X[0])\n",
    "print(Y[0])"
   ]
  },
  {
   "cell_type": "code",
   "execution_count": 23,
   "metadata": {
    "collapsed": true
   },
   "outputs": [],
   "source": [
    "X_train = []\n",
    "Y_train = []\n",
    "\n",
    "for x,y in zip(X, Y):\n",
    "    \n",
    "    X_train.append(np.array([vocab_to_int[ch] for ch in x]))\n",
    "    Y_train.append(np.array([vocab_to_int[ch] for ch in y]))"
   ]
  },
  {
   "cell_type": "code",
   "execution_count": 24,
   "metadata": {},
   "outputs": [
    {
     "data": {
      "text/plain": [
       "array([26, 24,  1, 25, 12, 24, 26,  1, 13, 19, 12, 18, 12, 33, 12, 31, 16,\n",
       "        1, 33, 12, 30, 32, 15, 16, 33, 12, 34, 12])"
      ]
     },
     "execution_count": 24,
     "metadata": {},
     "output_type": "execute_result"
    }
   ],
   "source": [
    "X_train = np.array(X_train)\n",
    "X_train[0]"
   ]
  },
  {
   "cell_type": "code",
   "execution_count": 25,
   "metadata": {
    "collapsed": true
   },
   "outputs": [],
   "source": [
    "X_train = pad_sequences(X_train, maxlen=SEQ_LENGTH, dtype='int32', padding='post', truncating='post')\n",
    "Y_train = pad_sequences(Y_train, maxlen=SEQ_LENGTH, dtype='int32', padding='post', truncating='post')"
   ]
  },
  {
   "cell_type": "code",
   "execution_count": 26,
   "metadata": {},
   "outputs": [
    {
     "data": {
      "text/plain": [
       "array([26, 24,  1, 25, 12, 24, 26,  1, 13, 19, 12, 18, 12, 33, 12, 31, 16,\n",
       "        1, 33, 12, 30, 32, 15, 16, 33, 12, 34, 12,  0,  0,  0,  0,  0,  0,\n",
       "        0,  0,  0,  0,  0,  0,  0,  0,  0,  0,  0,  0,  0,  0,  0,  0,  0,\n",
       "        0,  0,  0,  0,  0,  0,  0,  0,  0,  0,  0,  0,  0,  0,  0,  0,  0,\n",
       "        0,  0,  0,  0,  0,  0,  0,  0,  0,  0,  0,  0,  0,  0,  0,  0,  0,\n",
       "        0,  0,  0,  0,  0,  0,  0,  0,  0,  0,  0,  0,  0,  0,  0],\n",
       "      dtype=int32)"
      ]
     },
     "execution_count": 26,
     "metadata": {},
     "output_type": "execute_result"
    }
   ],
   "source": [
    "X_train[0]"
   ]
  },
  {
   "cell_type": "code",
   "execution_count": 27,
   "metadata": {
    "collapsed": true
   },
   "outputs": [],
   "source": [
    "Y_train = to_categorical(Y_train)"
   ]
  },
  {
   "cell_type": "code",
   "execution_count": 28,
   "metadata": {},
   "outputs": [
    {
     "name": "stdout",
     "output_type": "stream",
     "text": [
      "(47674, 100)\n",
      "(47674, 100, 56)\n"
     ]
    }
   ],
   "source": [
    "print(X_train.shape)\n",
    "print(Y_train.shape)"
   ]
  },
  {
   "cell_type": "code",
   "execution_count": 29,
   "metadata": {},
   "outputs": [
    {
     "name": "stdout",
     "output_type": "stream",
     "text": [
      "_________________________________________________________________\n",
      "Layer (type)                 Output Shape              Param #   \n",
      "=================================================================\n",
      "embedding_1 (Embedding)      (None, 100, 50)           2800      \n",
      "_________________________________________________________________\n",
      "bidirectional_1 (Bidirection (None, 100, 128)          58880     \n",
      "_________________________________________________________________\n",
      "time_distributed_1 (TimeDist (None, 100, 56)           7224      \n",
      "_________________________________________________________________\n",
      "activation_1 (Activation)    (None, 100, 56)           0         \n",
      "=================================================================\n",
      "Total params: 68,904\n",
      "Trainable params: 68,904\n",
      "Non-trainable params: 0\n",
      "_________________________________________________________________\n",
      "None\n"
     ]
    }
   ],
   "source": [
    "model = Sequential()\n",
    "model.add(Embedding(VOCAB_SIZE, 50, input_length=SEQ_LENGTH))\n",
    "model.add(Bidirectional(LSTM(64, return_sequences=True)))\n",
    "model.add(TimeDistributed(Dense(VOCAB_SIZE)))\n",
    "model.add(Activation('softmax'))\n",
    "model.compile(loss=\"categorical_crossentropy\", optimizer=\"adam\", metrics=[\"accuracy\"])\n",
    "print(model.summary())"
   ]
  },
  {
   "cell_type": "code",
   "execution_count": 30,
   "metadata": {},
   "outputs": [
    {
     "name": "stdout",
     "output_type": "stream",
     "text": [
      "Train on 45290 samples, validate on 2384 samples\n",
      "Epoch 1/50\n",
      "45290/45290 [==============================] - 97s 2ms/step - loss: 1.1890 - acc: 0.7696 - val_loss: 0.7722 - val_acc: 0.7982\n",
      "Epoch 2/50\n",
      "45290/45290 [==============================] - 93s 2ms/step - loss: 0.6954 - acc: 0.8165 - val_loss: 0.5061 - val_acc: 0.8812\n",
      "Epoch 3/50\n",
      "45290/45290 [==============================] - 97s 2ms/step - loss: 0.2710 - acc: 0.9408 - val_loss: 0.1272 - val_acc: 0.9648\n",
      "Epoch 4/50\n",
      "45290/45290 [==============================] - 99s 2ms/step - loss: 0.1010 - acc: 0.9674 - val_loss: 0.0858 - val_acc: 0.9682\n",
      "Epoch 5/50\n",
      "45290/45290 [==============================] - 98s 2ms/step - loss: 0.0793 - acc: 0.9704 - val_loss: 0.0741 - val_acc: 0.9711\n",
      "Epoch 6/50\n",
      "45290/45290 [==============================] - 106s 2ms/step - loss: 0.0704 - acc: 0.9724 - val_loss: 0.0675 - val_acc: 0.9729\n",
      "Epoch 7/50\n",
      "45290/45290 [==============================] - 98s 2ms/step - loss: 0.0648 - acc: 0.9742 - val_loss: 0.0629 - val_acc: 0.9746\n",
      "Epoch 8/50\n",
      "45290/45290 [==============================] - 99s 2ms/step - loss: 0.0608 - acc: 0.9756 - val_loss: 0.0596 - val_acc: 0.9760\n",
      "Epoch 9/50\n",
      "45290/45290 [==============================] - 100s 2ms/step - loss: 0.0579 - acc: 0.9768 - val_loss: 0.0569 - val_acc: 0.9770\n",
      "Epoch 10/50\n",
      "45290/45290 [==============================] - 101s 2ms/step - loss: 0.0556 - acc: 0.9777 - val_loss: 0.0549 - val_acc: 0.9776\n",
      "Epoch 11/50\n",
      "45290/45290 [==============================] - 101s 2ms/step - loss: 0.0537 - acc: 0.9784 - val_loss: 0.0530 - val_acc: 0.9784\n",
      "Epoch 12/50\n",
      "45290/45290 [==============================] - 106s 2ms/step - loss: 0.0521 - acc: 0.9789 - val_loss: 0.0514 - val_acc: 0.9791\n",
      "Epoch 13/50\n",
      "45290/45290 [==============================] - 102s 2ms/step - loss: 0.0506 - acc: 0.9795 - val_loss: 0.0500 - val_acc: 0.9797\n",
      "Epoch 14/50\n",
      "45290/45290 [==============================] - 98s 2ms/step - loss: 0.0492 - acc: 0.9801 - val_loss: 0.0486 - val_acc: 0.9802\n",
      "Epoch 15/50\n",
      "45290/45290 [==============================] - 103s 2ms/step - loss: 0.0479 - acc: 0.9806 - val_loss: 0.0473 - val_acc: 0.9808\n",
      "Epoch 16/50\n",
      "45290/45290 [==============================] - 101s 2ms/step - loss: 0.0467 - acc: 0.9810 - val_loss: 0.0464 - val_acc: 0.9810\n",
      "Epoch 17/50\n",
      "45290/45290 [==============================] - 101s 2ms/step - loss: 0.0457 - acc: 0.9814 - val_loss: 0.0456 - val_acc: 0.9814\n",
      "Epoch 18/50\n",
      "45290/45290 [==============================] - 106s 2ms/step - loss: 0.0447 - acc: 0.9818 - val_loss: 0.0446 - val_acc: 0.9818\n",
      "Epoch 19/50\n",
      "45290/45290 [==============================] - 114s 3ms/step - loss: 0.0439 - acc: 0.9821 - val_loss: 0.0438 - val_acc: 0.9823\n",
      "Epoch 20/50\n",
      "45290/45290 [==============================] - 109s 2ms/step - loss: 0.0430 - acc: 0.9825 - val_loss: 0.0430 - val_acc: 0.9825\n",
      "Epoch 21/50\n",
      "45290/45290 [==============================] - 106s 2ms/step - loss: 0.0424 - acc: 0.9827 - val_loss: 0.0423 - val_acc: 0.9830\n",
      "Epoch 22/50\n",
      "45290/45290 [==============================] - 103s 2ms/step - loss: 0.0416 - acc: 0.9831 - val_loss: 0.0417 - val_acc: 0.9831\n",
      "Epoch 23/50\n",
      "45290/45290 [==============================] - 102s 2ms/step - loss: 0.0409 - acc: 0.9834 - val_loss: 0.0412 - val_acc: 0.9835\n",
      "Epoch 24/50\n",
      "45290/45290 [==============================] - 98s 2ms/step - loss: 0.0403 - acc: 0.9836 - val_loss: 0.0408 - val_acc: 0.9834\n",
      "Epoch 25/50\n",
      "45290/45290 [==============================] - 103s 2ms/step - loss: 0.0398 - acc: 0.9839 - val_loss: 0.0403 - val_acc: 0.9837\n",
      "Epoch 26/50\n",
      "45290/45290 [==============================] - 97s 2ms/step - loss: 0.0392 - acc: 0.9841 - val_loss: 0.0397 - val_acc: 0.9840\n",
      "Epoch 27/50\n",
      "45290/45290 [==============================] - 98s 2ms/step - loss: 0.0386 - acc: 0.9843 - val_loss: 0.0391 - val_acc: 0.9841\n",
      "Epoch 28/50\n",
      "45290/45290 [==============================] - 100s 2ms/step - loss: 0.0382 - acc: 0.9845 - val_loss: 0.0387 - val_acc: 0.9843\n",
      "Epoch 29/50\n",
      "45290/45290 [==============================] - 97s 2ms/step - loss: 0.0377 - acc: 0.9848 - val_loss: 0.0383 - val_acc: 0.9844\n",
      "Epoch 30/50\n",
      "45290/45290 [==============================] - 98s 2ms/step - loss: 0.0372 - acc: 0.9850 - val_loss: 0.0379 - val_acc: 0.9846\n",
      "Epoch 31/50\n",
      "45290/45290 [==============================] - 97s 2ms/step - loss: 0.0367 - acc: 0.9852 - val_loss: 0.0376 - val_acc: 0.9848\n",
      "Epoch 32/50\n",
      "45290/45290 [==============================] - 97s 2ms/step - loss: 0.0363 - acc: 0.9854 - val_loss: 0.0371 - val_acc: 0.9850\n",
      "Epoch 33/50\n",
      "45290/45290 [==============================] - 99s 2ms/step - loss: 0.0358 - acc: 0.9856 - val_loss: 0.0369 - val_acc: 0.9851\n",
      "Epoch 34/50\n",
      "45290/45290 [==============================] - 98s 2ms/step - loss: 0.0355 - acc: 0.9858 - val_loss: 0.0366 - val_acc: 0.9853\n",
      "Epoch 35/50\n",
      "45290/45290 [==============================] - 98s 2ms/step - loss: 0.0351 - acc: 0.9859 - val_loss: 0.0365 - val_acc: 0.9854\n",
      "Epoch 36/50\n",
      "45290/45290 [==============================] - 104s 2ms/step - loss: 0.0347 - acc: 0.9861 - val_loss: 0.0366 - val_acc: 0.9852\n",
      "Epoch 37/50\n",
      "45290/45290 [==============================] - 101s 2ms/step - loss: 0.0343 - acc: 0.9863 - val_loss: 0.0360 - val_acc: 0.9855\n",
      "Epoch 38/50\n",
      "45290/45290 [==============================] - 116s 3ms/step - loss: 0.0341 - acc: 0.9864 - val_loss: 0.0358 - val_acc: 0.9858\n",
      "Epoch 39/50\n",
      "45290/45290 [==============================] - 104s 2ms/step - loss: 0.0337 - acc: 0.9866 - val_loss: 0.0355 - val_acc: 0.9858\n",
      "Epoch 40/50\n",
      "45290/45290 [==============================] - 102s 2ms/step - loss: 0.0333 - acc: 0.9867 - val_loss: 0.0354 - val_acc: 0.9858\n",
      "Epoch 41/50\n",
      "45290/45290 [==============================] - 104s 2ms/step - loss: 0.0330 - acc: 0.9868 - val_loss: 0.0350 - val_acc: 0.9861\n",
      "Epoch 42/50\n",
      "45290/45290 [==============================] - 103s 2ms/step - loss: 0.0328 - acc: 0.9870 - val_loss: 0.0350 - val_acc: 0.9861\n",
      "Epoch 43/50\n",
      "45290/45290 [==============================] - 107s 2ms/step - loss: 0.0326 - acc: 0.9871 - val_loss: 0.0349 - val_acc: 0.9861\n",
      "Epoch 44/50\n",
      "45290/45290 [==============================] - 108s 2ms/step - loss: 0.0322 - acc: 0.9872 - val_loss: 0.0346 - val_acc: 0.9864\n",
      "Epoch 45/50\n",
      "45290/45290 [==============================] - 104s 2ms/step - loss: 0.0319 - acc: 0.9874 - val_loss: 0.0348 - val_acc: 0.9865\n",
      "Epoch 46/50\n",
      "45290/45290 [==============================] - 109s 2ms/step - loss: 0.0316 - acc: 0.9875 - val_loss: 0.0342 - val_acc: 0.9864\n",
      "Epoch 47/50\n",
      "45290/45290 [==============================] - 106s 2ms/step - loss: 0.0313 - acc: 0.9876 - val_loss: 0.0340 - val_acc: 0.9866\n",
      "Epoch 48/50\n",
      "45290/45290 [==============================] - 103s 2ms/step - loss: 0.0311 - acc: 0.9877 - val_loss: 0.0341 - val_acc: 0.9866\n",
      "Epoch 49/50\n",
      "45290/45290 [==============================] - 101s 2ms/step - loss: 0.0308 - acc: 0.9878 - val_loss: 0.0341 - val_acc: 0.9865\n",
      "Epoch 50/50\n",
      "45290/45290 [==============================] - 108s 2ms/step - loss: 0.0306 - acc: 0.9879 - val_loss: 0.0337 - val_acc: 0.9868\n"
     ]
    },
    {
     "data": {
      "text/plain": [
       "<keras.callbacks.History at 0x117422ba8>"
      ]
     },
     "execution_count": 30,
     "metadata": {},
     "output_type": "execute_result"
    }
   ],
   "source": [
    "model.fit(X_train, Y_train, batch_size=256, verbose=1, epochs=50, validation_split=0.05)"
   ]
  },
  {
   "cell_type": "code",
   "execution_count": 39,
   "metadata": {},
   "outputs": [
    {
     "data": {
      "text/plain": [
       "array([26, 48,  1, 25, 12, 24, 26,  1, 13, 19, 12, 18, 12, 33, 12, 31, 16,\n",
       "        1, 33, 40, 30, 32, 15, 16, 33, 40, 34, 12,  0,  0,  0,  0,  0,  0,\n",
       "        0,  0,  0,  0,  0,  0,  0,  0,  0,  0,  0,  0,  0,  0,  0,  0,  0,\n",
       "        0,  0,  0,  0,  0,  0,  0,  0,  0,  0,  0,  0,  0,  0,  0,  0,  0,\n",
       "        0,  0,  0,  0,  0,  0,  0,  0,  0,  0,  0,  0,  0,  0,  0,  0,  0,\n",
       "        0,  0,  0,  0,  0,  0,  0,  0,  0,  0,  0,  0,  0,  0,  0])"
      ]
     },
     "execution_count": 39,
     "metadata": {},
     "output_type": "execute_result"
    }
   ],
   "source": [
    "prediction = np.argmax(model.predict(X_train[:1]), axis=2)\n",
    "prediction[0]"
   ]
  },
  {
   "cell_type": "code",
   "execution_count": 40,
   "metadata": {},
   "outputs": [
    {
     "name": "stdout",
     "output_type": "stream",
     "text": [
      "oṁ namo bhagavate vāsudevāya\n"
     ]
    }
   ],
   "source": [
    "prediction_string = \"\".join([int_to_vocab[c] if c > 0 else '' for c in prediction[0]])\n",
    "print(prediction_string)"
   ]
  },
  {
   "cell_type": "code",
   "execution_count": 41,
   "metadata": {},
   "outputs": [
    {
     "data": {
      "text/plain": [
       "(array([15, 19, 12, 29, 24, 12, 19,  1, 27, 29, 26, 21, 21, 19, 20, 31, 12,\n",
       "         7, 22, 12, 20, 31, 12, 33, 26,  1,  5, 31, 29, 12,  1, 27, 12, 29,\n",
       "        12, 24, 26,  1, 25, 20, 29, 24, 12, 31, 30, 12, 29, 12, 25, 12, 24,\n",
       "         1, 30, 12, 31, 12, 24,  0,  0,  0,  0,  0,  0,  0,  0,  0,  0,  0,\n",
       "         0,  0,  0,  0,  0,  0,  0,  0,  0,  0,  0,  0,  0,  0,  0,  0,  0,\n",
       "         0,  0,  0,  0,  0,  0,  0,  0,  0,  0,  0,  0,  0,  0,  0],\n",
       "       dtype=int32),\n",
       " array([15, 19, 12, 29, 24, 12, 45,  1, 27, 29, 26, 21, 21, 19, 20, 31, 12,\n",
       "         7, 22, 12, 20, 31, 12, 33, 26,  1, 55, 31, 29, 12,  1, 27, 12, 29,\n",
       "        12, 24, 26,  1, 25, 20, 29, 24, 12, 31, 30, 12, 29, 40, 50, 40, 48,\n",
       "         1, 30, 12, 31, 40, 48,  0,  0,  0,  0,  0,  0,  0,  0,  0,  0,  0,\n",
       "         0,  0,  0,  0,  0,  0,  0,  0,  0,  0,  0,  0,  0,  0,  0,  0,  0,\n",
       "         0,  0,  0,  0,  0,  0,  0,  0,  0,  0,  0,  0,  0,  0,  0]))"
      ]
     },
     "execution_count": 41,
     "metadata": {},
     "output_type": "execute_result"
    }
   ],
   "source": [
    "X_train[1], np.argmax(Y_train[1], axis=1)"
   ]
  },
  {
   "cell_type": "code",
   "execution_count": 42,
   "metadata": {},
   "outputs": [
    {
     "data": {
      "text/plain": [
       "'om namo bhagavate vasudevaya'"
      ]
     },
     "execution_count": 42,
     "metadata": {},
     "output_type": "execute_result"
    }
   ],
   "source": [
    "X[0]"
   ]
  },
  {
   "cell_type": "code",
   "execution_count": 43,
   "metadata": {},
   "outputs": [
    {
     "data": {
      "text/plain": [
       "'oṁ namo bhagavate vāsudevāya'"
      ]
     },
     "execution_count": 43,
     "metadata": {},
     "output_type": "execute_result"
    }
   ],
   "source": [
    "Y[0]"
   ]
  },
  {
   "cell_type": "code",
   "execution_count": 44,
   "metadata": {},
   "outputs": [
    {
     "name": "stdout",
     "output_type": "stream",
     "text": [
      "test_data_combined.csv\r\n"
     ]
    }
   ],
   "source": [
    "!ls test_data"
   ]
  },
  {
   "cell_type": "code",
   "execution_count": 45,
   "metadata": {
    "collapsed": true
   },
   "outputs": [],
   "source": [
    "test_df = pd.read_csv('test_data/test_data_combined.csv', encoding='utf-8')"
   ]
  },
  {
   "cell_type": "code",
   "execution_count": 46,
   "metadata": {},
   "outputs": [
    {
     "data": {
      "text/html": [
       "<div>\n",
       "<style scoped>\n",
       "    .dataframe tbody tr th:only-of-type {\n",
       "        vertical-align: middle;\n",
       "    }\n",
       "\n",
       "    .dataframe tbody tr th {\n",
       "        vertical-align: top;\n",
       "    }\n",
       "\n",
       "    .dataframe thead th {\n",
       "        text-align: right;\n",
       "    }\n",
       "</style>\n",
       "<table border=\"1\" class=\"dataframe\">\n",
       "  <thead>\n",
       "    <tr style=\"text-align: right;\">\n",
       "      <th></th>\n",
       "      <th>source</th>\n",
       "      <th>target</th>\n",
       "      <th>origin</th>\n",
       "    </tr>\n",
       "  </thead>\n",
       "  <tbody>\n",
       "    <tr>\n",
       "      <th>0</th>\n",
       "      <td>dhrtarastra uvaca</td>\n",
       "      <td>dhṛtarāṣṭra uvāca</td>\n",
       "      <td>pdf</td>\n",
       "    </tr>\n",
       "    <tr>\n",
       "      <th>1</th>\n",
       "      <td>dharma-ksetre kuru-ksetre samaveta yuyutsavah</td>\n",
       "      <td>dharma-kṣetre kuru-kṣetre samavetā yuyutsavaḥ</td>\n",
       "      <td>pdf</td>\n",
       "    </tr>\n",
       "    <tr>\n",
       "      <th>2</th>\n",
       "      <td>mamakah pandavas caiva kim akurvata sanjaya</td>\n",
       "      <td>māmakāḥ pāṇḍavāś caiva kim akurvata sañjaya</td>\n",
       "      <td>pdf</td>\n",
       "    </tr>\n",
       "    <tr>\n",
       "      <th>3</th>\n",
       "      <td>karpanya-dosopahata-svabhavah</td>\n",
       "      <td>kārpaṇya-doṣopahata-svabhāvaḥ</td>\n",
       "      <td>pdf</td>\n",
       "    </tr>\n",
       "    <tr>\n",
       "      <th>4</th>\n",
       "      <td>prechami tvam dharma-sammudha-cetah</td>\n",
       "      <td>pṛcchāmi tvāṁ dharma-sammūḍha-cetāḥ</td>\n",
       "      <td>pdf</td>\n",
       "    </tr>\n",
       "  </tbody>\n",
       "</table>\n",
       "</div>"
      ],
      "text/plain": [
       "                                          source  \\\n",
       "0                              dhrtarastra uvaca   \n",
       "1  dharma-ksetre kuru-ksetre samaveta yuyutsavah   \n",
       "2    mamakah pandavas caiva kim akurvata sanjaya   \n",
       "3                  karpanya-dosopahata-svabhavah   \n",
       "4            prechami tvam dharma-sammudha-cetah   \n",
       "\n",
       "                                          target origin  \n",
       "0                              dhṛtarāṣṭra uvāca    pdf  \n",
       "1  dharma-kṣetre kuru-kṣetre samavetā yuyutsavaḥ    pdf  \n",
       "2    māmakāḥ pāṇḍavāś caiva kim akurvata sañjaya    pdf  \n",
       "3                  kārpaṇya-doṣopahata-svabhāvaḥ    pdf  \n",
       "4            pṛcchāmi tvāṁ dharma-sammūḍha-cetāḥ    pdf  "
      ]
     },
     "execution_count": 46,
     "metadata": {},
     "output_type": "execute_result"
    }
   ],
   "source": [
    "test_df.head()"
   ]
  },
  {
   "cell_type": "code",
   "execution_count": 47,
   "metadata": {
    "collapsed": true
   },
   "outputs": [],
   "source": [
    "filter_testdf = test_df['source'].str.len() == test_df['target'].str.len()"
   ]
  },
  {
   "cell_type": "code",
   "execution_count": 48,
   "metadata": {},
   "outputs": [
    {
     "data": {
      "text/plain": [
       "0    True\n",
       "1    True\n",
       "2    True\n",
       "3    True\n",
       "4    True\n",
       "dtype: bool"
      ]
     },
     "execution_count": 48,
     "metadata": {},
     "output_type": "execute_result"
    }
   ],
   "source": [
    "filter_testdf.head()"
   ]
  },
  {
   "cell_type": "code",
   "execution_count": 49,
   "metadata": {
    "collapsed": true
   },
   "outputs": [],
   "source": [
    "filter_testdf =  test_df[filter_testdf]"
   ]
  },
  {
   "cell_type": "code",
   "execution_count": 50,
   "metadata": {},
   "outputs": [
    {
     "data": {
      "text/html": [
       "<div>\n",
       "<style scoped>\n",
       "    .dataframe tbody tr th:only-of-type {\n",
       "        vertical-align: middle;\n",
       "    }\n",
       "\n",
       "    .dataframe tbody tr th {\n",
       "        vertical-align: top;\n",
       "    }\n",
       "\n",
       "    .dataframe thead th {\n",
       "        text-align: right;\n",
       "    }\n",
       "</style>\n",
       "<table border=\"1\" class=\"dataframe\">\n",
       "  <thead>\n",
       "    <tr style=\"text-align: right;\">\n",
       "      <th></th>\n",
       "      <th>source</th>\n",
       "      <th>target</th>\n",
       "      <th>origin</th>\n",
       "    </tr>\n",
       "  </thead>\n",
       "  <tbody>\n",
       "    <tr>\n",
       "      <th>0</th>\n",
       "      <td>dhrtarastra uvaca</td>\n",
       "      <td>dhṛtarāṣṭra uvāca</td>\n",
       "      <td>pdf</td>\n",
       "    </tr>\n",
       "    <tr>\n",
       "      <th>1</th>\n",
       "      <td>dharma-ksetre kuru-ksetre samaveta yuyutsavah</td>\n",
       "      <td>dharma-kṣetre kuru-kṣetre samavetā yuyutsavaḥ</td>\n",
       "      <td>pdf</td>\n",
       "    </tr>\n",
       "    <tr>\n",
       "      <th>2</th>\n",
       "      <td>mamakah pandavas caiva kim akurvata sanjaya</td>\n",
       "      <td>māmakāḥ pāṇḍavāś caiva kim akurvata sañjaya</td>\n",
       "      <td>pdf</td>\n",
       "    </tr>\n",
       "    <tr>\n",
       "      <th>3</th>\n",
       "      <td>karpanya-dosopahata-svabhavah</td>\n",
       "      <td>kārpaṇya-doṣopahata-svabhāvaḥ</td>\n",
       "      <td>pdf</td>\n",
       "    </tr>\n",
       "    <tr>\n",
       "      <th>4</th>\n",
       "      <td>prechami tvam dharma-sammudha-cetah</td>\n",
       "      <td>pṛcchāmi tvāṁ dharma-sammūḍha-cetāḥ</td>\n",
       "      <td>pdf</td>\n",
       "    </tr>\n",
       "  </tbody>\n",
       "</table>\n",
       "</div>"
      ],
      "text/plain": [
       "                                          source  \\\n",
       "0                              dhrtarastra uvaca   \n",
       "1  dharma-ksetre kuru-ksetre samaveta yuyutsavah   \n",
       "2    mamakah pandavas caiva kim akurvata sanjaya   \n",
       "3                  karpanya-dosopahata-svabhavah   \n",
       "4            prechami tvam dharma-sammudha-cetah   \n",
       "\n",
       "                                          target origin  \n",
       "0                              dhṛtarāṣṭra uvāca    pdf  \n",
       "1  dharma-kṣetre kuru-kṣetre samavetā yuyutsavaḥ    pdf  \n",
       "2    māmakāḥ pāṇḍavāś caiva kim akurvata sañjaya    pdf  \n",
       "3                  kārpaṇya-doṣopahata-svabhāvaḥ    pdf  \n",
       "4            pṛcchāmi tvāṁ dharma-sammūḍha-cetāḥ    pdf  "
      ]
     },
     "execution_count": 50,
     "metadata": {},
     "output_type": "execute_result"
    }
   ],
   "source": [
    "filter_testdf.head()"
   ]
  },
  {
   "cell_type": "code",
   "execution_count": 51,
   "metadata": {},
   "outputs": [
    {
     "name": "stderr",
     "output_type": "stream",
     "text": [
      "/Users/rbhat/anaconda2/envs/san_ocr_enc_dec/lib/python3.6/site-packages/ipykernel_launcher.py:1: SettingWithCopyWarning: \n",
      "A value is trying to be set on a copy of a slice from a DataFrame.\n",
      "Try using .loc[row_indexer,col_indexer] = value instead\n",
      "\n",
      "See the caveats in the documentation: http://pandas.pydata.org/pandas-docs/stable/indexing.html#indexing-view-versus-copy\n",
      "  \"\"\"Entry point for launching an IPython kernel.\n"
     ]
    }
   ],
   "source": [
    "filter_testdf['source'] = filter_testdf['source'].astype(str).str.lower()"
   ]
  },
  {
   "cell_type": "code",
   "execution_count": 52,
   "metadata": {
    "collapsed": true
   },
   "outputs": [],
   "source": [
    "X_test = []\n",
    "for x in filter_testdf['source'].tolist():    \n",
    "    X_test.append(np.array([vocab_to_int.get(ch, 0) for ch in x]))\n",
    "\n"
   ]
  },
  {
   "cell_type": "code",
   "execution_count": 53,
   "metadata": {},
   "outputs": [
    {
     "data": {
      "text/plain": [
       "[array([15, 19, 29, 31, 12, 29, 12, 30, 31, 29, 12,  1, 32, 33, 12, 14, 12]),\n",
       " array([15, 19, 12, 29, 24, 12,  7, 22, 30, 16, 31, 29, 16,  1, 22, 32, 29,\n",
       "        32,  7, 22, 30, 16, 31, 29, 16,  1, 30, 12, 24, 12, 33, 16, 31, 12,\n",
       "         1, 34, 32, 34, 32, 31, 30, 12, 33, 12, 19])]"
      ]
     },
     "execution_count": 53,
     "metadata": {},
     "output_type": "execute_result"
    }
   ],
   "source": [
    "X_test[:2]"
   ]
  },
  {
   "cell_type": "code",
   "execution_count": 54,
   "metadata": {
    "collapsed": true
   },
   "outputs": [],
   "source": [
    "X_test = pad_sequences(X_test, maxlen=SEQ_LENGTH, dtype='int32', padding='post', truncating='post')"
   ]
  },
  {
   "cell_type": "code",
   "execution_count": 55,
   "metadata": {},
   "outputs": [
    {
     "name": "stdout",
     "output_type": "stream",
     "text": [
      "299/299 [==============================] - 0s 769us/step\n"
     ]
    }
   ],
   "source": [
    "x_test_pred = model.predict_classes(X_test, verbose=1)"
   ]
  },
  {
   "cell_type": "code",
   "execution_count": 56,
   "metadata": {},
   "outputs": [
    {
     "data": {
      "text/plain": [
       "array([[15, 19, 51, ...,  0,  0,  0],\n",
       "       [15, 19, 12, ...,  0,  0,  0],\n",
       "       [24, 12, 24, ...,  0,  0,  0],\n",
       "       ...,\n",
       "       [42, 12, 29, ...,  0,  0,  0],\n",
       "       [24, 12, 19, ...,  0,  0,  0],\n",
       "       [14, 43, 15, ...,  0,  0,  0]])"
      ]
     },
     "execution_count": 56,
     "metadata": {},
     "output_type": "execute_result"
    }
   ],
   "source": [
    "x_test_pred"
   ]
  },
  {
   "cell_type": "code",
   "execution_count": 57,
   "metadata": {
    "collapsed": true
   },
   "outputs": [],
   "source": [
    "test_prediction_string =[]\n",
    "for row in x_test_pred:\n",
    "    test_prediction_string.append(\"\".join([int_to_vocab[c] if c > 0 else '' for c in row]))"
   ]
  },
  {
   "cell_type": "code",
   "execution_count": 58,
   "metadata": {},
   "outputs": [
    {
     "data": {
      "text/plain": [
       "['dhṛtarāṣṭra uvāca',\n",
       " 'dharma-kṣetre kuru-kṣetre samaveta yuyutsavaḥ',\n",
       " 'mamakaḥ paṇḍavaś caiva kim akurvata sañjaya',\n",
       " 'karpaṇya-doṣopahata-svabhāvaḥ',\n",
       " 'pṛcchāmi tvaṁ dharma-sammudha-cetaḥ',\n",
       " 'yac chreyaḥ syān niścitaṁ bruhi tān me',\n",
       " 'śiṣyas te\\xa0’haṁ sadhi maṁ tvaṁ prapannaṁ',\n",
       " 'śrī-bhagavān uvāca',\n",
       " 'aśocyān anvaśocas tvaṁ prajña-vadāṁś ca bhāṣase',\n",
       " 'gatasūn agatasuṁś ca nanuśocanti paṇḍitaḥ',\n",
       " 'na tv evahaṁ jatu naśaṁ na tvaṁ neme janādhipaḥ',\n",
       " 'na caiva na bhaviṣyamaḥ sarve vayam ataḥ param',\n",
       " 'dehino\\xa0’smin yathā dehe kaumaraṁ yauvanaṁ jara',\n",
       " 'tathā dehantara-praptir dhiras tatra na muhyati',\n",
       " 'matra-sparśas tu kaunteya sitoṣṇa-sukha-duḥkha-daḥ',\n",
       " 'agamāpāyino\\xa0’nityas taṁs titikṣasva bhārata',\n",
       " 'avinasi tu tad viddhi yena sarvam idaṁ tataṁ',\n",
       " 'vināśam avyayasyasya na kaścit kartum arhati',\n",
       " 'nā jāyate mriyate va kadacin nayaṁ bhutvā bhavitā va na bhūyaḥ',\n",
       " 'ajo nityaḥ sasvato\\xa0’yaṁ puraṇo na hanyate hanyamāne sarīre',\n",
       " 'vasāṁsi jīrṇāni yathā vihāya',\n",
       " 'navani gṛhṇati naro\\xa0’parāṇi',\n",
       " 'tathā sarīrāṇi vihaya jīrṇany',\n",
       " 'anyāni samyati navani dehi',\n",
       " 'nainaṁ chindanti śasṭrāṇi nainaṁ dahati pāvakaḥ',\n",
       " 'na cainaṁ kledayanty apo na śoṣayati mārutaḥ',\n",
       " 'nehabhikrama-naśo\\xa0’sti pratyavayo na vidyate',\n",
       " 'sv-alpam apy asya dharmasya trayate mahato bhayāt',\n",
       " 'bhogaiśvarya-praśaktanaṁ tayāpahṛta-cetasam',\n",
       " 'vyavasayātmika buddhiḥ samadhau na vidhiyate',\n",
       " 'karmaṇy evadhikaras te ma phaleṣu kadācana',\n",
       " 'ma karma-phala-hetur bhur ma te saṅgo\\xa0’stv akarmaṇi',\n",
       " 'viṣaya vinivartante niraharasya dehināḥ',\n",
       " 'tani sarvāṇi samyamya yukta āsīta mat-paraḥ',\n",
       " 'dhyāyato viśayān puṁsaḥ saṅgas teṣupajāyate',\n",
       " 'krodhad bhavati sammohaḥ sammohat smṛti-vibhramaḥ',\n",
       " 'smṛti-bhrāṁśad buddhi-naśo buddhi-naśat praṇasyati',\n",
       " 'ya niśa sarva-bhūtānaṁ tasyaṁ jagarti saṁyāmi',\n",
       " 'yasyaṁ jagrati bhūtāni sa niśa paśyato muneḥ',\n",
       " 'na hi kaścit kṣaṇam api jātu tiṣṭhaty akarma-kṛt',\n",
       " 'karyate hy avasaḥ karma sarvaḥ prakṛti-jair guṇaiḥ',\n",
       " 'karmendriyāṇi saṁyamya ya āste manasā smaran',\n",
       " 'indriyārthān vimudhātma mithyācaraḥ sa ucyate',\n",
       " 'niyataṁ kuru karma tvaṁ karma jyayo hy akarmaṇaḥ',\n",
       " 'yajñārthat karmaṇo\\xa0’nyatra loko\\xa0’yaṁ karma-bandhanaḥ',\n",
       " 'tad-arthaṁ karma kaunteya mukta-saṅgaḥ samācara',\n",
       " 'annad bhavanti bhūtāni parjanyad anna-sambhavaḥ',\n",
       " 'ajo\\xa0’pi sann avyayātma bhūtānām īśvaro\\xa0’pi sān',\n",
       " 'prakṛtiṁ svam adhiṣṭhaya sambhavāmy ātma-māyayā',\n",
       " 'yadā yadā hi dharmasya glanir bhavāti bharata',\n",
       " 'abhyutthānam adharmasya tadātmanaṁ sṛjāmy aham',\n",
       " 'paritrāṇāya sadhunaṁ vinaśaya ca duṣkṛtam',\n",
       " 'dharma-saṁsthapanārthaya sambhavāmi yuge yuge',\n",
       " 'janma karma ca me divyam evaṁ yo vetti tattvataḥ',\n",
       " 'tyaktvā dehaṁ punar janma naiti mam eti so\\xa0’rjunā',\n",
       " 'ye yathā maṁ prapadyante taṁs tathaiva bhajamy aham',\n",
       " 'māma vartmanuvartante manuṣyaḥ partha sarvaśaḥ',\n",
       " 'catur-varṇyaṁ maya sṛṣṭaṁ guṇa-karma-vibhāgaśāḥ',\n",
       " 'tasya kartaram api maṁ viddhy akartaram āvyayam',\n",
       " 'tad viddhi praṇīpatena pariprasnena sevayā',\n",
       " 'vidya-vināya-sampanne brahmaṇe gavi hastini',\n",
       " 'sūni caiva sva-pake ca paṇḍitaḥ sama-darśinaḥ',\n",
       " 'ye hi saṁsparśa-ja bhoga duḥkha-yonaya eva te',\n",
       " 'ādy-antavantaḥ kaunteya na teṣu ramate budhaḥ',\n",
       " 'śrī-bhagavān uvāca',\n",
       " 'anāśritaḥ karma-phalaṁ karyaṁ karma karoti yaḥ',\n",
       " 'sa sannyasi ca yogi ca na niragnir na cakriyāḥ',\n",
       " 'uddhared ātmanātmanaṁ nātmanam avasādayet',\n",
       " 'ātmaiva hy ātmano bandhur ātmaiva ripur ātmanaḥ',\n",
       " 'yuktāhāra-vihārasya yukta-ceṣṭasya karmasu',\n",
       " 'yukta-svapnavabodhasya yogo bhavati duḥkha-hā',\n",
       " 'sukham atyantikaṁ yat tad buddhi-grahyam atindriyam',\n",
       " 'vetti yatra na caivayaṁ sthitaś calati tattvataḥ',\n",
       " 'yaṁ labdhvā caparaṁ labhaṁ manyate nadhikaṁ tataḥ',\n",
       " 'yasmin sthito na duḥkhena guruṇāpi vicalyate',\n",
       " 'tatas tato niyamyaitad ātmany eva vasaṁ nayet',\n",
       " 'yo maṁ paśyati sarvatra sarvaṁ ca mayi paśyati',\n",
       " 'tasyahaṁ na praṇasyami sa ca me na praṇasyati',\n",
       " 'tasyahaṁ nigrahaṁ manye vayor iva su-duṣkaram',\n",
       " 'prāpya puṇya-kṛtaṁ lokān uṣitva saśvatiḥ samaḥ',\n",
       " 'sūcināṁ śrīmataṁ gehe yoga-bhraṣṭo\\xa0’bhijāyate',\n",
       " 'yogīnām api sarveṣaṁ mad-gatenantar-ātmanā',\n",
       " 'śrī-bhagavān uvāca',\n",
       " 'manuṣyānaṁ sahasreśu kaścid yatati siddhaye',\n",
       " 'yatatam api siddhānaṁ kaścin maṁ vetti tattvataḥ',\n",
       " 'bhūmir apo\\xa0’nalo vāyuḥ khaṁ mano buddhir eva ca',\n",
       " 'ahaṅkāra itiyaṁ me bhinna prakṛtir astadha',\n",
       " 'apareyam itas tv anyaṁ prakṛtiṁ viddhi me param',\n",
       " 'jīva-bhūtaṁ maha-baho yayedaṁ dharyate jagat',\n",
       " 'mattaḥ parataraṁ nanyat kijcid asti dhananijāya',\n",
       " 'mayi sarvam idaṁ protaṁ sutre maṇi-gaṇā iva',\n",
       " 'raso\\xa0’ham apsu kaunteya prabhasmi śaśi-sūryayoḥ',\n",
       " 'praṇavaḥ sarva-vedeśu śabdaḥ khe pauruṣaṁ nṛṣu',\n",
       " 'balaṁ balavatāṁ cahaṁ kama-raga-vivarjitam',\n",
       " 'dharmaviruddho bhūteṣu kamo\\xa0’smi bharatarṣabha',\n",
       " 'tribhir guṇa-mayair bhavair ebhiḥ sarvam idaṁ jagat',\n",
       " 'mohitaṁ nābhijanati mam ebhyaḥ param āvyayam',\n",
       " 'daivi hy eṣa guṇa-mayi māma mayā duratyayā',\n",
       " 'mam eva ye prapadyante mayam etaṁ taranti te',\n",
       " 'na maṁ duṣkṛtino mudhaḥ prapadyante narādhamaḥ',\n",
       " 'māyāyāpahṛta-jhana āsuraṁ bhavam aśritaḥ',\n",
       " 'vāsudevaḥ sarvam iti sa mahātma su-durlabhaḥ',\n",
       " 'kāmais tais tair hṛta-jñanaḥ prapadyante\\xa0’nya-devatāḥ',\n",
       " 'taṁ taṁ niyamām asthāya prakṛtya niyataḥ svaya',\n",
       " 'antavat tu phalaṁ teṣaṁ tad bhavaty alpa-medhasaṁ',\n",
       " 'devān deva-yajo yanti mad-bhakta-yanti mam āpi',\n",
       " 'avyaktaṁ vyaktim apannaṁ manyante mam abuddhayaḥ',\n",
       " 'paraṁ bhavam ajananto mamavyayam anuttamaṁ',\n",
       " 'nahaṁ prakāśaḥ sarvasya yoga-maya-savāvṛtaḥ',\n",
       " 'mugho\\xa0’yaṁ nabhijanati loko mam ajam avyayaṁ',\n",
       " 'vedahaṁ samatitāni vartamanāni carjunā',\n",
       " 'bhaviṣyāṇi ca bhūtāni maṁ tu veda na kaścana',\n",
       " 'iccha-dveṣā samutthena dvandva-mohena bharata',\n",
       " 'sarva-bhūtāni sammohaṁ sarge yanti parantapa',\n",
       " 'yeṣāṁ tv anta-gataṁ papaṁ jananāṁ puṇya-karmaṇām',\n",
       " 'te dvāndvā-moha-nirmukta bhajante maṁ dṛḍha-vrataḥ',\n",
       " 'anta-kale ca mam eva smaran muktvā kalevaram',\n",
       " 'yaḥ prayāti sa mad-bhavaṁ yati nasṭy atra saṁśayaḥ',\n",
       " 'yaṁ yaṁ vapi smaran bhavaṁ tyajaty ante kalevaram',\n",
       " 'taṁ tam evaiti kaunteya sada tad-bhava-bhāvitaḥ',\n",
       " 'mam upetya punar janma duḥkhalayām aśasvatām',\n",
       " 'nāpnuvanti mahātmanaḥ saṁsiddhiṁ paramaṁ gataḥ',\n",
       " 'a-brahma-bhuvanal lokaḥ punar avartino\\xa0’rjunā',\n",
       " 'mam upetya tu kaunteya punar janma na vidyate',\n",
       " 'rātriṁ yuga-sahasrantaṁ te\\xa0’ho-ratra-vido janaḥ',\n",
       " 'bhūta-gramaḥ sa evayaṁ bhutvā bhūtvā pralīyate',\n",
       " 'rātry-agame\\xa0’vasaḥ partha prabhavaty ahar-āgame',\n",
       " 'paras tasmāt tu bhavo\\xa0’nyo\\xa0’vyakto\\xa0’vyaktat sanātanaḥ',\n",
       " 'yaḥ sa sarveṣu bhūteṣu nasyatsu na vinaśyati',\n",
       " 'rāja-vidyā raja-guhyaṁ pavitram idam uttamaṁ',\n",
       " 'pratyakṣavagamaṁ dharmyaṁ su-sukhaṁ kartum avyayaṁ',\n",
       " 'aprapya maṁ nivartante mṛtyu-saṁsara-vartmani',\n",
       " 'mayā tatam idaṁ sarvaṁ jagad avyakta-mūrtinā',\n",
       " 'mat-sthāni sarva-bhūtāni na cahaṁ teṣv avasthitaḥ',\n",
       " 'na ca mat-sthāni bhūtāni paśya me yogam aiśvaram',\n",
       " 'mayādhyakṣeṇa prakṛtiḥ sūyate sa-carācaram',\n",
       " 'hetunānena kaunteya jagad viparivartate',\n",
       " 'āvajananti maṁ mūdha manuṣiṁ tanum aśritam',\n",
       " 'paraṁ bhavam ajananto mama bhūta-maheśvaram',\n",
       " 'moghasā mogha-karmaṇo mogha-jñāna vicetasaḥ',\n",
       " 'rākṣasim asurīṁ caiva prakṛtiṁ mohinīṁ śrītaḥ',\n",
       " 'mahātmanas tu maṁ partha daiviṁ prakṛtim āśritaḥ',\n",
       " 'bhajanty ananya-manaso jhatva bhūtadim avyayam',\n",
       " 'satataṁ kīrtayanto maṁ yatantaś ca dṛḍha-vrataḥ',\n",
       " 'namasyantaś ca maṁ bhaktyā nitya-yukta upāsate',\n",
       " 'pitāhām asya jagato mata dhata pitāmahaḥ',\n",
       " 'te taṁ bhuktvā svarga-lokaṁ viśalam',\n",
       " 'kṣiṇe punye martya-lokaṁ viśanti',\n",
       " 'evaṁ trayi-dharmam anuprapannā',\n",
       " 'gatāgataṁ kāma-kāma labhānte',\n",
       " 'ananyaś cintayanto maṁ ye janaḥ paryupāsate',\n",
       " 'teṣāṁ nityābhiyuktanaṁ yoga-kṣemaṁ vahamy aham',\n",
       " 'ye\\xa0’py anya-devata-bhakta yajante śraddhayānvitaḥ',\n",
       " 'te\\xa0’pi mam eva kaunteya yajanty avidhi-pūrvakam',\n",
       " 'yanti deva-vrata devan pitṝn yanti pitṛ-vrataḥ',\n",
       " 'bhūtāni yanti bhūtejya yanti mad-yajino\\xa0’pi mam',\n",
       " 'tad ahaṁ bhakty-upahṛtam asnāmi prayatātmanaḥ',\n",
       " 'yat karoṣi yad asnāsi yaj juhoṣi dadāsi yat',\n",
       " 'yat tapasyasi kaunteya tat kuruṣva mad-arpaṇaṁ',\n",
       " 'samo\\xa0’haṁ sarva-bhūteṣu na me dveṣyo\\xa0’sti na priyaḥ',\n",
       " 'ye bhajanti tu maṁ bhaktyā mayi te teṣu capy aham',\n",
       " 'api cet su-durācaro bhajate mam ananya-bhāk',\n",
       " 'sadhur eva sa mantavyaḥ samyag vyavasito hi saḥ',\n",
       " 'kṣipraṁ bhavati dharmātma sasvac-chantiṁ nigacchati',\n",
       " 'kaunteya pratijanthi na me bhaktaḥ praṇasyati',\n",
       " 'maṁ hi pārtha vyapaśritya ye\\xa0’pi syuḥ pāpa-yonayaḥ',\n",
       " 'striyo vaiṣyas tathā sudras te\\xa0’pi yanti paraṁ gatim',\n",
       " 'kiṁ punar brahmaṇaḥ punya bhakta rajarṣayas tathā',\n",
       " 'anityam asukhaṁ lokam imaṁ prapya bhajasva mam',\n",
       " 'man-māna bhava mad-bhakto mad-yaji maṁ namaskuru',\n",
       " 'mam evaiṣyasi yuktvaivam ātmanaṁ mat-parāyaṇaḥ',\n",
       " 'na me viduḥ sura-gaṇaḥ prabhavaṁ na maharṣayaḥ',\n",
       " 'aham ādir hi devanaṁ maharṣiṇaṁ ca sarvaśaḥ',\n",
       " 'ahaṁ sarvasya prabhavo mattaḥ sarvaṁ pravartate',\n",
       " 'iti matvā bhajante maṁ budha bhava-samānvitaḥ',\n",
       " 'mac-citta mad-gata-praṇa bodhayantaḥ parasparam',\n",
       " 'kathayantaś ca maṁ nityaṁ tuṣyanti ca ramanti ca',\n",
       " 'teṣāṁ satāta-yuktanaṁ bhajataṁ priti-pūrvakam',\n",
       " 'dadāmi buddhi-yogaṁ taṁ yena mam upayanti te',\n",
       " 'teṣām evānukampartham aham ajjana-jaṁ tamaḥ',\n",
       " 'arjuna uvāca',\n",
       " 'paraṁ brahma paraṁ dhāma pavitraṁ paramaṁ bhavān',\n",
       " 'puruṣaṁ sasvataṁ divyam ādi-devam ajaṁ vibhum',\n",
       " 'ahus tvam ṛṣayaḥ sarve devarṣir naradas tathā',\n",
       " 'asito devālo vyasaḥ svayaṁ caiva braviṣi me',\n",
       " 'sarvam etad ṛtaṁ manye yan maṁ vadasi keśava',\n",
       " 'na hi te bhagavan vyaktiṁ vidur deva na dānavaḥ',\n",
       " 'mṛtyuḥ sarva-haraś caham udbhavaś ca bhaviṣyatam',\n",
       " 'sarva-yoniṣu kaunteya mūrtayaḥ sambhavanti yaḥ',\n",
       " 'tasāṁ brahma mahād yonir ahaṁ bija-pradaḥ pitā',\n",
       " 'ūrdhvaṁ gacchanti sattva-stha madhye tiṣṭhanti rājasaḥ',\n",
       " 'jaghānya-guṇa-vṛtti-stha ādho gacchanti tamasaḥ',\n",
       " 'maṁ ca yo\\xa0’vyabhicareṇa bhakti-yogena sevate',\n",
       " 'sa guṇān samatityaitan brahma-bhūyāya kalpate',\n",
       " 'brahmaṇo hi pratiṣṭhaham amṛtasyavyayasya ca',\n",
       " 'sasvatasya ca dharmasya sukhasyaikantikasya ca',\n",
       " 'śrī bhagavān uvāca',\n",
       " 'ūrdhva-mālām adhaḥ-sakham asvatthaṁ prahur avyayam',\n",
       " 'chandāṁsi yasya parṇani yas taṁ veda sa veda-vit',\n",
       " 'na tad bhaṣayate sūryo na śaśaṅko na pāvakaḥ',\n",
       " 'yad gatvā na nivartante tad dhāma paramaṁ mama',\n",
       " 'mamaivaṁśo jīva-loke jīva-bhūtaḥ sanātanaḥ',\n",
       " 'manaḥ sasṭhānindriyāṇi prakṛti-sthāni karṣati',\n",
       " 'sarvasya cahaṁ hṛdi sannviṣṭho',\n",
       " 'vedaiś ca sarvair aham eva vedyo',\n",
       " 'vedānta-kṛd veda-vid eva caham',\n",
       " 'sa sarva-vid bhajati maṁ sarva-bhāvena bharata',\n",
       " 'śrī-bhagavān uvāca',\n",
       " 'abhayaṁ sattva-saṁśuddhir jhana-yoga-vyavasthitiḥ',\n",
       " 'ahiṁsa satyam akrodhas tyagaḥ santir apaiṣuṇaṁ',\n",
       " 'tejaḥ kṣama dhṛtiḥ śaucam adroho nati-mānitā',\n",
       " 'bhavanti sampadaṁ daivim abhijatasya bharata',\n",
       " 'pravṛttiṁ ca nivṛttiṁ ca jana na vidur āsuraḥ',\n",
       " 'na śaucaṁ napi cacaro na satyaṁ teṣu vidyate',\n",
       " 'asatyam apratiṣṭhaṁ te jagad ahur anīśvaram',\n",
       " 'aparaspara-sambhūtaṁ kim anyat kāma-haitukam',\n",
       " 'etaṁ dṛṣṭim avastabhya naṣṭātmano\\xa0’ipa-buddhayaḥ',\n",
       " 'prabhāvanty ugra-karmaṇaḥ kṣayayā jagato\\xa0’hitaḥ',\n",
       " 'tri-vidhaṁ narakaśyedaṁ dvāraṁ naśanam ātmanaḥ',\n",
       " 'kamaḥ krodhas tathā lobhas tasmad etat trayaṁ tyajet',\n",
       " 'yaḥ sasṭra-vidhim utsṛjya vartate kāma-karataḥ',\n",
       " 'na sa siddhim avapnoti na sukhaṁ na paraṁ gatim',\n",
       " 'samo damas tapaḥ śaucaṁ kṣantir arjavam eva ca',\n",
       " 'jmānaṁ vijmānam astikyaṁ brahma-karma svabhāva-jam',\n",
       " 'sauryaṁ tejo dhṛtir dakṣyaṁ yuddhe capy apalāyanaṁ',\n",
       " 'danam īśvara-bhavaś ca kṣatraṁ karma svabhāva-jam',\n",
       " 'kṛṣi-go-rakṣya-vanijyaṁ vaiṣya-karma svabhāva-jam',\n",
       " 'paricaryātmakaṁ karma sudrasyapi svabhāva-jam',\n",
       " 'sve sve karmaṇy abhirataḥ saṁsiddhiṁ labhate naraḥ',\n",
       " 'sva-karma-nirataḥ siddhiṁ yathā vindati tac chṛṇu',\n",
       " 'sva-karmaṇā tam abhyarcya siddhiṁ vindati mānavaḥ',\n",
       " 'brahma-bhūtaḥ prasannātma na śocati na kāṅkṣati',\n",
       " 'samaḥ sarveṣu bhūteṣu mad-bhaktiṁ labhate param',\n",
       " 'bhaktyā mam ābhijanati yavan yaś casmi tattvataḥ',\n",
       " 'tato maṁ tattvato jmatva viśate tad-anantaram',\n",
       " 'īśvaraḥ sarva-bhūtānaṁ hṛd-deśe\\xa0’rjuna tiṣṭhati',\n",
       " 'bhrāmayan sarva-bhūtāni yantrarudhāni māyāyā',\n",
       " 'iti te jiaānam ākhyataṁ guhyad guhyataraṁ mayā',\n",
       " 'vimṛṣyaitad aśeṣeṇa yathecchasi tathā kuru',\n",
       " 'man-māna bhava mad-bhakto mad-yaji maṁ namaskuru',\n",
       " 'mam evaiṣyasi satyaṁ te pratijane priyo\\xa0’si me',\n",
       " 'sarva-dharman parityajya mam ekaṁ śaraṇaṁ vraja',\n",
       " 'ahaṁ tvaṁ sarva-papebhyo mokṣayiṣyāmi mā śucaḥ',\n",
       " 'ya idaṁ paramaṁ guhyaṁ mad-bhakteṣv abhidhāsyati',\n",
       " 'bhaktiṁ mayi paraṁ kṛtvā mam evaiṣyaty aśaṁśayaḥ',\n",
       " 'na ca tasmān manuṣyeṣu kaścin me priya-kṛttamaḥ',\n",
       " 'arjuna uvāca',\n",
       " 'naṣṭo mohaḥ smṛtir labdha tvat-prasadān mayacyuta',\n",
       " 'sthito\\xa0’smi gata-sandehaḥ kariṣye vacanaṁ tava',\n",
       " 'yatra yogeśvaraḥ kṛṣṇo yatra partho dhanur-dharaḥ',\n",
       " 'bhotābhāvyathāvatprabīuḥ',\n",
       " 'porātma paramātma ca mukiniṁ paramā gatiḥ',\n",
       " 'yaycḥ puruṣsḥ śiket kṣetrajījotḥsara eva ca',\n",
       " 'yego yogavidaṁ neta oradhanṣpuruṣeīvārcḥ',\n",
       " 'narasiṁhavapuḥ riman kelargḥ purśśottameḥ',\n",
       " 'viīvakarma manuṣṭvasṭa thaviṣṭhaḥ sthaviro dhruvaḥ',\n",
       " 'orabhotāstrikekubdhāṁs oavitreṁ majcalaṁ param',\n",
       " 'viśikāpirameystma carvaśceaviniḥsṛtsḥ',\n",
       " 'veṣūrvāsumanīḥ satycḥ camātma’sammitaḥ sameḥ',\n",
       " 'ametaḥ daīvara sthāmur varārcho mahātāpaḥ',\n",
       " 'velo vedavidavyargo vedargo vedavit kaviḥ',\n",
       " 'cāvurātma carurvyaheḥ cavurdaṁstrajcaturthugḥ',\n",
       " 'bhajierṇṛ bhojinam thoeś caḥsiṣṇurjagedādijeḥ',\n",
       " 'magho vijṛyo jera vigvayonthu punarvaśuḥ',\n",
       " 'velyo vaidysḥ sedaycgī virāha madhavo madhuḥ',\n",
       " 'hirāgyānabhaḥ sutapaḥ padmanibhaḥ prajīpatiḥ',\n",
       " 'ammtyuḥ sarvadṛḥ siṁhaḥ sandhata sandhiman sthiraḥ',\n",
       " 'ivārtano nivpītātma saṁvstaḥ sampcamardanā',\n",
       " 'cathārta sathytaḥ sidhurjanhurṇārayago naraḥ',\n",
       " 'iddhārthaḥ siddhasathalpaḥ siddhidaḥ siddhissdhānaḥb',\n",
       " 'vardhano vardhamānatca viviktaḥ śrutiṣigacaḥ',\n",
       " 'cubhujo durdharo vigmī makendro vasudo vasuḥ',\n",
       " 'naikartpo behadrapah jipiviṣṭaḥ prakcjanaḥ',\n",
       " 'ojeṣṭejodyutidhāraḥ prakajitma pratipanaḥ',\n",
       " 'udīrṇaḥ sarvataścakṣuraṇīśaḥ sagvatāsthiraḥ',\n",
       " 'arciṣmanārcitaḥ kumbho viduddhātma vidodhanaḥ',\n",
       " 'kamadevaḥ kamopalaḥ kiṁs kṣotab kytigamcḥ',\n",
       " 'mahākramo mahākarma mahātera mahoragaḥ',\n",
       " 'manojivāstīrthakaro vasurera vasupradcḥ',\n",
       " 'vasuprado vāsudevo vasurvāsumans haviḥ',\n",
       " 'kāmāhi kamakpthantal kimaḥ kamapeadaḥ prabīhuḥ',\n",
       " 'yugīḍikdyugivarto naikmiyo mahījanaḥ',\n",
       " 'acyutaḥ prathitaḥ pragaḥ pcanado vasavānujaḥ',\n",
       " 'pan nidhiradhiśchanamāpeamattaḥ pratiśchitaḥ',\n",
       " 'chandaḥ skandadharo dhūryo varado vāyurahanaḥ',\n",
       " 'viṣudero bṛhadbhinurididevaḥ puraṇdaraḥ',\n",
       " 'iñukalaḥ latvartaḥ padmī padmanibhekṣaṇaḥ',\n",
       " 'mahārddhirīpddho veddhitṁss makkṣo gṛrudādhvajeḥ',\n",
       " 'carvalikpapalakṣaṇyo lakṣmivān samitijjiyaḥ',\n",
       " 'vikiro rolito margo herurdimodaraḥ śihāḥ',\n",
       " 'kāragaṁ karagaṁ karta vikarta gṛhaṇo guhāḥ',\n",
       " 'vjavasiyo vyavasthinaḥ saṁsthanaḥ sthanado dhruvaḥ',\n",
       " 'vailunthaḥ puruṣaḥ prīṇaḥ praṇadaḥ pcanavaḥ pṛthuḥ',\n",
       " 'tuḥ sudarjainaḥ kilaḥ parameṣṭhī parigrahaḥ',\n",
       " 'nalkṣarraṇemirṇakṣatet kyamaḥ kṣimaḥ samīhanaḥ',\n",
       " 'vatsaro vatsalo vatsi ratnagarbho dhaneśvaraḥ',\n",
       " 'śartrābhātābhṛdbhckea kapindro bharidākṣiṅgḥ',\n",
       " 'mahāvargho govindṣhṛ suṣensḥ kanakaṅged',\n",
       " 'cūdhanya khaṇḍaparajirdśruṇo draviṇāpradeḥ']"
      ]
     },
     "execution_count": 58,
     "metadata": {},
     "output_type": "execute_result"
    }
   ],
   "source": [
    "test_prediction_string"
   ]
  },
  {
   "cell_type": "code",
   "execution_count": 59,
   "metadata": {},
   "outputs": [
    {
     "name": "stderr",
     "output_type": "stream",
     "text": [
      "/Users/rbhat/anaconda2/envs/san_ocr_enc_dec/lib/python3.6/site-packages/ipykernel_launcher.py:1: SettingWithCopyWarning: \n",
      "A value is trying to be set on a copy of a slice from a DataFrame.\n",
      "Try using .loc[row_indexer,col_indexer] = value instead\n",
      "\n",
      "See the caveats in the documentation: http://pandas.pydata.org/pandas-docs/stable/indexing.html#indexing-view-versus-copy\n",
      "  \"\"\"Entry point for launching an IPython kernel.\n"
     ]
    }
   ],
   "source": [
    "filter_testdf['prediction'] = test_prediction_string"
   ]
  },
  {
   "cell_type": "code",
   "execution_count": 61,
   "metadata": {},
   "outputs": [
    {
     "data": {
      "text/html": [
       "<div>\n",
       "<style scoped>\n",
       "    .dataframe tbody tr th:only-of-type {\n",
       "        vertical-align: middle;\n",
       "    }\n",
       "\n",
       "    .dataframe tbody tr th {\n",
       "        vertical-align: top;\n",
       "    }\n",
       "\n",
       "    .dataframe thead th {\n",
       "        text-align: right;\n",
       "    }\n",
       "</style>\n",
       "<table border=\"1\" class=\"dataframe\">\n",
       "  <thead>\n",
       "    <tr style=\"text-align: right;\">\n",
       "      <th></th>\n",
       "      <th>source</th>\n",
       "      <th>target</th>\n",
       "      <th>origin</th>\n",
       "      <th>prediction</th>\n",
       "    </tr>\n",
       "  </thead>\n",
       "  <tbody>\n",
       "    <tr>\n",
       "      <th>0</th>\n",
       "      <td>dhrtarastra uvaca</td>\n",
       "      <td>dhṛtarāṣṭra uvāca</td>\n",
       "      <td>pdf</td>\n",
       "      <td>dhṛtarāṣṭra uvāca</td>\n",
       "    </tr>\n",
       "    <tr>\n",
       "      <th>1</th>\n",
       "      <td>dharma-ksetre kuru-ksetre samaveta yuyutsavah</td>\n",
       "      <td>dharma-kṣetre kuru-kṣetre samavetā yuyutsavaḥ</td>\n",
       "      <td>pdf</td>\n",
       "      <td>dharma-kṣetre kuru-kṣetre samaveta yuyutsavaḥ</td>\n",
       "    </tr>\n",
       "    <tr>\n",
       "      <th>2</th>\n",
       "      <td>mamakah pandavas caiva kim akurvata sanjaya</td>\n",
       "      <td>māmakāḥ pāṇḍavāś caiva kim akurvata sañjaya</td>\n",
       "      <td>pdf</td>\n",
       "      <td>mamakaḥ paṇḍavaś caiva kim akurvata sañjaya</td>\n",
       "    </tr>\n",
       "    <tr>\n",
       "      <th>3</th>\n",
       "      <td>karpanya-dosopahata-svabhavah</td>\n",
       "      <td>kārpaṇya-doṣopahata-svabhāvaḥ</td>\n",
       "      <td>pdf</td>\n",
       "      <td>karpaṇya-doṣopahata-svabhāvaḥ</td>\n",
       "    </tr>\n",
       "    <tr>\n",
       "      <th>4</th>\n",
       "      <td>prechami tvam dharma-sammudha-cetah</td>\n",
       "      <td>pṛcchāmi tvāṁ dharma-sammūḍha-cetāḥ</td>\n",
       "      <td>pdf</td>\n",
       "      <td>pṛcchāmi tvaṁ dharma-sammudha-cetaḥ</td>\n",
       "    </tr>\n",
       "  </tbody>\n",
       "</table>\n",
       "</div>"
      ],
      "text/plain": [
       "                                          source  \\\n",
       "0                              dhrtarastra uvaca   \n",
       "1  dharma-ksetre kuru-ksetre samaveta yuyutsavah   \n",
       "2    mamakah pandavas caiva kim akurvata sanjaya   \n",
       "3                  karpanya-dosopahata-svabhavah   \n",
       "4            prechami tvam dharma-sammudha-cetah   \n",
       "\n",
       "                                          target origin  \\\n",
       "0                              dhṛtarāṣṭra uvāca    pdf   \n",
       "1  dharma-kṣetre kuru-kṣetre samavetā yuyutsavaḥ    pdf   \n",
       "2    māmakāḥ pāṇḍavāś caiva kim akurvata sañjaya    pdf   \n",
       "3                  kārpaṇya-doṣopahata-svabhāvaḥ    pdf   \n",
       "4            pṛcchāmi tvāṁ dharma-sammūḍha-cetāḥ    pdf   \n",
       "\n",
       "                                      prediction  \n",
       "0                              dhṛtarāṣṭra uvāca  \n",
       "1  dharma-kṣetre kuru-kṣetre samaveta yuyutsavaḥ  \n",
       "2    mamakaḥ paṇḍavaś caiva kim akurvata sañjaya  \n",
       "3                  karpaṇya-doṣopahata-svabhāvaḥ  \n",
       "4            pṛcchāmi tvaṁ dharma-sammudha-cetaḥ  "
      ]
     },
     "execution_count": 61,
     "metadata": {},
     "output_type": "execute_result"
    }
   ],
   "source": [
    "filter_testdf.head()"
   ]
  },
  {
   "cell_type": "code",
   "execution_count": null,
   "metadata": {
    "collapsed": true
   },
   "outputs": [],
   "source": [
    "filter_testdf.to_csv"
   ]
  }
 ],
 "metadata": {
  "anaconda-cloud": {},
  "kernelspec": {
   "display_name": "Python 3",
   "language": "python",
   "name": "python3"
  },
  "language_info": {
   "codemirror_mode": {
    "name": "ipython",
    "version": 3
   },
   "file_extension": ".py",
   "mimetype": "text/x-python",
   "name": "python",
   "nbconvert_exporter": "python",
   "pygments_lexer": "ipython3",
   "version": "3.6.2"
  }
 },
 "nbformat": 4,
 "nbformat_minor": 1
}
