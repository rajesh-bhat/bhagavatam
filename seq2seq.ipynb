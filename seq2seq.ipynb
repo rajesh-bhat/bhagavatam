{
 "cells": [
  {
   "cell_type": "code",
   "execution_count": 1,
   "metadata": {
    "collapsed": true
   },
   "outputs": [],
   "source": [
    "import pandas as pd\n",
    "import numpy as np\n",
    "\n",
    "np.random.seed(1)"
   ]
  },
  {
   "cell_type": "code",
   "execution_count": 2,
   "metadata": {},
   "outputs": [
    {
     "name": "stderr",
     "output_type": "stream",
     "text": [
      "/Users/rbhat/anaconda2/envs/san_ocr_enc_dec/lib/python3.6/site-packages/h5py/__init__.py:36: FutureWarning: Conversion of the second argument of issubdtype from `float` to `np.floating` is deprecated. In future, it will be treated as `np.float64 == np.dtype(float).type`.\n",
      "  from ._conv import register_converters as _register_converters\n",
      "Using TensorFlow backend.\n"
     ]
    }
   ],
   "source": [
    "from keras.preprocessing.sequence import pad_sequences\n",
    "from keras.models import Sequential\n",
    "from keras.layers.core import Dense, Activation, Dropout\n",
    "from keras.layers.recurrent import LSTM, SimpleRNN\n",
    "from keras.layers.wrappers import TimeDistributed\n",
    "from keras.layers.embeddings import Embedding\n",
    "from keras.utils.np_utils import to_categorical\n",
    "from keras.layers import Bidirectional"
   ]
  },
  {
   "cell_type": "code",
   "execution_count": 3,
   "metadata": {
    "collapsed": true
   },
   "outputs": [],
   "source": [
    "df = pd.read_csv('train_data/eng_train.csv', encoding='utf-8')"
   ]
  },
  {
   "cell_type": "code",
   "execution_count": 4,
   "metadata": {},
   "outputs": [
    {
     "data": {
      "text/html": [
       "<div>\n",
       "<style scoped>\n",
       "    .dataframe tbody tr th:only-of-type {\n",
       "        vertical-align: middle;\n",
       "    }\n",
       "\n",
       "    .dataframe tbody tr th {\n",
       "        vertical-align: top;\n",
       "    }\n",
       "\n",
       "    .dataframe thead th {\n",
       "        text-align: right;\n",
       "    }\n",
       "</style>\n",
       "<table border=\"1\" class=\"dataframe\">\n",
       "  <thead>\n",
       "    <tr style=\"text-align: right;\">\n",
       "      <th></th>\n",
       "      <th>ids</th>\n",
       "      <th>sentences</th>\n",
       "      <th>OCR</th>\n",
       "    </tr>\n",
       "  </thead>\n",
       "  <tbody>\n",
       "    <tr>\n",
       "      <th>0</th>\n",
       "      <td>1.1.1.1</td>\n",
       "      <td>oṁ namo bhagavate vāsudevāya</td>\n",
       "      <td>om namo bhagavate vasudevaya</td>\n",
       "    </tr>\n",
       "    <tr>\n",
       "      <th>1</th>\n",
       "      <td>1.1.2.1</td>\n",
       "      <td>dharmaḥ projjhita-kaitavo ’tra paramo nirmatsa...</td>\n",
       "      <td>dharmah projjhita-kaitavo 'tra paramo nirmatsa...</td>\n",
       "    </tr>\n",
       "    <tr>\n",
       "      <th>2</th>\n",
       "      <td>1.1.2.2</td>\n",
       "      <td>vedyaṁ vāstavam atra vastu śivadaṁ tāpa-trayon...</td>\n",
       "      <td>vedyam vastavam atra vastu sivadam tapa-trayon...</td>\n",
       "    </tr>\n",
       "    <tr>\n",
       "      <th>3</th>\n",
       "      <td>1.1.2.3</td>\n",
       "      <td>śrīmad-bhāgavate mahā-muni-kṛte kiṁ vā parair ...</td>\n",
       "      <td>Ssrimad-bhagavate maha-muni-krte kim va parair...</td>\n",
       "    </tr>\n",
       "    <tr>\n",
       "      <th>4</th>\n",
       "      <td>1.1.2.4</td>\n",
       "      <td>sadyo hṛdy avarudhyate ’tra kṛtibhiḥ śuśrūṣubh...</td>\n",
       "      <td>sadyo hrdy avarudhyate 'tra krtibhih sugsrusub...</td>\n",
       "    </tr>\n",
       "    <tr>\n",
       "      <th>5</th>\n",
       "      <td>1.1.3.1</td>\n",
       "      <td>nigama-kalpa-taror galitaṁ phalaṁ</td>\n",
       "      <td>nigama-kalpa-taror galitam phalam</td>\n",
       "    </tr>\n",
       "    <tr>\n",
       "      <th>6</th>\n",
       "      <td>1.1.3.2</td>\n",
       "      <td>śuka-mukhād amṛta-drava-saṁyutam</td>\n",
       "      <td>suka-mukhad amrta-drava-samyutam</td>\n",
       "    </tr>\n",
       "    <tr>\n",
       "      <th>7</th>\n",
       "      <td>1.1.3.3</td>\n",
       "      <td>pibata bhāgavataṁ rasam ālayam</td>\n",
       "      <td>pibata bhagavatam rasam alayam</td>\n",
       "    </tr>\n",
       "    <tr>\n",
       "      <th>8</th>\n",
       "      <td>1.1.3.4</td>\n",
       "      <td>muhur aho rasikā bhuvi bhāvukāḥ</td>\n",
       "      <td>muhur aho rasika bhuvi bhavukah</td>\n",
       "    </tr>\n",
       "    <tr>\n",
       "      <th>9</th>\n",
       "      <td>1.1.4.1</td>\n",
       "      <td>naimiṣe ’nimiṣa-kṣetre</td>\n",
       "      <td>naimise 'nimisa-ksetre</td>\n",
       "    </tr>\n",
       "    <tr>\n",
       "      <th>10</th>\n",
       "      <td>1.1.4.2</td>\n",
       "      <td>ṛṣayaḥ śaunakādayaḥ</td>\n",
       "      <td>rsayah saunakadayah</td>\n",
       "    </tr>\n",
       "    <tr>\n",
       "      <th>11</th>\n",
       "      <td>1.1.4.3</td>\n",
       "      <td>satraṁ svargāya lokāya</td>\n",
       "      <td>satram svargaya lokaya</td>\n",
       "    </tr>\n",
       "    <tr>\n",
       "      <th>12</th>\n",
       "      <td>1.1.4.4</td>\n",
       "      <td>sahasra-samam āsata</td>\n",
       "      <td>sahasra-samam asata</td>\n",
       "    </tr>\n",
       "    <tr>\n",
       "      <th>13</th>\n",
       "      <td>1.1.5.1</td>\n",
       "      <td>ta ekadā tu munayaḥ</td>\n",
       "      <td>ta ekada tu munayah</td>\n",
       "    </tr>\n",
       "    <tr>\n",
       "      <th>14</th>\n",
       "      <td>1.1.5.2</td>\n",
       "      <td>prātar huta-hutāgnayaḥ</td>\n",
       "      <td>pratar huta-hutagnayah</td>\n",
       "    </tr>\n",
       "    <tr>\n",
       "      <th>15</th>\n",
       "      <td>1.1.5.3</td>\n",
       "      <td>sat-kṛtaṁ sūtam āsīnaṁ</td>\n",
       "      <td>sat-krtam sutam asinam</td>\n",
       "    </tr>\n",
       "    <tr>\n",
       "      <th>16</th>\n",
       "      <td>1.1.5.4</td>\n",
       "      <td>papracchur idam ādarāt</td>\n",
       "      <td>papracchur idam adarat</td>\n",
       "    </tr>\n",
       "    <tr>\n",
       "      <th>17</th>\n",
       "      <td>1.1.6.1</td>\n",
       "      <td>ṛṣaya ūcuḥ</td>\n",
       "      <td>rsaya ucuh</td>\n",
       "    </tr>\n",
       "    <tr>\n",
       "      <th>18</th>\n",
       "      <td>1.1.7.1</td>\n",
       "      <td>yāni veda-vidāṁ śreṣṭho</td>\n",
       "      <td>yani veda-vidam srestho</td>\n",
       "    </tr>\n",
       "    <tr>\n",
       "      <th>19</th>\n",
       "      <td>1.1.7.2</td>\n",
       "      <td>bhagavān bādarāyaṇaḥ</td>\n",
       "      <td>bhagavan badarayanah</td>\n",
       "    </tr>\n",
       "  </tbody>\n",
       "</table>\n",
       "</div>"
      ],
      "text/plain": [
       "        ids                                          sentences  \\\n",
       "0   1.1.1.1                       oṁ namo bhagavate vāsudevāya   \n",
       "1   1.1.2.1  dharmaḥ projjhita-kaitavo ’tra paramo nirmatsa...   \n",
       "2   1.1.2.2  vedyaṁ vāstavam atra vastu śivadaṁ tāpa-trayon...   \n",
       "3   1.1.2.3  śrīmad-bhāgavate mahā-muni-kṛte kiṁ vā parair ...   \n",
       "4   1.1.2.4  sadyo hṛdy avarudhyate ’tra kṛtibhiḥ śuśrūṣubh...   \n",
       "5   1.1.3.1                  nigama-kalpa-taror galitaṁ phalaṁ   \n",
       "6   1.1.3.2                   śuka-mukhād amṛta-drava-saṁyutam   \n",
       "7   1.1.3.3                     pibata bhāgavataṁ rasam ālayam   \n",
       "8   1.1.3.4                    muhur aho rasikā bhuvi bhāvukāḥ   \n",
       "9   1.1.4.1                             naimiṣe ’nimiṣa-kṣetre   \n",
       "10  1.1.4.2                                ṛṣayaḥ śaunakādayaḥ   \n",
       "11  1.1.4.3                             satraṁ svargāya lokāya   \n",
       "12  1.1.4.4                                sahasra-samam āsata   \n",
       "13  1.1.5.1                                ta ekadā tu munayaḥ   \n",
       "14  1.1.5.2                             prātar huta-hutāgnayaḥ   \n",
       "15  1.1.5.3                             sat-kṛtaṁ sūtam āsīnaṁ   \n",
       "16  1.1.5.4                             papracchur idam ādarāt   \n",
       "17  1.1.6.1                                         ṛṣaya ūcuḥ   \n",
       "18  1.1.7.1                            yāni veda-vidāṁ śreṣṭho   \n",
       "19  1.1.7.2                               bhagavān bādarāyaṇaḥ   \n",
       "\n",
       "                                                  OCR  \n",
       "0                        om namo bhagavate vasudevaya  \n",
       "1   dharmah projjhita-kaitavo 'tra paramo nirmatsa...  \n",
       "2   vedyam vastavam atra vastu sivadam tapa-trayon...  \n",
       "3   Ssrimad-bhagavate maha-muni-krte kim va parair...  \n",
       "4   sadyo hrdy avarudhyate 'tra krtibhih sugsrusub...  \n",
       "5                   nigama-kalpa-taror galitam phalam  \n",
       "6                    suka-mukhad amrta-drava-samyutam  \n",
       "7                      pibata bhagavatam rasam alayam  \n",
       "8                     muhur aho rasika bhuvi bhavukah  \n",
       "9                              naimise 'nimisa-ksetre  \n",
       "10                                rsayah saunakadayah  \n",
       "11                             satram svargaya lokaya  \n",
       "12                                sahasra-samam asata  \n",
       "13                                ta ekada tu munayah  \n",
       "14                             pratar huta-hutagnayah  \n",
       "15                             sat-krtam sutam asinam  \n",
       "16                             papracchur idam adarat  \n",
       "17                                         rsaya ucuh  \n",
       "18                            yani veda-vidam srestho  \n",
       "19                               bhagavan badarayanah  "
      ]
     },
     "execution_count": 4,
     "metadata": {},
     "output_type": "execute_result"
    }
   ],
   "source": [
    "df.head(20)"
   ]
  },
  {
   "cell_type": "code",
   "execution_count": 5,
   "metadata": {},
   "outputs": [
    {
     "data": {
      "text/html": [
       "<div>\n",
       "<style scoped>\n",
       "    .dataframe tbody tr th:only-of-type {\n",
       "        vertical-align: middle;\n",
       "    }\n",
       "\n",
       "    .dataframe tbody tr th {\n",
       "        vertical-align: top;\n",
       "    }\n",
       "\n",
       "    .dataframe thead th {\n",
       "        text-align: right;\n",
       "    }\n",
       "</style>\n",
       "<table border=\"1\" class=\"dataframe\">\n",
       "  <thead>\n",
       "    <tr style=\"text-align: right;\">\n",
       "      <th></th>\n",
       "      <th>ids</th>\n",
       "      <th>sentences</th>\n",
       "      <th>OCR</th>\n",
       "    </tr>\n",
       "  </thead>\n",
       "  <tbody>\n",
       "    <tr>\n",
       "      <th>count</th>\n",
       "      <td>50980</td>\n",
       "      <td>50980</td>\n",
       "      <td>50971</td>\n",
       "    </tr>\n",
       "    <tr>\n",
       "      <th>unique</th>\n",
       "      <td>45781</td>\n",
       "      <td>43891</td>\n",
       "      <td>43843</td>\n",
       "    </tr>\n",
       "    <tr>\n",
       "      <th>top</th>\n",
       "      <td>4.6.18.3</td>\n",
       "      <td>śrī-śuka uvāca</td>\n",
       "      <td>Sri-Suka uvaca</td>\n",
       "    </tr>\n",
       "    <tr>\n",
       "      <th>freq</th>\n",
       "      <td>2</td>\n",
       "      <td>346</td>\n",
       "      <td>346</td>\n",
       "    </tr>\n",
       "  </tbody>\n",
       "</table>\n",
       "</div>"
      ],
      "text/plain": [
       "             ids       sentences             OCR\n",
       "count      50980           50980           50971\n",
       "unique     45781           43891           43843\n",
       "top     4.6.18.3  śrī-śuka uvāca  Sri-Suka uvaca\n",
       "freq           2             346             346"
      ]
     },
     "execution_count": 5,
     "metadata": {},
     "output_type": "execute_result"
    }
   ],
   "source": [
    "df.describe()"
   ]
  },
  {
   "cell_type": "code",
   "execution_count": 6,
   "metadata": {
    "collapsed": true
   },
   "outputs": [],
   "source": [
    "filter_values = df['sentences'].str.len() == df['OCR'].str.len()"
   ]
  },
  {
   "cell_type": "code",
   "execution_count": 7,
   "metadata": {},
   "outputs": [
    {
     "data": {
      "text/plain": [
       "50980"
      ]
     },
     "execution_count": 7,
     "metadata": {},
     "output_type": "execute_result"
    }
   ],
   "source": [
    "len(filter_values)"
   ]
  },
  {
   "cell_type": "code",
   "execution_count": 8,
   "metadata": {
    "collapsed": true
   },
   "outputs": [],
   "source": [
    "filtered_df = df[filter_values]"
   ]
  },
  {
   "cell_type": "code",
   "execution_count": 9,
   "metadata": {},
   "outputs": [
    {
     "data": {
      "text/html": [
       "<div>\n",
       "<style scoped>\n",
       "    .dataframe tbody tr th:only-of-type {\n",
       "        vertical-align: middle;\n",
       "    }\n",
       "\n",
       "    .dataframe tbody tr th {\n",
       "        vertical-align: top;\n",
       "    }\n",
       "\n",
       "    .dataframe thead th {\n",
       "        text-align: right;\n",
       "    }\n",
       "</style>\n",
       "<table border=\"1\" class=\"dataframe\">\n",
       "  <thead>\n",
       "    <tr style=\"text-align: right;\">\n",
       "      <th></th>\n",
       "      <th>ids</th>\n",
       "      <th>sentences</th>\n",
       "      <th>OCR</th>\n",
       "    </tr>\n",
       "  </thead>\n",
       "  <tbody>\n",
       "    <tr>\n",
       "      <th>0</th>\n",
       "      <td>1.1.1.1</td>\n",
       "      <td>oṁ namo bhagavate vāsudevāya</td>\n",
       "      <td>om namo bhagavate vasudevaya</td>\n",
       "    </tr>\n",
       "    <tr>\n",
       "      <th>1</th>\n",
       "      <td>1.1.2.1</td>\n",
       "      <td>dharmaḥ projjhita-kaitavo ’tra paramo nirmatsa...</td>\n",
       "      <td>dharmah projjhita-kaitavo 'tra paramo nirmatsa...</td>\n",
       "    </tr>\n",
       "    <tr>\n",
       "      <th>2</th>\n",
       "      <td>1.1.2.2</td>\n",
       "      <td>vedyaṁ vāstavam atra vastu śivadaṁ tāpa-trayon...</td>\n",
       "      <td>vedyam vastavam atra vastu sivadam tapa-trayon...</td>\n",
       "    </tr>\n",
       "    <tr>\n",
       "      <th>5</th>\n",
       "      <td>1.1.3.1</td>\n",
       "      <td>nigama-kalpa-taror galitaṁ phalaṁ</td>\n",
       "      <td>nigama-kalpa-taror galitam phalam</td>\n",
       "    </tr>\n",
       "    <tr>\n",
       "      <th>6</th>\n",
       "      <td>1.1.3.2</td>\n",
       "      <td>śuka-mukhād amṛta-drava-saṁyutam</td>\n",
       "      <td>suka-mukhad amrta-drava-samyutam</td>\n",
       "    </tr>\n",
       "  </tbody>\n",
       "</table>\n",
       "</div>"
      ],
      "text/plain": [
       "       ids                                          sentences  \\\n",
       "0  1.1.1.1                       oṁ namo bhagavate vāsudevāya   \n",
       "1  1.1.2.1  dharmaḥ projjhita-kaitavo ’tra paramo nirmatsa...   \n",
       "2  1.1.2.2  vedyaṁ vāstavam atra vastu śivadaṁ tāpa-trayon...   \n",
       "5  1.1.3.1                  nigama-kalpa-taror galitaṁ phalaṁ   \n",
       "6  1.1.3.2                   śuka-mukhād amṛta-drava-saṁyutam   \n",
       "\n",
       "                                                 OCR  \n",
       "0                       om namo bhagavate vasudevaya  \n",
       "1  dharmah projjhita-kaitavo 'tra paramo nirmatsa...  \n",
       "2  vedyam vastavam atra vastu sivadam tapa-trayon...  \n",
       "5                  nigama-kalpa-taror galitam phalam  \n",
       "6                   suka-mukhad amrta-drava-samyutam  "
      ]
     },
     "execution_count": 9,
     "metadata": {},
     "output_type": "execute_result"
    }
   ],
   "source": [
    "filtered_df.head()"
   ]
  },
  {
   "cell_type": "code",
   "execution_count": 10,
   "metadata": {},
   "outputs": [
    {
     "data": {
      "text/plain": [
       "0.9351510396233818"
      ]
     },
     "execution_count": 10,
     "metadata": {},
     "output_type": "execute_result"
    }
   ],
   "source": [
    "len(filtered_df) / len(df)"
   ]
  },
  {
   "cell_type": "code",
   "execution_count": 11,
   "metadata": {},
   "outputs": [
    {
     "name": "stderr",
     "output_type": "stream",
     "text": [
      "/Users/rbhat/anaconda2/envs/san_ocr_enc_dec/lib/python3.6/site-packages/ipykernel_launcher.py:1: SettingWithCopyWarning: \n",
      "A value is trying to be set on a copy of a slice from a DataFrame.\n",
      "Try using .loc[row_indexer,col_indexer] = value instead\n",
      "\n",
      "See the caveats in the documentation: http://pandas.pydata.org/pandas-docs/stable/indexing.html#indexing-view-versus-copy\n",
      "  \"\"\"Entry point for launching an IPython kernel.\n"
     ]
    }
   ],
   "source": [
    "filtered_df['OCR'] = filtered_df['OCR'].astype(str).str.lower()"
   ]
  },
  {
   "cell_type": "code",
   "execution_count": 12,
   "metadata": {},
   "outputs": [
    {
     "data": {
      "text/plain": [
       "0                         om namo bhagavate vasudevaya\n",
       "1    dharmah projjhita-kaitavo 'tra paramo nirmatsa...\n",
       "2    vedyam vastavam atra vastu sivadam tapa-trayon...\n",
       "5                    nigama-kalpa-taror galitam phalam\n",
       "6                     suka-mukhad amrta-drava-samyutam\n",
       "Name: OCR, dtype: object"
      ]
     },
     "execution_count": 12,
     "metadata": {},
     "output_type": "execute_result"
    }
   ],
   "source": [
    "filtered_df['OCR'].head()"
   ]
  },
  {
   "cell_type": "code",
   "execution_count": 13,
   "metadata": {
    "collapsed": true
   },
   "outputs": [],
   "source": [
    "vocab = set(filtered_df['sentences'].str.cat() + filtered_df['OCR'].str.cat())"
   ]
  },
  {
   "cell_type": "code",
   "execution_count": 14,
   "metadata": {
    "collapsed": true
   },
   "outputs": [],
   "source": [
    "string_lengths = sorted(filtered_df['OCR'].str.len())"
   ]
  },
  {
   "cell_type": "code",
   "execution_count": 15,
   "metadata": {
    "collapsed": true
   },
   "outputs": [],
   "source": [
    "SEQ_LENGTH = int(np.percentile(sorted(string_lengths), 99.5))\n",
    "VOCAB_SIZE = 56"
   ]
  },
  {
   "cell_type": "code",
   "execution_count": 16,
   "metadata": {
    "collapsed": true
   },
   "outputs": [],
   "source": [
    "SEQ_LENGTH = 150"
   ]
  },
  {
   "cell_type": "code",
   "execution_count": 17,
   "metadata": {
    "collapsed": true
   },
   "outputs": [],
   "source": [
    "vocab = sorted(vocab)\n",
    "vocab_to_int = {c: i+1 for i, c in enumerate(vocab)}\n",
    "int_to_vocab = {i+1:c for i,c in enumerate(vocab)}"
   ]
  },
  {
   "cell_type": "code",
   "execution_count": 18,
   "metadata": {},
   "outputs": [
    {
     "data": {
      "text/plain": [
       "' '"
      ]
     },
     "execution_count": 18,
     "metadata": {},
     "output_type": "execute_result"
    }
   ],
   "source": [
    "int_to_vocab[1]"
   ]
  },
  {
   "cell_type": "code",
   "execution_count": 19,
   "metadata": {
    "collapsed": true
   },
   "outputs": [],
   "source": [
    "X = filtered_df['OCR'].tolist()"
   ]
  },
  {
   "cell_type": "code",
   "execution_count": 20,
   "metadata": {
    "collapsed": true
   },
   "outputs": [],
   "source": [
    "Y = filtered_df['sentences'].tolist()"
   ]
  },
  {
   "cell_type": "code",
   "execution_count": 21,
   "metadata": {},
   "outputs": [
    {
     "name": "stdout",
     "output_type": "stream",
     "text": [
      "om namo bhagavate vasudevaya\n",
      "oṁ namo bhagavate vāsudevāya\n"
     ]
    }
   ],
   "source": [
    "print(X[0])\n",
    "print(Y[0])"
   ]
  },
  {
   "cell_type": "code",
   "execution_count": 22,
   "metadata": {
    "collapsed": true
   },
   "outputs": [],
   "source": [
    "X_train = []\n",
    "Y_train = []\n",
    "\n",
    "for x,y in zip(X, Y):\n",
    "    \n",
    "    X_train.append(np.array([vocab_to_int[ch] for ch in x]))\n",
    "    Y_train.append(np.array([vocab_to_int[ch] for ch in y]))"
   ]
  },
  {
   "cell_type": "code",
   "execution_count": 23,
   "metadata": {},
   "outputs": [
    {
     "data": {
      "text/plain": [
       "array([26, 24,  1, 25, 12, 24, 26,  1, 13, 19, 12, 18, 12, 33, 12, 31, 16,\n",
       "        1, 33, 12, 30, 32, 15, 16, 33, 12, 34, 12])"
      ]
     },
     "execution_count": 23,
     "metadata": {},
     "output_type": "execute_result"
    }
   ],
   "source": [
    "X_train = np.array(X_train)\n",
    "X_train[0]"
   ]
  },
  {
   "cell_type": "code",
   "execution_count": 24,
   "metadata": {
    "collapsed": true
   },
   "outputs": [],
   "source": [
    "X_train = pad_sequences(X_train, maxlen=SEQ_LENGTH, dtype='int32', padding='post', truncating='post')\n",
    "Y_train = pad_sequences(Y_train, maxlen=SEQ_LENGTH, dtype='int32', padding='post', truncating='post')"
   ]
  },
  {
   "cell_type": "code",
   "execution_count": 25,
   "metadata": {},
   "outputs": [
    {
     "data": {
      "text/plain": [
       "array([26, 24,  1, 25, 12, 24, 26,  1, 13, 19, 12, 18, 12, 33, 12, 31, 16,\n",
       "        1, 33, 12, 30, 32, 15, 16, 33, 12, 34, 12,  0,  0,  0,  0,  0,  0,\n",
       "        0,  0,  0,  0,  0,  0,  0,  0,  0,  0,  0,  0,  0,  0,  0,  0,  0,\n",
       "        0,  0,  0,  0,  0,  0,  0,  0,  0,  0,  0,  0,  0,  0,  0,  0,  0,\n",
       "        0,  0,  0,  0,  0,  0,  0,  0,  0,  0,  0,  0,  0,  0,  0,  0,  0,\n",
       "        0,  0,  0,  0,  0,  0,  0,  0,  0,  0,  0,  0,  0,  0,  0,  0,  0,\n",
       "        0,  0,  0,  0,  0,  0,  0,  0,  0,  0,  0,  0,  0,  0,  0,  0,  0,\n",
       "        0,  0,  0,  0,  0,  0,  0,  0,  0,  0,  0,  0,  0,  0,  0,  0,  0,\n",
       "        0,  0,  0,  0,  0,  0,  0,  0,  0,  0,  0,  0,  0,  0],\n",
       "      dtype=int32)"
      ]
     },
     "execution_count": 25,
     "metadata": {},
     "output_type": "execute_result"
    }
   ],
   "source": [
    "X_train[0]"
   ]
  },
  {
   "cell_type": "code",
   "execution_count": 26,
   "metadata": {
    "collapsed": true
   },
   "outputs": [],
   "source": [
    "Y_train = to_categorical(Y_train)"
   ]
  },
  {
   "cell_type": "code",
   "execution_count": 27,
   "metadata": {},
   "outputs": [
    {
     "name": "stdout",
     "output_type": "stream",
     "text": [
      "(47674, 150)\n",
      "(47674, 150, 56)\n"
     ]
    }
   ],
   "source": [
    "print(X_train.shape)\n",
    "print(Y_train.shape)"
   ]
  },
  {
   "cell_type": "code",
   "execution_count": 28,
   "metadata": {},
   "outputs": [
    {
     "name": "stdout",
     "output_type": "stream",
     "text": [
      "_________________________________________________________________\n",
      "Layer (type)                 Output Shape              Param #   \n",
      "=================================================================\n",
      "embedding_1 (Embedding)      (None, 150, 100)          5600      \n",
      "_________________________________________________________________\n",
      "bidirectional_1 (Bidirection (None, 150, 128)          84480     \n",
      "_________________________________________________________________\n",
      "time_distributed_1 (TimeDist (None, 150, 56)           7224      \n",
      "_________________________________________________________________\n",
      "activation_1 (Activation)    (None, 150, 56)           0         \n",
      "=================================================================\n",
      "Total params: 97,304\n",
      "Trainable params: 97,304\n",
      "Non-trainable params: 0\n",
      "_________________________________________________________________\n",
      "None\n"
     ]
    }
   ],
   "source": [
    "model = Sequential()\n",
    "model.add(Embedding(VOCAB_SIZE, 100, input_length=SEQ_LENGTH))\n",
    "model.add(Bidirectional(LSTM(64, return_sequences=True)))\n",
    "model.add(TimeDistributed(Dense(VOCAB_SIZE)))\n",
    "model.add(Activation('softmax'))\n",
    "model.compile(loss=\"categorical_crossentropy\", optimizer=\"adam\", metrics=[\"accuracy\"])\n",
    "print(model.summary())"
   ]
  },
  {
   "cell_type": "code",
   "execution_count": 29,
   "metadata": {},
   "outputs": [
    {
     "name": "stdout",
     "output_type": "stream",
     "text": [
      "Train on 45290 samples, validate on 2384 samples\n",
      "Epoch 1/50\n",
      "45290/45290 [==============================] - 166s 4ms/step - loss: 0.8519 - acc: 0.8440 - val_loss: 0.4921 - val_acc: 0.8669\n",
      "Epoch 2/50\n",
      "45290/45290 [==============================] - 184s 4ms/step - loss: 0.3627 - acc: 0.9077 - val_loss: 0.1916 - val_acc: 0.9638\n",
      "Epoch 3/50\n",
      "45290/45290 [==============================] - 190s 4ms/step - loss: 0.1099 - acc: 0.9743 - val_loss: 0.0707 - val_acc: 0.9774\n",
      "Epoch 4/50\n",
      "45290/45290 [==============================] - 187s 4ms/step - loss: 0.0610 - acc: 0.9787 - val_loss: 0.0557 - val_acc: 0.9790\n",
      "Epoch 5/50\n",
      "45290/45290 [==============================] - 184s 4ms/step - loss: 0.0513 - acc: 0.9803 - val_loss: 0.0490 - val_acc: 0.9809\n",
      "Epoch 6/50\n",
      "45290/45290 [==============================] - 184s 4ms/step - loss: 0.0463 - acc: 0.9818 - val_loss: 0.0447 - val_acc: 0.9822\n",
      "Epoch 7/50\n",
      "45290/45290 [==============================] - 187s 4ms/step - loss: 0.0429 - acc: 0.9830 - val_loss: 0.0420 - val_acc: 0.9833\n",
      "Epoch 8/50\n",
      "45290/45290 [==============================] - 189s 4ms/step - loss: 0.0404 - acc: 0.9839 - val_loss: 0.0398 - val_acc: 0.9839\n",
      "Epoch 9/50\n",
      "45290/45290 [==============================] - 189s 4ms/step - loss: 0.0384 - acc: 0.9846 - val_loss: 0.0379 - val_acc: 0.9847\n",
      "Epoch 10/50\n",
      "45290/45290 [==============================] - 191s 4ms/step - loss: 0.0368 - acc: 0.9851 - val_loss: 0.0365 - val_acc: 0.9851\n",
      "Epoch 11/50\n",
      "45290/45290 [==============================] - 188s 4ms/step - loss: 0.0354 - acc: 0.9856 - val_loss: 0.0351 - val_acc: 0.9854\n",
      "Epoch 12/50\n",
      "45290/45290 [==============================] - 191s 4ms/step - loss: 0.0342 - acc: 0.9861 - val_loss: 0.0339 - val_acc: 0.9860\n",
      "Epoch 13/50\n",
      "45290/45290 [==============================] - 198s 4ms/step - loss: 0.0332 - acc: 0.9865 - val_loss: 0.0329 - val_acc: 0.9863\n",
      "Epoch 14/50\n",
      "45290/45290 [==============================] - 189s 4ms/step - loss: 0.0322 - acc: 0.9868 - val_loss: 0.0319 - val_acc: 0.9868\n",
      "Epoch 15/50\n",
      "45290/45290 [==============================] - 197s 4ms/step - loss: 0.0313 - acc: 0.9872 - val_loss: 0.0311 - val_acc: 0.9872\n",
      "Epoch 16/50\n",
      "45290/45290 [==============================] - 192s 4ms/step - loss: 0.0305 - acc: 0.9875 - val_loss: 0.0304 - val_acc: 0.9875\n",
      "Epoch 17/50\n",
      "45290/45290 [==============================] - 188s 4ms/step - loss: 0.0298 - acc: 0.9878 - val_loss: 0.0298 - val_acc: 0.9877\n",
      "Epoch 18/50\n",
      "45290/45290 [==============================] - 189s 4ms/step - loss: 0.0291 - acc: 0.9881 - val_loss: 0.0291 - val_acc: 0.9881\n",
      "Epoch 19/50\n",
      "45290/45290 [==============================] - 190s 4ms/step - loss: 0.0285 - acc: 0.9884 - val_loss: 0.0285 - val_acc: 0.9884\n",
      "Epoch 20/50\n",
      "45290/45290 [==============================] - 192s 4ms/step - loss: 0.0279 - acc: 0.9887 - val_loss: 0.0280 - val_acc: 0.9885\n",
      "Epoch 21/50\n",
      "45290/45290 [==============================] - 200s 4ms/step - loss: 0.0274 - acc: 0.9889 - val_loss: 0.0276 - val_acc: 0.9888\n",
      "Epoch 22/50\n",
      "45290/45290 [==============================] - 200s 4ms/step - loss: 0.0269 - acc: 0.9892 - val_loss: 0.0270 - val_acc: 0.9890\n",
      "Epoch 23/50\n",
      "45290/45290 [==============================] - 200s 4ms/step - loss: 0.0263 - acc: 0.9894 - val_loss: 0.0267 - val_acc: 0.9893\n",
      "Epoch 24/50\n",
      "45290/45290 [==============================] - 204s 5ms/step - loss: 0.0259 - acc: 0.9896 - val_loss: 0.0265 - val_acc: 0.9892\n",
      "Epoch 25/50\n",
      "45290/45290 [==============================] - 202s 4ms/step - loss: 0.0255 - acc: 0.9898 - val_loss: 0.0261 - val_acc: 0.9895\n",
      "Epoch 26/50\n",
      "45290/45290 [==============================] - 206s 5ms/step - loss: 0.0251 - acc: 0.9899 - val_loss: 0.0256 - val_acc: 0.9897\n",
      "Epoch 27/50\n",
      "45290/45290 [==============================] - 193s 4ms/step - loss: 0.0247 - acc: 0.9901 - val_loss: 0.0253 - val_acc: 0.9899\n",
      "Epoch 28/50\n",
      "45290/45290 [==============================] - 213s 5ms/step - loss: 0.0244 - acc: 0.9902 - val_loss: 0.0250 - val_acc: 0.9900\n",
      "Epoch 29/50\n",
      "45290/45290 [==============================] - 208s 5ms/step - loss: 0.0241 - acc: 0.9904 - val_loss: 0.0248 - val_acc: 0.9901\n",
      "Epoch 30/50\n",
      "45290/45290 [==============================] - 193s 4ms/step - loss: 0.0237 - acc: 0.9905 - val_loss: 0.0245 - val_acc: 0.9903\n",
      "Epoch 31/50\n",
      "45290/45290 [==============================] - 193s 4ms/step - loss: 0.0234 - acc: 0.9907 - val_loss: 0.0242 - val_acc: 0.9903\n",
      "Epoch 32/50\n",
      "45290/45290 [==============================] - 189s 4ms/step - loss: 0.0231 - acc: 0.9908 - val_loss: 0.0240 - val_acc: 0.9904\n",
      "Epoch 33/50\n",
      "45290/45290 [==============================] - 190s 4ms/step - loss: 0.0228 - acc: 0.9909 - val_loss: 0.0239 - val_acc: 0.9906\n",
      "Epoch 34/50\n",
      "45290/45290 [==============================] - 189s 4ms/step - loss: 0.0226 - acc: 0.9910 - val_loss: 0.0237 - val_acc: 0.9907\n",
      "Epoch 35/50\n",
      "45290/45290 [==============================] - 205s 5ms/step - loss: 0.0223 - acc: 0.9912 - val_loss: 0.0235 - val_acc: 0.9909\n",
      "Epoch 36/50\n",
      "45290/45290 [==============================] - 192s 4ms/step - loss: 0.0221 - acc: 0.9913 - val_loss: 0.0234 - val_acc: 0.9907\n",
      "Epoch 37/50\n",
      "45290/45290 [==============================] - 188s 4ms/step - loss: 0.0218 - acc: 0.9914 - val_loss: 0.0232 - val_acc: 0.9909\n",
      "Epoch 38/50\n",
      "45290/45290 [==============================] - 197s 4ms/step - loss: 0.0216 - acc: 0.9915 - val_loss: 0.0230 - val_acc: 0.9911\n",
      "Epoch 39/50\n",
      "45290/45290 [==============================] - 209s 5ms/step - loss: 0.0214 - acc: 0.9916 - val_loss: 0.0229 - val_acc: 0.9910\n",
      "Epoch 40/50\n",
      "45290/45290 [==============================] - 201s 4ms/step - loss: 0.0212 - acc: 0.9917 - val_loss: 0.0229 - val_acc: 0.9910\n",
      "Epoch 41/50\n",
      "45290/45290 [==============================] - 198s 4ms/step - loss: 0.0209 - acc: 0.9918 - val_loss: 0.0225 - val_acc: 0.9911\n",
      "Epoch 42/50\n",
      "45290/45290 [==============================] - 191s 4ms/step - loss: 0.0208 - acc: 0.9918 - val_loss: 0.0225 - val_acc: 0.9911\n",
      "Epoch 43/50\n",
      "45290/45290 [==============================] - 188s 4ms/step - loss: 0.0205 - acc: 0.9919 - val_loss: 0.0224 - val_acc: 0.9912\n",
      "Epoch 44/50\n",
      "45290/45290 [==============================] - 191s 4ms/step - loss: 0.0204 - acc: 0.9920 - val_loss: 0.0221 - val_acc: 0.9914\n",
      "Epoch 45/50\n",
      "45290/45290 [==============================] - 190s 4ms/step - loss: 0.0202 - acc: 0.9921 - val_loss: 0.0223 - val_acc: 0.9914\n",
      "Epoch 46/50\n",
      "45290/45290 [==============================] - 186s 4ms/step - loss: 0.0200 - acc: 0.9922 - val_loss: 0.0221 - val_acc: 0.9914\n",
      "Epoch 47/50\n",
      "45290/45290 [==============================] - 191s 4ms/step - loss: 0.0198 - acc: 0.9923 - val_loss: 0.0220 - val_acc: 0.9914\n",
      "Epoch 48/50\n",
      "45290/45290 [==============================] - 187s 4ms/step - loss: 0.0197 - acc: 0.9923 - val_loss: 0.0219 - val_acc: 0.9914\n",
      "Epoch 49/50\n",
      "45290/45290 [==============================] - 187s 4ms/step - loss: 0.0195 - acc: 0.9924 - val_loss: 0.0219 - val_acc: 0.9915\n",
      "Epoch 50/50\n",
      "45290/45290 [==============================] - 189s 4ms/step - loss: 0.0194 - acc: 0.9924 - val_loss: 0.0216 - val_acc: 0.9916\n"
     ]
    },
    {
     "data": {
      "text/plain": [
       "<keras.callbacks.History at 0x1e8bffe10>"
      ]
     },
     "execution_count": 29,
     "metadata": {},
     "output_type": "execute_result"
    }
   ],
   "source": [
    "model.fit(X_train, Y_train, batch_size=256, verbose=1, epochs=50, validation_split=0.05)"
   ]
  },
  {
   "cell_type": "code",
   "execution_count": 38,
   "metadata": {
    "collapsed": true
   },
   "outputs": [],
   "source": [
    "model.save_weights('bilstm_seq_len_100_emb_100.hdf5')"
   ]
  },
  {
   "cell_type": "code",
   "execution_count": 30,
   "metadata": {},
   "outputs": [
    {
     "data": {
      "text/plain": [
       "array([26, 48,  1, 25, 12, 24, 26,  1, 13, 19, 12, 18, 12, 33, 12, 31, 16,\n",
       "        1, 33, 12, 30, 32, 15, 16, 33, 40, 34, 12,  0,  0,  0,  0,  0,  0,\n",
       "        0,  0,  0,  0,  0,  0,  0,  0,  0,  0,  0,  0,  0,  0,  0,  0,  0,\n",
       "        0,  0,  0,  0,  0,  0,  0,  0,  0,  0,  0,  0,  0,  0,  0,  0,  0,\n",
       "        0,  0,  0,  0,  0,  0,  0,  0,  0,  0,  0,  0,  0,  0,  0,  0,  0,\n",
       "        0,  0,  0,  0,  0,  0,  0,  0,  0,  0,  0,  0,  0,  0,  0,  0,  0,\n",
       "        0,  0,  0,  0,  0,  0,  0,  0,  0,  0,  0,  0,  0,  0,  0,  0,  0,\n",
       "        0,  0,  0,  0,  0,  0,  0,  0,  0,  0,  0,  0,  0,  0,  0,  0,  0,\n",
       "        0,  0,  0,  0,  0,  0,  0,  0,  0,  0,  0,  0,  0,  0])"
      ]
     },
     "execution_count": 30,
     "metadata": {},
     "output_type": "execute_result"
    }
   ],
   "source": [
    "prediction = np.argmax(model.predict(X_train[:1]), axis=2)\n",
    "prediction[0]"
   ]
  },
  {
   "cell_type": "code",
   "execution_count": 31,
   "metadata": {},
   "outputs": [
    {
     "name": "stdout",
     "output_type": "stream",
     "text": [
      "oṁ namo bhagavate vasudevāya\n"
     ]
    }
   ],
   "source": [
    "prediction_string = \"\".join([int_to_vocab[c] if c > 0 else '' for c in prediction[0]])\n",
    "print(prediction_string)"
   ]
  },
  {
   "cell_type": "code",
   "execution_count": 32,
   "metadata": {},
   "outputs": [
    {
     "data": {
      "text/plain": [
       "(array([15, 19, 12, 29, 24, 12, 19,  1, 27, 29, 26, 21, 21, 19, 20, 31, 12,\n",
       "         7, 22, 12, 20, 31, 12, 33, 26,  1,  5, 31, 29, 12,  1, 27, 12, 29,\n",
       "        12, 24, 26,  1, 25, 20, 29, 24, 12, 31, 30, 12, 29, 12, 25, 12, 24,\n",
       "         1, 30, 12, 31, 12, 24,  0,  0,  0,  0,  0,  0,  0,  0,  0,  0,  0,\n",
       "         0,  0,  0,  0,  0,  0,  0,  0,  0,  0,  0,  0,  0,  0,  0,  0,  0,\n",
       "         0,  0,  0,  0,  0,  0,  0,  0,  0,  0,  0,  0,  0,  0,  0,  0,  0,\n",
       "         0,  0,  0,  0,  0,  0,  0,  0,  0,  0,  0,  0,  0,  0,  0,  0,  0,\n",
       "         0,  0,  0,  0,  0,  0,  0,  0,  0,  0,  0,  0,  0,  0,  0,  0,  0,\n",
       "         0,  0,  0,  0,  0,  0,  0,  0,  0,  0,  0,  0,  0,  0],\n",
       "       dtype=int32),\n",
       " array([15, 19, 12, 29, 24, 12, 45,  1, 27, 29, 26, 21, 21, 19, 20, 31, 12,\n",
       "         7, 22, 12, 20, 31, 12, 33, 26,  1, 55, 31, 29, 12,  1, 27, 12, 29,\n",
       "        12, 24, 26,  1, 25, 20, 29, 24, 12, 31, 30, 12, 29, 40, 50, 40, 48,\n",
       "         1, 30, 12, 31, 40, 48,  0,  0,  0,  0,  0,  0,  0,  0,  0,  0,  0,\n",
       "         0,  0,  0,  0,  0,  0,  0,  0,  0,  0,  0,  0,  0,  0,  0,  0,  0,\n",
       "         0,  0,  0,  0,  0,  0,  0,  0,  0,  0,  0,  0,  0,  0,  0,  0,  0,\n",
       "         0,  0,  0,  0,  0,  0,  0,  0,  0,  0,  0,  0,  0,  0,  0,  0,  0,\n",
       "         0,  0,  0,  0,  0,  0,  0,  0,  0,  0,  0,  0,  0,  0,  0,  0,  0,\n",
       "         0,  0,  0,  0,  0,  0,  0,  0,  0,  0,  0,  0,  0,  0]))"
      ]
     },
     "execution_count": 32,
     "metadata": {},
     "output_type": "execute_result"
    }
   ],
   "source": [
    "X_train[1], np.argmax(Y_train[1], axis=1)"
   ]
  },
  {
   "cell_type": "code",
   "execution_count": 33,
   "metadata": {},
   "outputs": [
    {
     "data": {
      "text/plain": [
       "'om namo bhagavate vasudevaya'"
      ]
     },
     "execution_count": 33,
     "metadata": {},
     "output_type": "execute_result"
    }
   ],
   "source": [
    "X[0]"
   ]
  },
  {
   "cell_type": "code",
   "execution_count": 34,
   "metadata": {},
   "outputs": [
    {
     "data": {
      "text/plain": [
       "'oṁ namo bhagavate vāsudevāya'"
      ]
     },
     "execution_count": 34,
     "metadata": {},
     "output_type": "execute_result"
    }
   ],
   "source": [
    "Y[0]"
   ]
  },
  {
   "cell_type": "code",
   "execution_count": 35,
   "metadata": {},
   "outputs": [
    {
     "name": "stdout",
     "output_type": "stream",
     "text": [
      "README.md                 \u001b[31mfor_all_cantos.sh\u001b[m\u001b[m         \u001b[31mtesseract_ocr.sh\u001b[m\u001b[m\r\n",
      "bhagabatam_dataprep.ipynb results_bilstm.csv        \u001b[1m\u001b[36mtest_data\u001b[m\u001b[m\r\n",
      "bilstm.hdf5               results_lstm.csv          text2img\r\n",
      "\u001b[1m\u001b[36mcantos\u001b[m\u001b[m                    seq2seq-lstm.ipynb        \u001b[1m\u001b[36mtrain_data\u001b[m\u001b[m\r\n",
      "cantos_crawl.py           seq2seq.ipynb\r\n"
     ]
    }
   ],
   "source": [
    "!ls"
   ]
  },
  {
   "cell_type": "code",
   "execution_count": 36,
   "metadata": {
    "collapsed": true
   },
   "outputs": [],
   "source": [
    "test_df = pd.read_csv('test_data/test_final.csv', encoding='utf-8')"
   ]
  },
  {
   "cell_type": "code",
   "execution_count": 39,
   "metadata": {},
   "outputs": [
    {
     "data": {
      "text/html": [
       "<div>\n",
       "<style scoped>\n",
       "    .dataframe tbody tr th:only-of-type {\n",
       "        vertical-align: middle;\n",
       "    }\n",
       "\n",
       "    .dataframe tbody tr th {\n",
       "        vertical-align: top;\n",
       "    }\n",
       "\n",
       "    .dataframe thead th {\n",
       "        text-align: right;\n",
       "    }\n",
       "</style>\n",
       "<table border=\"1\" class=\"dataframe\">\n",
       "  <thead>\n",
       "    <tr style=\"text-align: right;\">\n",
       "      <th></th>\n",
       "      <th>source</th>\n",
       "      <th>target</th>\n",
       "      <th>origin</th>\n",
       "    </tr>\n",
       "  </thead>\n",
       "  <tbody>\n",
       "    <tr>\n",
       "      <th>0</th>\n",
       "      <td>dhrtarastra uvaca</td>\n",
       "      <td>dhṛtarāṣṭra uvāca</td>\n",
       "      <td>pdf</td>\n",
       "    </tr>\n",
       "    <tr>\n",
       "      <th>1</th>\n",
       "      <td>dharma-ksetre kuru-ksetre samaveta yuyutsavah</td>\n",
       "      <td>dharma-kṣetre kuru-kṣetre samavetā yuyutsavaḥ</td>\n",
       "      <td>pdf</td>\n",
       "    </tr>\n",
       "    <tr>\n",
       "      <th>2</th>\n",
       "      <td>mamakah pandavas caiva kim akurvata sanjaya</td>\n",
       "      <td>māmakāḥ pāṇḍavāś caiva kim akurvata sañjaya</td>\n",
       "      <td>pdf</td>\n",
       "    </tr>\n",
       "    <tr>\n",
       "      <th>3</th>\n",
       "      <td>karpanya-dosopahata-svabhavah</td>\n",
       "      <td>kārpaṇya-doṣopahata-svabhāvaḥ</td>\n",
       "      <td>pdf</td>\n",
       "    </tr>\n",
       "    <tr>\n",
       "      <th>4</th>\n",
       "      <td>prechami tvam dharma-sammudha-cetah</td>\n",
       "      <td>pṛcchāmi tvāṁ dharma-sammūḍha-cetāḥ</td>\n",
       "      <td>pdf</td>\n",
       "    </tr>\n",
       "  </tbody>\n",
       "</table>\n",
       "</div>"
      ],
      "text/plain": [
       "                                          source  \\\n",
       "0                              dhrtarastra uvaca   \n",
       "1  dharma-ksetre kuru-ksetre samaveta yuyutsavah   \n",
       "2    mamakah pandavas caiva kim akurvata sanjaya   \n",
       "3                  karpanya-dosopahata-svabhavah   \n",
       "4            prechami tvam dharma-sammudha-cetah   \n",
       "\n",
       "                                          target origin  \n",
       "0                              dhṛtarāṣṭra uvāca    pdf  \n",
       "1  dharma-kṣetre kuru-kṣetre samavetā yuyutsavaḥ    pdf  \n",
       "2    māmakāḥ pāṇḍavāś caiva kim akurvata sañjaya    pdf  \n",
       "3                  kārpaṇya-doṣopahata-svabhāvaḥ    pdf  \n",
       "4            pṛcchāmi tvāṁ dharma-sammūḍha-cetāḥ    pdf  "
      ]
     },
     "execution_count": 39,
     "metadata": {},
     "output_type": "execute_result"
    }
   ],
   "source": [
    "test_df.head()"
   ]
  },
  {
   "cell_type": "code",
   "execution_count": 40,
   "metadata": {},
   "outputs": [],
   "source": [
    "test_df['source'] = test_df['source'].astype(str).str.lower()"
   ]
  },
  {
   "cell_type": "code",
   "execution_count": 41,
   "metadata": {},
   "outputs": [
    {
     "name": "stdout",
     "output_type": "stream",
     "text": [
      "error\n",
      "error\n",
      "error\n",
      "error\n",
      "error\n",
      "error\n",
      "error\n",
      "error\n",
      "error\n",
      "error\n",
      "error\n",
      "error\n",
      "error\n",
      "error\n",
      "error\n",
      "error\n",
      "error\n",
      "error\n",
      "error\n",
      "error\n",
      "error\n",
      "error\n",
      "error\n",
      "error\n"
     ]
    }
   ],
   "source": [
    "X_test = []\n",
    "y_test = []\n",
    "origin = []\n",
    "for x, y, s in zip(test_df['source'].tolist(), test_df['target'].tolist(), test_df['origin']):\n",
    "    try:\n",
    "        X_test.append(np.array([vocab_to_int[ch] for ch in x]))\n",
    "        y_test.append(y)\n",
    "        origin.append(s)\n",
    "    except:\n",
    "        print(\"error\")"
   ]
  },
  {
   "cell_type": "code",
   "execution_count": 42,
   "metadata": {},
   "outputs": [
    {
     "data": {
      "text/plain": [
       "[array([15, 19, 29, 31, 12, 29, 12, 30, 31, 29, 12,  1, 32, 33, 12, 14, 12]),\n",
       " array([15, 19, 12, 29, 24, 12,  7, 22, 30, 16, 31, 29, 16,  1, 22, 32, 29,\n",
       "        32,  7, 22, 30, 16, 31, 29, 16,  1, 30, 12, 24, 12, 33, 16, 31, 12,\n",
       "         1, 34, 32, 34, 32, 31, 30, 12, 33, 12, 19])]"
      ]
     },
     "execution_count": 42,
     "metadata": {},
     "output_type": "execute_result"
    }
   ],
   "source": [
    "X_test[:2]"
   ]
  },
  {
   "cell_type": "code",
   "execution_count": 43,
   "metadata": {
    "collapsed": true
   },
   "outputs": [],
   "source": [
    "X_test = pad_sequences(X_test, maxlen=SEQ_LENGTH, dtype='int32', padding='post', truncating='post')"
   ]
  },
  {
   "cell_type": "code",
   "execution_count": 44,
   "metadata": {},
   "outputs": [
    {
     "name": "stdout",
     "output_type": "stream",
     "text": [
      "403/403 [==============================] - 1s 1ms/step\n"
     ]
    }
   ],
   "source": [
    "x_test_pred = model.predict_classes(X_test, verbose=1)"
   ]
  },
  {
   "cell_type": "code",
   "execution_count": 45,
   "metadata": {},
   "outputs": [
    {
     "data": {
      "text/plain": [
       "array([[15, 19, 51, ...,  0,  0,  0],\n",
       "       [15, 19, 12, ...,  0,  0,  0],\n",
       "       [24, 40, 24, ...,  0,  0,  0],\n",
       "       ...,\n",
       "       [15, 20, 31, ...,  0,  0,  0],\n",
       "       [14, 43, 15, ...,  0,  0,  0],\n",
       "       [30, 12, 29, ...,  0,  0,  0]])"
      ]
     },
     "execution_count": 45,
     "metadata": {},
     "output_type": "execute_result"
    }
   ],
   "source": [
    "x_test_pred"
   ]
  },
  {
   "cell_type": "code",
   "execution_count": 46,
   "metadata": {},
   "outputs": [],
   "source": [
    "test_prediction_string = []\n",
    "x_test_string = []\n",
    "for row in x_test_pred:\n",
    "    test_prediction_string.append(\"\".join([int_to_vocab[c] if c > 0 else '' for c in row]))\n",
    "    \n",
    "    \n",
    "for row in X_test:\n",
    "    x_test_string.append(\"\".join([int_to_vocab[c] if c > 0 else '' for c in row]))\n"
   ]
  },
  {
   "cell_type": "code",
   "execution_count": 47,
   "metadata": {},
   "outputs": [
    {
     "data": {
      "text/plain": [
       "['dhṛtarāṣṭra uvāca',\n",
       " 'dharma-kṣetre kuru-kṣetre samaveta yuyutsavaḥ',\n",
       " 'māmakaḥ paṇḍavaś caiva kim akurvata sañjaya',\n",
       " 'karpaṇya-doṣopahata-svabhavaḥ',\n",
       " 'pṛcchāmi tvaṁ dharma-sammudha-cetaḥ',\n",
       " 'yac chreyaḥ syān niścitaṁ brūhi tan me',\n",
       " 'śiśyas te\\xa0’haṁ sadhi maṁ tvaṁ prapannaṁ',\n",
       " 'śrī-bhagavān uvāca',\n",
       " 'aśocyān anvaśocas tvaṁ prajña-vadāṁś ca bhāsase',\n",
       " 'gatasūn agatasuṁś ca nanuśocanti paṇḍitaḥ',\n",
       " 'na tv evahaṁ jatu naśaṁ na tvaṁ neme janādhipaḥ',\n",
       " 'na caiva na bhaviṣyamaḥ sarve vayam ataḥ param',\n",
       " 'dehino\\xa0’smin yathā dehe kaumaraṁ yauvanaṁ jarā',\n",
       " 'tathā dehantara-praptir dhiras tatra na muhyati',\n",
       " 'matra-sparśas tu kaunteya sitoṣṇa-sukha-duḥkha-daḥ',\n",
       " 'agamapāyino\\xa0’nityas taṁs titikṣasva bhārata',\n",
       " 'avināsi tu tad viddhi yena sarvam idaṁ tataṁ',\n",
       " 'vināsam avyayasyasya na kaścit kartum arhati',\n",
       " 'na jāyate mriyate va kadācin nayaṁ bhūtvā bhavita va nā bhūyaḥ',\n",
       " 'ajo nityaḥ śaśvato\\xa0’yaṁ puraṇo na hanyate hanyamāne śarīre',\n",
       " 'vasāṁsi jīrṇāni yathā vihāya',\n",
       " 'navāni gṛhṇati naro\\xa0’parāṇi',\n",
       " 'tathā śarīrāṇi vihaya jīrṇāny',\n",
       " 'anyāni samyati navani dehi',\n",
       " 'nainaṁ chindanti śastrāṇi nainaṁ dahati pāvakaḥ',\n",
       " 'na cainaṁ kledayanty apo na śoṣayati mārutaḥ',\n",
       " 'nehabhikrama-nāśo\\xa0’sti pratyavayo na vidyate',\n",
       " 'sv-alpam apy asya dharmasya trayate mahato bhayāt',\n",
       " 'bhogaiśvarya-praśaktanaṁ tayapāhṛta-cetasam',\n",
       " 'vyāvasayātmika buddhiḥ samadhau na vidhīyate',\n",
       " 'karmaṇy evadhikaras te ma phaleṣu kadācana',\n",
       " 'ma karma-phala-hetur bhur ma te saṅgo\\xa0’stv akarmaṇi',\n",
       " 'viṣayā vinivartante niraharasya dehināḥ',\n",
       " 'rāsa-varjaṁ raso\\xa0’py asya paraṁ dṛṣṭvā nirvartate',\n",
       " 'tāni sarvāṇi saṁyamya yukta āsita mat-paraḥ',\n",
       " 'vase hi yasyendriyāṇi tasya prajīma pratiṣṭhita',\n",
       " 'dhyāyato viṣayān puṁsaḥ saṅgas teṣupajāyate',\n",
       " 'saṅgāt salijayate kamaḥ kamat krodho\\xa0’bhijāyate',\n",
       " 'krodhad bhavati sammohaḥ sammohat smṛti-vibhramaḥ',\n",
       " 'smṛti-bhrāṁśad buddhi-naśo buddhi-nāśat praṇasyati',\n",
       " 'ya niśa sarva-bhūtānaṁ tasyaṁ jagarti samyāmi',\n",
       " 'yasyaṁ jagrati bhūtāni sa niśa paśyato muneḥ',\n",
       " 'na hi kaścit kṣaṇam api jatu tiṣṭhaty akarma-kṛt',\n",
       " 'karyate hy avasaḥ karma sarvaḥ prakṛti-jair guṇaiḥ',\n",
       " 'karmendriyāṇi samyamya ya āste manasā smaran',\n",
       " 'indriyārthān vimudhātma mithyācaraḥ sa ucyate',\n",
       " 'niyataṁ kuru karma tvaṁ karma jyayo hy akarmaṇāḥ',\n",
       " 'śarīra-yatrapi ca te na prasiddhyed akarmaṇāḥ',\n",
       " 'yajñārthāt karmaṇo\\xa0’nyatra loko\\xa0’yaṁ karma-bandhanaḥ',\n",
       " 'tad-arthaṁ karma kaunteya mukta-saṅgaḥ samācara',\n",
       " 'yajjiā-śiṣṭāsinaḥ santo mucyante sarva-kilbiṣaiḥ',\n",
       " 'bhūjijate te tv aghaṁ papa ye pacanty ātma-karaṇāt',\n",
       " 'annād bhavanti bhūtāni parjanyad anna-sambhavaḥ',\n",
       " 'bhavati parjanyo yajjiāḥ karma-samudbhavaḥ',\n",
       " 'ajo\\xa0’pi sann avyayātma bhūtānām īśvaro\\xa0’pi sān',\n",
       " 'prakṛtiṁ svam adhiṣṭhaya sambhavāmy ātma-māyayā',\n",
       " 'yadā yadā hi dharmasya glanir bhavati bhārata',\n",
       " 'abhyutthānām adharmasya tadātmanaṁ sṛiāmy aham',\n",
       " 'paritraṇāya sadhunāṁ vināśaya ca duṣkṛtam',\n",
       " 'dharma-saṁsthāpanārthaya sambhavāmi yuge yuge',\n",
       " 'janma karma ca me divyam evaṁ yo vetti tattvataḥ',\n",
       " 'tyaktvā dehaṁ punar janma naiti mam eti so\\xa0’rjunā',\n",
       " 'ye yathā maṁ prapadyante taṁs tathaiva bhajamy aham',\n",
       " 'māmā vārtmanuvartante manuṣyaḥ partha sarvaśaḥ',\n",
       " 'catur-varṇyaṁ maya sṛṣṭaṁ guṇa-karma-vibhāgaśaḥ',\n",
       " 'tasya kartaram api maṁ viddhy akartaram avyayam',\n",
       " 'tad viddhi praṇipatena pariprasnena sevayā',\n",
       " 'upadekṣyanti te jjanaṁ tattva-darśinaḥ',\n",
       " 'vidya-vināya-sampanne brahmaṇe gavi hastini',\n",
       " 'suni caiva sva-pake ca paṇḍitaḥ sama-darśinaḥ',\n",
       " 'ye hi saṁsparśa-ja bhoga duḥkha-yonaya eva te',\n",
       " 'ādy-antavantaḥ kaunteya na teṣu ramate budhaḥ',\n",
       " 'bhoktaraṁ yajjia-tapasaṁ sarva-loka-maheśvaram',\n",
       " 'suhṛdāṁ sarva-bhūtānaṁ jjiātva maṁ śantim ṛcchati',\n",
       " 'śrī-bhagavān uvāca',\n",
       " 'anāśritaḥ karma-phalaṁ karyaṁ karma karoti yaḥ',\n",
       " 'sa sannyasi ca yogi ca na niragnir na cakriyaḥ',\n",
       " 'uddhared ātmanātmanaṁ nātmanam avasādayet',\n",
       " 'ātmaiva hy ātmano bandhur ātmaiva ripur ātmanaḥ',\n",
       " 'yuktahara-viharasya yukta-ceṣṭasya karmasu',\n",
       " 'yukta-svapnavabodhasya yogo bhavati duḥkha-hā',\n",
       " 'sukham atyantikaṁ yat tad buddhi-grahyam atindriyam',\n",
       " 'vetti yatra na caivayaṁ sthitaś calati tattvataḥ',\n",
       " 'yaṁ labdhvā caparaṁ labhaṁ manyate nadhikaṁ tataḥ',\n",
       " 'yasmin sthito na duḥkhena guruṇāpi vicalyate',\n",
       " 'taṁ vidyād duḥkha-saṁyoga- viyogaṁ yoga-saṁjīiitaṁ',\n",
       " 'yato yato niścalati manaś cajicalam asthiram',\n",
       " 'tatas tato niyamyaitad ātmany eva vasaṁ nayet',\n",
       " 'yo maṁ paśyati sarvatra sarvaṁ ca mayi paśyati',\n",
       " 'tasyāhaṁ na praṇasyami sa ca me na praṇasyati',\n",
       " 'cajicalaṁ hi manaḥ kṛṣṇa pramathi balavad dṛḍhaṁ',\n",
       " 'tasyāhaṁ nigrahaṁ manye vayor iva su-duṣkaram',\n",
       " 'prāpya puṇya-kṛtaṁ lokān uṣitva śaśvatiḥ samaḥ',\n",
       " 'sucināṁ śrīmataṁ gehe yoga-bhraṣṭo\\xa0’bhijāyate',\n",
       " 'yogīnām api sarveṣāṁ mad-gatenantar-ātmanā',\n",
       " 'śraddhavān bhajate yo maṁ sa me yuktatamo mataḥ',\n",
       " 'śrī-bhagavān uvāca',\n",
       " 'mayy aśakta-manaḥ partha yogaṁ yujijan mad-āśrayaḥ',\n",
       " 'aśaṁśayaṁ samagraṁ maṁ yathā tac chṛṇu',\n",
       " 'manuṣyānāṁ sahaśreṣu kaścid yatati siddhaye',\n",
       " 'yatatam api siddhānaṁ kaścin maṁ vetti tattvataḥ',\n",
       " 'bhūmir apo\\xa0’nalo vayuḥ khaṁ mano buddhir eva ca',\n",
       " 'ahaṅkāra itiyaṁ me bhinna prakṛtir astādha',\n",
       " 'apareyam itas tv anyaṁ prakṛtiṁ viddhi me param',\n",
       " 'jīva-bhūtaṁ maha-baho yayedaṁ dharyate jagat',\n",
       " 'mattaḥ parataraṁ nanyat kijcid asti dhananijaya',\n",
       " 'mayi sarvam idaṁ protaṁ sutre mani-gaṇā iva',\n",
       " 'rāso\\xa0’ham āpsu kaunteya prabhasmi saśi-sūryayoḥ',\n",
       " 'praṇāvaḥ sarva-vedeṣu śabdaḥ khe pauruṣaṁ nṛṣu',\n",
       " 'balaṁ bālavataṁ cahaṁ kāma-raga-vivarjitam',\n",
       " 'dharmāviruddho bhūteṣu kamo\\xa0’smi bharatarṣabha',\n",
       " 'tribhir guṇa-mayair bhavair ebhiḥ sarvam idaṁ jagat',\n",
       " 'mohitaṁ nabhijanati mam ebhyaḥ param avyayaṁ',\n",
       " 'daivi hy eṣa guṇa-mayi māma maya duratyaya',\n",
       " 'mam eva ye prapadyante mayam etaṁ taranti te',\n",
       " 'na maṁ duṣkṛtino mudhaḥ prapadyante narādhamaḥ',\n",
       " 'māyāyāpāhṛta-jjana āsuraṁ bhavam āśritaḥ',\n",
       " 'catur-vidhā bhajante maṁ janaḥ sukṛtino\\xa0’rjunā',\n",
       " 'arto jijmāṣur arthārthi ca bharatarṣabha',\n",
       " 'bahunaṁ janmanam ante maṁ prapadyate',\n",
       " 'vāsudevaḥ sarvam iti sa mahātma su-durlabhaḥ',\n",
       " 'kāmais tais tair hṛta-jñānaḥ prapadyante\\xa0’nya-devatāḥ',\n",
       " 'taṁ taṁ niyamām asthāya prakṛtya niyataḥ svaya',\n",
       " 'antavat tu phalaṁ teṣaṁ tad bhavaty alpa-medhasam',\n",
       " 'devān deva-yajo yanti mad-bhakta-yanti mām āpi',\n",
       " 'avyaktaṁ vyaktim apannaṁ manyante mam abuddhayaḥ',\n",
       " 'paraṁ bhavam ajananto mamavyayam anuttamam',\n",
       " 'nahaṁ prakaśaḥ sarvasya yoga-māya-savavṛtaḥ',\n",
       " 'mugho\\xa0’yaṁ nabhijanati loko mam ajam avyayam',\n",
       " 'vedāhaṁ samatitani vartamānāni carjunā',\n",
       " 'bhaviṣyāṇi ca bhūtāni maṁ tu veda na kaścana',\n",
       " 'iccha-dveṣā samutthena dvandva-mohena bhārata',\n",
       " 'sarva-bhūtāni sammohaṁ sarge yanti parantapa',\n",
       " 'yeṣāṁ tv anta-gataṁ pāpaṁ jananaṁ punya-karmaṇām',\n",
       " 'te dvāndva-moha-nirmukta bhajante maṁ dṛḍha-vrataḥ',\n",
       " 'anta-kāle ca mam eva smaran muktvā kalevaram',\n",
       " 'yaḥ prayati sa mad-bhavaṁ yati nasty atra saṁśayaḥ',\n",
       " 'yaṁ yaṁ vapi smaran bhavaṁ tyajaty ante kalevaram',\n",
       " 'taṁ tam evaiti kaunteya sada tad-bhava-bhāvitāḥ',\n",
       " 'mam upetya punar janma duḥkhalayam aśasvatam',\n",
       " 'nāpnuvanti mahātmanaḥ saṁsiddhiṁ paramaṁ gataḥ',\n",
       " 'a-brahma-bhuvanal lokaḥ punar avartino\\xa0’rjunā',\n",
       " 'mam upetya tu kaunteya punar janma na vidyate',\n",
       " 'sahasra-yuga-paryantam ahar yad brahmaṇo vidhuḥ',\n",
       " 'rātrīṁ yuga-sahasrantaṁ te\\xa0’ho-ratra-vido janaḥ',\n",
       " 'bhūta-gramaḥ sa evayaṁ bhūtvā bhūtvā pralīyate',\n",
       " 'rātry-agame\\xa0’vasaḥ partha prabhavaty ahar-āgame',\n",
       " 'paras tasmāt tu bhāvo\\xa0’nyo\\xa0’vyakto\\xa0’vyaktat sanātanaḥ',\n",
       " 'yaḥ sa sarveṣu bhūteṣu nasyatsu na vinaśyati',\n",
       " 'rāja-vidyā raja-guhyaṁ pavitram idam uttamam',\n",
       " 'pratyakṣavagāmaṁ dharmyaṁ su-sukhaṁ kartum avyayaṁ',\n",
       " 'aśraddadhānaḥ puruṣa dharmasyasya parantapa',\n",
       " 'aprapya maṁ nivartante mṛtyu-saṁsara-vartmani',\n",
       " 'māyā tatam idaṁ sarvaṁ jagad avyakta-mūrtinā',\n",
       " 'mat-sthāni sarva-bhūtāni na cahaṁ teṣv avasthitaḥ',\n",
       " 'na ca mat-sthāni bhūtāni paśya me yogam aiśvaram',\n",
       " 'bhūta-bhṛn na ca bhita-stho mamātma bhīuta-bhāvanaḥ',\n",
       " 'mayādhyakṣena prakṛtiḥ sūyate sa-carācaram',\n",
       " 'hetunānena kaunteya jagad viparivartate',\n",
       " 'āvajananti maṁ mudha manuṣiṁ tanum āśritam',\n",
       " 'paraṁ bhavam ajananto mama bhūta-maheśvaram',\n",
       " 'moghāsā mogha-karmaṇo mogha-jñana vicetasaḥ',\n",
       " 'rākṣasīm asuriṁ caiva prakṛtiṁ mohinīṁ śrītaḥ',\n",
       " 'mahātmanas tu maṁ partha daivīṁ prakṛtim aśritaḥ',\n",
       " 'bhajanty ananya-manaso jhatva bhūtadim avyayam',\n",
       " 'satataṁ kīrtayanto maṁ yatantaś ca dṛḍha-vrataḥ',\n",
       " 'namasyantaś ca maṁ bhaktyā nitya-yukta upāsate',\n",
       " 'pitāham asya jagato mata dhata pitāmahaḥ',\n",
       " 'vedyaṁ pavitram oṁkara ṛk sama yajur eva ca',\n",
       " 'te taṁ bhuktvā svarga-lokaṁ viśalam',\n",
       " 'kṣiṇe punye martya-lokaṁ viśanti',\n",
       " 'evaṁ trayi-dharmam anuprapannā',\n",
       " 'gatāgataṁ kāma-kāma labhānte',\n",
       " 'ananyaś cintayanto maṁ ye janaḥ paryupāsate',\n",
       " 'teṣāṁ nityabhiyuktanaṁ yoga-kṣemaṁ vahāmy aham',\n",
       " 'ye\\xa0’py anya-devata-bhakta yajante śraddhayānvitaḥ',\n",
       " 'te\\xa0’pi mam eva kaunteya yajanty avidhi-pūrvakam',\n",
       " 'yanti deva-vrata devan pitṝn yanti pitṛ-vrataḥ',\n",
       " 'bhūtāni yanti bhūtejya yanti mad-yajino\\xa0’pi mam',\n",
       " 'patraṁ puṣpaṁ phalaṁ toyaṁ yo me bhakta prayacchati',\n",
       " 'tad ahaṁ bhakty-upahṛtam asnāmi prayatātmanaḥ',\n",
       " 'yat karoṣi yad asnasi yaj juhoṣi dadāsi yat',\n",
       " 'yat tapasyasi kaunteya tat kuruṣva mad-arpaṇam',\n",
       " 'samo\\xa0’haṁ sarva-bhūteṣu na me dveṣyo\\xa0’sti na priyaḥ',\n",
       " 'ye bhajanti tu maṁ bhaktyā mayi te teṣu capy aham',\n",
       " 'api cet su-durācaro bhajate mam ananya-bhāk',\n",
       " 'sādhur eva sa mantavyaḥ samyag vyavasito hi saḥ',\n",
       " 'kṣipraṁ bhavati dharmātma sasvac-chantiṁ nigacchati',\n",
       " 'kaunteya pratijanīhi na me bhaktaḥ praṇasyati',\n",
       " 'maṁ hi pārtha vyapāśritya ye\\xa0’pi syuḥ pāpa-yonayaḥ',\n",
       " 'striyo vaiśyas tathā śudras te\\xa0’pi yanti paraṁ gatim',\n",
       " 'kiṁ punar brahmaṇaḥ punya bhakta rajarṣayas tathā',\n",
       " 'anityām asukhaṁ lokam imaṁ prapya bhajasva mam',\n",
       " 'man-māna bhava mad-bhakto mad-yaji maṁ namaskuru',\n",
       " 'mam evaiṣyasi yuktvaivam ātmanaṁ mat-parāyaṇaḥ',\n",
       " 'na me viduḥ sura-gaṇāḥ prabhavaṁ na maharṣayaḥ',\n",
       " 'aham adir hi devanaṁ maharṣiṇaṁ ca sarvaśaḥ',\n",
       " 'ahaṁ sarvasya prabhavo mattaḥ sarvaṁ pravartate',\n",
       " 'iti matvā bhajante maṁ budha bhava-samānvitaḥ',\n",
       " 'mac-cittā mad-gata-praṇā bodhayantaḥ parasparam',\n",
       " 'kathayantaś ca maṁ nityaṁ tuṣyanti ca ramanti ca',\n",
       " 'teṣāṁ satāta-yuktānaṁ bhajataṁ prīti-pūrvakam',\n",
       " 'dadāmi buddhi-yogaṁ taṁ yena mam upayanti te',\n",
       " 'teṣām evānukampartham aham ajjana-jaṁ tamaḥ',\n",
       " 'nāśayāmy ātma-bhāva-stho bhasvatā',\n",
       " 'arjuna uvāca',\n",
       " 'paraṁ brahma paraṁ dhāma pavitraṁ paramaṁ bhavān',\n",
       " 'puruṣaṁ sasvataṁ divyam ādi-devam ajaṁ vibhum',\n",
       " 'ahus tvam ṛṣayaḥ sarve devarṣir naradas tathā',\n",
       " 'asito devālo vyasaḥ svayaṁ caiva bravīṣi me',\n",
       " 'sarvam etad ṛtaṁ manye yan maṁ vadasi keśava',\n",
       " 'na hi te bhagavān vyaktiṁ vidur deva na dānavaḥ',\n",
       " 'mṛtyuḥ sarva-haraś caham udbhavaś ca bhaviṣyatam',\n",
       " 'sarva-yoniṣu kaunteya mūrtayaḥ sambhavanti yaḥ',\n",
       " 'tasaṁ brahma mahād yonir ahaṁ bija-pradaḥ pitā',\n",
       " 'ūrdhvaṁ gacchanti sattva-stha madhye tiṣṭhanti rājasāḥ',\n",
       " 'jaghanya-guṇa-vṛtti-stha adho gacchanti tamasaḥ',\n",
       " 'maṁ ca yo\\xa0’vyabhicareṇa bhakti-yogena sevate',\n",
       " 'sa guṇān samatityaitan brahma-bhūyāya kalpate',\n",
       " 'brahmaṇo hi pratiṣṭhaham amṛtasyavyayasya ca',\n",
       " 'śasvatasya ca dharmasya sukhasyaikantīkasya ca',\n",
       " 'śrī bhagavān uvāca',\n",
       " 'ūrdhva-mālam adhaḥ-sakham asvatthaṁ prahur avyayam',\n",
       " 'chandāṁsi yasya parṇani yas taṁ veda sa veda-vit',\n",
       " 'na tad bhaṣayate suryo na śaśaṅko na pāvakaḥ',\n",
       " 'yad gatvā na nivartante tad dhama paramaṁ mama',\n",
       " 'māmaivāṁśo jīva-loke jīva-bhūtaḥ sanātanaḥ',\n",
       " 'manaḥ sasṭhānindriyāṇi prakṛti-sthāni karṣatī',\n",
       " 'sarvasya cahaṁ hṛdi sannviṣṭho',\n",
       " 'mattaḥ smṛtir jjiānam apohanaṁ ca',\n",
       " 'vedaiś ca sarvair aham eva vedyo',\n",
       " 'vedānta-kṛd veda-vid eva caham',\n",
       " 'yo mam evam asammiudho janati puruṣottamam',\n",
       " 'sa sarva-vid bhajati maṁ sarva-bhāvena bhārata',\n",
       " 'śrī-bhagavān uvāca',\n",
       " 'abhūyaṁ sattva-saṁśuddhir jjana-yoga-vyavasthitiḥ',\n",
       " 'danaṁ damaś ca yajjiāś ca svadhyayas tapa ārjavam',\n",
       " 'ahiṁsa satyam akrodhas tyagaḥ santir apaiśūṇāṁ',\n",
       " 'dayā bhūteṣvv aloluptvaṁ mardavaṁ hrir acapalam',\n",
       " 'tejaḥ kṣamā dhṛtiḥ śaucam adroho nati-mānitā',\n",
       " 'bhavanti sampadaṁ daivim abhijatasya bhārata',\n",
       " 'pravṛttiṁ ca nivṛttiṁ ca jana na vidur asuraḥ',\n",
       " 'na śaucaṁ napi cacaro na satyaṁ teṣu vidyate',\n",
       " 'asatyam apratiṣṭhaṁ te jagad ahur anīśvaram',\n",
       " 'aparaspara-sambhūtaṁ kim anyat kama-haitukam',\n",
       " 'etaṁ dṛṣṭim avastabhya nasṭātmano\\xa0’lpa-buddhayaḥ',\n",
       " 'prabhāvanty ugra-karmaṇaḥ kṣayayā jagato\\xa0’hitaḥ',\n",
       " 'tri-vidhaṁ narakasyedaṁ dvaraṁ naśanam ātmanaḥ',\n",
       " 'kamaḥ krodhas tathā lobhas tasmād etat trayaṁ tyajet',\n",
       " 'yaḥ śastra-vidhim utsṛjya vartate kāma-kārataḥ',\n",
       " 'na sa siddhim avapnoti na sukhaṁ na paraṁ gatim',\n",
       " 'samo damas tapaḥ śaucaṁ kṣantir arjavam eva ca',\n",
       " 'jmanaṁ vijmanam astikyaṁ brahma-karma svabhāva-jam',\n",
       " 'sauryāṁ tejo dhṛtir dakṣyaṁ yuddhe capy apalāyanam',\n",
       " 'dānam īśvara-bhāvaś ca kṣatraṁ karma svabhāva-jam',\n",
       " 'kṛṣi-go-rakṣya-vanijyaṁ vaiṣya-karma svabhāva-jam',\n",
       " 'paricaryātmakaṁ karma sudrasyapi svabhāva-jam',\n",
       " 'sve sve karmaṇy abhirataḥ saṁsiddhiṁ labhate naraḥ',\n",
       " 'sva-karma-nirataḥ siddhiṁ yathā vindati tac chṛṇu',\n",
       " 'yataḥ pravṛttir bhūitanaṁ yena sarvam idaṁ tataṁ',\n",
       " 'sva-karmaṇā tam abhyarcya siddhiṁ vindati mānavaḥ',\n",
       " 'brahma-bhūtaḥ prasannātma na śocati na kaṅkṣatī',\n",
       " 'samaḥ sarveṣu bhūteṣu mad-bhaktiṁ labhate param',\n",
       " 'bhaktyā mam abhijanati yavan yaś casmi tattvataḥ',\n",
       " 'tato maṁ tattvato jmatva viṣate tad-anantaram',\n",
       " 'īśvaraḥ sarva-bhūtānaṁ hṛd-deśe\\xa0’rjuna tiṣṭhati',\n",
       " 'bhrāmayan sarva-bhūtāni yantrarūdhāni māyāyā',\n",
       " 'iti te jiaānam akhyataṁ guhyad guhyataraṁ mayā',\n",
       " 'vimṛśyaitad aśeṣeṇa yathecchasi tathā kuru',\n",
       " 'man-māna bhava mad-bhakto mad-yaji maṁ namaskuru',\n",
       " 'mam evaiṣyasi satyaṁ te pratijane priyo\\xa0’si me',\n",
       " 'sarva-dharman parityajya mam ekaṁ śaraṇaṁ vraja',\n",
       " 'ahaṁ tvaṁ sarva-papebhyo mokṣayiṣyami mā śucaḥ',\n",
       " 'ya idaṁ paramaṁ guhyaṁ mad-bhakteṣv abhidhasyati',\n",
       " 'bhaktiṁ mayi paraṁ kṛtvā mam evaiṣyaty asaṁśayaḥ',\n",
       " 'na ca tasmān manuṣyeṣu kaścin me priya-kṛttamaḥ',\n",
       " 'bhavitā na ca me tasmād anyaḥ priyataro bhuvi',\n",
       " 'arjuna uvāca',\n",
       " 'naṣṭo mohaḥ smṛtir labdha tvat-prasadān mayācyuta',\n",
       " 'sthito\\xa0’smi gata-sandehaḥ kariṣye vacanaṁ tava',\n",
       " 'yatra yogeśvaraḥ kṛṣṇo yatra partho dhanur-dharaḥ',\n",
       " 'tatra śśrīr vijayo bhūtir dhruva nitir matir mama',\n",
       " 'vijvaṁ vierurvaśatkīro',\n",
       " 'bhotābhavyathāvatprabiuḥ',\n",
       " 'bhūṭālerd bharabhṛdbhavo',\n",
       " 'bhoriemā bhorabhavancḥ',\n",
       " 'yaycḥ puruṣṣḥ siket kṣetrajjjotḥsara eva ca',\n",
       " 'yego yogāvidaṁ neta oradhānspuruṣejvarcḥ',\n",
       " 'carvaḥ śarvāly divaḥ sthanur bhotadirṇidhirevyaysḥ',\n",
       " 'cambhavo bhavano thaa prabhuriśvarcḥ',\n",
       " 'cvayambhoḥ puṣkarakṣo maḥsvansḥ',\n",
       " 'mādinīdhāno dhata vidhāra dhāturūrtaṁsḥ',\n",
       " 'iprameyo hṛṣīkelṣḥ padmansbho’mareprablicḥ',\n",
       " 'vijvakarma manuṣtvasṭa thaviṣṭhaḥ sthaviro dhruvaḥ',\n",
       " 'erhysḥ sijvato kṛṣṇo ichitālṣṣḥ prateṛdancḥ',\n",
       " 'orabhotāstrīkekubdhāṁs oavitreṁ majealaṁ param',\n",
       " 'jandḥ pṛṇādaḥ praṇo īyeṣṭhaḥ śreṣṭḥsḥ prajīpatiḥ',\n",
       " 'hnirānysgarbho bhogertho madhavo madhuṣīdaṅsḥ',\n",
       " 'vikramee dhanvee medhavee vikramsḥ kraṁḥ',\n",
       " 'imuttamo duradhārṣṣḥ letiraemavan',\n",
       " 'diśḥ saṁvatsaro vyalṣh oratyayaḥ sarvadārdansḥ',\n",
       " 'viṣikapirameystma carvayceaviniḥsṛtsḥ',\n",
       " 'veṣurvāsumanīḥ satycḥ camātma’sammitaḥ sameḥ',\n",
       " 'amoghīḥ puṇḍartkakṣo vṛṣakarma',\n",
       " 'rudroṁ bahujiraḥ babhrur vijvayonih ucijrāvgḥ',\n",
       " 'ametaḥ dajvara sthāmur vararcho mahātāpaḥ',\n",
       " 'carvageḥ sarvavidbhanur viśvakṣeno janārdancḥ',\n",
       " 'velo vedāvidavyargo vedargo vedavīt kaviḥ',\n",
       " 'lckādbyākṣṣḥ dharmadhyakṣaḥ kṛtāletaḥ',\n",
       " 'cāvurātma cārurvyaheḥ cavūrdaṁstrajcatūrthugḥ',\n",
       " 'bhajierṇr bhojinam thoeś caḥśiṣṇurjagedadijeḥ',\n",
       " 'magho vijryo jera vigvayonthī punarvaśuḥ',\n",
       " 'upendro vamancḥ praṁśur amogḥsḥ ducirarjitaḥ',\n",
       " 'iindṛḥ seṁgrahcḥ sṛgo dhṛtīma niyamo yamcḥ',\n",
       " 'velyo vaidyṣḥ sedaycgī virāha mādhavo madhuḥ',\n",
       " 'indriyo mahāmayo mahābalṣḥ',\n",
       " 'maheṣvaso mahibharta īriṇivṣṣḥ seraṁgeriḥ',\n",
       " 'miraddhāḥ surinando roviṇdo govidampatiḥ',\n",
       " 'mariciedamano haṁsaḥ suparo bhujagortamāḥ',\n",
       " 'hiragyaṇābhaḥ sutapaḥ padmanibhaḥ prajīpatiḥ',\n",
       " 'cūrīḥ gururamo dhimaḥ sūyaṅ sūpāparikeamaḥ',\n",
       " 'shaḥ saṁvārtako vanhiraṇilo dharagīdhāra',\n",
       " 'cuprasīdaḥ praśṣnnītmaḥ',\n",
       " 'catharta sathytaḥ sidhurjaṇhūrnārayago naraḥ',\n",
       " 'iṣaikhyeyo’prameyātma videa dṣṭabpechuciḥ',\n",
       " 'iddhārthaḥ siddhāsathalpaḥ siddhidaḥ siddhiṣṣdhānahī',\n",
       " 'viṣṭhī vembho viṣpuevigaparva viśodaraḥ',\n",
       " 'vardhano vardhamanatca viviktaḥ śrutiṣigacaḥ',\n",
       " 'cubhujo dūrdharo vigmī makendro vasudo vasuḥ',\n",
       " 'ojeṣṭejodyutidhāraḥ prakalitma pratīpanaḥ',\n",
       " 'ṛdvāhī spaśṭaḥsaro',\n",
       " 'ribbiṅg anddiḥ kumodiḥ',\n",
       " 'sutkepei kṣemakṛcchivaḥ',\n",
       " 'sige veen diel ī bo',\n",
       " 'mee a cae',\n",
       " 'udīrṇaḥ sarvataścakṣuranīśaḥ sagvatasthiraḥ',\n",
       " 'bhūdayo bhūṣaṇo bhatirāśokaḥ',\n",
       " 'arciṣmānārcitaḥ kumbho viduddhātma vidodhanaḥ',\n",
       " 'aniruddho’ pratirathaḥ pradyumno’mitavikramaḥ',\n",
       " 'kamadevaḥ kamopalaḥ kiṁś kṣotab kytigamcḥ',\n",
       " 'viromo dirraṁjyaḥ',\n",
       " 'bromminasn ī',\n",
       " 'drain d to',\n",
       " 'mahākramo mahākarma mahatera mahoragaḥ',\n",
       " 'mahākraturmahayajva mahāyajjio mahāhaviḥ',\n",
       " 'stavyaḥ stava-priyaḥ stotratḥ stutaḥ stota rāpa-priyaḥ',\n",
       " 'parṇaḥ purayita punyaḥ pugya-kīrtiraṇāmayaḥ',\n",
       " 'mānojivāstirthakaro vāsurera vāsupradcḥ',\n",
       " 'vasuprado vasudevo vasurvasumans haviḥ',\n",
       " 'viśvamārtirmahāmartir',\n",
       " 'caturmirtīḥ caturbahuv caturvy īha caturgetḥ',\n",
       " 'catuibhavaḥ caturvedaḥ videlaoat',\n",
       " 'cahasea mārdha vijvātma sahaseakpaḥ sahaścapat',\n",
       " 'ṁgādhaṁ jagataḥ seruḥ saryādharmaporakeamaḥ',\n",
       " 'bhotabhāvjabhavannathaḥ pevanaḥ pavano’nalaḥ',\n",
       " 'kāmāhi kamakpthantāl kimaḥ kamapeadaḥ prablhuḥ',\n",
       " 'idrīyo vyaktartipadcaṅ sahasrajidanāntajī',\n",
       " 'krodhahiṅ keidhakpthartaḥ viśvabahnṛmalīdharaḥ',\n",
       " 'acyutaḥ prathītaḥ pragaḥ peanado vasavanujaḥ',\n",
       " 'pān nidhiradhiśchanamapeamattaḥ pratiśchitaḥ',\n",
       " 'chandāḥ skandādhāro dhūryo vārado vāyurāhaṇāḥ',\n",
       " 'viṣudero bṛhadbhinuriḍidevaḥ purandaraḥ',\n",
       " 'daraḥ dauritjanejvaraḥ',\n",
       " 'pṛdmanibho’ravindikṣaḥ padmagarbhaḥ',\n",
       " 'mahārddhiripddho veddhitṁsī makkṣo gṛrudadhvajeḥ',\n",
       " 'dārabho bhīmāk samayajjio havichariḥ',\n",
       " 'carvālikpapalakṣaṇyo lakṣmivan samitijjiyaḥ',\n",
       " 'vikīro rolito margo herurdimodaraḥ sihaḥ',\n",
       " 'malitdhāro mahābhāgo vegavānamitajenaḥ',\n",
       " 'adbhavaḥ kṣobhano devaḥ śigarbhaḥ paramejvaraḥ',\n",
       " 'kārāgāṁ karagaṁ karta vikārta gṛhaṇo guhāḥ',\n",
       " 'vjavāsiyo vyavasthinaḥ saṁsthānaḥ sthanado dhruvaḥ',\n",
       " 'paramaspaṣṭastuścaḥ puṣṭaḥ jubhekṣiṇaḥ',\n",
       " 'amo virajo margo neyo',\n",
       " 'vailunthaḥ puruṣaḥ prīṇaḥ praṇadaḥ peanavaḥ pṛthuḥ',\n",
       " 'hirāṇysgirbhaḥ vyspto vāyurādholṣajaḥ',\n",
       " 'tuḥ sudarjainaḥ kilaḥ parameṣṭhī parigrahaḥ',\n",
       " 'ugraḥ saṁvatśiro dao viimo viśvadakṣiṇaḥ',\n",
       " 'anirviāṇaḥ sthaviṣṭho bhordharmāyāpo mahīmakhaḥ',\n",
       " 'nalkṣarraṇemirṇakṣatet kyamāḥ kṣimaḥ samīhanaḥ',\n",
       " 'yṛjīla ijyo makeīysīca keatub satraṁ setiṁ gatlḥ',\n",
       " 'carvadacī vimuktātmi servaijo',\n",
       " 'cūreataḥ sumukhāḥ śokṣmaḥ śubkadaḥ śubst',\n",
       " 'mañ charo jītakrodho virabshurvidīragaḥ',\n",
       " 'svāpanaḥ svavaśo vyapi naikātma naikakarmakṛt',\n",
       " 'vatsaro vatsalo vatsi ratnagarbho dhaneśvaraḥ',\n",
       " 'eabhāṣṭinemihī settvasṭhahī siṁho bhotaṁshejvarṣḥ',\n",
       " 'sdidevo mahādevo develo devabhṛdguruhī',\n",
       " 'ūrtaro gopatirgopta jjiānagāmysḥ purṣṭancḥ',\n",
       " 'śartrabhatabhṛdbhckea kapindro bharidakṣiṅgḥ',\n",
       " 'comapo’mtāpshī somahī purujitpuruśartaṁsḥ',\n",
       " 'vinayo jaysḥ sṣṭyāsandho daiirhaḥ sitvataṁ patiḥ',\n",
       " 'jo mshārhaḥ svabhāvyo jiramitṛcḥ pramodancḥ',\n",
       " 'jñando nandano nandahī setyadharma trivikramaḥ',\n",
       " 'ripadāstridadādhyakṣoṁ kṛeantalert',\n",
       " 'mahāvargho govindṣhī suṣenṣḥ kanākaṅged',\n",
       " 'hyo gābhiro gṣhanoñ guptadālragadadharcḥ',\n",
       " 'vedḥṣhī svāṅgo’jitaḥ kṛṣṇo dṛḍhahī sanikerṣañccyutcḥ',\n",
       " 'vartno varuṇo puṣkarkṣo mahāmansḥ',\n",
       " 'bhagavīn bhagshanand vanamalī halāyudhaḥ',\n",
       " 'dityo jyoirādityah eṣhiṣṇurgetiṣāttaṁsḥ',\n",
       " 'cūdhanya khaṇḍaparajirdśruṇo draviṇāpradeḥ',\n",
       " 'sarvādṛgyyāśo vācaspatirayoniḥ']"
      ]
     },
     "execution_count": 47,
     "metadata": {},
     "output_type": "execute_result"
    }
   ],
   "source": [
    "test_prediction_string"
   ]
  },
  {
   "cell_type": "code",
   "execution_count": 48,
   "metadata": {},
   "outputs": [],
   "source": [
    "final_df = pd.DataFrame(columns=[\"source\", \"target\", \"prediction\", \"origin\"])"
   ]
  },
  {
   "cell_type": "code",
   "execution_count": 49,
   "metadata": {
    "collapsed": true
   },
   "outputs": [],
   "source": [
    "final_df['source'] = x_test_string\n",
    "final_df['target'] = y_test\n",
    "final_df['prediction'] = test_prediction_string\n",
    "final_df['origin'] = origin"
   ]
  },
  {
   "cell_type": "code",
   "execution_count": 50,
   "metadata": {},
   "outputs": [
    {
     "data": {
      "text/html": [
       "<div>\n",
       "<style scoped>\n",
       "    .dataframe tbody tr th:only-of-type {\n",
       "        vertical-align: middle;\n",
       "    }\n",
       "\n",
       "    .dataframe tbody tr th {\n",
       "        vertical-align: top;\n",
       "    }\n",
       "\n",
       "    .dataframe thead th {\n",
       "        text-align: right;\n",
       "    }\n",
       "</style>\n",
       "<table border=\"1\" class=\"dataframe\">\n",
       "  <thead>\n",
       "    <tr style=\"text-align: right;\">\n",
       "      <th></th>\n",
       "      <th>source</th>\n",
       "      <th>target</th>\n",
       "      <th>prediction</th>\n",
       "      <th>origin</th>\n",
       "    </tr>\n",
       "  </thead>\n",
       "  <tbody>\n",
       "    <tr>\n",
       "      <th>0</th>\n",
       "      <td>dhrtarastra uvaca</td>\n",
       "      <td>dhṛtarāṣṭra uvāca</td>\n",
       "      <td>dhṛtarāṣṭra uvāca</td>\n",
       "      <td>pdf</td>\n",
       "    </tr>\n",
       "    <tr>\n",
       "      <th>1</th>\n",
       "      <td>dharma-ksetre kuru-ksetre samaveta yuyutsavah</td>\n",
       "      <td>dharma-kṣetre kuru-kṣetre samavetā yuyutsavaḥ</td>\n",
       "      <td>dharma-kṣetre kuru-kṣetre samaveta yuyutsavaḥ</td>\n",
       "      <td>pdf</td>\n",
       "    </tr>\n",
       "    <tr>\n",
       "      <th>2</th>\n",
       "      <td>mamakah pandavas caiva kim akurvata sanjaya</td>\n",
       "      <td>māmakāḥ pāṇḍavāś caiva kim akurvata sañjaya</td>\n",
       "      <td>māmakaḥ paṇḍavaś caiva kim akurvata sañjaya</td>\n",
       "      <td>pdf</td>\n",
       "    </tr>\n",
       "    <tr>\n",
       "      <th>3</th>\n",
       "      <td>karpanya-dosopahata-svabhavah</td>\n",
       "      <td>kārpaṇya-doṣopahata-svabhāvaḥ</td>\n",
       "      <td>karpaṇya-doṣopahata-svabhavaḥ</td>\n",
       "      <td>pdf</td>\n",
       "    </tr>\n",
       "    <tr>\n",
       "      <th>4</th>\n",
       "      <td>prechami tvam dharma-sammudha-cetah</td>\n",
       "      <td>pṛcchāmi tvāṁ dharma-sammūḍha-cetāḥ</td>\n",
       "      <td>pṛcchāmi tvaṁ dharma-sammudha-cetaḥ</td>\n",
       "      <td>pdf</td>\n",
       "    </tr>\n",
       "  </tbody>\n",
       "</table>\n",
       "</div>"
      ],
      "text/plain": [
       "                                          source  \\\n",
       "0                              dhrtarastra uvaca   \n",
       "1  dharma-ksetre kuru-ksetre samaveta yuyutsavah   \n",
       "2    mamakah pandavas caiva kim akurvata sanjaya   \n",
       "3                  karpanya-dosopahata-svabhavah   \n",
       "4            prechami tvam dharma-sammudha-cetah   \n",
       "\n",
       "                                          target  \\\n",
       "0                              dhṛtarāṣṭra uvāca   \n",
       "1  dharma-kṣetre kuru-kṣetre samavetā yuyutsavaḥ   \n",
       "2    māmakāḥ pāṇḍavāś caiva kim akurvata sañjaya   \n",
       "3                  kārpaṇya-doṣopahata-svabhāvaḥ   \n",
       "4            pṛcchāmi tvāṁ dharma-sammūḍha-cetāḥ   \n",
       "\n",
       "                                      prediction origin  \n",
       "0                              dhṛtarāṣṭra uvāca    pdf  \n",
       "1  dharma-kṣetre kuru-kṣetre samaveta yuyutsavaḥ    pdf  \n",
       "2    māmakaḥ paṇḍavaś caiva kim akurvata sañjaya    pdf  \n",
       "3                  karpaṇya-doṣopahata-svabhavaḥ    pdf  \n",
       "4            pṛcchāmi tvaṁ dharma-sammudha-cetaḥ    pdf  "
      ]
     },
     "execution_count": 50,
     "metadata": {},
     "output_type": "execute_result"
    }
   ],
   "source": [
    "final_df.head()"
   ]
  },
  {
   "cell_type": "code",
   "execution_count": 51,
   "metadata": {},
   "outputs": [],
   "source": [
    "final_df.to_csv('results_bilstm_seq_len_150_emb_100.csv', encoding='utf-8')"
   ]
  },
  {
   "cell_type": "code",
   "execution_count": null,
   "metadata": {
    "collapsed": true
   },
   "outputs": [],
   "source": []
  }
 ],
 "metadata": {
  "anaconda-cloud": {},
  "kernelspec": {
   "display_name": "Python 3",
   "language": "python",
   "name": "python3"
  },
  "language_info": {
   "codemirror_mode": {
    "name": "ipython",
    "version": 3
   },
   "file_extension": ".py",
   "mimetype": "text/x-python",
   "name": "python",
   "nbconvert_exporter": "python",
   "pygments_lexer": "ipython3",
   "version": "3.6.2"
  }
 },
 "nbformat": 4,
 "nbformat_minor": 1
}
