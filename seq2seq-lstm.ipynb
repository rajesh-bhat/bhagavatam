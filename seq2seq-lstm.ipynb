{
 "cells": [
  {
   "cell_type": "code",
   "execution_count": 1,
   "metadata": {
    "collapsed": true
   },
   "outputs": [],
   "source": [
    "import pandas as pd\n",
    "import numpy as np\n",
    "\n",
    "np.random.seed(1)"
   ]
  },
  {
   "cell_type": "code",
   "execution_count": 2,
   "metadata": {},
   "outputs": [
    {
     "name": "stderr",
     "output_type": "stream",
     "text": [
      "Using TensorFlow backend.\n"
     ]
    }
   ],
   "source": [
    "from keras.preprocessing.sequence import pad_sequences\n",
    "from keras.models import Sequential\n",
    "from keras.layers.core import Dense, Activation, Dropout\n",
    "from keras.layers.recurrent import LSTM, SimpleRNN\n",
    "from keras.layers.wrappers import TimeDistributed\n",
    "from keras.layers.embeddings import Embedding\n",
    "from keras.utils.np_utils import to_categorical\n",
    "from keras.layers import Bidirectional"
   ]
  },
  {
   "cell_type": "code",
   "execution_count": 3,
   "metadata": {
    "collapsed": true
   },
   "outputs": [],
   "source": [
    "df = pd.read_csv('train_data/eng_train.csv', encoding='utf-8')"
   ]
  },
  {
   "cell_type": "code",
   "execution_count": 4,
   "metadata": {},
   "outputs": [
    {
     "data": {
      "text/html": [
       "<div>\n",
       "<style scoped>\n",
       "    .dataframe tbody tr th:only-of-type {\n",
       "        vertical-align: middle;\n",
       "    }\n",
       "\n",
       "    .dataframe tbody tr th {\n",
       "        vertical-align: top;\n",
       "    }\n",
       "\n",
       "    .dataframe thead th {\n",
       "        text-align: right;\n",
       "    }\n",
       "</style>\n",
       "<table border=\"1\" class=\"dataframe\">\n",
       "  <thead>\n",
       "    <tr style=\"text-align: right;\">\n",
       "      <th></th>\n",
       "      <th>ids</th>\n",
       "      <th>sentences</th>\n",
       "      <th>OCR</th>\n",
       "    </tr>\n",
       "  </thead>\n",
       "  <tbody>\n",
       "    <tr>\n",
       "      <th>0</th>\n",
       "      <td>1.1.1.1</td>\n",
       "      <td>oṁ namo bhagavate vāsudevāya</td>\n",
       "      <td>om namo bhagavate vasudevaya</td>\n",
       "    </tr>\n",
       "    <tr>\n",
       "      <th>1</th>\n",
       "      <td>1.1.2.1</td>\n",
       "      <td>dharmaḥ projjhita-kaitavo ’tra paramo nirmatsa...</td>\n",
       "      <td>dharmah projjhita-kaitavo 'tra paramo nirmatsa...</td>\n",
       "    </tr>\n",
       "    <tr>\n",
       "      <th>2</th>\n",
       "      <td>1.1.2.2</td>\n",
       "      <td>vedyaṁ vāstavam atra vastu śivadaṁ tāpa-trayon...</td>\n",
       "      <td>vedyam vastavam atra vastu sivadam tapa-trayon...</td>\n",
       "    </tr>\n",
       "    <tr>\n",
       "      <th>3</th>\n",
       "      <td>1.1.2.3</td>\n",
       "      <td>śrīmad-bhāgavate mahā-muni-kṛte kiṁ vā parair ...</td>\n",
       "      <td>Ssrimad-bhagavate maha-muni-krte kim va parair...</td>\n",
       "    </tr>\n",
       "    <tr>\n",
       "      <th>4</th>\n",
       "      <td>1.1.2.4</td>\n",
       "      <td>sadyo hṛdy avarudhyate ’tra kṛtibhiḥ śuśrūṣubh...</td>\n",
       "      <td>sadyo hrdy avarudhyate 'tra krtibhih sugsrusub...</td>\n",
       "    </tr>\n",
       "    <tr>\n",
       "      <th>5</th>\n",
       "      <td>1.1.3.1</td>\n",
       "      <td>nigama-kalpa-taror galitaṁ phalaṁ</td>\n",
       "      <td>nigama-kalpa-taror galitam phalam</td>\n",
       "    </tr>\n",
       "    <tr>\n",
       "      <th>6</th>\n",
       "      <td>1.1.3.2</td>\n",
       "      <td>śuka-mukhād amṛta-drava-saṁyutam</td>\n",
       "      <td>suka-mukhad amrta-drava-samyutam</td>\n",
       "    </tr>\n",
       "    <tr>\n",
       "      <th>7</th>\n",
       "      <td>1.1.3.3</td>\n",
       "      <td>pibata bhāgavataṁ rasam ālayam</td>\n",
       "      <td>pibata bhagavatam rasam alayam</td>\n",
       "    </tr>\n",
       "    <tr>\n",
       "      <th>8</th>\n",
       "      <td>1.1.3.4</td>\n",
       "      <td>muhur aho rasikā bhuvi bhāvukāḥ</td>\n",
       "      <td>muhur aho rasika bhuvi bhavukah</td>\n",
       "    </tr>\n",
       "    <tr>\n",
       "      <th>9</th>\n",
       "      <td>1.1.4.1</td>\n",
       "      <td>naimiṣe ’nimiṣa-kṣetre</td>\n",
       "      <td>naimise 'nimisa-ksetre</td>\n",
       "    </tr>\n",
       "    <tr>\n",
       "      <th>10</th>\n",
       "      <td>1.1.4.2</td>\n",
       "      <td>ṛṣayaḥ śaunakādayaḥ</td>\n",
       "      <td>rsayah saunakadayah</td>\n",
       "    </tr>\n",
       "    <tr>\n",
       "      <th>11</th>\n",
       "      <td>1.1.4.3</td>\n",
       "      <td>satraṁ svargāya lokāya</td>\n",
       "      <td>satram svargaya lokaya</td>\n",
       "    </tr>\n",
       "    <tr>\n",
       "      <th>12</th>\n",
       "      <td>1.1.4.4</td>\n",
       "      <td>sahasra-samam āsata</td>\n",
       "      <td>sahasra-samam asata</td>\n",
       "    </tr>\n",
       "    <tr>\n",
       "      <th>13</th>\n",
       "      <td>1.1.5.1</td>\n",
       "      <td>ta ekadā tu munayaḥ</td>\n",
       "      <td>ta ekada tu munayah</td>\n",
       "    </tr>\n",
       "    <tr>\n",
       "      <th>14</th>\n",
       "      <td>1.1.5.2</td>\n",
       "      <td>prātar huta-hutāgnayaḥ</td>\n",
       "      <td>pratar huta-hutagnayah</td>\n",
       "    </tr>\n",
       "    <tr>\n",
       "      <th>15</th>\n",
       "      <td>1.1.5.3</td>\n",
       "      <td>sat-kṛtaṁ sūtam āsīnaṁ</td>\n",
       "      <td>sat-krtam sutam asinam</td>\n",
       "    </tr>\n",
       "    <tr>\n",
       "      <th>16</th>\n",
       "      <td>1.1.5.4</td>\n",
       "      <td>papracchur idam ādarāt</td>\n",
       "      <td>papracchur idam adarat</td>\n",
       "    </tr>\n",
       "    <tr>\n",
       "      <th>17</th>\n",
       "      <td>1.1.6.1</td>\n",
       "      <td>ṛṣaya ūcuḥ</td>\n",
       "      <td>rsaya ucuh</td>\n",
       "    </tr>\n",
       "    <tr>\n",
       "      <th>18</th>\n",
       "      <td>1.1.7.1</td>\n",
       "      <td>yāni veda-vidāṁ śreṣṭho</td>\n",
       "      <td>yani veda-vidam srestho</td>\n",
       "    </tr>\n",
       "    <tr>\n",
       "      <th>19</th>\n",
       "      <td>1.1.7.2</td>\n",
       "      <td>bhagavān bādarāyaṇaḥ</td>\n",
       "      <td>bhagavan badarayanah</td>\n",
       "    </tr>\n",
       "  </tbody>\n",
       "</table>\n",
       "</div>"
      ],
      "text/plain": [
       "        ids                                          sentences  \\\n",
       "0   1.1.1.1                       oṁ namo bhagavate vāsudevāya   \n",
       "1   1.1.2.1  dharmaḥ projjhita-kaitavo ’tra paramo nirmatsa...   \n",
       "2   1.1.2.2  vedyaṁ vāstavam atra vastu śivadaṁ tāpa-trayon...   \n",
       "3   1.1.2.3  śrīmad-bhāgavate mahā-muni-kṛte kiṁ vā parair ...   \n",
       "4   1.1.2.4  sadyo hṛdy avarudhyate ’tra kṛtibhiḥ śuśrūṣubh...   \n",
       "5   1.1.3.1                  nigama-kalpa-taror galitaṁ phalaṁ   \n",
       "6   1.1.3.2                   śuka-mukhād amṛta-drava-saṁyutam   \n",
       "7   1.1.3.3                     pibata bhāgavataṁ rasam ālayam   \n",
       "8   1.1.3.4                    muhur aho rasikā bhuvi bhāvukāḥ   \n",
       "9   1.1.4.1                             naimiṣe ’nimiṣa-kṣetre   \n",
       "10  1.1.4.2                                ṛṣayaḥ śaunakādayaḥ   \n",
       "11  1.1.4.3                             satraṁ svargāya lokāya   \n",
       "12  1.1.4.4                                sahasra-samam āsata   \n",
       "13  1.1.5.1                                ta ekadā tu munayaḥ   \n",
       "14  1.1.5.2                             prātar huta-hutāgnayaḥ   \n",
       "15  1.1.5.3                             sat-kṛtaṁ sūtam āsīnaṁ   \n",
       "16  1.1.5.4                             papracchur idam ādarāt   \n",
       "17  1.1.6.1                                         ṛṣaya ūcuḥ   \n",
       "18  1.1.7.1                            yāni veda-vidāṁ śreṣṭho   \n",
       "19  1.1.7.2                               bhagavān bādarāyaṇaḥ   \n",
       "\n",
       "                                                  OCR  \n",
       "0                        om namo bhagavate vasudevaya  \n",
       "1   dharmah projjhita-kaitavo 'tra paramo nirmatsa...  \n",
       "2   vedyam vastavam atra vastu sivadam tapa-trayon...  \n",
       "3   Ssrimad-bhagavate maha-muni-krte kim va parair...  \n",
       "4   sadyo hrdy avarudhyate 'tra krtibhih sugsrusub...  \n",
       "5                   nigama-kalpa-taror galitam phalam  \n",
       "6                    suka-mukhad amrta-drava-samyutam  \n",
       "7                      pibata bhagavatam rasam alayam  \n",
       "8                     muhur aho rasika bhuvi bhavukah  \n",
       "9                              naimise 'nimisa-ksetre  \n",
       "10                                rsayah saunakadayah  \n",
       "11                             satram svargaya lokaya  \n",
       "12                                sahasra-samam asata  \n",
       "13                                ta ekada tu munayah  \n",
       "14                             pratar huta-hutagnayah  \n",
       "15                             sat-krtam sutam asinam  \n",
       "16                             papracchur idam adarat  \n",
       "17                                         rsaya ucuh  \n",
       "18                            yani veda-vidam srestho  \n",
       "19                               bhagavan badarayanah  "
      ]
     },
     "execution_count": 4,
     "metadata": {},
     "output_type": "execute_result"
    }
   ],
   "source": [
    "df.head(20)"
   ]
  },
  {
   "cell_type": "code",
   "execution_count": 5,
   "metadata": {},
   "outputs": [
    {
     "data": {
      "text/html": [
       "<div>\n",
       "<style scoped>\n",
       "    .dataframe tbody tr th:only-of-type {\n",
       "        vertical-align: middle;\n",
       "    }\n",
       "\n",
       "    .dataframe tbody tr th {\n",
       "        vertical-align: top;\n",
       "    }\n",
       "\n",
       "    .dataframe thead th {\n",
       "        text-align: right;\n",
       "    }\n",
       "</style>\n",
       "<table border=\"1\" class=\"dataframe\">\n",
       "  <thead>\n",
       "    <tr style=\"text-align: right;\">\n",
       "      <th></th>\n",
       "      <th>ids</th>\n",
       "      <th>sentences</th>\n",
       "      <th>OCR</th>\n",
       "    </tr>\n",
       "  </thead>\n",
       "  <tbody>\n",
       "    <tr>\n",
       "      <th>count</th>\n",
       "      <td>50980</td>\n",
       "      <td>50980</td>\n",
       "      <td>50971</td>\n",
       "    </tr>\n",
       "    <tr>\n",
       "      <th>unique</th>\n",
       "      <td>45781</td>\n",
       "      <td>43891</td>\n",
       "      <td>43843</td>\n",
       "    </tr>\n",
       "    <tr>\n",
       "      <th>top</th>\n",
       "      <td>4.14.7.3</td>\n",
       "      <td>śrī-śuka uvāca</td>\n",
       "      <td>Sri-Suka uvaca</td>\n",
       "    </tr>\n",
       "    <tr>\n",
       "      <th>freq</th>\n",
       "      <td>2</td>\n",
       "      <td>346</td>\n",
       "      <td>346</td>\n",
       "    </tr>\n",
       "  </tbody>\n",
       "</table>\n",
       "</div>"
      ],
      "text/plain": [
       "             ids       sentences             OCR\n",
       "count      50980           50980           50971\n",
       "unique     45781           43891           43843\n",
       "top     4.14.7.3  śrī-śuka uvāca  Sri-Suka uvaca\n",
       "freq           2             346             346"
      ]
     },
     "execution_count": 5,
     "metadata": {},
     "output_type": "execute_result"
    }
   ],
   "source": [
    "df.describe()"
   ]
  },
  {
   "cell_type": "code",
   "execution_count": 6,
   "metadata": {
    "collapsed": true
   },
   "outputs": [],
   "source": [
    "filter_values = df['sentences'].str.len() == df['OCR'].str.len()"
   ]
  },
  {
   "cell_type": "code",
   "execution_count": 7,
   "metadata": {},
   "outputs": [
    {
     "data": {
      "text/plain": [
       "50980"
      ]
     },
     "execution_count": 7,
     "metadata": {},
     "output_type": "execute_result"
    }
   ],
   "source": [
    "len(filter_values)"
   ]
  },
  {
   "cell_type": "code",
   "execution_count": 8,
   "metadata": {
    "collapsed": true
   },
   "outputs": [],
   "source": [
    "filtered_df = df[filter_values]"
   ]
  },
  {
   "cell_type": "code",
   "execution_count": 9,
   "metadata": {},
   "outputs": [
    {
     "data": {
      "text/html": [
       "<div>\n",
       "<style scoped>\n",
       "    .dataframe tbody tr th:only-of-type {\n",
       "        vertical-align: middle;\n",
       "    }\n",
       "\n",
       "    .dataframe tbody tr th {\n",
       "        vertical-align: top;\n",
       "    }\n",
       "\n",
       "    .dataframe thead th {\n",
       "        text-align: right;\n",
       "    }\n",
       "</style>\n",
       "<table border=\"1\" class=\"dataframe\">\n",
       "  <thead>\n",
       "    <tr style=\"text-align: right;\">\n",
       "      <th></th>\n",
       "      <th>ids</th>\n",
       "      <th>sentences</th>\n",
       "      <th>OCR</th>\n",
       "    </tr>\n",
       "  </thead>\n",
       "  <tbody>\n",
       "    <tr>\n",
       "      <th>0</th>\n",
       "      <td>1.1.1.1</td>\n",
       "      <td>oṁ namo bhagavate vāsudevāya</td>\n",
       "      <td>om namo bhagavate vasudevaya</td>\n",
       "    </tr>\n",
       "    <tr>\n",
       "      <th>1</th>\n",
       "      <td>1.1.2.1</td>\n",
       "      <td>dharmaḥ projjhita-kaitavo ’tra paramo nirmatsa...</td>\n",
       "      <td>dharmah projjhita-kaitavo 'tra paramo nirmatsa...</td>\n",
       "    </tr>\n",
       "    <tr>\n",
       "      <th>2</th>\n",
       "      <td>1.1.2.2</td>\n",
       "      <td>vedyaṁ vāstavam atra vastu śivadaṁ tāpa-trayon...</td>\n",
       "      <td>vedyam vastavam atra vastu sivadam tapa-trayon...</td>\n",
       "    </tr>\n",
       "    <tr>\n",
       "      <th>5</th>\n",
       "      <td>1.1.3.1</td>\n",
       "      <td>nigama-kalpa-taror galitaṁ phalaṁ</td>\n",
       "      <td>nigama-kalpa-taror galitam phalam</td>\n",
       "    </tr>\n",
       "    <tr>\n",
       "      <th>6</th>\n",
       "      <td>1.1.3.2</td>\n",
       "      <td>śuka-mukhād amṛta-drava-saṁyutam</td>\n",
       "      <td>suka-mukhad amrta-drava-samyutam</td>\n",
       "    </tr>\n",
       "  </tbody>\n",
       "</table>\n",
       "</div>"
      ],
      "text/plain": [
       "       ids                                          sentences  \\\n",
       "0  1.1.1.1                       oṁ namo bhagavate vāsudevāya   \n",
       "1  1.1.2.1  dharmaḥ projjhita-kaitavo ’tra paramo nirmatsa...   \n",
       "2  1.1.2.2  vedyaṁ vāstavam atra vastu śivadaṁ tāpa-trayon...   \n",
       "5  1.1.3.1                  nigama-kalpa-taror galitaṁ phalaṁ   \n",
       "6  1.1.3.2                   śuka-mukhād amṛta-drava-saṁyutam   \n",
       "\n",
       "                                                 OCR  \n",
       "0                       om namo bhagavate vasudevaya  \n",
       "1  dharmah projjhita-kaitavo 'tra paramo nirmatsa...  \n",
       "2  vedyam vastavam atra vastu sivadam tapa-trayon...  \n",
       "5                  nigama-kalpa-taror galitam phalam  \n",
       "6                   suka-mukhad amrta-drava-samyutam  "
      ]
     },
     "execution_count": 9,
     "metadata": {},
     "output_type": "execute_result"
    }
   ],
   "source": [
    "filtered_df.head()"
   ]
  },
  {
   "cell_type": "code",
   "execution_count": 10,
   "metadata": {},
   "outputs": [
    {
     "data": {
      "text/plain": [
       "0.9351510396233818"
      ]
     },
     "execution_count": 10,
     "metadata": {},
     "output_type": "execute_result"
    }
   ],
   "source": [
    "len(filtered_df) / len(df)"
   ]
  },
  {
   "cell_type": "code",
   "execution_count": 11,
   "metadata": {},
   "outputs": [
    {
     "name": "stderr",
     "output_type": "stream",
     "text": [
      "/Users/rbhat/anaconda2/envs/san_ocr_enc_dec/lib/python3.6/site-packages/ipykernel_launcher.py:1: SettingWithCopyWarning: \n",
      "A value is trying to be set on a copy of a slice from a DataFrame.\n",
      "Try using .loc[row_indexer,col_indexer] = value instead\n",
      "\n",
      "See the caveats in the documentation: http://pandas.pydata.org/pandas-docs/stable/indexing.html#indexing-view-versus-copy\n",
      "  \"\"\"Entry point for launching an IPython kernel.\n"
     ]
    }
   ],
   "source": [
    "filtered_df['OCR'] = filtered_df['OCR'].astype(str).str.lower()"
   ]
  },
  {
   "cell_type": "code",
   "execution_count": 12,
   "metadata": {},
   "outputs": [
    {
     "data": {
      "text/plain": [
       "0                         om namo bhagavate vasudevaya\n",
       "1    dharmah projjhita-kaitavo 'tra paramo nirmatsa...\n",
       "2    vedyam vastavam atra vastu sivadam tapa-trayon...\n",
       "5                    nigama-kalpa-taror galitam phalam\n",
       "6                     suka-mukhad amrta-drava-samyutam\n",
       "Name: OCR, dtype: object"
      ]
     },
     "execution_count": 12,
     "metadata": {},
     "output_type": "execute_result"
    }
   ],
   "source": [
    "filtered_df['OCR'].head()"
   ]
  },
  {
   "cell_type": "code",
   "execution_count": 13,
   "metadata": {
    "collapsed": true
   },
   "outputs": [],
   "source": [
    "vocab = set(filtered_df['sentences'].str.cat() + filtered_df['OCR'].str.cat())"
   ]
  },
  {
   "cell_type": "code",
   "execution_count": 14,
   "metadata": {
    "collapsed": true
   },
   "outputs": [],
   "source": [
    "string_lengths = sorted(filtered_df['OCR'].str.len())"
   ]
  },
  {
   "cell_type": "code",
   "execution_count": 15,
   "metadata": {
    "collapsed": true
   },
   "outputs": [],
   "source": [
    "SEQ_LENGTH = int(np.percentile(sorted(string_lengths), 99.5))\n",
    "VOCAB_SIZE = 56"
   ]
  },
  {
   "cell_type": "code",
   "execution_count": 36,
   "metadata": {
    "collapsed": true
   },
   "outputs": [],
   "source": [
    "SEQ_LENGTH = 50"
   ]
  },
  {
   "cell_type": "code",
   "execution_count": 37,
   "metadata": {
    "collapsed": true
   },
   "outputs": [],
   "source": [
    "vocab = sorted(vocab)\n",
    "vocab_to_int = {c: i+1 for i, c in enumerate(vocab)}\n",
    "int_to_vocab = {i+1:c for i,c in enumerate(vocab)}"
   ]
  },
  {
   "cell_type": "code",
   "execution_count": 38,
   "metadata": {},
   "outputs": [
    {
     "data": {
      "text/plain": [
       "' '"
      ]
     },
     "execution_count": 38,
     "metadata": {},
     "output_type": "execute_result"
    }
   ],
   "source": [
    "int_to_vocab[1]"
   ]
  },
  {
   "cell_type": "code",
   "execution_count": 39,
   "metadata": {
    "collapsed": true
   },
   "outputs": [],
   "source": [
    "X = filtered_df['OCR'].tolist()"
   ]
  },
  {
   "cell_type": "code",
   "execution_count": 40,
   "metadata": {
    "collapsed": true
   },
   "outputs": [],
   "source": [
    "Y = filtered_df['sentences'].tolist()"
   ]
  },
  {
   "cell_type": "code",
   "execution_count": 41,
   "metadata": {},
   "outputs": [
    {
     "name": "stdout",
     "output_type": "stream",
     "text": [
      "om namo bhagavate vasudevaya\n",
      "oṁ namo bhagavate vāsudevāya\n"
     ]
    }
   ],
   "source": [
    "print(X[0])\n",
    "print(Y[0])"
   ]
  },
  {
   "cell_type": "code",
   "execution_count": 42,
   "metadata": {
    "collapsed": true
   },
   "outputs": [],
   "source": [
    "X_train = []\n",
    "Y_train = []\n",
    "\n",
    "for x,y in zip(X, Y):\n",
    "    \n",
    "    X_train.append(np.array([vocab_to_int[ch] for ch in x]))\n",
    "    Y_train.append(np.array([vocab_to_int[ch] for ch in y]))"
   ]
  },
  {
   "cell_type": "code",
   "execution_count": 43,
   "metadata": {},
   "outputs": [
    {
     "data": {
      "text/plain": [
       "array([26, 24,  1, 25, 12, 24, 26,  1, 13, 19, 12, 18, 12, 33, 12, 31, 16,\n",
       "        1, 33, 12, 30, 32, 15, 16, 33, 12, 34, 12])"
      ]
     },
     "execution_count": 43,
     "metadata": {},
     "output_type": "execute_result"
    }
   ],
   "source": [
    "X_train = np.array(X_train)\n",
    "X_train[0]"
   ]
  },
  {
   "cell_type": "code",
   "execution_count": 44,
   "metadata": {
    "collapsed": true
   },
   "outputs": [],
   "source": [
    "X_train = pad_sequences(X_train, maxlen=SEQ_LENGTH, dtype='int32', padding='post', truncating='post')\n",
    "Y_train = pad_sequences(Y_train, maxlen=SEQ_LENGTH, dtype='int32', padding='post', truncating='post')"
   ]
  },
  {
   "cell_type": "code",
   "execution_count": 45,
   "metadata": {},
   "outputs": [
    {
     "data": {
      "text/plain": [
       "array([26, 24,  1, 25, 12, 24, 26,  1, 13, 19, 12, 18, 12, 33, 12, 31, 16,\n",
       "        1, 33, 12, 30, 32, 15, 16, 33, 12, 34, 12,  0,  0,  0,  0,  0,  0,\n",
       "        0,  0,  0,  0,  0,  0,  0,  0,  0,  0,  0,  0,  0,  0,  0,  0],\n",
       "      dtype=int32)"
      ]
     },
     "execution_count": 45,
     "metadata": {},
     "output_type": "execute_result"
    }
   ],
   "source": [
    "X_train[0]"
   ]
  },
  {
   "cell_type": "code",
   "execution_count": 46,
   "metadata": {
    "collapsed": true
   },
   "outputs": [],
   "source": [
    "Y_train = to_categorical(Y_train)"
   ]
  },
  {
   "cell_type": "code",
   "execution_count": 47,
   "metadata": {},
   "outputs": [
    {
     "name": "stdout",
     "output_type": "stream",
     "text": [
      "(47674, 50)\n",
      "(47674, 50, 56)\n"
     ]
    }
   ],
   "source": [
    "print(X_train.shape)\n",
    "print(Y_train.shape)"
   ]
  },
  {
   "cell_type": "code",
   "execution_count": 48,
   "metadata": {},
   "outputs": [
    {
     "name": "stdout",
     "output_type": "stream",
     "text": [
      "_________________________________________________________________\n",
      "Layer (type)                 Output Shape              Param #   \n",
      "=================================================================\n",
      "embedding_2 (Embedding)      (None, 50, 50)            2800      \n",
      "_________________________________________________________________\n",
      "lstm_2 (LSTM)                (None, 50, 64)            29440     \n",
      "_________________________________________________________________\n",
      "time_distributed_2 (TimeDist (None, 50, 56)            3640      \n",
      "_________________________________________________________________\n",
      "activation_2 (Activation)    (None, 50, 56)            0         \n",
      "=================================================================\n",
      "Total params: 35,880\n",
      "Trainable params: 35,880\n",
      "Non-trainable params: 0\n",
      "_________________________________________________________________\n",
      "None\n"
     ]
    }
   ],
   "source": [
    "model = Sequential()\n",
    "model.add(Embedding(VOCAB_SIZE, 50, input_length=SEQ_LENGTH))\n",
    "model.add(LSTM(64, return_sequences=True))\n",
    "model.add(TimeDistributed(Dense(VOCAB_SIZE)))\n",
    "model.add(Activation('softmax'))\n",
    "model.compile(loss=\"categorical_crossentropy\", optimizer=\"adam\", metrics=[\"accuracy\"])\n",
    "print(model.summary())"
   ]
  },
  {
   "cell_type": "code",
   "execution_count": 49,
   "metadata": {},
   "outputs": [
    {
     "name": "stdout",
     "output_type": "stream",
     "text": [
      "Train on 45290 samples, validate on 2384 samples\n",
      "Epoch 1/20\n",
      "45290/45290 [==============================] - 34s 747us/step - loss: 2.4168 - acc: 0.5083 - val_loss: 1.7862 - val_acc: 0.5482\n",
      "Epoch 2/20\n",
      "45290/45290 [==============================] - 34s 757us/step - loss: 1.6761 - acc: 0.5885 - val_loss: 1.5534 - val_acc: 0.6034\n",
      "Epoch 3/20\n",
      "45290/45290 [==============================] - 33s 732us/step - loss: 1.4547 - acc: 0.6109 - val_loss: 1.2200 - val_acc: 0.6734\n",
      "Epoch 4/20\n",
      "45290/45290 [==============================] - 33s 719us/step - loss: 0.8800 - acc: 0.8116 - val_loss: 0.5354 - val_acc: 0.9025\n",
      "Epoch 5/20\n",
      "45290/45290 [==============================] - 32s 715us/step - loss: 0.3860 - acc: 0.9182 - val_loss: 0.2779 - val_acc: 0.9238\n",
      "Epoch 6/20\n",
      "45290/45290 [==============================] - 32s 716us/step - loss: 0.2436 - acc: 0.9274 - val_loss: 0.2129 - val_acc: 0.9300\n",
      "Epoch 7/20\n",
      "45290/45290 [==============================] - 34s 740us/step - loss: 0.2009 - acc: 0.9313 - val_loss: 0.1866 - val_acc: 0.9323\n",
      "Epoch 8/20\n",
      "45290/45290 [==============================] - 32s 715us/step - loss: 0.1811 - acc: 0.9333 - val_loss: 0.1727 - val_acc: 0.9340\n",
      "Epoch 9/20\n",
      "45290/45290 [==============================] - 33s 718us/step - loss: 0.1699 - acc: 0.9346 - val_loss: 0.1644 - val_acc: 0.9347\n",
      "Epoch 10/20\n",
      "45290/45290 [==============================] - 33s 734us/step - loss: 0.1630 - acc: 0.9355 - val_loss: 0.1589 - val_acc: 0.9357\n",
      "Epoch 11/20\n",
      "45290/45290 [==============================] - 34s 762us/step - loss: 0.1583 - acc: 0.9366 - val_loss: 0.1549 - val_acc: 0.9367\n",
      "Epoch 12/20\n",
      "45290/45290 [==============================] - 34s 748us/step - loss: 0.1547 - acc: 0.9374 - val_loss: 0.1518 - val_acc: 0.9377\n",
      "Epoch 13/20\n",
      "45290/45290 [==============================] - 34s 748us/step - loss: 0.1519 - acc: 0.9379 - val_loss: 0.1493 - val_acc: 0.9379\n",
      "Epoch 14/20\n",
      "45290/45290 [==============================] - 34s 747us/step - loss: 0.1496 - acc: 0.9384 - val_loss: 0.1474 - val_acc: 0.9384\n",
      "Epoch 15/20\n",
      "45290/45290 [==============================] - 34s 757us/step - loss: 0.1477 - acc: 0.9387 - val_loss: 0.1454 - val_acc: 0.9393\n",
      "Epoch 16/20\n",
      "45290/45290 [==============================] - 34s 751us/step - loss: 0.1460 - acc: 0.9392 - val_loss: 0.1441 - val_acc: 0.9393\n",
      "Epoch 17/20\n",
      "45290/45290 [==============================] - 35s 780us/step - loss: 0.1446 - acc: 0.9396 - val_loss: 0.1426 - val_acc: 0.9400\n",
      "Epoch 18/20\n",
      "45290/45290 [==============================] - 37s 809us/step - loss: 0.1433 - acc: 0.9400 - val_loss: 0.1414 - val_acc: 0.9399\n",
      "Epoch 19/20\n",
      "45290/45290 [==============================] - 39s 857us/step - loss: 0.1421 - acc: 0.9402 - val_loss: 0.1403 - val_acc: 0.9405\n",
      "Epoch 20/20\n",
      "45290/45290 [==============================] - 36s 794us/step - loss: 0.1410 - acc: 0.9407 - val_loss: 0.1393 - val_acc: 0.9409\n"
     ]
    },
    {
     "data": {
      "text/plain": [
       "<keras.callbacks.History at 0x1145b8f28>"
      ]
     },
     "execution_count": 49,
     "metadata": {},
     "output_type": "execute_result"
    }
   ],
   "source": [
    "model.fit(X_train, Y_train, batch_size=512, verbose=1, epochs=20, validation_split=0.05)"
   ]
  },
  {
   "cell_type": "code",
   "execution_count": 50,
   "metadata": {},
   "outputs": [
    {
     "data": {
      "text/plain": [
       "array([26, 24,  1, 25, 12, 24, 26,  1, 13, 19, 12, 18, 12, 33, 12, 31, 16,\n",
       "        1, 33, 12, 30, 32, 15, 16, 33, 12, 34, 12,  0,  0,  0,  0,  0,  0,\n",
       "        0,  0,  0,  0,  0,  0,  0,  0,  0,  0,  0,  0,  0,  0,  0,  0])"
      ]
     },
     "execution_count": 50,
     "metadata": {},
     "output_type": "execute_result"
    }
   ],
   "source": [
    "prediction = np.argmax(model.predict(X_train[:1]), axis=2)\n",
    "prediction[0]"
   ]
  },
  {
   "cell_type": "code",
   "execution_count": 52,
   "metadata": {},
   "outputs": [
    {
     "name": "stdout",
     "output_type": "stream",
     "text": [
      "om namo bhagavate vasudevaya\n"
     ]
    }
   ],
   "source": [
    "prediction_string = \"\".join([int_to_vocab[c] if c > 0 else '' for c in prediction[0]])\n",
    "print(prediction_string)"
   ]
  },
  {
   "cell_type": "code",
   "execution_count": 53,
   "metadata": {},
   "outputs": [
    {
     "data": {
      "text/plain": [
       "(array([15, 19, 12, 29, 24, 12, 19,  1, 27, 29, 26, 21, 21, 19, 20, 31, 12,\n",
       "         7, 22, 12, 20, 31, 12, 33, 26,  1,  5, 31, 29, 12,  1, 27, 12, 29,\n",
       "        12, 24, 26,  1, 25, 20, 29, 24, 12, 31, 30, 12, 29, 12, 25, 12],\n",
       "       dtype=int32),\n",
       " array([15, 19, 12, 29, 24, 12, 45,  1, 27, 29, 26, 21, 21, 19, 20, 31, 12,\n",
       "         7, 22, 12, 20, 31, 12, 33, 26,  1, 55, 31, 29, 12,  1, 27, 12, 29,\n",
       "        12, 24, 26,  1, 25, 20, 29, 24, 12, 31, 30, 12, 29, 40, 50, 40]))"
      ]
     },
     "execution_count": 53,
     "metadata": {},
     "output_type": "execute_result"
    }
   ],
   "source": [
    "X_train[1], np.argmax(Y_train[1], axis=1)"
   ]
  },
  {
   "cell_type": "code",
   "execution_count": 56,
   "metadata": {},
   "outputs": [
    {
     "data": {
      "text/plain": [
       "'om namo bhagavate vasudevaya'"
      ]
     },
     "execution_count": 56,
     "metadata": {},
     "output_type": "execute_result"
    }
   ],
   "source": [
    "X[0]"
   ]
  },
  {
   "cell_type": "code",
   "execution_count": 57,
   "metadata": {},
   "outputs": [
    {
     "data": {
      "text/plain": [
       "'oṁ namo bhagavate vāsudevāya'"
      ]
     },
     "execution_count": 57,
     "metadata": {},
     "output_type": "execute_result"
    }
   ],
   "source": [
    "Y[0]"
   ]
  },
  {
   "cell_type": "code",
   "execution_count": 58,
   "metadata": {},
   "outputs": [
    {
     "name": "stdout",
     "output_type": "stream",
     "text": [
      "README.md                 \u001b[31mfor_all_cantos.sh\u001b[m\u001b[m         \u001b[31mtesseract_ocr.sh\u001b[m\u001b[m\r\n",
      "bhagabatam_dataprep.ipynb results_bilstm.csv        \u001b[1m\u001b[36mtest_data\u001b[m\u001b[m\r\n",
      "\u001b[1m\u001b[36mcantos\u001b[m\u001b[m                    seq2seq-lstm.ipynb        text2img\r\n",
      "cantos_crawl.py           seq2seq.ipynb             \u001b[1m\u001b[36mtrain_data\u001b[m\u001b[m\r\n"
     ]
    }
   ],
   "source": [
    "!ls"
   ]
  },
  {
   "cell_type": "code",
   "execution_count": 59,
   "metadata": {
    "collapsed": true
   },
   "outputs": [],
   "source": [
    "test_df = pd.read_csv('test_data/test_data_combined.csv', encoding='utf-8')"
   ]
  },
  {
   "cell_type": "code",
   "execution_count": 60,
   "metadata": {},
   "outputs": [
    {
     "data": {
      "text/html": [
       "<div>\n",
       "<style scoped>\n",
       "    .dataframe tbody tr th:only-of-type {\n",
       "        vertical-align: middle;\n",
       "    }\n",
       "\n",
       "    .dataframe tbody tr th {\n",
       "        vertical-align: top;\n",
       "    }\n",
       "\n",
       "    .dataframe thead th {\n",
       "        text-align: right;\n",
       "    }\n",
       "</style>\n",
       "<table border=\"1\" class=\"dataframe\">\n",
       "  <thead>\n",
       "    <tr style=\"text-align: right;\">\n",
       "      <th></th>\n",
       "      <th>source</th>\n",
       "      <th>target</th>\n",
       "      <th>origin</th>\n",
       "    </tr>\n",
       "  </thead>\n",
       "  <tbody>\n",
       "    <tr>\n",
       "      <th>0</th>\n",
       "      <td>dhrtarastra uvaca</td>\n",
       "      <td>dhṛtarāṣṭra uvāca</td>\n",
       "      <td>pdf</td>\n",
       "    </tr>\n",
       "    <tr>\n",
       "      <th>1</th>\n",
       "      <td>dharma-ksetre kuru-ksetre samaveta yuyutsavah</td>\n",
       "      <td>dharma-kṣetre kuru-kṣetre samavetā yuyutsavaḥ</td>\n",
       "      <td>pdf</td>\n",
       "    </tr>\n",
       "    <tr>\n",
       "      <th>2</th>\n",
       "      <td>mamakah pandavas caiva kim akurvata sanjaya</td>\n",
       "      <td>māmakāḥ pāṇḍavāś caiva kim akurvata sañjaya</td>\n",
       "      <td>pdf</td>\n",
       "    </tr>\n",
       "    <tr>\n",
       "      <th>3</th>\n",
       "      <td>karpanya-dosopahata-svabhavah</td>\n",
       "      <td>kārpaṇya-doṣopahata-svabhāvaḥ</td>\n",
       "      <td>pdf</td>\n",
       "    </tr>\n",
       "    <tr>\n",
       "      <th>4</th>\n",
       "      <td>prechami tvam dharma-sammudha-cetah</td>\n",
       "      <td>pṛcchāmi tvāṁ dharma-sammūḍha-cetāḥ</td>\n",
       "      <td>pdf</td>\n",
       "    </tr>\n",
       "  </tbody>\n",
       "</table>\n",
       "</div>"
      ],
      "text/plain": [
       "                                          source  \\\n",
       "0                              dhrtarastra uvaca   \n",
       "1  dharma-ksetre kuru-ksetre samaveta yuyutsavah   \n",
       "2    mamakah pandavas caiva kim akurvata sanjaya   \n",
       "3                  karpanya-dosopahata-svabhavah   \n",
       "4            prechami tvam dharma-sammudha-cetah   \n",
       "\n",
       "                                          target origin  \n",
       "0                              dhṛtarāṣṭra uvāca    pdf  \n",
       "1  dharma-kṣetre kuru-kṣetre samavetā yuyutsavaḥ    pdf  \n",
       "2    māmakāḥ pāṇḍavāś caiva kim akurvata sañjaya    pdf  \n",
       "3                  kārpaṇya-doṣopahata-svabhāvaḥ    pdf  \n",
       "4            pṛcchāmi tvāṁ dharma-sammūḍha-cetāḥ    pdf  "
      ]
     },
     "execution_count": 60,
     "metadata": {},
     "output_type": "execute_result"
    }
   ],
   "source": [
    "test_df.head()"
   ]
  },
  {
   "cell_type": "code",
   "execution_count": 61,
   "metadata": {
    "collapsed": true
   },
   "outputs": [],
   "source": [
    "filter_testdf = test_df['source'].str.len() == test_df['target'].str.len()"
   ]
  },
  {
   "cell_type": "code",
   "execution_count": 62,
   "metadata": {},
   "outputs": [
    {
     "data": {
      "text/plain": [
       "0    True\n",
       "1    True\n",
       "2    True\n",
       "3    True\n",
       "4    True\n",
       "dtype: bool"
      ]
     },
     "execution_count": 62,
     "metadata": {},
     "output_type": "execute_result"
    }
   ],
   "source": [
    "filter_testdf.head()"
   ]
  },
  {
   "cell_type": "code",
   "execution_count": 63,
   "metadata": {
    "collapsed": true
   },
   "outputs": [],
   "source": [
    "filter_testdf =  test_df[filter_testdf]"
   ]
  },
  {
   "cell_type": "code",
   "execution_count": 64,
   "metadata": {},
   "outputs": [
    {
     "data": {
      "text/html": [
       "<div>\n",
       "<style scoped>\n",
       "    .dataframe tbody tr th:only-of-type {\n",
       "        vertical-align: middle;\n",
       "    }\n",
       "\n",
       "    .dataframe tbody tr th {\n",
       "        vertical-align: top;\n",
       "    }\n",
       "\n",
       "    .dataframe thead th {\n",
       "        text-align: right;\n",
       "    }\n",
       "</style>\n",
       "<table border=\"1\" class=\"dataframe\">\n",
       "  <thead>\n",
       "    <tr style=\"text-align: right;\">\n",
       "      <th></th>\n",
       "      <th>source</th>\n",
       "      <th>target</th>\n",
       "      <th>origin</th>\n",
       "    </tr>\n",
       "  </thead>\n",
       "  <tbody>\n",
       "    <tr>\n",
       "      <th>0</th>\n",
       "      <td>dhrtarastra uvaca</td>\n",
       "      <td>dhṛtarāṣṭra uvāca</td>\n",
       "      <td>pdf</td>\n",
       "    </tr>\n",
       "    <tr>\n",
       "      <th>1</th>\n",
       "      <td>dharma-ksetre kuru-ksetre samaveta yuyutsavah</td>\n",
       "      <td>dharma-kṣetre kuru-kṣetre samavetā yuyutsavaḥ</td>\n",
       "      <td>pdf</td>\n",
       "    </tr>\n",
       "    <tr>\n",
       "      <th>2</th>\n",
       "      <td>mamakah pandavas caiva kim akurvata sanjaya</td>\n",
       "      <td>māmakāḥ pāṇḍavāś caiva kim akurvata sañjaya</td>\n",
       "      <td>pdf</td>\n",
       "    </tr>\n",
       "    <tr>\n",
       "      <th>3</th>\n",
       "      <td>karpanya-dosopahata-svabhavah</td>\n",
       "      <td>kārpaṇya-doṣopahata-svabhāvaḥ</td>\n",
       "      <td>pdf</td>\n",
       "    </tr>\n",
       "    <tr>\n",
       "      <th>4</th>\n",
       "      <td>prechami tvam dharma-sammudha-cetah</td>\n",
       "      <td>pṛcchāmi tvāṁ dharma-sammūḍha-cetāḥ</td>\n",
       "      <td>pdf</td>\n",
       "    </tr>\n",
       "  </tbody>\n",
       "</table>\n",
       "</div>"
      ],
      "text/plain": [
       "                                          source  \\\n",
       "0                              dhrtarastra uvaca   \n",
       "1  dharma-ksetre kuru-ksetre samaveta yuyutsavah   \n",
       "2    mamakah pandavas caiva kim akurvata sanjaya   \n",
       "3                  karpanya-dosopahata-svabhavah   \n",
       "4            prechami tvam dharma-sammudha-cetah   \n",
       "\n",
       "                                          target origin  \n",
       "0                              dhṛtarāṣṭra uvāca    pdf  \n",
       "1  dharma-kṣetre kuru-kṣetre samavetā yuyutsavaḥ    pdf  \n",
       "2    māmakāḥ pāṇḍavāś caiva kim akurvata sañjaya    pdf  \n",
       "3                  kārpaṇya-doṣopahata-svabhāvaḥ    pdf  \n",
       "4            pṛcchāmi tvāṁ dharma-sammūḍha-cetāḥ    pdf  "
      ]
     },
     "execution_count": 64,
     "metadata": {},
     "output_type": "execute_result"
    }
   ],
   "source": [
    "filter_testdf.head()"
   ]
  },
  {
   "cell_type": "code",
   "execution_count": 65,
   "metadata": {},
   "outputs": [
    {
     "name": "stderr",
     "output_type": "stream",
     "text": [
      "/Users/rbhat/anaconda2/envs/san_ocr_enc_dec/lib/python3.6/site-packages/ipykernel_launcher.py:1: SettingWithCopyWarning: \n",
      "A value is trying to be set on a copy of a slice from a DataFrame.\n",
      "Try using .loc[row_indexer,col_indexer] = value instead\n",
      "\n",
      "See the caveats in the documentation: http://pandas.pydata.org/pandas-docs/stable/indexing.html#indexing-view-versus-copy\n",
      "  \"\"\"Entry point for launching an IPython kernel.\n"
     ]
    }
   ],
   "source": [
    "filter_testdf['source'] = filter_testdf['source'].astype(str).str.lower()"
   ]
  },
  {
   "cell_type": "code",
   "execution_count": 66,
   "metadata": {
    "collapsed": true
   },
   "outputs": [],
   "source": [
    "X_test = []\n",
    "for x in filter_testdf['source'].tolist():    \n",
    "    X_test.append(np.array([vocab_to_int.get(ch, 0) for ch in x]))\n",
    "\n"
   ]
  },
  {
   "cell_type": "code",
   "execution_count": 67,
   "metadata": {},
   "outputs": [
    {
     "data": {
      "text/plain": [
       "[array([15, 19, 29, 31, 12, 29, 12, 30, 31, 29, 12,  1, 32, 33, 12, 14, 12]),\n",
       " array([15, 19, 12, 29, 24, 12,  7, 22, 30, 16, 31, 29, 16,  1, 22, 32, 29,\n",
       "        32,  7, 22, 30, 16, 31, 29, 16,  1, 30, 12, 24, 12, 33, 16, 31, 12,\n",
       "         1, 34, 32, 34, 32, 31, 30, 12, 33, 12, 19])]"
      ]
     },
     "execution_count": 67,
     "metadata": {},
     "output_type": "execute_result"
    }
   ],
   "source": [
    "X_test[:2]"
   ]
  },
  {
   "cell_type": "code",
   "execution_count": 68,
   "metadata": {
    "collapsed": true
   },
   "outputs": [],
   "source": [
    "X_test = pad_sequences(X_test, maxlen=SEQ_LENGTH, dtype='int32', padding='post', truncating='post')"
   ]
  },
  {
   "cell_type": "code",
   "execution_count": 73,
   "metadata": {},
   "outputs": [
    {
     "name": "stdout",
     "output_type": "stream",
     "text": [
      "299/299 [==============================] - 0s 323us/step\n"
     ]
    }
   ],
   "source": [
    "x_test_pred = model.predict_classes(X_test, verbose=1)"
   ]
  },
  {
   "cell_type": "code",
   "execution_count": 74,
   "metadata": {},
   "outputs": [
    {
     "data": {
      "text/plain": [
       "array([[15, 19, 51, ...,  0,  0,  0],\n",
       "       [15, 19, 12, ...,  0,  0,  0],\n",
       "       [24, 12, 24, ...,  0,  0,  0],\n",
       "       ...,\n",
       "       [30, 12, 29, ...,  0,  0,  0],\n",
       "       [24, 12, 19, ...,  0,  0,  0],\n",
       "       [14, 32, 15, ...,  0,  0,  0]])"
      ]
     },
     "execution_count": 74,
     "metadata": {},
     "output_type": "execute_result"
    }
   ],
   "source": [
    "x_test_pred"
   ]
  },
  {
   "cell_type": "code",
   "execution_count": 75,
   "metadata": {
    "collapsed": true
   },
   "outputs": [],
   "source": [
    "test_prediction_string =[]\n",
    "for row in x_test_pred:\n",
    "    test_prediction_string.append(\"\".join([int_to_vocab[c] if c > 0 else '' for c in row]))"
   ]
  },
  {
   "cell_type": "code",
   "execution_count": 76,
   "metadata": {},
   "outputs": [
    {
     "data": {
      "text/plain": [
       "['dhṛtarastra uvāca',\n",
       " 'dharma-kṣetre kuru-kṣetre samaveta yuyutsavaḥ',\n",
       " 'mamakaḥ pandavas caiva kim akurvata sanjaya',\n",
       " 'karpaṇya-doṣopaḥata-svabhavaḥ',\n",
       " 'prechaṁi tvaṁ dharma-sammudha-cetaḥ',\n",
       " 'yac chreyaḥ syan niścitaṁ bruhi tan me',\n",
       " 'siṣyas te ’haṁ sadhi mam tvaṁ prapannam',\n",
       " 'srī-bhagavan uvaca',\n",
       " 'asocyan anvasocas tvaṁ prajña-vadaṁs ca bhasase',\n",
       " 'gatasun agatasums ca nanuṣocanti panditaḥ',\n",
       " 'na tv evaḥaṁ jatu nasam na tvam neme janadhipaḥ',\n",
       " 'na caiva na bhaviṣyamaḥ sarve vayaṁ ataḥ param',\n",
       " 'dehino ’smin yatha dehe kaumaraṁ yauvanaṁ jara',\n",
       " 'tathā dehantara-praptir dhiras tatra na muhyati',\n",
       " 'matra-sparṣas tu kaunteya sitoṣṇa-sukha-duḥkha-dah',\n",
       " 'agamapayino ’nityas tams titikṣasva bharata',\n",
       " 'avināsi tu tad viddhi yena sarvaṁ idam tatam',\n",
       " 'vināsaṁ avyayasyasya na kascit kartum arhati',\n",
       " 'na jayate mṛiyate va kadacin nayam bhūtva bhavita ',\n",
       " 'ajo nityaḥ sasvato ’yam puraṇo na hanyate hanyaṁan',\n",
       " 'vasaṁsi jirṇani yatha vihāya',\n",
       " 'navani gṛhṇati naro ’paraṇi',\n",
       " 'tathā sariraṇi vihāya jirṇany',\n",
       " 'anyani samyati navani dehi',\n",
       " 'nainaṁ chindanti sastraṇi nainam dahati pavakaḥ',\n",
       " 'na cainaṁ kledayanty apo na soṣayati marutaḥ',\n",
       " 'nehabhikrama-naso ’sti pratyavayo na vidyate',\n",
       " 'sv-alpam apy asya dharmasya trayate mahato bhayat',\n",
       " 'bhogaiṣvarya-prasaktanaṁ tayapaḥrta-cetasaṁ',\n",
       " 'vyavasayatmika buddhiḥ samadhau na vidhiyate',\n",
       " 'karmaṇy evadhikaras te ma phaleṣu kadacana',\n",
       " 'ma karma-phala-hetur bhūr ma te sango\\xa0’stv akarmaṇ',\n",
       " 'viṣaya vinivartante niraḥarasya dehinaḥ',\n",
       " 'tani sarvani samyamya yukta āsita mat-paraḥ',\n",
       " 'dhyayato viṣayan pumsaḥ sangas teṣupajayate',\n",
       " 'kṛodhad bhavati sammohaḥ sammohat smṛti-vibhramaḥ',\n",
       " 'smṛti-bhramsad buddhi-naso buddhi-nasat praṇasyati',\n",
       " 'ya niṣa sarva-bhūtanaṁ tasyam jagarti samyami',\n",
       " 'yasyaṁ jagrati bhūtani sa niśa pasyato muneh',\n",
       " 'na hi kascit kṣaṇaṁ api jatu tiṣṭhaty akarma-kṛt',\n",
       " 'karyate hy avasaḥ karma sarvaḥ prakṛti-jair guṇaiḥ',\n",
       " 'karmeṇdriyani samyamya ya aste manasa smaraṇ',\n",
       " 'indriyarthan vimudhatma mithyacaraḥ sa ucyate',\n",
       " 'niyataṁ kuru karma tvaṁ karma jyayo hy akarmaṇaḥ',\n",
       " 'yajñarthat karmaṇo ’nyatra loko ’yam karma-bandhan',\n",
       " 'tad-arthaṁ karma kaunteya mukta-sangaḥ samacara',\n",
       " 'annad bhavanti bhūtani parjanyad anna-sambhavaḥ',\n",
       " 'ajo ’pi sann avyayatma bhūtanaṁ iśvaro ’pi san',\n",
       " 'prakṛtiṁ svam adhiṣṭhaya sambhavaṁy atma-mayaya',\n",
       " 'yada yada hi dharmasya glanir bhavati bharata',\n",
       " 'abhyutthānaṁ adharmasya tadatmanaṁ sriamy ahaṁ',\n",
       " 'paritraṇaya sadhunaṁ vinasaya ca duṣkrtaṁ',\n",
       " 'dharma-samsthapanarthaya sambhavaṁi yuge yuge',\n",
       " 'janma karma ca me divyaṁ evaṁ yo vetti tattvataḥ',\n",
       " 'tyaktva dehaṁ punar janma naiti mam eti so ’rjuna',\n",
       " 'ye yathā mam prapadyante tams tathaiva bhajaṁy aha',\n",
       " 'mama vartmanuvartante manuṣyaḥ partha sarvasaḥ',\n",
       " 'catur-varṇyam maya srṣṭaṁ guṇa-karma-vibhagasaḥ',\n",
       " 'tasya kartaraṁ api mam viddhy akartaraṁ avyayaṁ',\n",
       " 'tad viddhi praṇipatena pariprasnena sevaya',\n",
       " 'vidya-vināya-sampanne brahmaṇe gavi hastini',\n",
       " 'suni caiva sva-pake ca panditaḥ sama-darṣiṇaḥ',\n",
       " 'ye hi samsparṣa-ja bhoga duhkha-yonaya eva te',\n",
       " 'ady-antavantaḥ kaunteya na teṣu ramate budhaḥ',\n",
       " 'śrī-bhagavan uvaca',\n",
       " 'anasritaḥ karma-phalaṁ karyam karma karoti yaḥ',\n",
       " 'sa sannyasi ca yogi ca na niragnir na cakṛiyaḥ',\n",
       " 'uddhared atmanatmanaṁ natmanaṁ avasadayet',\n",
       " 'atmaiva hy atmano bandhur atmaiva ripur atmanaḥ',\n",
       " 'yuktaḥara-vihārasya yukta-ceṣṭasya karmasu',\n",
       " 'yukta-svapnavabodhasya yogo\\xa0bhavati duḥkha-ha',\n",
       " 'sukhaṁ atyantikam yat tad buddhi-grahyaṁ atindriya',\n",
       " 'vetti yatra na caivayaṁ sthitas calati tattvataḥ',\n",
       " 'yam labdhva caparam labhaṁ manyate nadhikam tataḥ',\n",
       " 'yasmin sthito na duhkhena guruṇapi vicalyate',\n",
       " 'tatas tato niyamyaitad atmany eva vasaṁ nayet',\n",
       " 'yo mam pasyati sarvatra sarvaṁ ca mayi pasyati',\n",
       " 'tasyaḥaṁ na praṇasyaṁi sa ca me na praṇasyati',\n",
       " 'tasyaḥaṁ nigrahaṁ manye vayor iva su-duṣkaraṁ',\n",
       " 'prapya puṇya-kṛtam lokan uṣitva sasvatiḥ samaḥ',\n",
       " 'sucinaṁ srimataṁ gehe yoga-bhrasto ’bhijayate',\n",
       " 'yoginaṁ api sarveṣam mad-gatenantar-atmana',\n",
       " 'srī-bhagavan uvaca',\n",
       " 'manuṣyanaṁ sahasreṣu kascid yatati siddhaye',\n",
       " 'yatataṁ api siddhanaṁ kascin mam vetti tattvataḥ',\n",
       " 'bhūmir apo ’nalo vayuḥ kham mano buddhir eva ca',\n",
       " 'ahankara itiyaṁ me bhinna prakṛtir astadha',\n",
       " 'apareyaṁ itas tv anyam prakṛtiṁ viddhi me param',\n",
       " 'jiva-bhūtaṁ maha-baho yayedaṁ dharyate jagat',\n",
       " 'mattaḥ parataraṁ nanyat kijcid asti dhananijaya',\n",
       " 'mayi sarvaṁ idam protaṁ sutre mani-gana iva',\n",
       " 'raso ’haṁ apṣu kaunteya prabhasmi sasi-suryayoḥ',\n",
       " 'praṇavaḥ sarva-vedeṣu sabdaḥ khe pauruṣaṁ nṛṣu',\n",
       " 'balaṁ balavataṁ cahaṁ kama-raga-vivarjitaṁ',\n",
       " 'dharmaviruddho bhuteṣu kamo ’smi bharatarṣabha',\n",
       " 'trībhir guṇa-mayair bhavair ebhiḥ sarvaṁ idam jaga',\n",
       " 'mohitaṁ nabhijanati mam ebhyaḥ param avyayaṁ',\n",
       " 'daivi hy eṣa guṇa-mayi mama maya duratyaya',\n",
       " 'mam eva ye prapadyante mayaṁ etaṁ taraṇti te',\n",
       " 'na mam duṣkrtino mudhaḥ prapadyante naradhaṁaḥ',\n",
       " 'mayayapaḥrta-jjana asuram bhavaṁ asritaḥ',\n",
       " 'vasudevaḥ sarvaṁ iti sa mahatma su-durlabhaḥ',\n",
       " 'kamaiṣ taiṣ tair hṛta-jñanaḥ prapadyante ’nya-deva',\n",
       " 'tam tam niyamaṁ asthaya prakṛtya niyataḥ svaya',\n",
       " 'antavat tu phalaṁ teṣam tad bhavaty alpa-medhasaṁ',\n",
       " 'devan deva-yajo yanti mad-bhakta-yanti mam api',\n",
       " 'avyaktaṁ vyaktiṁ apannam manyante mam abuddhayaḥ',\n",
       " 'param bhavaṁ ajananto mamavyayaṁ anuttamaṁ',\n",
       " 'naḥaṁ prakasaḥ sarvasya yoga-maya-savavṛtaḥ',\n",
       " 'mugho ’yam nabhijanati loko mam ajam avyayaṁ',\n",
       " 'vedaḥaṁ samatitani vartamanani carjuna',\n",
       " 'bhaviṣyani ca bhūtani mam tu veda na kascana',\n",
       " 'iccha-dveṣa samutthena dvandva-mohena bharata',\n",
       " 'sarva-bhūtani sammohaṁ sarge yanti paraṇtapa',\n",
       " 'yeṣaṁ tv anta-gataṁ papam jananaṁ punya-karmaṇaṁ',\n",
       " 'te dvandva-moha-nirmukta bhajante mam dṛdha-vṛataḥ',\n",
       " 'anta-kale ca mam eva smaraṇ muktva kalevaraṁ',\n",
       " 'yaḥ prayati sa mad-bhavaṁ yati nasty atra samsayaḥ',\n",
       " 'yam yam vapi smaraṇ bhavaṁ tyajaty ante kalevaraṁ',\n",
       " 'tam tam evaiti kaunteya sada tad-bhava-bhavitaḥ',\n",
       " 'mam upetya punar janma duhkhalayaṁ asasvataṁ',\n",
       " 'napnuvanti mahatmanaḥ samsiddhim paramaṁ gataḥ',\n",
       " 'a-brahma-bhūvanal lokaḥ puṇar avartino ’rjuna',\n",
       " 'mam upetya tu kaunteya punar janma na vidyate',\n",
       " 'ratrim yuga-sahasraṇtaṁ te ’ho-ratra-vido janaḥ',\n",
       " 'bhūta-gramaḥ sa evayaṁ bhūtva bhūtva praliyate',\n",
       " 'ratry-agame ’vasaḥ partha prabhavaty ahar-agame',\n",
       " 'paras tasmat tu bhavo ’nyo ’vyakto ’vyaktat sanata',\n",
       " 'yaḥ sa sarveṣu bhūteṣu nasyatsu na vinasyati',\n",
       " 'raja-vidya raja-guhyaṁ pavitram idam uttamaṁ',\n",
       " 'pratyakṣavagaṁaṁ dharmyam su-sukhaṁ kartum avyayaṁ',\n",
       " 'aprapya mam nivartante mṛtyu-samsara-vartmani',\n",
       " 'maya tataṁ idam sarvaṁ jagad avyakta-murtina',\n",
       " 'mat-sthani sarva-bhūtani na cahaṁ teṣv avasthitaḥ',\n",
       " 'na ca mat-sthani bhūtani pasya me yogam aiśvaram',\n",
       " 'mayadhyakṣeṇa prakṛtiḥ suyate sa-caracaram',\n",
       " 'hetunanena kaunteya jagad viparivartate',\n",
       " 'avajananti mam mudha manuṣiṁ tanum asritaṁ',\n",
       " 'param bhavaṁ ajananto mama bhūta-maheṣvaram',\n",
       " 'moghasa mogha-karmaṇo mogha-jñana vicetasaḥ',\n",
       " 'rakṣasiṁ asuriṁ caiva prakṛtiṁ mohinim sritaḥ',\n",
       " 'mahatmanas tu mam partha daivim prakṛtiṁ asritaḥ',\n",
       " 'bhajanty ananya-manaso jhatva bhūtadiṁ avyayaṁ',\n",
       " 'satataṁ kirtayanto mam yatantas ca dṛdha-vṛataḥ',\n",
       " 'namasyantas ca mam bhaktya nitya-yukta upasate',\n",
       " 'pitaḥaṁ asya jagato mata dhata pitaṁaḥaḥ',\n",
       " 'te tam bhūktva svarga-lokam viśalaṁ',\n",
       " 'kṣiṇe punye martya-lokam viśanti',\n",
       " 'evaṁ trayi-dharmaṁ anuprapanna',\n",
       " 'gatagataṁ kama-kama labhante',\n",
       " 'ananyas cintayanto mam ye janaḥ paryupasate',\n",
       " 'teṣaṁ nityabhiyuktanaṁ yoga-kṣemaṁ vahaṁy ahaṁ',\n",
       " 'ye ’py anya-devata-bhakta yajante sraddhayanvitaḥ',\n",
       " 'te ’pi mam eva kaunteya yajanty avidhi-purvakaṁ',\n",
       " 'yanti deva-vṛata devan pitrṇ yanti pitr-vṛataḥ',\n",
       " 'bhūtani yanti bhutejya yanti mad-yajino ’pi mam',\n",
       " 'tad ahaṁ bhakty-upaḥrtam asnami prayatatmanaḥ',\n",
       " 'yat karoṣi yad asnasi yaj juhoṣi dadasi yat',\n",
       " 'yat tapasyasi kaunteya tat kuruṣva mad-arpaṇaṁ',\n",
       " 'samo ’haṁ sarva-bhūteṣu na me dveṣyo ’sti na priya',\n",
       " 'ye bhajanti tu mam bhaktya mayi te teṣu capy ahaṁ',\n",
       " 'api cet su-duracaro bhajate mam ananya-bhak',\n",
       " 'sadhur eva sa mantavyaḥ samyag vyavasito hi sah',\n",
       " 'kṣipram bhavati dharmatma sasvac-chantim nigacchat',\n",
       " 'kaunteya pratijanthi na me bhaktaḥ praṇasyati',\n",
       " 'mam hi partha vyapasritya ye ’pi syuḥ papa-yonayaḥ',\n",
       " 'striyo vaiṣyas tatha sudras te ’pi yanti param gat',\n",
       " 'kim puṇar brahmaṇaḥ puṇya bhakta rajarṣayas tatha',\n",
       " 'anityaṁ asukhaṁ lokam imaṁ prapya bhajasva mam',\n",
       " 'man-mana bhava mad-bhakto mad-yaji mam namaskuru',\n",
       " 'mam evaiṣyasi yuktvaivaṁ atmanaṁ mat-parayanaḥ',\n",
       " 'na me viduḥ sura-gaṇaḥ prabhavaṁ na maharṣayaḥ',\n",
       " 'ahaṁ adir hi devanaṁ maharṣiṇaṁ ca sarvasaḥ',\n",
       " 'ahaṁ sarvasya prabhavo mattaḥ sarvaṁ pravartate',\n",
       " 'iti matva bhajante mam budha bhava-samanvitaḥ',\n",
       " 'mac-citta mad-gata-praṇa bodhayantaḥ parasparam',\n",
       " 'kathāyantas ca mam nityaṁ tuṣyanti ca ramanti ca',\n",
       " 'teṣaṁ satata-yuktanaṁ bhajataṁ priti-purvakaṁ',\n",
       " 'dadaṁi buddhi-yogaṁ tam yena mam upayanti te',\n",
       " 'teṣaṁ evanukamparthaṁ ahaṁ ajjana-jam tamaḥ',\n",
       " 'arjuna uvāca',\n",
       " 'param brahma param dhama pavitram paramaṁ bhavan',\n",
       " 'puruṣaṁ sasvataṁ divyaṁ adi-devaṁ ajam vibhum',\n",
       " 'ahuṣ tvaṁ rṣayaḥ sarve devarṣir naradas tatha',\n",
       " 'asito devalo vyasaḥ svayaṁ caiva braviṣi me',\n",
       " 'sarvaṁ etad rtam manye yan mam vadasi keṣava',\n",
       " 'na hi te bhagavan vyaktiṁ vidur deva na danavaḥ',\n",
       " 'mṛtyuḥ sarva-haras cahaṁ udbhavas ca bhaviṣyataṁ',\n",
       " 'sarva-yoniṣu kaunteya murtayaḥ sambhavanti yaḥ',\n",
       " 'tasaṁ brahma mahad yonir ahaṁ bija-pradaḥ pita',\n",
       " 'urdhvaṁ gacchanti sattva-stha madhye tiṣṭhanti raj',\n",
       " 'jaghanya-guṇa-vṛtti-stha adho gacchanti tamasaḥ',\n",
       " 'mam ca yo ’vyabhicareṇa bhakti-yogena sevate',\n",
       " 'sa guṇān samatityaitan brahma-bhūyaya kalpate',\n",
       " 'brahmaṇo hi pratiṣṭhaḥaṁ amṛtasyavyayasya ca',\n",
       " 'sasvatasya ca dharmasya sukhasyaikantikasya ca',\n",
       " 'srī bhagavan uvaca',\n",
       " 'urdhva-malaṁ adhaḥ-sakhaṁ asvatthaṁ prahur avyayaṁ',\n",
       " 'chandamsi yasya parṇani yas tam veda sa veda-vit',\n",
       " 'na tad bhasayate suryo na sasanko na pavakaḥ',\n",
       " 'yad gatva na nivartante tad dhama paramaṁ mama',\n",
       " 'mamaivaṁso jiva-loke jiva-bhūtaḥ sanatanaḥ',\n",
       " 'manaḥ sasthanindriyani prakṛti-sthani karṣati',\n",
       " 'sarvasya cahaṁ hṛdi sannviṣṭho',\n",
       " 'vedaiṣ ca sarvair ahaṁ eva vedyo',\n",
       " 'vedanta-kṛd veda-vid eva cahaṁ',\n",
       " 'sa sarva-vid bhajati mam sarva-bhavena bharata',\n",
       " 'śrī-bhagavan uvaca',\n",
       " 'abhayaṁ sattva-samsuddhir jjana-yoga-vyavasthitiḥ',\n",
       " 'ahimsa satyaṁ akṛodhas tyagaḥ santir apaiṣunaṁ',\n",
       " 'tejaḥ kṣama dhṛtiḥ saucaṁ adroho nati-manita',\n",
       " 'bhavanti sampadaṁ daivim abhijatasya bharata',\n",
       " 'pravṛttiṁ ca nivrttim ca jana na vidur asuraḥ',\n",
       " 'na saucaṁ napi cacaro na satyaṁ teṣu vidyate',\n",
       " 'asatyaṁ apratiṣṭhaṁ te jagad ahur aniśvaram',\n",
       " 'aparaspara-sambhutaṁ kim anyat kama-haitukaṁ',\n",
       " 'etaṁ dṛṣṭiṁ avastabhya nastatmano ’ipa-buddhayaḥ',\n",
       " 'prabhavanty ugra-karmaṇaḥ kṣayaya jagato ’hitaḥ',\n",
       " 'trī-vidhaṁ narakasyedaṁ dvaram nasanaṁ atmanaḥ',\n",
       " 'kamaḥ kṛodhas tatha lobhas tasmad etat trayaṁ tyaj',\n",
       " 'yaḥ sastra-vidhim utsrjya vartate kama-karataḥ',\n",
       " 'na sa siddhim avapnoti na sukhaṁ na param gatiṁ',\n",
       " 'samo damas tapaḥ saucaṁ kṣaṇtir arjavaṁ eva ca',\n",
       " 'jmanaṁ vijmanaṁ astikyam brahma-karma svabhava-jam',\n",
       " 'sauryam tejo dhṛtir dakṣyam yuddhe capy apalayanaṁ',\n",
       " 'danaṁ iśvara-bhavas ca kṣatraṁ karma svabhava-jam',\n",
       " 'kṛṣi-go-rakṣya-vanijyam vaiṣya-karma svabhava-jam',\n",
       " 'paricaryatmakaṁ karma sudrasyapi svabhava-jam',\n",
       " 'sve sve karmaṇy abhirataḥ samsiddhim labhate naraḥ',\n",
       " 'sva-karma-nirataḥ siddhim yatha vindati tac chrṇu',\n",
       " 'sva-karmaṇa tam abhyarcya siddhim vindati manavaḥ',\n",
       " 'brahma-bhūtaḥ prasannatma na socati na kankṣati',\n",
       " 'samaḥ sarveṣu bhūteṣu mad-bhaktiṁ labhate param',\n",
       " 'bhaktya mam abhijanati yavan yas casmi tattvataḥ',\n",
       " 'tato mam tattvato jmatva viśate tad-anantaram',\n",
       " 'iśvaraḥ sarva-bhūtanaṁ hṛd-deṣe ’rjuna tiṣṭhati',\n",
       " 'bhramayan sarva-bhūtani yantrarudhani mayaya',\n",
       " 'iti te jiaanaṁ akhyataṁ guhyad guhyataraṁ maya',\n",
       " 'vimṛṣyaitad aseṣena yathecchasi tatha kuru',\n",
       " 'man-mana bhava mad-bhakto mad-yaji mam namaskuru',\n",
       " 'mam evaiṣyasi satyaṁ te pratijane priyo ’si me',\n",
       " 'sarva-dharmaṇ parityajya mam ekam saraṇaṁ vṛaja',\n",
       " 'ahaṁ tvaṁ sarva-papebhyo mokṣayiṣyami ma sucaḥ',\n",
       " 'ya idam paramaṁ guhyaṁ mad-bhakteṣv abhidhasyati',\n",
       " 'bhaktiṁ mayi param kṛtva mam evaiṣyaty asamsayaḥ',\n",
       " 'na ca tasman manuṣyeṣu kascin me priya-kṛttaṁaḥ',\n",
       " 'arjuna uvāca',\n",
       " 'nasto mohaḥ smṛtir labdha tvat-prasadan mayacyuta',\n",
       " 'sthito ’smi gata-sandehaḥ kariṣye vacanam tava',\n",
       " 'yatra yogeṣvaraḥ kṛṣṇo yatra partho dhanur-dharaḥ',\n",
       " 'bhotabhavyathāvatprabiuḥ',\n",
       " 'poratma paramatma ca mukiniṁ parama gatiḥ',\n",
       " 'yaych puruṣṣh siket kṣetrajjiothsara eva ca',\n",
       " 'yego\\xa0yogavidaṁ neta oradhanśpuruṣeīvarch',\n",
       " 'narasiṁhavapuḥ riṁan kejargh purṣṣottaṁeh',\n",
       " 'vijvakarma manuṣṭvasta thāviṣṭhaḥ sthaviro dhṛuvaḥ',\n",
       " 'orabhotastrikekubdhaṁs oavitrem majealaṁ param',\n",
       " 'viṣikapirameyṣṭma carvayceaviniḥsrtsh',\n",
       " 'veṣurvasumanth satych camatma’sammitaḥ sameh',\n",
       " 'ametaḥ dajvara sthaṁur vararcho mahatapaḥ',\n",
       " 'velo\\xa0vedavidavyargo vedargo vedavit kavih',\n",
       " 'cavuratma carurvyaḥeḥ cavurdamstrajcaturthugh',\n",
       " 'bhajierṇr bhojinaṁ thoeṣ cahsiṣṇurjagedadijeh',\n",
       " 'magho vijryo jera vigvayonth punarvasuḥ',\n",
       " 'velyo vaidyṣh sedaycgī viraḥa madhavo madhuḥ',\n",
       " 'hiragyanabhaḥ sutapaḥ padmanibhaḥ prajipatiḥ',\n",
       " 'amtyuḥ sarvadrh simhaḥ sandhata sandhiman sthiraḥ',\n",
       " 'ivartano nivpttatma samvstaḥ sampeaṁardana',\n",
       " 'cathārta sathytaḥ sidhurjanhurṇarayago naraḥ',\n",
       " 'iddharthaḥ siddhasathalpaḥ siddhidaḥ siddhiṣṣdhana',\n",
       " 'vardhano vardhaṁanatca viviktaḥ śrutiṣigacaḥ',\n",
       " 'cubhujo durdharo vigmt makendro vasudo vasuḥ',\n",
       " 'naikartpo behadrapaḥ jipiviṣṭaḥ prakīanaḥ',\n",
       " 'ojeṣṭejodyutidharaḥ prakajitma pratipanaḥ',\n",
       " 'udirṇaḥ sarvatascakṣuraṇtśaḥ sagvatasthiraḥ',\n",
       " 'arciṣmanarcitaḥ kumbho viduddhatma vidodhanaḥ',\n",
       " 'kamadevaḥ kamopalaḥ kims kṣotab kytigaṁch',\n",
       " 'mahakramo mahakarma mahatera mahoragaḥ',\n",
       " 'manojivastirthakaro vasurera vasupradch',\n",
       " 'vasuprado vasudevo vasurvasumanś haviḥ',\n",
       " 'kamaḥi kamakpthantal kimaḥ kamapeadaḥ prablhuḥ',\n",
       " 'yugidikdyugivarto naikmiyo mahijanaḥ',\n",
       " 'acyutaḥ prathitaḥ pragaḥ peanado vasavanujaḥ',\n",
       " 'pan nidhiradhiṣchanaṁapeaṁattaḥ pratiṣchitaḥ',\n",
       " 'chandaḥ skandadharo dhuryo varado vayuraḥanaḥ',\n",
       " 'viṣudero brhadbhinurididevaḥ puraṇdaraḥ',\n",
       " 'inukalaḥ jatvartaḥ padmt padmanibhekṣaṇaḥ',\n",
       " 'maharddhiripddho veddhitms makkṣo gṛrudadhvajeh',\n",
       " 'carvalikpapalakṣaṇyo lakṣmivan samitijjiyaḥ',\n",
       " 'vikiro rolito margo herurdiṁodaraḥ sihaḥ',\n",
       " 'karagam karagam karta vikarta gṛhaṇo guhaḥ',\n",
       " 'vjavasiyo vyavasthinaḥ samsthanaḥ sthanado dhṛuvaḥ',\n",
       " 'vailunthaḥ puruṣaḥ priṇaḥ praṇadaḥ peanavaḥ prthuḥ',\n",
       " 'tuh sudarjainaḥ kilaḥ parameṣṭht parigrahaḥ',\n",
       " 'nalkṣarraṇemirṇakṣatet kyamaḥ kṣiṁaḥ samthanaḥ',\n",
       " 'vatsaro vatsalo vatsi ratnagarbho dhaneṣvaraḥ',\n",
       " 'sartrabhatabhrdbhckea kapindro bharidakṣiṇgh',\n",
       " 'mahavargho govindśh suṣenṣh kanakanged',\n",
       " 'cudhanya khandaparajirdśruṇo dravinapradeh']"
      ]
     },
     "execution_count": 76,
     "metadata": {},
     "output_type": "execute_result"
    }
   ],
   "source": [
    "test_prediction_string"
   ]
  },
  {
   "cell_type": "code",
   "execution_count": 79,
   "metadata": {},
   "outputs": [
    {
     "name": "stderr",
     "output_type": "stream",
     "text": [
      "/Users/rbhat/anaconda2/envs/san_ocr_enc_dec/lib/python3.6/site-packages/ipykernel_launcher.py:1: SettingWithCopyWarning: \n",
      "A value is trying to be set on a copy of a slice from a DataFrame.\n",
      "Try using .loc[row_indexer,col_indexer] = value instead\n",
      "\n",
      "See the caveats in the documentation: http://pandas.pydata.org/pandas-docs/stable/indexing.html#indexing-view-versus-copy\n",
      "  \"\"\"Entry point for launching an IPython kernel.\n"
     ]
    }
   ],
   "source": [
    "filter_testdf['prediction'] = test_prediction_string"
   ]
  },
  {
   "cell_type": "code",
   "execution_count": 80,
   "metadata": {},
   "outputs": [
    {
     "data": {
      "text/html": [
       "<div>\n",
       "<style scoped>\n",
       "    .dataframe tbody tr th:only-of-type {\n",
       "        vertical-align: middle;\n",
       "    }\n",
       "\n",
       "    .dataframe tbody tr th {\n",
       "        vertical-align: top;\n",
       "    }\n",
       "\n",
       "    .dataframe thead th {\n",
       "        text-align: right;\n",
       "    }\n",
       "</style>\n",
       "<table border=\"1\" class=\"dataframe\">\n",
       "  <thead>\n",
       "    <tr style=\"text-align: right;\">\n",
       "      <th></th>\n",
       "      <th>source</th>\n",
       "      <th>target</th>\n",
       "      <th>origin</th>\n",
       "      <th>prediction</th>\n",
       "    </tr>\n",
       "  </thead>\n",
       "  <tbody>\n",
       "    <tr>\n",
       "      <th>0</th>\n",
       "      <td>dhrtarastra uvaca</td>\n",
       "      <td>dhṛtarāṣṭra uvāca</td>\n",
       "      <td>pdf</td>\n",
       "      <td>dhṛtarastra uvāca</td>\n",
       "    </tr>\n",
       "    <tr>\n",
       "      <th>1</th>\n",
       "      <td>dharma-ksetre kuru-ksetre samaveta yuyutsavah</td>\n",
       "      <td>dharma-kṣetre kuru-kṣetre samavetā yuyutsavaḥ</td>\n",
       "      <td>pdf</td>\n",
       "      <td>dharma-kṣetre kuru-kṣetre samaveta yuyutsavaḥ</td>\n",
       "    </tr>\n",
       "    <tr>\n",
       "      <th>2</th>\n",
       "      <td>mamakah pandavas caiva kim akurvata sanjaya</td>\n",
       "      <td>māmakāḥ pāṇḍavāś caiva kim akurvata sañjaya</td>\n",
       "      <td>pdf</td>\n",
       "      <td>mamakaḥ pandavas caiva kim akurvata sanjaya</td>\n",
       "    </tr>\n",
       "    <tr>\n",
       "      <th>3</th>\n",
       "      <td>karpanya-dosopahata-svabhavah</td>\n",
       "      <td>kārpaṇya-doṣopahata-svabhāvaḥ</td>\n",
       "      <td>pdf</td>\n",
       "      <td>karpaṇya-doṣopaḥata-svabhavaḥ</td>\n",
       "    </tr>\n",
       "    <tr>\n",
       "      <th>4</th>\n",
       "      <td>prechami tvam dharma-sammudha-cetah</td>\n",
       "      <td>pṛcchāmi tvāṁ dharma-sammūḍha-cetāḥ</td>\n",
       "      <td>pdf</td>\n",
       "      <td>prechaṁi tvaṁ dharma-sammudha-cetaḥ</td>\n",
       "    </tr>\n",
       "  </tbody>\n",
       "</table>\n",
       "</div>"
      ],
      "text/plain": [
       "                                          source  \\\n",
       "0                              dhrtarastra uvaca   \n",
       "1  dharma-ksetre kuru-ksetre samaveta yuyutsavah   \n",
       "2    mamakah pandavas caiva kim akurvata sanjaya   \n",
       "3                  karpanya-dosopahata-svabhavah   \n",
       "4            prechami tvam dharma-sammudha-cetah   \n",
       "\n",
       "                                          target origin  \\\n",
       "0                              dhṛtarāṣṭra uvāca    pdf   \n",
       "1  dharma-kṣetre kuru-kṣetre samavetā yuyutsavaḥ    pdf   \n",
       "2    māmakāḥ pāṇḍavāś caiva kim akurvata sañjaya    pdf   \n",
       "3                  kārpaṇya-doṣopahata-svabhāvaḥ    pdf   \n",
       "4            pṛcchāmi tvāṁ dharma-sammūḍha-cetāḥ    pdf   \n",
       "\n",
       "                                      prediction  \n",
       "0                              dhṛtarastra uvāca  \n",
       "1  dharma-kṣetre kuru-kṣetre samaveta yuyutsavaḥ  \n",
       "2    mamakaḥ pandavas caiva kim akurvata sanjaya  \n",
       "3                  karpaṇya-doṣopaḥata-svabhavaḥ  \n",
       "4            prechaṁi tvaṁ dharma-sammudha-cetaḥ  "
      ]
     },
     "execution_count": 80,
     "metadata": {},
     "output_type": "execute_result"
    }
   ],
   "source": [
    "filter_testdf.head()"
   ]
  },
  {
   "cell_type": "code",
   "execution_count": 81,
   "metadata": {
    "collapsed": true
   },
   "outputs": [],
   "source": [
    "filter_testdf.to_csv('results_lstm.csv', encoding='utf-8')"
   ]
  },
  {
   "cell_type": "code",
   "execution_count": null,
   "metadata": {
    "collapsed": true
   },
   "outputs": [],
   "source": []
  }
 ],
 "metadata": {
  "anaconda-cloud": {},
  "kernelspec": {
   "display_name": "Python 3",
   "language": "python",
   "name": "python3"
  },
  "language_info": {
   "codemirror_mode": {
    "name": "ipython",
    "version": 3
   },
   "file_extension": ".py",
   "mimetype": "text/x-python",
   "name": "python",
   "nbconvert_exporter": "python",
   "pygments_lexer": "ipython3",
   "version": "3.6.2"
  }
 },
 "nbformat": 4,
 "nbformat_minor": 1
}
