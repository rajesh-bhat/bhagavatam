{
 "cells": [
  {
   "cell_type": "code",
   "execution_count": 1,
   "metadata": {
    "collapsed": true
   },
   "outputs": [],
   "source": [
    "import pandas as pd\n",
    "import numpy as np\n",
    "\n",
    "np.random.seed(1)"
   ]
  },
  {
   "cell_type": "code",
   "execution_count": 2,
   "metadata": {},
   "outputs": [
    {
     "name": "stderr",
     "output_type": "stream",
     "text": [
      "/Users/rbhat/anaconda2/envs/san_ocr_enc_dec/lib/python3.6/site-packages/h5py/__init__.py:36: FutureWarning: Conversion of the second argument of issubdtype from `float` to `np.floating` is deprecated. In future, it will be treated as `np.float64 == np.dtype(float).type`.\n",
      "  from ._conv import register_converters as _register_converters\n",
      "Using TensorFlow backend.\n"
     ]
    }
   ],
   "source": [
    "from keras.preprocessing.sequence import pad_sequences\n",
    "from keras.models import Sequential\n",
    "from keras.layers.core import Dense, Activation, Dropout\n",
    "from keras.layers.recurrent import LSTM, SimpleRNN\n",
    "from keras.layers.wrappers import TimeDistributed\n",
    "from keras.layers.embeddings import Embedding\n",
    "from keras.utils.np_utils import to_categorical\n",
    "from keras.layers import Bidirectional"
   ]
  },
  {
   "cell_type": "code",
   "execution_count": 3,
   "metadata": {
    "collapsed": true
   },
   "outputs": [],
   "source": [
    "df = pd.read_csv('train_data/eng_train.csv', encoding='utf-8')"
   ]
  },
  {
   "cell_type": "code",
   "execution_count": 4,
   "metadata": {},
   "outputs": [
    {
     "data": {
      "text/html": [
       "<div>\n",
       "<style scoped>\n",
       "    .dataframe tbody tr th:only-of-type {\n",
       "        vertical-align: middle;\n",
       "    }\n",
       "\n",
       "    .dataframe tbody tr th {\n",
       "        vertical-align: top;\n",
       "    }\n",
       "\n",
       "    .dataframe thead th {\n",
       "        text-align: right;\n",
       "    }\n",
       "</style>\n",
       "<table border=\"1\" class=\"dataframe\">\n",
       "  <thead>\n",
       "    <tr style=\"text-align: right;\">\n",
       "      <th></th>\n",
       "      <th>ids</th>\n",
       "      <th>sentences</th>\n",
       "      <th>OCR</th>\n",
       "    </tr>\n",
       "  </thead>\n",
       "  <tbody>\n",
       "    <tr>\n",
       "      <th>0</th>\n",
       "      <td>1.1.1.1</td>\n",
       "      <td>oṁ namo bhagavate vāsudevāya</td>\n",
       "      <td>om namo bhagavate vasudevaya</td>\n",
       "    </tr>\n",
       "    <tr>\n",
       "      <th>1</th>\n",
       "      <td>1.1.2.1</td>\n",
       "      <td>dharmaḥ projjhita-kaitavo ’tra paramo nirmatsa...</td>\n",
       "      <td>dharmah projjhita-kaitavo 'tra paramo nirmatsa...</td>\n",
       "    </tr>\n",
       "    <tr>\n",
       "      <th>2</th>\n",
       "      <td>1.1.2.2</td>\n",
       "      <td>vedyaṁ vāstavam atra vastu śivadaṁ tāpa-trayon...</td>\n",
       "      <td>vedyam vastavam atra vastu sivadam tapa-trayon...</td>\n",
       "    </tr>\n",
       "    <tr>\n",
       "      <th>3</th>\n",
       "      <td>1.1.2.3</td>\n",
       "      <td>śrīmad-bhāgavate mahā-muni-kṛte kiṁ vā parair ...</td>\n",
       "      <td>Ssrimad-bhagavate maha-muni-krte kim va parair...</td>\n",
       "    </tr>\n",
       "    <tr>\n",
       "      <th>4</th>\n",
       "      <td>1.1.2.4</td>\n",
       "      <td>sadyo hṛdy avarudhyate ’tra kṛtibhiḥ śuśrūṣubh...</td>\n",
       "      <td>sadyo hrdy avarudhyate 'tra krtibhih sugsrusub...</td>\n",
       "    </tr>\n",
       "    <tr>\n",
       "      <th>5</th>\n",
       "      <td>1.1.3.1</td>\n",
       "      <td>nigama-kalpa-taror galitaṁ phalaṁ</td>\n",
       "      <td>nigama-kalpa-taror galitam phalam</td>\n",
       "    </tr>\n",
       "    <tr>\n",
       "      <th>6</th>\n",
       "      <td>1.1.3.2</td>\n",
       "      <td>śuka-mukhād amṛta-drava-saṁyutam</td>\n",
       "      <td>suka-mukhad amrta-drava-samyutam</td>\n",
       "    </tr>\n",
       "    <tr>\n",
       "      <th>7</th>\n",
       "      <td>1.1.3.3</td>\n",
       "      <td>pibata bhāgavataṁ rasam ālayam</td>\n",
       "      <td>pibata bhagavatam rasam alayam</td>\n",
       "    </tr>\n",
       "    <tr>\n",
       "      <th>8</th>\n",
       "      <td>1.1.3.4</td>\n",
       "      <td>muhur aho rasikā bhuvi bhāvukāḥ</td>\n",
       "      <td>muhur aho rasika bhuvi bhavukah</td>\n",
       "    </tr>\n",
       "    <tr>\n",
       "      <th>9</th>\n",
       "      <td>1.1.4.1</td>\n",
       "      <td>naimiṣe ’nimiṣa-kṣetre</td>\n",
       "      <td>naimise 'nimisa-ksetre</td>\n",
       "    </tr>\n",
       "    <tr>\n",
       "      <th>10</th>\n",
       "      <td>1.1.4.2</td>\n",
       "      <td>ṛṣayaḥ śaunakādayaḥ</td>\n",
       "      <td>rsayah saunakadayah</td>\n",
       "    </tr>\n",
       "    <tr>\n",
       "      <th>11</th>\n",
       "      <td>1.1.4.3</td>\n",
       "      <td>satraṁ svargāya lokāya</td>\n",
       "      <td>satram svargaya lokaya</td>\n",
       "    </tr>\n",
       "    <tr>\n",
       "      <th>12</th>\n",
       "      <td>1.1.4.4</td>\n",
       "      <td>sahasra-samam āsata</td>\n",
       "      <td>sahasra-samam asata</td>\n",
       "    </tr>\n",
       "    <tr>\n",
       "      <th>13</th>\n",
       "      <td>1.1.5.1</td>\n",
       "      <td>ta ekadā tu munayaḥ</td>\n",
       "      <td>ta ekada tu munayah</td>\n",
       "    </tr>\n",
       "    <tr>\n",
       "      <th>14</th>\n",
       "      <td>1.1.5.2</td>\n",
       "      <td>prātar huta-hutāgnayaḥ</td>\n",
       "      <td>pratar huta-hutagnayah</td>\n",
       "    </tr>\n",
       "    <tr>\n",
       "      <th>15</th>\n",
       "      <td>1.1.5.3</td>\n",
       "      <td>sat-kṛtaṁ sūtam āsīnaṁ</td>\n",
       "      <td>sat-krtam sutam asinam</td>\n",
       "    </tr>\n",
       "    <tr>\n",
       "      <th>16</th>\n",
       "      <td>1.1.5.4</td>\n",
       "      <td>papracchur idam ādarāt</td>\n",
       "      <td>papracchur idam adarat</td>\n",
       "    </tr>\n",
       "    <tr>\n",
       "      <th>17</th>\n",
       "      <td>1.1.6.1</td>\n",
       "      <td>ṛṣaya ūcuḥ</td>\n",
       "      <td>rsaya ucuh</td>\n",
       "    </tr>\n",
       "    <tr>\n",
       "      <th>18</th>\n",
       "      <td>1.1.7.1</td>\n",
       "      <td>yāni veda-vidāṁ śreṣṭho</td>\n",
       "      <td>yani veda-vidam srestho</td>\n",
       "    </tr>\n",
       "    <tr>\n",
       "      <th>19</th>\n",
       "      <td>1.1.7.2</td>\n",
       "      <td>bhagavān bādarāyaṇaḥ</td>\n",
       "      <td>bhagavan badarayanah</td>\n",
       "    </tr>\n",
       "  </tbody>\n",
       "</table>\n",
       "</div>"
      ],
      "text/plain": [
       "        ids                                          sentences  \\\n",
       "0   1.1.1.1                       oṁ namo bhagavate vāsudevāya   \n",
       "1   1.1.2.1  dharmaḥ projjhita-kaitavo ’tra paramo nirmatsa...   \n",
       "2   1.1.2.2  vedyaṁ vāstavam atra vastu śivadaṁ tāpa-trayon...   \n",
       "3   1.1.2.3  śrīmad-bhāgavate mahā-muni-kṛte kiṁ vā parair ...   \n",
       "4   1.1.2.4  sadyo hṛdy avarudhyate ’tra kṛtibhiḥ śuśrūṣubh...   \n",
       "5   1.1.3.1                  nigama-kalpa-taror galitaṁ phalaṁ   \n",
       "6   1.1.3.2                   śuka-mukhād amṛta-drava-saṁyutam   \n",
       "7   1.1.3.3                     pibata bhāgavataṁ rasam ālayam   \n",
       "8   1.1.3.4                    muhur aho rasikā bhuvi bhāvukāḥ   \n",
       "9   1.1.4.1                             naimiṣe ’nimiṣa-kṣetre   \n",
       "10  1.1.4.2                                ṛṣayaḥ śaunakādayaḥ   \n",
       "11  1.1.4.3                             satraṁ svargāya lokāya   \n",
       "12  1.1.4.4                                sahasra-samam āsata   \n",
       "13  1.1.5.1                                ta ekadā tu munayaḥ   \n",
       "14  1.1.5.2                             prātar huta-hutāgnayaḥ   \n",
       "15  1.1.5.3                             sat-kṛtaṁ sūtam āsīnaṁ   \n",
       "16  1.1.5.4                             papracchur idam ādarāt   \n",
       "17  1.1.6.1                                         ṛṣaya ūcuḥ   \n",
       "18  1.1.7.1                            yāni veda-vidāṁ śreṣṭho   \n",
       "19  1.1.7.2                               bhagavān bādarāyaṇaḥ   \n",
       "\n",
       "                                                  OCR  \n",
       "0                        om namo bhagavate vasudevaya  \n",
       "1   dharmah projjhita-kaitavo 'tra paramo nirmatsa...  \n",
       "2   vedyam vastavam atra vastu sivadam tapa-trayon...  \n",
       "3   Ssrimad-bhagavate maha-muni-krte kim va parair...  \n",
       "4   sadyo hrdy avarudhyate 'tra krtibhih sugsrusub...  \n",
       "5                   nigama-kalpa-taror galitam phalam  \n",
       "6                    suka-mukhad amrta-drava-samyutam  \n",
       "7                      pibata bhagavatam rasam alayam  \n",
       "8                     muhur aho rasika bhuvi bhavukah  \n",
       "9                              naimise 'nimisa-ksetre  \n",
       "10                                rsayah saunakadayah  \n",
       "11                             satram svargaya lokaya  \n",
       "12                                sahasra-samam asata  \n",
       "13                                ta ekada tu munayah  \n",
       "14                             pratar huta-hutagnayah  \n",
       "15                             sat-krtam sutam asinam  \n",
       "16                             papracchur idam adarat  \n",
       "17                                         rsaya ucuh  \n",
       "18                            yani veda-vidam srestho  \n",
       "19                               bhagavan badarayanah  "
      ]
     },
     "execution_count": 4,
     "metadata": {},
     "output_type": "execute_result"
    }
   ],
   "source": [
    "df.head(20)"
   ]
  },
  {
   "cell_type": "code",
   "execution_count": 5,
   "metadata": {},
   "outputs": [
    {
     "data": {
      "text/html": [
       "<div>\n",
       "<style scoped>\n",
       "    .dataframe tbody tr th:only-of-type {\n",
       "        vertical-align: middle;\n",
       "    }\n",
       "\n",
       "    .dataframe tbody tr th {\n",
       "        vertical-align: top;\n",
       "    }\n",
       "\n",
       "    .dataframe thead th {\n",
       "        text-align: right;\n",
       "    }\n",
       "</style>\n",
       "<table border=\"1\" class=\"dataframe\">\n",
       "  <thead>\n",
       "    <tr style=\"text-align: right;\">\n",
       "      <th></th>\n",
       "      <th>ids</th>\n",
       "      <th>sentences</th>\n",
       "      <th>OCR</th>\n",
       "    </tr>\n",
       "  </thead>\n",
       "  <tbody>\n",
       "    <tr>\n",
       "      <th>count</th>\n",
       "      <td>50980</td>\n",
       "      <td>50980</td>\n",
       "      <td>50971</td>\n",
       "    </tr>\n",
       "    <tr>\n",
       "      <th>unique</th>\n",
       "      <td>45781</td>\n",
       "      <td>43891</td>\n",
       "      <td>43843</td>\n",
       "    </tr>\n",
       "    <tr>\n",
       "      <th>top</th>\n",
       "      <td>4.22.19.3</td>\n",
       "      <td>śrī-śuka uvāca</td>\n",
       "      <td>Sri-Suka uvaca</td>\n",
       "    </tr>\n",
       "    <tr>\n",
       "      <th>freq</th>\n",
       "      <td>2</td>\n",
       "      <td>346</td>\n",
       "      <td>346</td>\n",
       "    </tr>\n",
       "  </tbody>\n",
       "</table>\n",
       "</div>"
      ],
      "text/plain": [
       "              ids       sentences             OCR\n",
       "count       50980           50980           50971\n",
       "unique      45781           43891           43843\n",
       "top     4.22.19.3  śrī-śuka uvāca  Sri-Suka uvaca\n",
       "freq            2             346             346"
      ]
     },
     "execution_count": 5,
     "metadata": {},
     "output_type": "execute_result"
    }
   ],
   "source": [
    "df.describe()"
   ]
  },
  {
   "cell_type": "code",
   "execution_count": 6,
   "metadata": {
    "collapsed": true
   },
   "outputs": [],
   "source": [
    "filter_values = df['sentences'].str.len() == df['OCR'].str.len()"
   ]
  },
  {
   "cell_type": "code",
   "execution_count": 7,
   "metadata": {},
   "outputs": [
    {
     "data": {
      "text/plain": [
       "50980"
      ]
     },
     "execution_count": 7,
     "metadata": {},
     "output_type": "execute_result"
    }
   ],
   "source": [
    "len(filter_values)"
   ]
  },
  {
   "cell_type": "code",
   "execution_count": 8,
   "metadata": {
    "collapsed": true
   },
   "outputs": [],
   "source": [
    "filtered_df = df[filter_values]"
   ]
  },
  {
   "cell_type": "code",
   "execution_count": 9,
   "metadata": {},
   "outputs": [
    {
     "data": {
      "text/html": [
       "<div>\n",
       "<style scoped>\n",
       "    .dataframe tbody tr th:only-of-type {\n",
       "        vertical-align: middle;\n",
       "    }\n",
       "\n",
       "    .dataframe tbody tr th {\n",
       "        vertical-align: top;\n",
       "    }\n",
       "\n",
       "    .dataframe thead th {\n",
       "        text-align: right;\n",
       "    }\n",
       "</style>\n",
       "<table border=\"1\" class=\"dataframe\">\n",
       "  <thead>\n",
       "    <tr style=\"text-align: right;\">\n",
       "      <th></th>\n",
       "      <th>ids</th>\n",
       "      <th>sentences</th>\n",
       "      <th>OCR</th>\n",
       "    </tr>\n",
       "  </thead>\n",
       "  <tbody>\n",
       "    <tr>\n",
       "      <th>0</th>\n",
       "      <td>1.1.1.1</td>\n",
       "      <td>oṁ namo bhagavate vāsudevāya</td>\n",
       "      <td>om namo bhagavate vasudevaya</td>\n",
       "    </tr>\n",
       "    <tr>\n",
       "      <th>1</th>\n",
       "      <td>1.1.2.1</td>\n",
       "      <td>dharmaḥ projjhita-kaitavo ’tra paramo nirmatsa...</td>\n",
       "      <td>dharmah projjhita-kaitavo 'tra paramo nirmatsa...</td>\n",
       "    </tr>\n",
       "    <tr>\n",
       "      <th>2</th>\n",
       "      <td>1.1.2.2</td>\n",
       "      <td>vedyaṁ vāstavam atra vastu śivadaṁ tāpa-trayon...</td>\n",
       "      <td>vedyam vastavam atra vastu sivadam tapa-trayon...</td>\n",
       "    </tr>\n",
       "    <tr>\n",
       "      <th>5</th>\n",
       "      <td>1.1.3.1</td>\n",
       "      <td>nigama-kalpa-taror galitaṁ phalaṁ</td>\n",
       "      <td>nigama-kalpa-taror galitam phalam</td>\n",
       "    </tr>\n",
       "    <tr>\n",
       "      <th>6</th>\n",
       "      <td>1.1.3.2</td>\n",
       "      <td>śuka-mukhād amṛta-drava-saṁyutam</td>\n",
       "      <td>suka-mukhad amrta-drava-samyutam</td>\n",
       "    </tr>\n",
       "  </tbody>\n",
       "</table>\n",
       "</div>"
      ],
      "text/plain": [
       "       ids                                          sentences  \\\n",
       "0  1.1.1.1                       oṁ namo bhagavate vāsudevāya   \n",
       "1  1.1.2.1  dharmaḥ projjhita-kaitavo ’tra paramo nirmatsa...   \n",
       "2  1.1.2.2  vedyaṁ vāstavam atra vastu śivadaṁ tāpa-trayon...   \n",
       "5  1.1.3.1                  nigama-kalpa-taror galitaṁ phalaṁ   \n",
       "6  1.1.3.2                   śuka-mukhād amṛta-drava-saṁyutam   \n",
       "\n",
       "                                                 OCR  \n",
       "0                       om namo bhagavate vasudevaya  \n",
       "1  dharmah projjhita-kaitavo 'tra paramo nirmatsa...  \n",
       "2  vedyam vastavam atra vastu sivadam tapa-trayon...  \n",
       "5                  nigama-kalpa-taror galitam phalam  \n",
       "6                   suka-mukhad amrta-drava-samyutam  "
      ]
     },
     "execution_count": 9,
     "metadata": {},
     "output_type": "execute_result"
    }
   ],
   "source": [
    "filtered_df.head()"
   ]
  },
  {
   "cell_type": "code",
   "execution_count": 10,
   "metadata": {},
   "outputs": [
    {
     "data": {
      "text/plain": [
       "0.9351510396233818"
      ]
     },
     "execution_count": 10,
     "metadata": {},
     "output_type": "execute_result"
    }
   ],
   "source": [
    "len(filtered_df) / len(df)"
   ]
  },
  {
   "cell_type": "code",
   "execution_count": 11,
   "metadata": {},
   "outputs": [
    {
     "name": "stderr",
     "output_type": "stream",
     "text": [
      "/Users/rbhat/anaconda2/envs/san_ocr_enc_dec/lib/python3.6/site-packages/ipykernel_launcher.py:1: SettingWithCopyWarning: \n",
      "A value is trying to be set on a copy of a slice from a DataFrame.\n",
      "Try using .loc[row_indexer,col_indexer] = value instead\n",
      "\n",
      "See the caveats in the documentation: http://pandas.pydata.org/pandas-docs/stable/indexing.html#indexing-view-versus-copy\n",
      "  \"\"\"Entry point for launching an IPython kernel.\n"
     ]
    }
   ],
   "source": [
    "filtered_df['OCR'] = filtered_df['OCR'].astype(str).str.lower()"
   ]
  },
  {
   "cell_type": "code",
   "execution_count": 12,
   "metadata": {},
   "outputs": [
    {
     "data": {
      "text/plain": [
       "0                         om namo bhagavate vasudevaya\n",
       "1    dharmah projjhita-kaitavo 'tra paramo nirmatsa...\n",
       "2    vedyam vastavam atra vastu sivadam tapa-trayon...\n",
       "5                    nigama-kalpa-taror galitam phalam\n",
       "6                     suka-mukhad amrta-drava-samyutam\n",
       "Name: OCR, dtype: object"
      ]
     },
     "execution_count": 12,
     "metadata": {},
     "output_type": "execute_result"
    }
   ],
   "source": [
    "filtered_df['OCR'].head()"
   ]
  },
  {
   "cell_type": "code",
   "execution_count": 13,
   "metadata": {
    "collapsed": true
   },
   "outputs": [],
   "source": [
    "vocab = set(filtered_df['sentences'].str.cat() + filtered_df['OCR'].str.cat())"
   ]
  },
  {
   "cell_type": "code",
   "execution_count": 14,
   "metadata": {
    "collapsed": true
   },
   "outputs": [],
   "source": [
    "string_lengths = sorted(filtered_df['OCR'].str.len())"
   ]
  },
  {
   "cell_type": "code",
   "execution_count": 15,
   "metadata": {
    "collapsed": true
   },
   "outputs": [],
   "source": [
    "SEQ_LENGTH = int(np.percentile(sorted(string_lengths), 99.5))\n",
    "VOCAB_SIZE = 56"
   ]
  },
  {
   "cell_type": "code",
   "execution_count": 16,
   "metadata": {
    "collapsed": true
   },
   "outputs": [],
   "source": [
    "SEQ_LENGTH = 150"
   ]
  },
  {
   "cell_type": "code",
   "execution_count": 17,
   "metadata": {
    "collapsed": true
   },
   "outputs": [],
   "source": [
    "vocab = sorted(vocab)\n",
    "vocab_to_int = {c: i+1 for i, c in enumerate(vocab)}\n",
    "int_to_vocab = {i+1:c for i,c in enumerate(vocab)}"
   ]
  },
  {
   "cell_type": "code",
   "execution_count": 18,
   "metadata": {},
   "outputs": [
    {
     "data": {
      "text/plain": [
       "' '"
      ]
     },
     "execution_count": 18,
     "metadata": {},
     "output_type": "execute_result"
    }
   ],
   "source": [
    "int_to_vocab[1]"
   ]
  },
  {
   "cell_type": "code",
   "execution_count": 19,
   "metadata": {
    "collapsed": true
   },
   "outputs": [],
   "source": [
    "X = filtered_df['OCR'].tolist()"
   ]
  },
  {
   "cell_type": "code",
   "execution_count": 20,
   "metadata": {
    "collapsed": true
   },
   "outputs": [],
   "source": [
    "Y = filtered_df['sentences'].tolist()"
   ]
  },
  {
   "cell_type": "code",
   "execution_count": 21,
   "metadata": {},
   "outputs": [
    {
     "name": "stdout",
     "output_type": "stream",
     "text": [
      "om namo bhagavate vasudevaya\n",
      "oṁ namo bhagavate vāsudevāya\n"
     ]
    }
   ],
   "source": [
    "print(X[0])\n",
    "print(Y[0])"
   ]
  },
  {
   "cell_type": "code",
   "execution_count": 22,
   "metadata": {
    "collapsed": true
   },
   "outputs": [],
   "source": [
    "X_train = []\n",
    "Y_train = []\n",
    "\n",
    "for x,y in zip(X, Y):\n",
    "    \n",
    "    X_train.append(np.array([vocab_to_int[ch] for ch in x]))\n",
    "    Y_train.append(np.array([vocab_to_int[ch] for ch in y]))"
   ]
  },
  {
   "cell_type": "code",
   "execution_count": 23,
   "metadata": {},
   "outputs": [
    {
     "data": {
      "text/plain": [
       "array([26, 24,  1, 25, 12, 24, 26,  1, 13, 19, 12, 18, 12, 33, 12, 31, 16,\n",
       "        1, 33, 12, 30, 32, 15, 16, 33, 12, 34, 12])"
      ]
     },
     "execution_count": 23,
     "metadata": {},
     "output_type": "execute_result"
    }
   ],
   "source": [
    "X_train = np.array(X_train)\n",
    "X_train[0]"
   ]
  },
  {
   "cell_type": "code",
   "execution_count": 24,
   "metadata": {
    "collapsed": true
   },
   "outputs": [],
   "source": [
    "X_train = pad_sequences(X_train, maxlen=SEQ_LENGTH, dtype='int32', padding='post', truncating='post')\n",
    "Y_train = pad_sequences(Y_train, maxlen=SEQ_LENGTH, dtype='int32', padding='post', truncating='post')"
   ]
  },
  {
   "cell_type": "code",
   "execution_count": 25,
   "metadata": {},
   "outputs": [
    {
     "data": {
      "text/plain": [
       "array([26, 24,  1, 25, 12, 24, 26,  1, 13, 19, 12, 18, 12, 33, 12, 31, 16,\n",
       "        1, 33, 12, 30, 32, 15, 16, 33, 12, 34, 12,  0,  0,  0,  0,  0,  0,\n",
       "        0,  0,  0,  0,  0,  0,  0,  0,  0,  0,  0,  0,  0,  0,  0,  0,  0,\n",
       "        0,  0,  0,  0,  0,  0,  0,  0,  0,  0,  0,  0,  0,  0,  0,  0,  0,\n",
       "        0,  0,  0,  0,  0,  0,  0,  0,  0,  0,  0,  0,  0,  0,  0,  0,  0,\n",
       "        0,  0,  0,  0,  0,  0,  0,  0,  0,  0,  0,  0,  0,  0,  0,  0,  0,\n",
       "        0,  0,  0,  0,  0,  0,  0,  0,  0,  0,  0,  0,  0,  0,  0,  0,  0,\n",
       "        0,  0,  0,  0,  0,  0,  0,  0,  0,  0,  0,  0,  0,  0,  0,  0,  0,\n",
       "        0,  0,  0,  0,  0,  0,  0,  0,  0,  0,  0,  0,  0,  0],\n",
       "      dtype=int32)"
      ]
     },
     "execution_count": 25,
     "metadata": {},
     "output_type": "execute_result"
    }
   ],
   "source": [
    "X_train[0]"
   ]
  },
  {
   "cell_type": "code",
   "execution_count": 26,
   "metadata": {
    "collapsed": true
   },
   "outputs": [],
   "source": [
    "Y_train = to_categorical(Y_train)"
   ]
  },
  {
   "cell_type": "code",
   "execution_count": 27,
   "metadata": {},
   "outputs": [
    {
     "name": "stdout",
     "output_type": "stream",
     "text": [
      "(47674, 150)\n",
      "(47674, 150, 56)\n"
     ]
    }
   ],
   "source": [
    "print(X_train.shape)\n",
    "print(Y_train.shape)"
   ]
  },
  {
   "cell_type": "code",
   "execution_count": 28,
   "metadata": {},
   "outputs": [
    {
     "name": "stdout",
     "output_type": "stream",
     "text": [
      "_________________________________________________________________\n",
      "Layer (type)                 Output Shape              Param #   \n",
      "=================================================================\n",
      "embedding_1 (Embedding)      (None, 150, 100)          5600      \n",
      "_________________________________________________________________\n",
      "lstm_1 (LSTM)                (None, 150, 64)           42240     \n",
      "_________________________________________________________________\n",
      "time_distributed_1 (TimeDist (None, 150, 56)           3640      \n",
      "_________________________________________________________________\n",
      "activation_1 (Activation)    (None, 150, 56)           0         \n",
      "=================================================================\n",
      "Total params: 51,480\n",
      "Trainable params: 51,480\n",
      "Non-trainable params: 0\n",
      "_________________________________________________________________\n",
      "None\n"
     ]
    }
   ],
   "source": [
    "model = Sequential()\n",
    "model.add(Embedding(VOCAB_SIZE, 100, input_length=SEQ_LENGTH))\n",
    "model.add(LSTM(64, return_sequences=True))\n",
    "model.add(TimeDistributed(Dense(VOCAB_SIZE)))\n",
    "model.add(Activation('softmax'))\n",
    "model.compile(loss=\"categorical_crossentropy\", optimizer=\"adam\", metrics=[\"accuracy\"])\n",
    "print(model.summary())"
   ]
  },
  {
   "cell_type": "code",
   "execution_count": null,
   "metadata": {},
   "outputs": [
    {
     "name": "stdout",
     "output_type": "stream",
     "text": [
      "Train on 45290 samples, validate on 2384 samples\n",
      "Epoch 1/25\n",
      " 2560/45290 [>.............................] - ETA: 2:06 - loss: 0.0483 - acc: 0.9797"
     ]
    }
   ],
   "source": [
    "model.fit(X_train, Y_train, batch_size=512, verbose=1, epochs=25, validation_split=0.05)"
   ]
  },
  {
   "cell_type": "code",
   "execution_count": 30,
   "metadata": {},
   "outputs": [
    {
     "data": {
      "text/plain": [
       "array([26, 24,  1, 25, 12, 24, 26,  1, 13, 19, 12, 18, 12, 33, 12, 31, 16,\n",
       "        1, 33, 12, 30, 32, 15, 16, 33, 12, 34, 12,  0,  0,  0,  0,  0,  0,\n",
       "        0,  0,  0,  0,  0,  0,  0,  0,  0,  0,  0,  0,  0,  0,  0,  0,  0,\n",
       "        0,  0,  0,  0,  0,  0,  0,  0,  0,  0,  0,  0,  0,  0,  0,  0,  0,\n",
       "        0,  0,  0,  0,  0,  0,  0,  0,  0,  0,  0,  0,  0,  0,  0,  0,  0,\n",
       "        0,  0,  0,  0,  0,  0,  0,  0,  0,  0,  0,  0,  0,  0,  0,  0,  0,\n",
       "        0,  0,  0,  0,  0,  0,  0,  0,  0,  0,  0,  0,  0,  0,  0,  0,  0,\n",
       "        0,  0,  0,  0,  0,  0,  0,  0,  0,  0,  0,  0,  0,  0,  0,  0,  0,\n",
       "        0,  0,  0,  0,  0,  0,  0,  0,  0,  0,  0,  0,  0,  0])"
      ]
     },
     "execution_count": 30,
     "metadata": {},
     "output_type": "execute_result"
    }
   ],
   "source": [
    "prediction = np.argmax(model.predict(X_train[:1]), axis=2)\n",
    "prediction[0]"
   ]
  },
  {
   "cell_type": "code",
   "execution_count": 31,
   "metadata": {},
   "outputs": [
    {
     "name": "stdout",
     "output_type": "stream",
     "text": [
      "om namo bhagavate vasudevaya\n"
     ]
    }
   ],
   "source": [
    "prediction_string = \"\".join([int_to_vocab[c] if c > 0 else '' for c in prediction[0]])\n",
    "print(prediction_string)"
   ]
  },
  {
   "cell_type": "code",
   "execution_count": 32,
   "metadata": {},
   "outputs": [
    {
     "data": {
      "text/plain": [
       "(array([15, 19, 12, 29, 24, 12, 19,  1, 27, 29, 26, 21, 21, 19, 20, 31, 12,\n",
       "         7, 22, 12, 20, 31, 12, 33, 26,  1,  5, 31, 29, 12,  1, 27, 12, 29,\n",
       "        12, 24, 26,  1, 25, 20, 29, 24, 12, 31, 30, 12, 29, 12, 25, 12, 24,\n",
       "         1, 30, 12, 31, 12, 24,  0,  0,  0,  0,  0,  0,  0,  0,  0,  0,  0,\n",
       "         0,  0,  0,  0,  0,  0,  0,  0,  0,  0,  0,  0,  0,  0,  0,  0,  0,\n",
       "         0,  0,  0,  0,  0,  0,  0,  0,  0,  0,  0,  0,  0,  0,  0,  0,  0,\n",
       "         0,  0,  0,  0,  0,  0,  0,  0,  0,  0,  0,  0,  0,  0,  0,  0,  0,\n",
       "         0,  0,  0,  0,  0,  0,  0,  0,  0,  0,  0,  0,  0,  0,  0,  0,  0,\n",
       "         0,  0,  0,  0,  0,  0,  0,  0,  0,  0,  0,  0,  0,  0],\n",
       "       dtype=int32),\n",
       " array([15, 19, 12, 29, 24, 12, 45,  1, 27, 29, 26, 21, 21, 19, 20, 31, 12,\n",
       "         7, 22, 12, 20, 31, 12, 33, 26,  1, 55, 31, 29, 12,  1, 27, 12, 29,\n",
       "        12, 24, 26,  1, 25, 20, 29, 24, 12, 31, 30, 12, 29, 40, 50, 40, 48,\n",
       "         1, 30, 12, 31, 40, 48,  0,  0,  0,  0,  0,  0,  0,  0,  0,  0,  0,\n",
       "         0,  0,  0,  0,  0,  0,  0,  0,  0,  0,  0,  0,  0,  0,  0,  0,  0,\n",
       "         0,  0,  0,  0,  0,  0,  0,  0,  0,  0,  0,  0,  0,  0,  0,  0,  0,\n",
       "         0,  0,  0,  0,  0,  0,  0,  0,  0,  0,  0,  0,  0,  0,  0,  0,  0,\n",
       "         0,  0,  0,  0,  0,  0,  0,  0,  0,  0,  0,  0,  0,  0,  0,  0,  0,\n",
       "         0,  0,  0,  0,  0,  0,  0,  0,  0,  0,  0,  0,  0,  0]))"
      ]
     },
     "execution_count": 32,
     "metadata": {},
     "output_type": "execute_result"
    }
   ],
   "source": [
    "X_train[1], np.argmax(Y_train[1], axis=1)"
   ]
  },
  {
   "cell_type": "code",
   "execution_count": 33,
   "metadata": {},
   "outputs": [
    {
     "data": {
      "text/plain": [
       "'om namo bhagavate vasudevaya'"
      ]
     },
     "execution_count": 33,
     "metadata": {},
     "output_type": "execute_result"
    }
   ],
   "source": [
    "X[0]"
   ]
  },
  {
   "cell_type": "code",
   "execution_count": 34,
   "metadata": {},
   "outputs": [
    {
     "data": {
      "text/plain": [
       "'oṁ namo bhagavate vāsudevāya'"
      ]
     },
     "execution_count": 34,
     "metadata": {},
     "output_type": "execute_result"
    }
   ],
   "source": [
    "Y[0]"
   ]
  },
  {
   "cell_type": "code",
   "execution_count": 58,
   "metadata": {},
   "outputs": [
    {
     "name": "stdout",
     "output_type": "stream",
     "text": [
      "README.md                 \u001b[31mfor_all_cantos.sh\u001b[m\u001b[m         \u001b[31mtesseract_ocr.sh\u001b[m\u001b[m\r\n",
      "bhagabatam_dataprep.ipynb results_bilstm.csv        \u001b[1m\u001b[36mtest_data\u001b[m\u001b[m\r\n",
      "\u001b[1m\u001b[36mcantos\u001b[m\u001b[m                    seq2seq-lstm.ipynb        text2img\r\n",
      "cantos_crawl.py           seq2seq.ipynb             \u001b[1m\u001b[36mtrain_data\u001b[m\u001b[m\r\n"
     ]
    }
   ],
   "source": [
    "!ls"
   ]
  },
  {
   "cell_type": "code",
   "execution_count": 35,
   "metadata": {
    "collapsed": true
   },
   "outputs": [],
   "source": [
    "test_df = pd.read_csv('test_data/test_final.csv', encoding='utf-8')"
   ]
  },
  {
   "cell_type": "code",
   "execution_count": 36,
   "metadata": {
    "collapsed": true
   },
   "outputs": [],
   "source": [
    "test_df['source'] = test_df['source'].astype(str).str.lower()"
   ]
  },
  {
   "cell_type": "code",
   "execution_count": 37,
   "metadata": {},
   "outputs": [
    {
     "name": "stdout",
     "output_type": "stream",
     "text": [
      "error\n",
      "error\n",
      "error\n",
      "error\n",
      "error\n",
      "error\n",
      "error\n",
      "error\n",
      "error\n",
      "error\n",
      "error\n",
      "error\n",
      "error\n",
      "error\n",
      "error\n",
      "error\n",
      "error\n",
      "error\n",
      "error\n",
      "error\n",
      "error\n",
      "error\n",
      "error\n",
      "error\n"
     ]
    }
   ],
   "source": [
    "X_test = []\n",
    "y_test = []\n",
    "origin = []\n",
    "for x, y, s in zip(test_df['source'].tolist(), test_df['target'].tolist(), test_df['origin']):\n",
    "    try:\n",
    "        X_test.append(np.array([vocab_to_int[ch] for ch in x]))\n",
    "        y_test.append(y)\n",
    "        origin.append(s)\n",
    "    except:\n",
    "        print(\"error\")"
   ]
  },
  {
   "cell_type": "code",
   "execution_count": 38,
   "metadata": {},
   "outputs": [
    {
     "data": {
      "text/plain": [
       "[array([15, 19, 29, 31, 12, 29, 12, 30, 31, 29, 12,  1, 32, 33, 12, 14, 12]),\n",
       " array([15, 19, 12, 29, 24, 12,  7, 22, 30, 16, 31, 29, 16,  1, 22, 32, 29,\n",
       "        32,  7, 22, 30, 16, 31, 29, 16,  1, 30, 12, 24, 12, 33, 16, 31, 12,\n",
       "         1, 34, 32, 34, 32, 31, 30, 12, 33, 12, 19])]"
      ]
     },
     "execution_count": 38,
     "metadata": {},
     "output_type": "execute_result"
    }
   ],
   "source": [
    "X_test[:2]"
   ]
  },
  {
   "cell_type": "code",
   "execution_count": 39,
   "metadata": {
    "collapsed": true
   },
   "outputs": [],
   "source": [
    "X_test = pad_sequences(X_test, maxlen=SEQ_LENGTH, dtype='int32', padding='post', truncating='post')"
   ]
  },
  {
   "cell_type": "code",
   "execution_count": 40,
   "metadata": {},
   "outputs": [
    {
     "name": "stdout",
     "output_type": "stream",
     "text": [
      "403/403 [==============================] - 0s 894us/step\n"
     ]
    }
   ],
   "source": [
    "x_test_pred = model.predict_classes(X_test, verbose=1)"
   ]
  },
  {
   "cell_type": "code",
   "execution_count": 41,
   "metadata": {
    "collapsed": true
   },
   "outputs": [],
   "source": [
    "test_prediction_string = []\n",
    "x_test_string = []\n",
    "for row in x_test_pred:\n",
    "    test_prediction_string.append(\"\".join([int_to_vocab[c] if c > 0 else '' for c in row]))\n",
    "    \n",
    "    \n",
    "for row in X_test:\n",
    "    x_test_string.append(\"\".join([int_to_vocab[c] if c > 0 else '' for c in row]))\n"
   ]
  },
  {
   "cell_type": "code",
   "execution_count": 42,
   "metadata": {},
   "outputs": [
    {
     "data": {
      "text/plain": [
       "['dhrtarastra uvāca',\n",
       " 'dharma-kṣetre kuru-kṣetre samaveta yuyutsavaḥ',\n",
       " 'mamakaḥ pandavas caiva kim akurvata sanjaya',\n",
       " 'karpaṇya-doṣopaḥata-svabhavaḥ',\n",
       " 'prechaṁi tvaṁ dharma-sammudha-cetaḥ',\n",
       " 'yac chreyaḥ syan niṣcitaṁ bṛuhi tan me',\n",
       " 'siśyas te ’haṁ sadhi mam tvaṁ prapannaṁ',\n",
       " 'srī-bhagavan uvaca',\n",
       " 'asocyan anvasocas tvaṁ prajña-vadams ca bhasase',\n",
       " 'gatasun agatasums ca nanuṣocanti panditaḥ',\n",
       " 'na tv evahaṁ jatu nasaṁ na tvaṁ neme janadhipaḥ',\n",
       " 'na caiva na bhaviṣyaṁaḥ sarve vayaṁ ataḥ param',\n",
       " 'dehino ’smin yatha dehe kaumaram yauvanaṁ jara',\n",
       " 'tathā dehantara-praptir dhiras tatra na muhyati',\n",
       " 'matra-sparṣas tu kaunteya sitoṣna-sukha-duḥkha-dah',\n",
       " 'agamapayino ’nityas tams titikṣasva bharata',\n",
       " 'avinasi tu tad viddhi yena sarvam idam tatam',\n",
       " 'vinasaṁ avyayasyasya na kascit kartum arhati',\n",
       " 'na jayate mṛiyate va kadacin nayaṁ bhutva bhavita va na bhuyaḥ',\n",
       " 'ajo nityaḥ sasvato ’yam puraṇo na hanyate hanyamane sarire',\n",
       " 'vasaṁsi jirṇani yatha vihaya',\n",
       " 'navani gṛhṇati naro ’paraṇi',\n",
       " 'tathā sariraṇi vihaya jirṇany',\n",
       " 'anyani samyati navani dehi',\n",
       " 'nainaṁ chindanti sastraṇi nainaṁ dahati pavakaḥ',\n",
       " 'na cainaṁ kledayanty apo na soṣayati marutaḥ',\n",
       " 'nehabhikrama-naso ’sti pratyavayo na vidyate',\n",
       " 'sv-alpam apy asya dharmasya trayate mahato bhayat',\n",
       " 'bhogaiśvarya-prasaktanaṁ tayapaḥrta-cetasaṁ',\n",
       " 'vyavasayatmika buddhiḥ samadhau na vidhiyate',\n",
       " 'karmaṇy evadhikaras te ma phaleṣu kadacana',\n",
       " 'ma karma-phala-hetur bhur ma te sango ’stv akarmaṇi',\n",
       " 'viśaya vinivartante niraḥarasya dehinaḥ',\n",
       " 'rasa-varjam raso ’py asya param drṣṭva nirvartate',\n",
       " 'tani sarvani samyaṁya yukta asita mat-paraḥ',\n",
       " 'vase hi yasyendriyani tasya prajjma pratiṣṭhita',\n",
       " 'dhyayato viśayan pumsaḥ sangas teṣupajayate',\n",
       " 'sangat sajijayate kamaḥ kamat kṛodho ’bhijayate',\n",
       " 'kṛodhad bhavati sammohaḥ sammohat smṛti-vibhramaḥ',\n",
       " 'smṛti-bhramsad buddhi-naso buddhi-nasat praṇasyati',\n",
       " 'ya niṣa sarva-bhutanaṁ tasyaṁ jagarti samyaṁi',\n",
       " 'yasyaṁ jagrati bhutani sa niṣa pasyato muneḥ',\n",
       " 'na hi kascit kṣaṇaṁ api jatu tiṣṭhaty akarma-kṛt',\n",
       " 'karyate hy avasaḥ karma sarvaḥ prakṛti-jair guṇaiḥ',\n",
       " 'karmeṇdriyani samyaṁya ya aste manasa smaraṇ',\n",
       " 'indriyarthan vimudhatma mithyacaraḥ sa ucyate',\n",
       " 'niyataṁ kuru karma tvaṁ karma jyayo hy akarmaṇaḥ',\n",
       " 'sarira-yatrapi ca te na prasiddhyed akarmaṇaḥ',\n",
       " 'yajñarthat karmaṇo ’nyatra loko ’yam karma-bandhanaḥ',\n",
       " 'tad-arthaṁ karma kaunteya mukta-sangaḥ samacara',\n",
       " 'yajjia-siśṭasinaḥ santo mucyante sarva-kilbiṣaiḥ',\n",
       " 'bhūīijate te tv agham papa ye pacanty atma-karaṇat',\n",
       " 'annad bhavanti bhutani parjanyad anna-sambhavaḥ',\n",
       " 'bhavati parjanyo yajjiaḥ karma-samudbhavaḥ',\n",
       " 'ajo ’pi sann avyayatma bhutanaṁ iśvaro ’pi san',\n",
       " 'prakṛtiṁ svam adhiṣṭhaya sambhavaṁy atma-mayaya',\n",
       " 'yada yada hi dharmasya glanir bhavati bharata',\n",
       " 'abhyutthanaṁ adharmasya tadatmanaṁ sriaṁy aham',\n",
       " 'paritraṇaya sadhunam vinasaya ca duṣkṛtaṁ',\n",
       " 'dharma-samsthapanarthaya sambhavaṁi yuge yuge',\n",
       " 'janma karma ca me divyaṁ evaṁ yo vetti tattvataḥ',\n",
       " 'tyaktva dehaṁ puṇar janma naiti mam eti so ’rjuna',\n",
       " 'ye yatha mam prapadyante tams tathaiva bhajamy aham',\n",
       " 'mama vartmanuvartante manuṣyaḥ partha sarvasaḥ',\n",
       " 'catur-varṇyaṁ maya srṣṭam guṇa-karma-vibhagasaḥ',\n",
       " 'tasya kartaraṁ api mam viddhy akartaram avyayaṁ',\n",
       " 'tad viddhi praṇipatena pariprasṇena sevaya',\n",
       " 'upadekṣyanti te jjanaṁ tattva-darṣiṇaḥ',\n",
       " 'vidya-vinaya-sampanne bṛahmane gavi hastini',\n",
       " 'suni caiva sva-pake ca panditaḥ sama-darṣiṇaḥ',\n",
       " 'ye hi samsparṣa-ja bhoga duḥkha-yonaya eva te',\n",
       " 'ady-antavantaḥ kaunteya na teṣu ramate budhaḥ',\n",
       " 'bhoktaraṁ yajjia-tapasaṁ sarva-loka-maheṣvaram',\n",
       " 'suhrdam sarva-bhutanaṁ jjiatva mam santim rechati',\n",
       " 'śrī-bhagavan uvaca',\n",
       " 'anasritaḥ karma-phalaṁ karyaṁ karma karoti yaḥ',\n",
       " 'sa sannyasi ca yogi ca na niragnir na cakṛiyaḥ',\n",
       " 'uddhared atmanatmanaṁ natmanaṁ avasadayet',\n",
       " 'atmaiva hy atmano bandhur atmaiva ripur atmanaḥ',\n",
       " 'yuktaḥāra-viharasya yukta-ceṣṭasya karmasu',\n",
       " 'yukta-svapnavabodhasya yogo bhavati duḥkha-ha',\n",
       " 'sukhaṁ atyantikam yat tad buddhi-grahyaṁ atindriyaṁ',\n",
       " 'vetti yatra na caivayaṁ sthitas calati tattvataḥ',\n",
       " 'yaṁ labdhva caparam labham manyate nadhikaṁ tataḥ',\n",
       " 'yasmin sthito na duhkhena guruṇapi vicalyate',\n",
       " 'tam vidyad duḥkha-samyoga- viyogam yoga-samjjiitaṁ',\n",
       " 'yato yato niṣcalati manas caīicalaṁ asthiram',\n",
       " 'tatas tato niyaṁyaitad atmany eva vasam nayet',\n",
       " 'yo mam pasyati sarvatra sarvam ca mayi pasyati',\n",
       " 'tasyaḥaṁ na praṇasyaṁi sa ca me na praṇasyati',\n",
       " 'caīicalaṁ hi manaḥ kṛṣṇa pramathi balavad drdham',\n",
       " 'tasyaḥaṁ nigrahaṁ manye vayor iva su-duṣkaram',\n",
       " 'prapya puṇya-kṛtam lokan uṣitva sasvatiḥ samaḥ',\n",
       " 'sucinaṁ srīmataṁ gehe yoga-bhrasṭo ’bhijayate',\n",
       " 'yoginaṁ api sarveṣaṁ mad-gatenantar-atmana',\n",
       " 'sraddhavan bhajate yo mam sa me yuktataṁo mataḥ',\n",
       " 'srī-bhagavan uvaca',\n",
       " 'mayy asakta-manaḥ partha yogam yuīijan mad-asrayaḥ',\n",
       " 'asaṁsayaṁ samagram mam yatha tac chrṇu',\n",
       " 'manuṣyanaṁ sahasreṣu kascid yatati siddhaye',\n",
       " 'yatataṁ api siddhanaṁ kascin mam vetti tattvataḥ',\n",
       " 'bhūmir apo ’nalo vayuḥ kham mano buddhir eva ca',\n",
       " 'ahankara itiyaṁ me bhinna prakṛtir astadha',\n",
       " 'apareyaṁ itas tv anyam prakṛtim viddhi me param',\n",
       " 'jiva-bhūtaṁ maha-baho yayedam dharyate jagat',\n",
       " 'mattaḥ parataraṁ nanyat kiīcid asti dhananijaya',\n",
       " 'mayi sarvaṁ idam protam sutre mani-gana iva',\n",
       " 'raso ’haṁ apśu kaunteya prabhasmi sasi-suryayoḥ',\n",
       " 'praṇavaḥ sarva-vedeśu sabdaḥ khe pauruṣam nṛṣu',\n",
       " 'balaṁ balavataṁ cahaṁ kama-raga-vivarjitaṁ',\n",
       " 'dharmaviruddho bhuteṣu kamo ’smi bharatarśabha',\n",
       " 'tribhir guṇa-mayair bhavair ebhiḥ sarvam idam jagat',\n",
       " 'mohitaṁ nabhijanati mam ebhyaḥ param avyayaṁ',\n",
       " 'daivi hy eṣa guṇa-mayi mama maya duratyaya',\n",
       " 'mam eva ye prapadyante mayaṁ etam taraṇti te',\n",
       " 'na mam duṣkṛtiṇo mudhaḥ prapadyante naradhamaḥ',\n",
       " 'mayayapaḥrta-jjana asuram bhavaṁ asritaḥ',\n",
       " 'catur-vidha bhajante mam janaḥ sukṛtino ’rjuna',\n",
       " 'arto jijmasur artharthi ca bharatarśabha',\n",
       " 'bahunaṁ janmanaṁ ante mam prapadyate',\n",
       " 'vasudevaḥ sarvam iti sa mahatma su-durlabhaḥ',\n",
       " 'kamaiś taiś tair hrta-jñanaḥ prapadyante ’nya-devataḥ',\n",
       " 'tam tam niyaṁaṁ asthaya prakṛtya niyataḥ svaya',\n",
       " 'antavat tu phalaṁ teṣaṁ tad bhavaty alpa-medhasaṁ',\n",
       " 'devan deva-yajo yanti mad-bhakta-yanti mam api',\n",
       " 'avyaktaṁ vyaktim apannam manyante mam abuddhayaḥ',\n",
       " 'param bhavaṁ ajananto mamavyayaṁ anuttamaṁ',\n",
       " 'naḥaṁ prakasaḥ sarvasya yoga-maya-savavrtaḥ',\n",
       " 'mugho ’yam nabhijanati loko mam ajam avyayaṁ',\n",
       " 'vedaḥaṁ samatitani vartamanani carjuna',\n",
       " 'bhaviṣyani ca bhutani mam tu veda na kascana',\n",
       " 'iccha-dveṣa samutthena dvandva-mohena bharata',\n",
       " 'sarva-bhūtani sammoham sarge yanti paraṇtapa',\n",
       " 'yeṣaṁ tv anta-gataṁ papaṁ jananaṁ punya-karmaṇaṁ',\n",
       " 'te dvandva-moha-nirmukta bhajante mam drdha-vrataḥ',\n",
       " 'anta-kale ca mam eva smaraṇ muktva kalevaram',\n",
       " 'yaḥ prayati sa mad-bhavaṁ yati nasty atra samsayaḥ',\n",
       " 'yaṁ yam vapi smaraṇ bhavaṁ tyajaty ante kalevaram',\n",
       " 'tam tam evaiti kaunteya sada tad-bhava-bhavitaḥ',\n",
       " 'mam upetya puṇar janma duḥkhalayaṁ asasvatam',\n",
       " 'napnuvanti mahatmanaḥ samsiddhim paramaṁ gataḥ',\n",
       " 'a-bṛahma-bhuvanal lokaḥ puṇar avartino ’rjuna',\n",
       " 'mam upetya tu kaunteya puṇar janma na vidyate',\n",
       " 'sahasra-yuga-paryaṇtam ahar yad bṛahmaṇo vidhuḥ',\n",
       " 'ratrim yuga-sahasraṇtam te ’ho-ratra-vido janaḥ',\n",
       " 'bhūta-gramaḥ sa evayaṁ bhutva bhutva praliyate',\n",
       " 'ratry-agame ’vasaḥ partha prabhavaty ahar-agame',\n",
       " 'paras tasmat tu bhavo ’nyo ’vyakto ’vyaktat sanatanaḥ',\n",
       " 'yaḥ sa sarveṣu bhuteṣu nasyatsu na vinasyati',\n",
       " 'raja-vidya raja-guhyaṁ pavitram idam uttamaṁ',\n",
       " 'pratyakṣavagamaṁ dharmyaṁ su-sukham kartum avyayaṁ',\n",
       " 'asraddadhanaḥ puruṣa dharmasyasya paraṇtapa',\n",
       " 'aprapya mam nivartante mṛtyu-samsara-vartmani',\n",
       " 'maya tataṁ idam sarvam jagad avyakta-murtina',\n",
       " 'mat-sthani sarva-bhutani na cahaṁ teṣv avasthitaḥ',\n",
       " 'na ca mat-sthani bhutani pasya me yogam aiśvaram',\n",
       " 'bhūta-bhrṇ na ca bhita-stho mamatma bhiuta-bhavanaḥ',\n",
       " 'mayadhyakṣena prakṛtiḥ suyate sa-caracaram',\n",
       " 'hetunānena kaunteya jagad viparivartate',\n",
       " 'avajanānti mam mudha manuṣim tanum asritaṁ',\n",
       " 'param bhavaṁ ajananto mama bhuta-maheṣvaram',\n",
       " 'moghasa mogha-karmaṇo mogha-jñana vicetasaḥ',\n",
       " 'rakṣasim asurim caiva prakṛtim mohinim srītaḥ',\n",
       " 'mahatmanas tu mam partha daivim prakṛtim asritaḥ',\n",
       " 'bhajanty ananya-manaso jhatva bhutadim avyayaṁ',\n",
       " 'satataṁ kirtayanto mam yatantas ca drdha-vrataḥ',\n",
       " 'namasyantas ca mam bhaktya nitya-yukta upasate',\n",
       " 'pitaḥāṁ asya jagato mata dhata pitaṁaḥaḥ',\n",
       " 'vedyaṁ pavitram omkara rk sama yajur eva ca',\n",
       " 'te tam bhūktva svarga-lokam viśalaṁ',\n",
       " 'kṣiṇe puṇye martya-lokam viśaṇti',\n",
       " 'evaṁ trayi-dharmam anuprapanna',\n",
       " 'gatagataṁ kama-kama labhante',\n",
       " 'ananyas cintayanto mam ye janaḥ paryupasate',\n",
       " 'teṣaṁ nityabhiyuktanaṁ yoga-kṣemam vahaṁy aham',\n",
       " 'ye ’py anya-devata-bhakta yajante sraddhayanvitaḥ',\n",
       " 'te ’pi mam eva kaunteya yajanty avidhi-purvakam',\n",
       " 'yanti deva-vrata devan pitrṇ yanti pitr-vrataḥ',\n",
       " 'bhūtani yanti bhutejya yanti mad-yajino ’pi mam',\n",
       " 'patram puṣpam phalaṁ toyam yo me bhakta prayacchati',\n",
       " 'tad ahaṁ bhakty-upaḥrtam asnami prayatatmanaḥ',\n",
       " 'yat karoṣi yad asnasi yaj juhoṣi dadasi yat',\n",
       " 'yat tapasyasi kaunteya tat kuruṣva mad-arpaṇaṁ',\n",
       " 'samo ’haṁ sarva-bhuteṣu na me dveṣyo ’sti na priyaḥ',\n",
       " 'ye bhajanti tu mam bhaktya mayi te teṣu capy aham',\n",
       " 'api cet su-duracaro bhajate mam ananya-bhak',\n",
       " 'sadhur eva sa mantavyaḥ samyag vyavasito hi sah',\n",
       " 'kṣipram bhavati dharmatma sasvac-chantim nigacchati',\n",
       " 'kaunteya pratijanthi na me bhaktaḥ praṇasyati',\n",
       " 'mam hi partha vyapasritya ye ’pi syuḥ papa-yonayaḥ',\n",
       " 'strīyo vaiśyas tatha sudras te ’pi yanti param gatiṁ',\n",
       " 'kim puṇar bṛahmaṇaḥ puṇya bhakta rajarṣayas tatha',\n",
       " 'anityaṁ asukhaṁ lokam imam prapya bhajasva mam',\n",
       " 'man-mana bhava mad-bhakto mad-yaji mam namaskuru',\n",
       " 'mam evaiśyasi yuktvaivaṁ atmanaṁ mat-parayanaḥ',\n",
       " 'na me viduḥ sura-ganaḥ prabhavaṁ na maharṣayaḥ',\n",
       " 'ahaṁ adir hi devanaṁ maharṣinaṁ ca sarvasaḥ',\n",
       " 'ahaṁ sarvasya prabhavo mattaḥ sarvam pravartate',\n",
       " 'iti matva bhajante mam budha bhava-samanvitaḥ',\n",
       " 'mac-citta mad-gata-praṇa bodhayantaḥ parasparam',\n",
       " 'kathayantas ca mam nityaṁ tuṣyanti ca ramanti ca',\n",
       " 'teṣaṁ satata-yuktanaṁ bhajatam priti-purvakam',\n",
       " 'dadaṁi buddhi-yogam tam yena mam upayanti te',\n",
       " 'teṣaṁ evanukamparthaṁ aham ajjana-jam tamaḥ',\n",
       " 'nasayaṁy atma-bhava-stho bhasvata',\n",
       " 'arjunā uvāca',\n",
       " 'param bṛahma param dhama pavitram paramaṁ bhavan',\n",
       " 'puruṣaṁ sasvataṁ divyaṁ adi-devaṁ ajam vibhum',\n",
       " 'ahuṣ tvaṁ rṣayaḥ sarve devarṣir naradas tatha',\n",
       " 'asito devalo vyasaḥ svayaṁ caiva bṛaviṣi me',\n",
       " 'sarvaṁ etad rtam manye yan mam vadasi keṣava',\n",
       " 'na hi te bhagavan vyaktim vidur deva na danavaḥ',\n",
       " 'mṛtyuḥ sarva-haras cahaṁ udbhavas ca bhaviṣyatam',\n",
       " 'sarva-yoniṣu kaunteya murtayaḥ sambhavanti yaḥ',\n",
       " 'tasaṁ bṛahma mahad yonir aham bija-pradaḥ pita',\n",
       " 'urdhvaṁ gacchanti sattva-stha madhye tiṣṭhanti rajasaḥ',\n",
       " 'jaghanya-guṇa-vrtti-sṭha adho gacchanti tamasaḥ',\n",
       " 'mam ca yo ’vyabhicareṇa bhakti-yogena sevate',\n",
       " 'sa guṇan samatityaitan bṛahma-bhuyaya kalpate',\n",
       " 'brahmaṇo hi pratiṣṭhaḥaṁ amrtasyavyayasya ca',\n",
       " 'sasvatasya ca dharmasya sukhasyaikantikasya ca',\n",
       " 'srī bhagavan uvaca',\n",
       " 'urdhva-malaṁ adhaḥ-sakham asvatthaṁ prahur avyayaṁ',\n",
       " 'chandamsi yasya parṇani yas tam veda sa veda-vit',\n",
       " 'na tad bhasayate suryo na sasanko na pavakaḥ',\n",
       " 'yad gatva na nivartante tad dhama paramaṁ mama',\n",
       " 'mamaivaṁso jiva-loke jiva-bhutaḥ sanatanaḥ',\n",
       " 'manaḥ sasthanindriyani prakṛti-sṭhani karṣati',\n",
       " 'sarvasya cahaṁ hrdi sannviṣṭho',\n",
       " 'mattaḥ smṛtir jjianaṁ apohanaṁ ca',\n",
       " 'vedaiś ca sarvair aham eva vedyo',\n",
       " 'vedanta-kṛd veda-vid eva cahaṁ',\n",
       " 'yo mam evaṁ asammiudho janati puruṣottamaṁ',\n",
       " 'sa sarva-vid bhajati mam sarva-bhavena bharata',\n",
       " 'śrī-bhagavan uvaca',\n",
       " 'abhayaṁ sattva-samsuddhir jjana-yoga-vyavasthitiḥ',\n",
       " 'danaṁ damas ca yajjias ca svadhyayas tapa arjavaṁ',\n",
       " 'ahiṁsa satyaṁ akṛodhas tyagaḥ santir apaiśunaṁ',\n",
       " 'daya bhuteṣyv aloluptvaṁ mardavaṁ hrir acapalaṁ',\n",
       " 'tejaḥ kṣama dhrtiḥ saucaṁ adroho nati-manita',\n",
       " 'bhavanti sampadaṁ daivim abhijatasya bharata',\n",
       " 'pravrttiṁ ca nivrttim ca jana na vidur asuraḥ',\n",
       " 'na saucaṁ napi cacaro na satyaṁ teṣu vidyate',\n",
       " 'asatyaṁ apratiṣṭhaṁ te jagad ahur aniṣvaram',\n",
       " 'aparaspara-sambhutam kim anyat kama-haitukam',\n",
       " 'etaṁ drṣṭim avastabhya nastatmano ’ipa-buddhayaḥ',\n",
       " 'prabhavanty ugra-karmaṇaḥ kṣayaya jagato ’hitaḥ',\n",
       " 'tri-vidhaṁ narakasyedam dvaram nasanaṁ atmanaḥ',\n",
       " 'kamaḥ kṛodhas tatha lobhas tasmad etat trayaṁ tyajet',\n",
       " 'yaḥ sastra-vidhim utsrjya vartate kama-karataḥ',\n",
       " 'na sa siddhim avapnoti na sukham na param gatim',\n",
       " 'samo damas tapaḥ saucaṁ kṣaṇtir arjavaṁ eva ca',\n",
       " 'jmanaṁ vijmanaṁ astikyaṁ bṛahma-karma svabhava-jam',\n",
       " 'sauryaṁ tejo dhrtir dakṣyaṁ yuddhe capy apalayanaṁ',\n",
       " 'danaṁ iśvara-bhavas ca kṣatram karma svabhava-jam',\n",
       " 'kṛṣi-go-rakṣya-vanijyaṁ vaiśya-karma svabhava-jam',\n",
       " 'paricaryatmakam karma sudrasyapi svabhava-jam',\n",
       " 'sve sve karmaṇy abhirataḥ samsiddhim labhate naraḥ',\n",
       " 'sva-karma-nirataḥ siddhim yatha vindati tac chrṇu',\n",
       " 'yataḥ pravrttir bhuitanaṁ yena sarvam idam tatam',\n",
       " 'sva-karmaṇa tam abhyarcya siddhim vindati manavaḥ',\n",
       " 'brahma-bhutaḥ prasannatma na socati na kankṣati',\n",
       " 'samah sarveṣu bhuteṣu mad-bhaktiṁ labhate param',\n",
       " 'bhaktya mam abhijanati yavan yas casmi tattvataḥ',\n",
       " 'tato mam tattvato jmatva viśate tad-anantaram',\n",
       " 'iśvaraḥ sarva-bhutanaṁ hrd-deṣe ’rjuna tiṣṭhati',\n",
       " 'bhramayan sarva-bhutani yantrarudhani mayaya',\n",
       " 'iti te jiaanāṁ akhyatam guhyad guhyataram maya',\n",
       " 'vimrṣyaitad aseṣena yathecchasi tatha kuru',\n",
       " 'man-mana bhava mad-bhakto mad-yaji mam namaskuru',\n",
       " 'mam evaiśyasi satyaṁ te pratijane priyo ’si me',\n",
       " 'sarva-dharmaṇ parityajya mam ekam saraṇaṁ vṛaja',\n",
       " 'ahaṁ tvaṁ sarva-papebhyo mokṣayiṣyaṁi ma sucaḥ',\n",
       " 'ya idam paramaṁ guhyaṁ mad-bhakteṣv abhidhasyati',\n",
       " 'bhaktiṁ mayi param kṛtva mam evaiśyaty asamsayaḥ',\n",
       " 'na ca tasman manuṣyeṣu kascin me priya-kṛttaṁaḥ',\n",
       " 'bhavita na ca me tasmad anyaḥ priyataro bhuvi',\n",
       " 'arjunā uvāca',\n",
       " 'nasto mohaḥ smṛtir labdha tvat-prasadan mayacyuta',\n",
       " 'sthito ’smi gata-sandehaḥ kariṣye vacanaṁ tava',\n",
       " 'yatra yogeṣvaraḥ kṛṣṇo yatra partho dhanur-dharaḥ',\n",
       " 'tatra ssrīr vijayo bhutir dhruvā nitir matir mama',\n",
       " 'viīvaṁ vierurvasatkiro',\n",
       " 'bhotabhavyathavatprabiuḥ',\n",
       " 'bhatalerd bharabhrdbhavo',\n",
       " 'bhoriema bhorabhavanch',\n",
       " 'yaych puruṣsh siket kṣetrajjiothsara eva ca',\n",
       " 'yego yogavidaṁ neta oradhanspuruṣeīvarch',\n",
       " 'carvah śarvaly divaḥ sthanur bhotadirṇidhirevyaysh',\n",
       " 'cambhavo bhavano thaa prabhuriśvarch',\n",
       " 'cvayaṁbhoh puṣkarakṣo mahsvansh',\n",
       " 'madinidhano dhata vidhara dhatururtamsh',\n",
       " 'iprameyo hrṣikelṣh padmansbho’mareprablich',\n",
       " 'viīvakarma manuṣṭvasta thaviśṭhaḥ sthaviro dhruvāḥ',\n",
       " 'erhyṣh siīvato kṛṣṇo ichitalssh praterdanch',\n",
       " 'orabhotastrikekubdhaṁs oavitrem maīealaṁ param',\n",
       " 'iandh prṇadaḥ praṇo īyeṣṭhaḥ sreṣṭhṣh prajipatiḥ',\n",
       " 'hniraṇyṣgarbho bhogertho madhavo madhuṣṭdansh',\n",
       " 'vikṛamee dhanvee medhavee vikṛamsh kṛamh',\n",
       " 'imuttaṁo duradharṣsh letiraemavan',\n",
       " 'diṣh samvatsaro vyalśh oratyayaḥ sarvadardansh',\n",
       " 'viśikapirameyṣṭma carvayceaviniḥśrtsh',\n",
       " 'veṣurvasumanth satych camatma’saṁmitaḥ sameh',\n",
       " 'amoghth puṇdartkakṣo vṛṣakarma',\n",
       " 'rudro bahuīira- babhrur viīvayoniḥ uciīravgh',\n",
       " 'ametaḥ daīvara sthamur vararcho mahatapaḥ',\n",
       " 'carvageh sarvavidbhanur viśvakṣeno janardanch',\n",
       " 'velo vedavidavyargo vedargo vedavit kaviḥ',\n",
       " 'lckadbyakṣsh dharmadhyakṣaḥ kṛtaletaḥ',\n",
       " 'cavuratma carurvyaḥeḥ cavurdamstraīcaturthugh',\n",
       " 'bhajierṇr bhojinaṁ thoeṣ cahsiśṇurjagedadijeḥ',\n",
       " 'magho vijryo īera vigvayonthī puṇarvasuḥ',\n",
       " 'upendro vamanch pramśur amoghṣh ducirarjitaḥ',\n",
       " 'iindrh semgrahch srgo dhrttma niyaṁo yamch',\n",
       " 'velyo vaidyśh sedaycgī viraḥa madhavo madhuḥ',\n",
       " 'indriyo mahaṁayo mahabalśh',\n",
       " 'maheṣvaso mahibharta īriṇivśsh seramgeriḥ',\n",
       " 'miraddhaḥ suriṇando rovindo govidaṁpatiḥ',\n",
       " 'mariciedaṁano hamsaḥ suparo bhujagortamaḥ',\n",
       " 'hiragyanabhaḥ sutapaḥ padmanibhaḥ prajipatiḥ',\n",
       " 'curth gururamo dhimaḥ suya- supaparikeaṁaḥ',\n",
       " 'shah samvartako vanhiraṇilo dharagidhara',\n",
       " 'cuprasidaḥ prassṇnitma',\n",
       " 'catharta sathytaḥ sidhurīanḥurṇarayago naraḥ',\n",
       " 'iśaikhyeyoprameyatma videa dśṭabpechuciḥ',\n",
       " 'iddharthaḥ siddhasathalpaḥ siddhidaḥ siddhiṣsdhanaḥ',\n",
       " 'viśṭht vembho viśpuevigaparva viśodaraḥ',\n",
       " 'vardhano vardhamanatca viviktaḥ śrutiṣigacaḥ',\n",
       " 'cubhujo durdharo vigmt makendro vasudo vasuh',\n",
       " 'ojeṣṭejodyutidharaḥ prakaīitma pratipanaḥ',\n",
       " 'rdvahī spastaḥsaro',\n",
       " 'ribbing anddiḥ kumodiḥ',\n",
       " 'sutkepei kṣemakṛechivaḥ',\n",
       " 'sige veen diel l bo',\n",
       " 'mee a cae',\n",
       " 'udirṇaḥ sarvatascakṣuraṇtśaḥ sagvatasthiraḥ',\n",
       " 'bhūdayo bhuṣano bhatirasokaḥ',\n",
       " 'arciśmanarcitaḥ kumbho viduddhatma vidodhanaḥ',\n",
       " 'aniruddho’ pratirathaḥ pradyumno’mitavikṛamaḥ',\n",
       " 'kamadevaḥ kamopalaḥ kims kṣotab kytigamch',\n",
       " 'viromo dirramjyaḥ',\n",
       " 'bromminasn ī',\n",
       " 'draiṇ d to',\n",
       " 'mahakṛamo mahakarma mahatera mahoragaḥ',\n",
       " 'mahakṛaturmaḥayajva mahayajjio mahaḥaviḥ',\n",
       " 'stavyaḥ stava-priyaḥ stotrath stutaḥ stota rapa-priyaḥ',\n",
       " 'parṇaḥ purayita punyaḥ pugya-kirtiraṇaṁayaḥ',\n",
       " 'manojivastirthakaro vasurera vasupradch',\n",
       " 'vasuprado vasudevo vasurvasumans haviḥ',\n",
       " 'viśvaṁartirmaḥaṁartir',\n",
       " 'caturmirtth caturbaḥuy caturvy tha caturgeth',\n",
       " 'catuibhavaḥ caturvedaḥ videlaoat',\n",
       " 'cahasea mardha viīvatma sahaseakpaḥ sahascapat',\n",
       " 'mgadham jagataḥ seruḥ saryadharmaporakeaṁaḥ',\n",
       " 'bhotabhavjabhavannathaḥ pevanaḥ pavano’nalaḥ',\n",
       " 'kamaḥi kamakpthantal kimaḥ kamapeadaḥ prablhuḥ',\n",
       " 'idrīyo vyaktartipadca- sahasrajidanantajt',\n",
       " 'kṛodhaḥi keidhakptharta viśvabaḥnrmalidharaḥ',\n",
       " 'acyutaḥ prathitaḥ pragaḥ peanado vasavanujaḥ',\n",
       " 'pan nidhiradhiṣchanaṁapeaṁattaḥ pratiṣchitaḥ',\n",
       " 'chandaḥ skandadharo dhuryo varado vayuraḥanaḥ',\n",
       " 'viśudero brhadbhinurididevaḥ puraṇdaraḥ',\n",
       " 'daraḥ dauritjaneīvaraḥ',\n",
       " 'prdmanibho’ravindikṣaḥ padmagarbhaḥ',\n",
       " 'maharddhiripddho veddhitmss makkṣo gṛrudadhvajeḥ',\n",
       " 'darabho bhtmak samayajjio havichariḥ',\n",
       " 'carvalikpapalakṣaṇyo lakṣmivan samitiījiyaḥ',\n",
       " 'vikiro rolito margo herurdimodaraḥ siḥaḥ',\n",
       " 'malitdharo mahabhago vegavanaṁitaenaḥ',\n",
       " 'adbhavaḥ kṣobhano devaḥ śigarbhaḥ parameīvaraḥ',\n",
       " 'karagam karagam karta vikarta grhaṇo guhaḥ',\n",
       " 'vjavasiyo vyavasthinaḥ samsthanaḥ sthanado dhruvāḥ',\n",
       " 'paramaspastastuṣcaḥ puṣṭaḥ īubhekṣiṇaḥ',\n",
       " 'amo virajo margo neyo',\n",
       " 'vailunthaḥ puruṣaḥ priṇaḥ praṇadaḥ peanavaḥ prthuḥ',\n",
       " 'hiraṇyṣgirbhaḥ vyṣpto vayuradholśajaḥ',\n",
       " 'tuh sudarīainaḥ kilaḥ parameṣṭht parigrahaḥ',\n",
       " 'ugrah samvatsiro dao viimo viśvadakṣiṇaḥ',\n",
       " 'anirvianaḥ sthaviśṭho bhordharmayapo mahimakhaḥ',\n",
       " 'nalkṣarraṇemirṇakṣatet kyamaḥ kṣimaḥ samthanaḥ',\n",
       " 'yrjlla ijyo makeīyṣica keatub satram setim gatlh',\n",
       " 'carvadact vimuktatmi servaiīo',\n",
       " 'cureataḥ sumukhaḥ sokṣmah subkadaḥ subṣṭ',\n",
       " 'man charo jitakṛodho virabṣhurvidiragaḥ',\n",
       " 'svapanaḥ svavaśo vyapi naikatma naikakarmakṛt',\n",
       " 'vatsaro vatsalo vatsi ratnagarbho dhaneṣvaraḥ',\n",
       " 'eabhastinemiḥ settvasthaḥ simho bhotamsheīvarṣh',\n",
       " 'sdidevo mahadevo develo devabhrdguruḥ',\n",
       " 'urtaro gopatirgopta jjianagamyśh purṣṭanch',\n",
       " 'śartrabhatabhrdbhckea kapindro bharidakṣiṇgh',\n",
       " 'comapo’mtapshī somah purujitpuruṣartaṁsh',\n",
       " 'vinayo jaysh sstyasandho daīirhaḥ sitvatam patiḥ',\n",
       " 'jo\\xa0msharhaḥ svabhavyo jiramitrch pramodanch',\n",
       " 'inando nandano nandaḥi setyadharma trivikṛamaḥ',\n",
       " 'ripadastridadadhyakṣo kṛeaṇtalert',\n",
       " 'mahavargho govindśhī suṣenśh kanakanged',\n",
       " 'hyo gabhiro gshano guptadalragadadharch',\n",
       " 'vedhṣhī svango’jitaḥ kṛṣṇo drdhaḥ sanikerṣaṇccyutch',\n",
       " 'vartṇo varuṇo puṣkarkṣo mahamansh',\n",
       " 'bhagavin bhagshanand vanaṁalt halayudhaḥ',\n",
       " 'dityo jyoiradityaḥ eṣhiṣṇurgetiṣattamsh',\n",
       " 'cudhanya khandaparaīirdśruṇo dravinapradeh',\n",
       " 'sarvadrgyyaso vacaspatirayoniḥ']"
      ]
     },
     "execution_count": 42,
     "metadata": {},
     "output_type": "execute_result"
    }
   ],
   "source": [
    "test_prediction_string"
   ]
  },
  {
   "cell_type": "code",
   "execution_count": 43,
   "metadata": {
    "collapsed": true
   },
   "outputs": [],
   "source": [
    "final_df = pd.DataFrame(columns=[\"source\", \"target\", \"prediction\", \"origin\"])"
   ]
  },
  {
   "cell_type": "code",
   "execution_count": 44,
   "metadata": {
    "collapsed": true
   },
   "outputs": [],
   "source": [
    "final_df['source'] = x_test_string\n",
    "final_df['target'] = y_test\n",
    "final_df['prediction'] = test_prediction_string\n",
    "final_df['origin'] = origin"
   ]
  },
  {
   "cell_type": "code",
   "execution_count": 45,
   "metadata": {},
   "outputs": [
    {
     "data": {
      "text/html": [
       "<div>\n",
       "<style scoped>\n",
       "    .dataframe tbody tr th:only-of-type {\n",
       "        vertical-align: middle;\n",
       "    }\n",
       "\n",
       "    .dataframe tbody tr th {\n",
       "        vertical-align: top;\n",
       "    }\n",
       "\n",
       "    .dataframe thead th {\n",
       "        text-align: right;\n",
       "    }\n",
       "</style>\n",
       "<table border=\"1\" class=\"dataframe\">\n",
       "  <thead>\n",
       "    <tr style=\"text-align: right;\">\n",
       "      <th></th>\n",
       "      <th>source</th>\n",
       "      <th>target</th>\n",
       "      <th>prediction</th>\n",
       "      <th>origin</th>\n",
       "    </tr>\n",
       "  </thead>\n",
       "  <tbody>\n",
       "    <tr>\n",
       "      <th>0</th>\n",
       "      <td>dhrtarastra uvaca</td>\n",
       "      <td>dhṛtarāṣṭra uvāca</td>\n",
       "      <td>dhrtarastra uvāca</td>\n",
       "      <td>pdf</td>\n",
       "    </tr>\n",
       "    <tr>\n",
       "      <th>1</th>\n",
       "      <td>dharma-ksetre kuru-ksetre samaveta yuyutsavah</td>\n",
       "      <td>dharma-kṣetre kuru-kṣetre samavetā yuyutsavaḥ</td>\n",
       "      <td>dharma-kṣetre kuru-kṣetre samaveta yuyutsavaḥ</td>\n",
       "      <td>pdf</td>\n",
       "    </tr>\n",
       "    <tr>\n",
       "      <th>2</th>\n",
       "      <td>mamakah pandavas caiva kim akurvata sanjaya</td>\n",
       "      <td>māmakāḥ pāṇḍavāś caiva kim akurvata sañjaya</td>\n",
       "      <td>mamakaḥ pandavas caiva kim akurvata sanjaya</td>\n",
       "      <td>pdf</td>\n",
       "    </tr>\n",
       "    <tr>\n",
       "      <th>3</th>\n",
       "      <td>karpanya-dosopahata-svabhavah</td>\n",
       "      <td>kārpaṇya-doṣopahata-svabhāvaḥ</td>\n",
       "      <td>karpaṇya-doṣopaḥata-svabhavaḥ</td>\n",
       "      <td>pdf</td>\n",
       "    </tr>\n",
       "    <tr>\n",
       "      <th>4</th>\n",
       "      <td>prechami tvam dharma-sammudha-cetah</td>\n",
       "      <td>pṛcchāmi tvāṁ dharma-sammūḍha-cetāḥ</td>\n",
       "      <td>prechaṁi tvaṁ dharma-sammudha-cetaḥ</td>\n",
       "      <td>pdf</td>\n",
       "    </tr>\n",
       "  </tbody>\n",
       "</table>\n",
       "</div>"
      ],
      "text/plain": [
       "                                          source  \\\n",
       "0                              dhrtarastra uvaca   \n",
       "1  dharma-ksetre kuru-ksetre samaveta yuyutsavah   \n",
       "2    mamakah pandavas caiva kim akurvata sanjaya   \n",
       "3                  karpanya-dosopahata-svabhavah   \n",
       "4            prechami tvam dharma-sammudha-cetah   \n",
       "\n",
       "                                          target  \\\n",
       "0                              dhṛtarāṣṭra uvāca   \n",
       "1  dharma-kṣetre kuru-kṣetre samavetā yuyutsavaḥ   \n",
       "2    māmakāḥ pāṇḍavāś caiva kim akurvata sañjaya   \n",
       "3                  kārpaṇya-doṣopahata-svabhāvaḥ   \n",
       "4            pṛcchāmi tvāṁ dharma-sammūḍha-cetāḥ   \n",
       "\n",
       "                                      prediction origin  \n",
       "0                              dhrtarastra uvāca    pdf  \n",
       "1  dharma-kṣetre kuru-kṣetre samaveta yuyutsavaḥ    pdf  \n",
       "2    mamakaḥ pandavas caiva kim akurvata sanjaya    pdf  \n",
       "3                  karpaṇya-doṣopaḥata-svabhavaḥ    pdf  \n",
       "4            prechaṁi tvaṁ dharma-sammudha-cetaḥ    pdf  "
      ]
     },
     "execution_count": 45,
     "metadata": {},
     "output_type": "execute_result"
    }
   ],
   "source": [
    "final_df.head()"
   ]
  },
  {
   "cell_type": "code",
   "execution_count": 46,
   "metadata": {
    "collapsed": true
   },
   "outputs": [],
   "source": [
    "final_df.to_csv('results_lstm_seq_len_150_emb_100.csv', encoding='utf-8')"
   ]
  },
  {
   "cell_type": "code",
   "execution_count": null,
   "metadata": {
    "collapsed": true
   },
   "outputs": [],
   "source": []
  }
 ],
 "metadata": {
  "anaconda-cloud": {},
  "kernelspec": {
   "display_name": "Python 3",
   "language": "python",
   "name": "python3"
  },
  "language_info": {
   "codemirror_mode": {
    "name": "ipython",
    "version": 3
   },
   "file_extension": ".py",
   "mimetype": "text/x-python",
   "name": "python",
   "nbconvert_exporter": "python",
   "pygments_lexer": "ipython3",
   "version": "3.6.2"
  }
 },
 "nbformat": 4,
 "nbformat_minor": 1
}
